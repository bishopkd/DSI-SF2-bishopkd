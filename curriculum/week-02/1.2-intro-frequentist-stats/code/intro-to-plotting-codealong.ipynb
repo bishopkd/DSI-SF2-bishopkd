{
 "cells": [
  {
   "cell_type": "code",
   "execution_count": 16,
   "metadata": {
    "collapsed": true
   },
   "outputs": [],
   "source": [
    "import numpy as np\n",
    "import scipy.stats as stats\n",
    "import seaborn as sns\n",
    "import matplotlib.pyplot as plt\n",
    "\n",
    "sns.set_style('whitegrid')\n",
    "#%config InlineBackend.figure_format = 'retina' - if you've got a retina display\n",
    "%matplotlib inline\n",
    "\n",
    "\n"
   ]
  },
  {
   "cell_type": "code",
   "execution_count": 5,
   "metadata": {
    "collapsed": false
   },
   "outputs": [
    {
     "name": "stdout",
     "output_type": "stream",
     "text": [
      "experimental mean rate:  0.4\n",
      "control mean rate:  0.1\n",
      "difference in mean rates:  0.3\n"
     ]
    }
   ],
   "source": [
    "# Create the experimental and control groups:\n",
    "\n",
    "# experimental: 20 got better, 30 did not\n",
    "# python you cannot list + list because of vector operations, use concat\n",
    "experimental = np.concatenate([np.zeros(30),np.ones(20)])\n",
    "\n",
    "# control: 5 got better, 45 did not\n",
    "control = np.concatenate([np.zeros(45),np.ones(5)])\n",
    "\n",
    "print 'experimental mean rate: ', np.mean(experimental)\n",
    "print 'control mean rate: ', np.mean(control)\n",
    "print 'difference in mean rates: ', np.mean(experimental) - np.mean(control)\n",
    "\n",
    "# H0: true difference in mean rates == 0\n",
    "# H1: difference is not 0\n",
    "# P(measured difference in rates|H0 is true)\n"
   ]
  },
  {
   "cell_type": "code",
   "execution_count": 10,
   "metadata": {
    "collapsed": false
   },
   "outputs": [
    {
     "name": "stdout",
     "output_type": "stream",
     "text": [
      "0.24 0.09\n",
      "0.0812403840464\n",
      "3.69274472938\n"
     ]
    }
   ],
   "source": [
    "experimental_var = np.var(experimental)\n",
    "control_var = np.var(control)\n",
    "print experimental_var, control_var\n",
    "\n",
    "denominator = np.sqrt((experimental_var)/len(experimental) + (control_var)/len(control))\n",
    "#denominator = np.sqrt((experimental_var)/4 + (control_var)/4)\n",
    "print denominator\n",
    "\n",
    "t_stat = (np.mean(experimental) - np.mean(control)) / denominator\n",
    "print t_stat\n",
    "# lower the t_stat, the lower you got result by chance"
   ]
  },
  {
   "cell_type": "code",
   "execution_count": 13,
   "metadata": {
    "collapsed": false
   },
   "outputs": [],
   "source": [
    "# generate points on teh x axis between -4 and 4\n",
    "xpoints = np.linspace(-4,4,500)\n",
    "# stats.t.pdf() takes x-axis points, degrees of freedom, mean of distribution, std dev of distribution\n",
    "# t = t distribution\n",
    "# pdf = probability density function\n",
    "\n",
    "ypoints = stats.t.pdf(xpoints, 50, 0, 1)\n"
   ]
  },
  {
   "cell_type": "code",
   "execution_count": 22,
   "metadata": {
    "collapsed": false
   },
   "outputs": [
    {
     "data": {
      "text/plain": [
       "<matplotlib.lines.Line2D at 0x11a60b290>"
      ]
     },
     "execution_count": 22,
     "metadata": {},
     "output_type": "execute_result"
    },
    {
     "data": {
      "image/png": "[encoded data removed]",
      "text/plain": [
       "<matplotlib.figure.Figure at 0x11a442d10>"
      ]
     },
     "metadata": {},
     "output_type": "display_data"
    }
   ],
   "source": [
    "# initializes the axis:\n",
    "fig = plt.figure(figsize=(9,6))\n",
    "                 \n",
    "# gca = get current axis                 \n",
    "ax = fig.gca()\n",
    "                 \n",
    "# matplotlib \"plot\" function. plots lines defined by x and y points\n",
    "ax.plot(xpoints, ypoints, linewidth=3, color='darkred')\n",
    "\n",
    "# plot a vertical line where our t-stat is on the distribution:\n",
    "# below t_stat is point on x axis - shows what is our probability by chance given our sample of 100\n",
    "# how much volume is below t_stat\n",
    "# shows there is a minuscule change that we got this by chance\n",
    "# so like a measure of validity?\n",
    "ax.axvline(t_stat, color='black', linestyle='dashed')"
   ]
  },
  {
   "cell_type": "code",
   "execution_count": null,
   "metadata": {
    "collapsed": true
   },
   "outputs": [],
   "source": []
  },
  {
   "cell_type": "code",
   "execution_count": null,
   "metadata": {
    "collapsed": true
   },
   "outputs": [],
   "source": []
  },
  {
   "cell_type": "code",
   "execution_count": null,
   "metadata": {
    "collapsed": true
   },
   "outputs": [],
   "source": []
  }
 ],
 "metadata": {
  "anaconda-cloud": {},
  "kernelspec": {
   "display_name": "Python [dsi]",
   "language": "python",
   "name": "Python [dsi]"
  },
  "language_info": {
   "codemirror_mode": {
    "name": "ipython",
    "version": 2
   },
   "file_extension": ".py",
   "mimetype": "text/x-python",
   "name": "python",
   "nbconvert_exporter": "python",
   "pygments_lexer": "ipython2",
   "version": "2.7.12"
  }
 },
 "nbformat": 4,
 "nbformat_minor": 0
}
