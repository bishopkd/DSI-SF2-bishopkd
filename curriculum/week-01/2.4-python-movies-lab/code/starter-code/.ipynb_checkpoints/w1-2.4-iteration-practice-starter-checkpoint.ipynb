{
 "cells": [
  {
   "cell_type": "markdown",
   "metadata": {},
   "source": [
    "# Iteration practice with movies\n",
    "\n",
    "In this lab you'll be using the provided imdb `movies` list below as your dataset. \n",
    "\n",
    "This lab is designed to practice iteration. The normal questions are more gentle, and the challenge questions are suitable for advanced/expert python or programming-experienced students. \n",
    "\n",
    "All the questions require writing functions and also use iteration to solve. You should print out a test of each function you write.\n",
    "\n",
    "---\n",
    "\n",
    "### 1. Load the provided list of movies dictionaries."
   ]
  },
  {
   "cell_type": "code",
   "execution_count": 2,
   "metadata": {
    "collapsed": false
   },
   "outputs": [],
   "source": [
    "# List of movies dictionaries:\n",
    "\n",
    "movies = [\n",
    "{\n",
    "\"name\": \"Usual Suspects\", \n",
    "\"imdb\": 7.0,\n",
    "\"category\": \"Thriller\"\n",
    "},\n",
    "{\n",
    "\"name\": \"Hitman\",\n",
    "\"imdb\": 6.3,\n",
    "\"category\": \"Action\"\n",
    "},\n",
    "{\n",
    "\"name\": \"Dark Knight\",\n",
    "\"imdb\": 9.0,\n",
    "\"category\": \"Adventure\"\n",
    "},\n",
    "{\n",
    "\"name\": \"The Help\",\n",
    "\"imdb\": 8.0,\n",
    "\"category\": \"Drama\"\n",
    "},\n",
    "{\n",
    "\"name\": \"The Choice\",\n",
    "\"imdb\": 6.2,\n",
    "\"category\": \"Romance\"\n",
    "},\n",
    "{\n",
    "\"name\": \"Colonia\",\n",
    "\"imdb\": 7.4,\n",
    "\"category\": \"Romance\"\n",
    "},\n",
    "{\n",
    "\"name\": \"Love\",\n",
    "\"imdb\": 6.0,\n",
    "\"category\": \"Romance\"\n",
    "},\n",
    "{\n",
    "\"name\": \"Bride Wars\",\n",
    "\"imdb\": 5.4,\n",
    "\"category\": \"Romance\"\n",
    "},\n",
    "{\n",
    "\"name\": \"AlphaJet\",\n",
    "\"imdb\": 3.2,\n",
    "\"category\": \"War\"\n",
    "},\n",
    "{\n",
    "\"name\": \"Ringing Crime\",\n",
    "\"imdb\": 4.0,\n",
    "\"category\": \"Crime\"\n",
    "},\n",
    "{\n",
    "\"name\": \"Joking muck\",\n",
    "\"imdb\": 7.2,\n",
    "\"category\": \"Comedy\"\n",
    "},\n",
    "{\n",
    "\"name\": \"What is the name\",\n",
    "\"imdb\": 9.2,\n",
    "\"category\": \"Suspense\"\n",
    "},\n",
    "{\n",
    "\"name\": \"Detective\",\n",
    "\"imdb\": 7.0,\n",
    "\"category\": \"Suspense\"\n",
    "},\n",
    "{\n",
    "\"name\": \"Exam\",\n",
    "\"imdb\": 4.2,\n",
    "\"category\": \"Thriller\"\n",
    "},\n",
    "{\n",
    "\"name\": \"We Two\",\n",
    "\"imdb\": 7.2,\n",
    "\"category\": \"Romance\"\n",
    "}\n",
    "]"
   ]
  },
  {
   "cell_type": "markdown",
   "metadata": {},
   "source": [
    "---\n",
    "\n",
    "### 2. Filtering data by IMDB score\n",
    "\n",
    "#### 2.1 \n",
    "\n",
    "Write a function that:\n",
    "\n",
    "1. Accepts a single movie dictionary from the `movies` list as an argument.\n",
    "2. Returns True if the IMDB score is above 5.5.\n",
    "\n",
    "#### 2.2 [Challenge] \n",
    "\n",
    "Write a function that:\n",
    "\n",
    "1. Accepts the movies list and a specified category.\n",
    "2. Returns True if the average score of the category is higher than the average score of all movies."
   ]
  },
  {
   "cell_type": "code",
   "execution_count": 5,
   "metadata": {
    "collapsed": false
   },
   "outputs": [
    {
     "name": "stdout",
     "output_type": "stream",
     "text": [
      "True\n"
     ]
    }
   ],
   "source": [
    "# Your code here.\n",
    "def high_rating(movie):\n",
    "    if movie['imdb'] > 5.5:\n",
    "        return True\n",
    "    \n",
    "print high_rating(movies[3])\n"
   ]
  },
  {
   "cell_type": "code",
   "execution_count": 63,
   "metadata": {
    "collapsed": false
   },
   "outputs": [
    {
     "name": "stdout",
     "output_type": "stream",
     "text": [
      "Catg avg: 3.2\n",
      "Total avg: 6.48666666667\n"
     ]
    },
    {
     "data": {
      "text/plain": [
       "False"
      ]
     },
     "execution_count": 63,
     "metadata": {},
     "output_type": "execute_result"
    }
   ],
   "source": [
    "def catg_avg(movies,catg):\n",
    "    avg_tot_score = 0\n",
    "    tot_sum_score = 0\n",
    "    catg_avg_score = 0\n",
    "    i = 0\n",
    "    for movie in movies:\n",
    "        tot_sum_score += movie['imdb']\n",
    "        if movie['category'].lower() == catg.lower():\n",
    "            catg_avg_score += movie['imdb']\n",
    "            i += 1\n",
    "    if i == 0:\n",
    "        print \"nothing in category: \", catg\n",
    "    else:\n",
    "        catg_avg_score = catg_avg_score/i\n",
    "    avg_tot_score = tot_sum_score/len(movies)\n",
    "    \n",
    "    print \"Catg avg: \" + str(catg_avg_score)\n",
    "    print \"Total avg: \" + str(avg_tot_score)\n",
    "    if catg_avg_score > avg_tot_score: \n",
    "        return True\n",
    "    else:\n",
    "        return False\n",
    "    \n",
    "\n",
    "catg_avg(movies,\"war\")\n",
    "    "
   ]
  },
  {
   "cell_type": "markdown",
   "metadata": {},
   "source": [
    "---\n",
    "\n",
    "### 3. Creating subsets by numeric condition\n",
    "\n",
    "#### 3.1\n",
    "\n",
    "Write a function that:\n",
    "\n",
    "1. Accepts the list of movies and a specified imdb score.\n",
    "2. Returns the sublist of movies that have a score greater than the specified score.\n",
    "\n",
    "#### 3.2 [Expert] \n",
    "\n",
    "Write a function that:\n",
    "\n",
    "1. Accepts the movies list as an argument.\n",
    "2. Returns the movies list sorted first by category and then by movie according to average score and individual score, respectively."
   ]
  },
  {
   "cell_type": "code",
   "execution_count": 10,
   "metadata": {
    "collapsed": false
   },
   "outputs": [
    {
     "data": {
      "text/plain": [
       "['Dark Knight',\n",
       " 'The Help',\n",
       " 'Colonia',\n",
       " 'Joking muck',\n",
       " 'What is the name',\n",
       " 'We Two']"
      ]
     },
     "execution_count": 10,
     "metadata": {},
     "output_type": "execute_result"
    }
   ],
   "source": [
    "# Your code here.\n",
    "def high_score_list(movies,score):\n",
    "    sub_list = []\n",
    "    for movie in movies:\n",
    "        if movie['imdb'] > score:\n",
    "            sub_list.append(movie['name'])\n",
    "    return sub_list\n",
    "\n",
    "high_score_list(movies, 7.0)\n",
    "\n",
    "        "
   ]
  },
  {
   "cell_type": "code",
   "execution_count": null,
   "metadata": {
    "collapsed": true
   },
   "outputs": [],
   "source": [
    "def sort_list(movies):\n",
    "    "
   ]
  },
  {
   "cell_type": "markdown",
   "metadata": {},
   "source": [
    "---\n",
    "\n",
    "### 4. Creating subsets by string condition\n",
    "\n",
    "#### 4.1\n",
    "\n",
    "Write a function that:\n",
    "\n",
    "1. Accepts the movies list and a category name.\n",
    "2. Returns the movie names within that category (case-insensitive!)\n",
    "3. If the category is not in the data, print a message that it does not exist and return None.\n",
    "\n",
    "Recall that to convert a string to lowercase, you can use:\n",
    "\n",
    "```python\n",
    "mystring = 'Dumb and Dumber'\n",
    "lowercase_mystring = mystring.lower()\n",
    "print lowercase_mystring\n",
    "'dumb and dumber'\n",
    "```\n",
    "\n",
    "#### 4.2 [Challenge]\n",
    "\n",
    "Write a function that:\n",
    "\n",
    "1. Accepts the movies list and a \"search string\".\n",
    "2. Returns a dictionary with keys `'category'` and `'title'` whose values are lists of categories that contain the search string and titles that contain the search string, respectively (case-insensitive!)"
   ]
  },
  {
   "cell_type": "code",
   "execution_count": 17,
   "metadata": {
    "collapsed": false
   },
   "outputs": [
    {
     "name": "stdout",
     "output_type": "stream",
     "text": [
      "No movies exist in category:  com\n"
     ]
    }
   ],
   "source": [
    "# Your code here.\n",
    "def by_catg(movies,category):\n",
    "    category = category.lower()\n",
    "    catg_list = []\n",
    "    \n",
    "    for movie in movies:\n",
    "        if movie['category'].lower() == category:\n",
    "            catg_list.append(movie['name'])\n",
    "    if catg_list ==[]:\n",
    "        print \"No movies exist in category: \", category\n",
    "        return None\n",
    "    else:\n",
    "        return catg_list\n",
    "    \n",
    "by_catg(movies,'Com')\n",
    "    "
   ]
  },
  {
   "cell_type": "code",
   "execution_count": 79,
   "metadata": {
    "collapsed": false
   },
   "outputs": [
    {
     "data": {
      "text/plain": [
       "{'category': ['Adventure'], 'title': ['Love', 'Detective']}"
      ]
     },
     "execution_count": 79,
     "metadata": {},
     "output_type": "execute_result"
    }
   ],
   "source": [
    "def search_movies(movies, search_string):\n",
    "    result_dict = {}\n",
    "    catg_list = []\n",
    "    title_list = []\n",
    "    for movie in movies:\n",
    "        if search_string.lower() in movie['category'].lower():\n",
    "            if not movie['category'] in catg_list:\n",
    "                catg_list.append(movie['category'])\n",
    "        elif search_string.lower() in movie['name'].lower():\n",
    "            \n",
    "            title_list.append(movie['name'])\n",
    "        \n",
    "    result_dict['category'] = catg_list\n",
    "    result_dict['title'] = title_list\n",
    "    return result_dict\n",
    "\n",
    "search_movies(movies,\"ve\")"
   ]
  },
  {
   "cell_type": "markdown",
   "metadata": {},
   "source": [
    "---\n",
    "\n",
    "### Multiple conditions\n",
    "\n",
    "#### 5.1\n",
    "\n",
    "Write a function that:\n",
    "\n",
    "1. Accepts the movies list and a \"search criteria\" variable.\n",
    "2. If the criteria variable is numeric, return a list of movie titles with a score greater than or equal to the criteria.\n",
    "3. If the criteria variable is a string, return a list of movie titles that match that category (case-insensitive!). If there is no match, return an empty list and print an informative message.\n",
    "\n",
    "#### 5.2 [Expert]\n",
    "\n",
    "Write a function that:\n",
    "\n",
    "1. Accepts the movies list and a string search criteria variable.\n",
    "2. The search criteria variable can contain within it:\n",
    "  - Boolean operations: `'AND'`, `'OR'`, and `'NOT'` (can have/be lowercase as well, I just capitalized for clarity).\n",
    "  - Search criteria specified with syntax `score=...`, `category=...`, and/or `title=...`, where the `...` indicates what to look for.\n",
    "    - If `score` is present, it means scores greater than or equal to the value.\n",
    "    - For `category` and `title`, the string indicates that the category or title must _contain_ the search string (case-insensitive).\n",
    "3. Return the matches for the search criteria specified."
   ]
  },
  {
   "cell_type": "code",
   "execution_count": 45,
   "metadata": {
    "collapsed": false
   },
   "outputs": [
    {
     "name": "stdout",
     "output_type": "stream",
     "text": [
      "string\n"
     ]
    },
    {
     "data": {
      "text/plain": [
       "['Ringing Crime']"
      ]
     },
     "execution_count": 45,
     "metadata": {},
     "output_type": "execute_result"
    }
   ],
   "source": [
    "# Your code here.\n",
    "import types\n",
    "\n",
    "def eval_both(movies,param):\n",
    "    \n",
    "    if type(param) == str:\n",
    "        return_val = by_catg(movies,param)\n",
    "    else:\n",
    "        return_val = high_score_list(movies,param)\n",
    "    \n",
    "    return return_val\n",
    "\n",
    "eval_both(movies,'Crime')\n",
    "        \n",
    "        "
   ]
  },
  {
   "cell_type": "code",
   "execution_count": 31,
   "metadata": {
    "collapsed": false
   },
   "outputs": [
    {
     "name": "stdout",
     "output_type": "stream",
     "text": [
      "5\n"
     ]
    }
   ],
   "source": []
  },
  {
   "cell_type": "code",
   "execution_count": null,
   "metadata": {
    "collapsed": true
   },
   "outputs": [],
   "source": []
  }
 ],
 "metadata": {
  "anaconda-cloud": {},
  "kernelspec": {
   "display_name": "Python [dsi]",
   "language": "python",
   "name": "Python [dsi]"
  },
  "language_info": {
   "codemirror_mode": {
    "name": "ipython",
    "version": 2
   },
   "file_extension": ".py",
   "mimetype": "text/x-python",
   "name": "python",
   "nbconvert_exporter": "python",
   "pygments_lexer": "ipython2",
   "version": "2.7.12"
  }
 },
 "nbformat": 4,
 "nbformat_minor": 0
}
