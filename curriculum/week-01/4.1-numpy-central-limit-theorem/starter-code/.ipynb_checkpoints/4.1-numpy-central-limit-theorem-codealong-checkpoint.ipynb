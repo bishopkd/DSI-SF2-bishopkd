{
 "cells": [
  {
   "cell_type": "markdown",
   "metadata": {},
   "source": [
    "<img src=\"http://imgur.com/1ZcRyrc.png\" style=\"float: left; margin: 15px; height: 80px\">\n",
    "\n",
    "# Numpy and the Central Limit Theorem\n",
    "\n",
    "Week 1 | Lesson 4.1\n",
    "\n",
    "---\n",
    "\n",
    "In this lesson we'll be looking at numpy data structures and functions, and then exploring the Central Limit Theorem.\n",
    "\n",
    "---\n",
    "\n",
    "### Load useful packages\n",
    "\n",
    "We are loading a few packages here.\n",
    "\n",
    "`csv` and `seaborn` you are not too familiar with yet, if at all. `seaborn` is a plotting package that we will be using a lot througout this class. We will cover it in much more detail as time goes on. For now we are loading and aliasing it as `sns`.\n",
    "\n",
    "The `.csv` package does what we have been doing manually thus far. We will use `pandas` to do this later, but its another example of how to load csv data. Basic usage looks like:\n",
    "\n",
    "```python\n",
    "import csv\n",
    "with open('some.csv', 'r') as f:\n",
    "    reader = csv.reader(f)\n",
    "    for row in reader:\n",
    "        print row\n",
    "```"
   ]
  },
  {
   "cell_type": "code",
   "execution_count": 1,
   "metadata": {
    "collapsed": true
   },
   "outputs": [],
   "source": [
    "import numpy as np\n",
    "import scipy.stats as stats\n",
    "import csv\n",
    "import seaborn as sns\n",
    "\n",
    "# this line tells jupyter notebook to put the plots in the notebook rather than saving them to file.\n",
    "%matplotlib inline\n",
    "\n",
    "# this line makes plots prettier on mac retina screens. If you don't have one it shouldn't do anything.\n",
    "%config InlineBackend.figure_format = 'retina'\n"
   ]
  },
  {
   "cell_type": "markdown",
   "metadata": {},
   "source": [
    "---\n",
    "\n",
    "### 1. Load in the highest paid athletes dataset\n",
    "\n",
    "The path to this dataset is wherever you copied it over to. You'll see my path below. If you use an absolute path you'll have less trouble with the fact that it is relative to where you started the jupyter notebook in the terminal."
   ]
  },
  {
   "cell_type": "code",
   "execution_count": 2,
   "metadata": {
    "collapsed": false
   },
   "outputs": [],
   "source": [
    "path_to_athletes_csv = '/users/katbishop/Desktop/DSI-SF2-bishopkd/datasets/highest_paid_athletes/Athletes.csv'\n",
    "\n",
    "athletes = []\n",
    "with open(path_to_athletes_csv, 'r') as f:   \n",
    "    reader = csv.reader(f)\n",
    "    for row in reader:\n",
    "        athletes.append(row)\n",
    "\n",
    "        "
   ]
  },
  {
   "cell_type": "markdown",
   "metadata": {},
   "source": [
    "---\n",
    "\n",
    "### 2. Put the data in a dictionary (rather than list) format\n",
    "\n",
    "We've again stored the data in a list of lists, where sublists are rows, and items of those sublists are column cells within rows.\n",
    "\n",
    "Another way to store data, which is more consistent with pandas, is in dictionary format, where the column headers are keys in a dictionary, and the columns themselves are the values associated with those keys.\n",
    "\n",
    "Convert the data to this dictionary format, keeping only the columns:\n",
    "\n",
    "```python\n",
    "['Rank','Name','Sport','Total Pay','Salary/Winnings','Endorsements','Nation','Gender','Year of birth', 'Height (cm)']\n",
    "```"
   ]
  },
  {
   "cell_type": "code",
   "execution_count": 3,
   "metadata": {
    "collapsed": false
   },
   "outputs": [
    {
     "data": {
      "text/plain": [
       "{'Birth Date': ['2/12/1983', '16/07/1980'],\n",
       " 'Description': ['Aaron Charles Rodgers (born December 2, 1983) is an American football quarterback for the Green Bay Packers of the National Football League (NFL). Rodgers played college football for the University of California, Berkeley, where he set several career passing records, including lowest single-season and career interception rates. He was selected in the first round (24th overall) of the 2005 NFL Draft by the Packers. ',\n",
       "  \"Adam Derek Scott (born 16 July 1980) is an Australian professional golfer who plays mainly on the PGA Tour . He was the World No. 1 ranked golfer, from mid-May to August 2014. He has won 27 professional tournaments around the world (3 being unofficial money events), on many of golf's major tours. His biggest win to date was the 2013 Masters Tournament, his first major championship and the first Masters won by an Australian in its 77-year history. Other significant wins include the 2004 Players Championship and the 2011 WGC-Bridgestone Invitational . He was the runner-up in the 2012 Open Championship, leading by four strokes with four holes to play before bogeying all of them to lose the title by a stroke to Ernie Els . \"],\n",
       " 'Endorsements': ['$7,500,000', '$9,000,000'],\n",
       " 'Gender': ['Male', 'Male'],\n",
       " 'Height (cm)': ['188', '183'],\n",
       " 'Image': ['http://commons.wikimedia.org/wiki/Special:FilePath/Aaron_Rodgers_2008_(cropped).jpg?width=300',\n",
       "  'http://commons.wikimedia.org/wiki/Special:FilePath/Adam_Scott,_cropped.jpg?width=300'],\n",
       " 'Name': ['Aaron Rodgers', 'Adam Scott'],\n",
       " 'Nation': ['United States', 'Australia'],\n",
       " 'Place of Birth': ['Chico, California, United States', 'Adelaide, Australia'],\n",
       " 'Rank': ['55', '95'],\n",
       " 'Salary/Winnings': ['$14,500,000', '$8,700,000'],\n",
       " 'Sport': ['Football', 'Golf'],\n",
       " 'Total Pay': ['$22,000,000', '$17,700,000'],\n",
       " 'Wikipedia Page': ['http://en.wikipedia.org/wiki/Aaron_Rodgers',\n",
       "  'https://en.wikipedia.org/wiki/Adam_Scott_(golfer)'],\n",
       " 'Year of birth': ['1983', '1980'],\n",
       " 'dbpedia Page': ['dbpedia.org/resource/Aaron_Rodgers',\n",
       "  'dbpedia.org/resource/Adam_Scott_(golfer)']}"
      ]
     },
     "execution_count": 3,
     "metadata": {},
     "output_type": "execute_result"
    }
   ],
   "source": [
    "new_list=[]\n",
    "ath_dict = {}\n",
    "\n",
    "\n",
    "# for header in athletes[0]:\n",
    "#     for row in athletes[1:]:\n",
    "#         new_list.append(row)\n",
    "#     ath_dict[header] = new_list\n",
    "    \n",
    "# ath_dict\n",
    "\n",
    "wanted_cols = athletes[0]\n",
    "\n",
    "ath = {k:[] for k in wanted_cols}\n",
    "# need index bc dict not ordered\n",
    "\n",
    "header = athletes[0]\n",
    "data = athletes[1:]\n",
    "for index, column_name in enumerate(header):\n",
    "    #print column_name, 'column index: ', index\n",
    "    for row in data:\n",
    "        ath[column_name].append(row[index]) # <-- doesn't overwrite, append     \n",
    "# ath['Rank'][55]\n",
    "# ath\n",
    "\n",
    "{k:v[0:2] for k,v in ath.items()}\n",
    "    \n",
    "        "
   ]
  },
  {
   "cell_type": "markdown",
   "metadata": {},
   "source": [
    "Convert the numeric columns into float values. For the salary columns, you will need to remove the comma and dollar sign characters to properly convert to float."
   ]
  },
  {
   "cell_type": "code",
   "execution_count": 4,
   "metadata": {
    "collapsed": false
   },
   "outputs": [],
   "source": [
    "# repl_list = []\n",
    "\n",
    "for columns in ['Rank','Total Pay','Salary/Winnings','Year of birth', 'Height (cm)','Endorsements']:\n",
    "    string_row = ath[columns]\n",
    "    float_row = [float(s.replace('$','',).replace(',','')) for s in string_row]\n",
    "    ath[columns] = float_row    \n",
    "\n",
    "# for columns in ['Endorsements']:\n",
    "#     string_row = ath[columns]\n",
    "#     float_row = [float(s.replace('$','',).replace(',','')) for s in string_row]\n",
    "#     ath[columns] = float_row  \n",
    "\n",
    "\n",
    "\n",
    "# for index, column_name in enumerate(header):\n",
    "#     for row in data:\n",
    "#         repl_list = row.replace('$')\n",
    "        #ath[column_name].append(row[index]) # <-- doesn't overwrite, append "
   ]
  },
  {
   "cell_type": "markdown",
   "metadata": {},
   "source": [
    "---\n",
    "\n",
    "### 3. Select numeric columns and convert to numpy arrays\n",
    "\n",
    "Pull out the three different salary columns and the height column into their own numpy arrays."
   ]
  },
  {
   "cell_type": "code",
   "execution_count": 5,
   "metadata": {
    "collapsed": false
   },
   "outputs": [],
   "source": [
    "# np.array(row) <-- converts to a numpy array\n",
    "total_pay = np.array(ath['Total Pay'])\n",
    "salary = np.array(ath['Salary/Winnings'])\n",
    "endorse = np.array(ath['Endorsements'])\n",
    "height = np.array(ath['Height (cm)'])"
   ]
  },
  {
   "cell_type": "code",
   "execution_count": 6,
   "metadata": {
    "collapsed": false
   },
   "outputs": [
    {
     "name": "stdout",
     "output_type": "stream",
     "text": [
      "<type 'numpy.ndarray'>\n"
     ]
    },
    {
     "data": {
      "text/plain": [
       "array([ 14500000.,   8700000.,  21100000.,  22600000.,  18000000.,\n",
       "        21700000.,  20300000.,  16500000.,  18400000.,  16800000.])"
      ]
     },
     "execution_count": 6,
     "metadata": {},
     "output_type": "execute_result"
    }
   ],
   "source": [
    "print type(salary)\n",
    "salary[:10]"
   ]
  },
  {
   "cell_type": "markdown",
   "metadata": {},
   "source": [
    "---\n",
    "\n",
    "### 4. Plot the distributions of the numeric columns\n",
    "\n",
    "Use the distribution plotter function below to plot out the distributions for the four variables assigned above."
   ]
  },
  {
   "cell_type": "code",
   "execution_count": 7,
   "metadata": {
    "collapsed": true
   },
   "outputs": [],
   "source": [
    "def distribution_plotter(column, data):\n",
    "    sns.set(rc={\"figure.figsize\": (10, 7)})\n",
    "    sns.set_style('white')\n",
    "    dist = sns.distplot(data,kde=False, hist_kws={'alpha':0.2}, kde_kws={'linewidth':5})\n",
    "    dist.set_title('Distribution of ' + column + '\\n', fontsize=16)\n",
    "    \n"
   ]
  },
  {
   "cell_type": "code",
   "execution_count": 8,
   "metadata": {
    "collapsed": false
   },
   "outputs": [
    {
     "data": {
      "image/png": "[encoded data removed]",
      "text/plain": [
       "<matplotlib.figure.Figure at 0x11682d5d0>"
      ]
     },
     "metadata": {
      "image/png": {
       "height": 467,
       "width": 597
      }
     },
     "output_type": "display_data"
    }
   ],
   "source": [
    "distribution_plotter('Salary',salary)"
   ]
  },
  {
   "cell_type": "markdown",
   "metadata": {},
   "source": [
    "---\n",
    "\n",
    "### 5. Basic linear algebra/matrix operations in numpy\n",
    "\n",
    "Overview of linear algebra/matrix operations in numpy.\n",
    "\n",
    "Numpy has an `np.matrix` and an `np.array`, what gives? Which should I use?\n",
    "\n",
    "Use `np.array`. This is the standard representation for matrices in numpy, and this is what we will use throughout the rest of the course. If you are interested you can read more about the differences online.\n",
    "\n",
    "#### 5.1 Indexing and slicing\n",
    "\n",
    "Subset the first 5 elements of total pay and height into new variables. Slicing (on 1D arrays) is the same as with python lists."
   ]
  },
  {
   "cell_type": "code",
   "execution_count": 9,
   "metadata": {
    "collapsed": false
   },
   "outputs": [],
   "source": [
    "# don't use np.matrix, use np.array\n",
    "\n",
    "pay_subset = total_pay[0:5] \n",
    "height_subset = height[0:5]\n",
    "salary_subset = salary[0:5]\n",
    "\n"
   ]
  },
  {
   "cell_type": "markdown",
   "metadata": {},
   "source": [
    "#### 5.2 Arithmetic operations\n",
    "\n",
    "Numpy allows easy \"vectorized\" arithmetic operations on arrays and matrices. Try:\n",
    "\n",
    "1. Dividing an array by a number with `/`\n",
    "2. Multiplying an array with `*`\n",
    "3. Adding and subtracting from an array with `+` and `-`"
   ]
  },
  {
   "cell_type": "code",
   "execution_count": 10,
   "metadata": {
    "collapsed": false
   },
   "outputs": [
    {
     "data": {
      "text/plain": [
       "array([ 22.  ,  17.7 ,  21.5 ,  22.9 ,  18.05])"
      ]
     },
     "execution_count": 10,
     "metadata": {},
     "output_type": "execute_result"
    }
   ],
   "source": [
    "pay_subset / 1000000"
   ]
  },
  {
   "cell_type": "code",
   "execution_count": 11,
   "metadata": {
    "collapsed": true
   },
   "outputs": [],
   "source": [
    "huge_list = range(100000)\n",
    "a = [x+1 for x in huge_list]"
   ]
  },
  {
   "cell_type": "code",
   "execution_count": 12,
   "metadata": {
    "collapsed": false
   },
   "outputs": [
    {
     "data": {
      "text/plain": [
       "array([      1,       2,       3, ...,  999998,  999999, 1000000])"
      ]
     },
     "execution_count": 12,
     "metadata": {},
     "output_type": "execute_result"
    }
   ],
   "source": [
    "huge_np_list = np.arange(1000000) # This is faster for big lists\n",
    "huge_np_list+1"
   ]
  },
  {
   "cell_type": "code",
   "execution_count": 13,
   "metadata": {
    "collapsed": false
   },
   "outputs": [
    {
     "name": "stdout",
     "output_type": "stream",
     "text": [
      "[ 22.    17.7   21.5   22.9   18.05]\n",
      "[ 14.5   8.7  21.1  22.6  18. ]\n"
     ]
    }
   ],
   "source": [
    "pay_sub = pay_subset / 1000000\n",
    "salary_sub = salary_subset / 1000000\n",
    "\n",
    "print pay_sub\n",
    "print salary_sub"
   ]
  },
  {
   "cell_type": "markdown",
   "metadata": {},
   "source": [
    "You can also do these operations element-wise (as if using the `zip()` function) by using two arrays of the same length.\n",
    "\n",
    "Try dividing the 5-element total pay array by the 5-element height array."
   ]
  },
  {
   "cell_type": "code",
   "execution_count": 22,
   "metadata": {
    "collapsed": false
   },
   "outputs": [],
   "source": [
    "mat = np.matrix([[0,1],[2,3],[4,5]])"
   ]
  },
  {
   "cell_type": "markdown",
   "metadata": {},
   "source": [
    "We can also do the dot product of the arrays, which is for 1D-arrays the sum of the element-wise values multiplied together.\n",
    "\n",
    "Try it with `np.dot()`."
   ]
  },
  {
   "cell_type": "code",
   "execution_count": null,
   "metadata": {
    "collapsed": false
   },
   "outputs": [],
   "source": []
  },
  {
   "cell_type": "markdown",
   "metadata": {},
   "source": [
    "#### 5.3 Matrices vs. arrays \n",
    "\n",
    "You can make matrices by using `np.array()` on lists of lists (or numpy arrays). Combine the small height and pay arrays together into a matrix."
   ]
  },
  {
   "cell_type": "code",
   "execution_count": 19,
   "metadata": {
    "collapsed": false
   },
   "outputs": [
    {
     "ename": "NameError",
     "evalue": "name 'mat' is not defined",
     "output_type": "error",
     "traceback": [
      "\u001b[0;31m---------------------------------------------------------------------------\u001b[0m",
      "\u001b[0;31mNameError\u001b[0m                                 Traceback (most recent call last)",
      "\u001b[0;32m<ipython-input-19-e769b562c90a>\u001b[0m in \u001b[0;36m<module>\u001b[0;34m()\u001b[0m\n\u001b[0;32m----> 1\u001b[0;31m \u001b[0mmat\u001b[0m\u001b[0;34m[\u001b[0m\u001b[0;36m0\u001b[0m\u001b[0;34m:\u001b[0m\u001b[0;36m2\u001b[0m\u001b[0;34m]\u001b[0m\u001b[0;34m\u001b[0m\u001b[0m\n\u001b[0m",
      "\u001b[0;31mNameError\u001b[0m: name 'mat' is not defined"
     ]
    }
   ],
   "source": []
  },
  {
   "cell_type": "markdown",
   "metadata": {},
   "source": [
    "Transposition of a matrix is easy: just append a `.T` to the end of the matrix."
   ]
  },
  {
   "cell_type": "code",
   "execution_count": null,
   "metadata": {
    "collapsed": false
   },
   "outputs": [],
   "source": []
  },
  {
   "cell_type": "markdown",
   "metadata": {},
   "source": [
    "You can create empty matrices of ones or zeros in numpy like so:\n",
    "\n",
    "```python\n",
    "# dimensions of the matrix (rows, cols, etc.):\n",
    "matrix_shape = (3,3)\n",
    "ones_mat = np.ones(matrix_shape)\n",
    "zeros_mat = np.zeros(matrix_shape)\n",
    "```\n",
    "\n",
    "Try it out with a matrix shape of your choice."
   ]
  },
  {
   "cell_type": "code",
   "execution_count": 18,
   "metadata": {
    "collapsed": false
   },
   "outputs": [
    {
     "data": {
      "text/plain": [
       "array([[ 0.,  0.,  0.,  0.],\n",
       "       [ 0.,  0.,  0.,  0.],\n",
       "       [ 0.,  0.,  0.,  0.]])"
      ]
     },
     "execution_count": 18,
     "metadata": {},
     "output_type": "execute_result"
    }
   ],
   "source": [
    "np.ones((3,3))\n",
    "np.zeros((3,4))"
   ]
  },
  {
   "cell_type": "markdown",
   "metadata": {},
   "source": [
    "#### 5.4 Slicing and indexing for matrices\n",
    "\n",
    "Numpy indexing and slicing of arrays/matrices greater than one dimension is easy once you get used to it. It is essentially the same as one dimensional selection or slicing, but you have an index or range for each dimension separated by commas in the brackets.\n",
    "\n",
    "For example, say I have matrix A:\n",
    "```python\n",
    "a = np.array([[1,2],[3,4],[5,6]])\n",
    "array([[1, 2],\n",
    "       [3, 4],\n",
    "       [5, 6]])\n",
    "```\n",
    "\n",
    "Get the first row:\n",
    "```python\n",
    "a[0,:]\n",
    "array([1, 2])\n",
    "```\n",
    "\n",
    "Get the second column:\n",
    "```python\n",
    "a[:,1]\n",
    "array([2, 4, 6])\n",
    "```\n",
    "\n",
    "Get the cell at row 3, column 1:\n",
    "```python\n",
    "a[2,0]\n",
    "5\n",
    "```\n",
    "\n",
    "Try it out yourself."
   ]
  },
  {
   "cell_type": "code",
   "execution_count": null,
   "metadata": {
    "collapsed": false
   },
   "outputs": [],
   "source": []
  },
  {
   "cell_type": "markdown",
   "metadata": {},
   "source": [
    "#### 5.5 The concept of \"masking\"\n",
    "\n",
    "Selecting and operating on arrays can also be done through a process called **masking**, which we will be using very frequently on datasets.\n",
    "\n",
    "Numpy arrays can be indexed and subset with conditional statements in the brackets. These conditional statements are converted to True/False boolean arrays, which are used to select elements of an array (or not, aka \"mask\" the parts you don't want.)\n",
    "\n",
    "For example, all elements from `a` greater than 3:\n",
    "```python\n",
    "a[a>3]\n",
    "array([4, 5, 6])\n",
    "```\n",
    "\n",
    "or columns and rows from `a` where the first column of `a` is less than 5:\n",
    "```python\n",
    "a[a[:,0] < 5, :]\n",
    "array([[1, 2],\n",
    "       [3, 4]])\n",
    "```\n",
    "\n",
    "Make a matrix with the first column as players' heights, and the second column as their total pay. Subset using this masking logic to find all of the heights with a total pay above 10 million dollars."
   ]
  },
  {
   "cell_type": "code",
   "execution_count": 27,
   "metadata": {
    "collapsed": false
   },
   "outputs": [
    {
     "name": "stdout",
     "output_type": "stream",
     "text": [
      "[[0 1]]\n"
     ]
    },
    {
     "data": {
      "text/plain": [
       "matrix([[4, 5]])"
      ]
     },
     "execution_count": 27,
     "metadata": {},
     "output_type": "execute_result"
    }
   ],
   "source": [
    "# give me a matrix (d) where d[d[0]=='value'] \n",
    "import pandas as pd\n",
    "\n",
    "print mat[0:1]\n",
    "#mat[:, mat[0:]==2]\n",
    "mat[mat >3]\n"
   ]
  },
  {
   "cell_type": "markdown",
   "metadata": {},
   "source": [
    "Plot the distribution of heights with pay over 10,000,000."
   ]
  },
  {
   "cell_type": "code",
   "execution_count": 31,
   "metadata": {
    "collapsed": false
   },
   "outputs": [
    {
     "data": {
      "text/html": [
       "<div>\n",
       "<table border=\"1\" class=\"dataframe\">\n",
       "  <thead>\n",
       "    <tr style=\"text-align: right;\">\n",
       "      <th></th>\n",
       "      <th>Rank</th>\n",
       "      <th>Name</th>\n",
       "      <th>Sport</th>\n",
       "      <th>Total Pay</th>\n",
       "      <th>Salary/Winnings</th>\n",
       "      <th>Endorsements</th>\n",
       "      <th>Nation</th>\n",
       "      <th>Gender</th>\n",
       "      <th>Year of birth</th>\n",
       "      <th>Birth Date</th>\n",
       "      <th>Place of Birth</th>\n",
       "      <th>Height (cm)</th>\n",
       "      <th>Wikipedia Page</th>\n",
       "      <th>dbpedia Page</th>\n",
       "      <th>Image</th>\n",
       "      <th>Description</th>\n",
       "    </tr>\n",
       "  </thead>\n",
       "  <tbody>\n",
       "    <tr>\n",
       "      <th>1</th>\n",
       "      <td>95</td>\n",
       "      <td>Adam Scott</td>\n",
       "      <td>Golf</td>\n",
       "      <td>$17,700,000</td>\n",
       "      <td>$8,700,000</td>\n",
       "      <td>$9,000,000</td>\n",
       "      <td>Australia</td>\n",
       "      <td>Male</td>\n",
       "      <td>1980</td>\n",
       "      <td>16/07/1980</td>\n",
       "      <td>Adelaide, Australia</td>\n",
       "      <td>183</td>\n",
       "      <td>https://en.wikipedia.org/wiki/Adam_Scott_(golfer)</td>\n",
       "      <td>dbpedia.org/resource/Adam_Scott_(golfer)</td>\n",
       "      <td>http://commons.wikimedia.org/wiki/Special:File...</td>\n",
       "      <td>Adam Derek Scott (born 16 July 1980) is an Aus...</td>\n",
       "    </tr>\n",
       "    <tr>\n",
       "      <th>28</th>\n",
       "      <td>6</td>\n",
       "      <td>Tiger Woods</td>\n",
       "      <td>Golf</td>\n",
       "      <td>$61,200,000</td>\n",
       "      <td>$6,200,000</td>\n",
       "      <td>$55,000,000</td>\n",
       "      <td>United States</td>\n",
       "      <td>Male</td>\n",
       "      <td>1975</td>\n",
       "      <td>30/12/1975</td>\n",
       "      <td>Cypress, California</td>\n",
       "      <td>185</td>\n",
       "      <td>http://en.wikipedia.org/wiki/Tiger_Woods</td>\n",
       "      <td>dbpedia.org/resource/Tiger_Woods</td>\n",
       "      <td>http://commons.wikimedia.org/wiki/Special:File...</td>\n",
       "      <td>Eldrick Tont \" Tiger \" Woods (born December 30...</td>\n",
       "    </tr>\n",
       "    <tr>\n",
       "      <th>39</th>\n",
       "      <td>64</td>\n",
       "      <td>Henrik Stenson</td>\n",
       "      <td>Golf</td>\n",
       "      <td>$21,200,000</td>\n",
       "      <td>$18,000,000</td>\n",
       "      <td>$3,200,000</td>\n",
       "      <td>Sweden</td>\n",
       "      <td>Male</td>\n",
       "      <td>1976</td>\n",
       "      <td>5/04/1976</td>\n",
       "      <td>Gothenburg, Sweden</td>\n",
       "      <td>185</td>\n",
       "      <td>http://en.wikipedia.org/wiki/Henrik_Stenson</td>\n",
       "      <td>dbpedia.org/resource/Henrik_Stenson</td>\n",
       "      <td>http://commons.wikimedia.org/wiki/Special:File...</td>\n",
       "      <td>Henrik Stenson (born 5 April 1976) is a Swedis...</td>\n",
       "    </tr>\n",
       "    <tr>\n",
       "      <th>74</th>\n",
       "      <td>8</td>\n",
       "      <td>Phil Mickelson</td>\n",
       "      <td>Golf</td>\n",
       "      <td>$53,200,000</td>\n",
       "      <td>$5,200,000</td>\n",
       "      <td>$48,000,000</td>\n",
       "      <td>United States</td>\n",
       "      <td>Male</td>\n",
       "      <td>1970</td>\n",
       "      <td>16/06/1970</td>\n",
       "      <td>San Diego, California, United States</td>\n",
       "      <td>190</td>\n",
       "      <td>http://en.wikipedia.org/wiki/Phil_Mickelson</td>\n",
       "      <td>dbpedia.org/resource/Phil_Mickelson</td>\n",
       "      <td>http://commons.wikimedia.org/wiki/Special:File...</td>\n",
       "      <td>Philip Alfred Mickelson (born June 16, 1970) i...</td>\n",
       "    </tr>\n",
       "    <tr>\n",
       "      <th>82</th>\n",
       "      <td>35</td>\n",
       "      <td>Rory McIlroy</td>\n",
       "      <td>Golf</td>\n",
       "      <td>$24,300,000</td>\n",
       "      <td>$4,300,000</td>\n",
       "      <td>$20,000,000</td>\n",
       "      <td>Northern Ireland</td>\n",
       "      <td>Male</td>\n",
       "      <td>1989</td>\n",
       "      <td>4/05/1989</td>\n",
       "      <td>County Down, Northern Ireland, United Kingdom</td>\n",
       "      <td>175</td>\n",
       "      <td>http://en.wikipedia.org/wiki/Rory_McIlroy</td>\n",
       "      <td>dbpedia.org/resource/Rory_McIlroy</td>\n",
       "      <td>http://commons.wikimedia.org/wiki/Special:File...</td>\n",
       "      <td>Rory McIlroy, MBE (born 4 May 1989) is a North...</td>\n",
       "    </tr>\n",
       "  </tbody>\n",
       "</table>\n",
       "</div>"
      ],
      "text/plain": [
       "    Rank            Name Sport    Total Pay Salary/Winnings Endorsements  \\\n",
       "1     95      Adam Scott  Golf  $17,700,000      $8,700,000   $9,000,000   \n",
       "28     6     Tiger Woods  Golf  $61,200,000      $6,200,000  $55,000,000   \n",
       "39    64  Henrik Stenson  Golf  $21,200,000     $18,000,000   $3,200,000   \n",
       "74     8  Phil Mickelson  Golf  $53,200,000      $5,200,000  $48,000,000   \n",
       "82    35    Rory McIlroy  Golf  $24,300,000      $4,300,000  $20,000,000   \n",
       "\n",
       "              Nation Gender  Year of birth  Birth Date  \\\n",
       "1          Australia   Male           1980  16/07/1980   \n",
       "28     United States   Male           1975  30/12/1975   \n",
       "39            Sweden   Male           1976   5/04/1976   \n",
       "74     United States   Male           1970  16/06/1970   \n",
       "82  Northern Ireland   Male           1989   4/05/1989   \n",
       "\n",
       "                                   Place of Birth  Height (cm)  \\\n",
       "1                             Adelaide, Australia          183   \n",
       "28                            Cypress, California          185   \n",
       "39                             Gothenburg, Sweden          185   \n",
       "74           San Diego, California, United States          190   \n",
       "82  County Down, Northern Ireland, United Kingdom          175   \n",
       "\n",
       "                                       Wikipedia Page  \\\n",
       "1   https://en.wikipedia.org/wiki/Adam_Scott_(golfer)   \n",
       "28           http://en.wikipedia.org/wiki/Tiger_Woods   \n",
       "39        http://en.wikipedia.org/wiki/Henrik_Stenson   \n",
       "74        http://en.wikipedia.org/wiki/Phil_Mickelson   \n",
       "82          http://en.wikipedia.org/wiki/Rory_McIlroy   \n",
       "\n",
       "                                dbpedia Page  \\\n",
       "1   dbpedia.org/resource/Adam_Scott_(golfer)   \n",
       "28          dbpedia.org/resource/Tiger_Woods   \n",
       "39       dbpedia.org/resource/Henrik_Stenson   \n",
       "74       dbpedia.org/resource/Phil_Mickelson   \n",
       "82         dbpedia.org/resource/Rory_McIlroy   \n",
       "\n",
       "                                                Image  \\\n",
       "1   http://commons.wikimedia.org/wiki/Special:File...   \n",
       "28  http://commons.wikimedia.org/wiki/Special:File...   \n",
       "39  http://commons.wikimedia.org/wiki/Special:File...   \n",
       "74  http://commons.wikimedia.org/wiki/Special:File...   \n",
       "82  http://commons.wikimedia.org/wiki/Special:File...   \n",
       "\n",
       "                                          Description  \n",
       "1   Adam Derek Scott (born 16 July 1980) is an Aus...  \n",
       "28  Eldrick Tont \" Tiger \" Woods (born December 30...  \n",
       "39  Henrik Stenson (born 5 April 1976) is a Swedis...  \n",
       "74  Philip Alfred Mickelson (born June 16, 1970) i...  \n",
       "82  Rory McIlroy, MBE (born 4 May 1989) is a North...  "
      ]
     },
     "execution_count": 31,
     "metadata": {},
     "output_type": "execute_result"
    }
   ],
   "source": [
    "athletes = pd.read_csv(path_to_athletes_csv)\n",
    "athletes.head()\n",
    "#athletes[athletes['Sport'] == 'Golf']\n",
    "#golfletes = athletes[athletes['Sport'] == 'Golf']\n",
    "\n",
    "golfletesplus = athletes[(athletes['Sport'] == 'Golf') & (athletes['Total Pay'] > 20000000)]\n",
    "golfletesplus.head()"
   ]
  },
  {
   "cell_type": "code",
   "execution_count": 33,
   "metadata": {
    "collapsed": false
   },
   "outputs": [
    {
     "data": {
      "text/html": [
       "<div>\n",
       "<table border=\"1\" class=\"dataframe\">\n",
       "  <thead>\n",
       "    <tr style=\"text-align: right;\">\n",
       "      <th></th>\n",
       "      <th>Rank</th>\n",
       "      <th>Name</th>\n",
       "      <th>Sport</th>\n",
       "      <th>Total Pay</th>\n",
       "      <th>Salary/Winnings</th>\n",
       "      <th>Endorsements</th>\n",
       "      <th>Nation</th>\n",
       "      <th>Gender</th>\n",
       "      <th>Year of birth</th>\n",
       "      <th>Birth Date</th>\n",
       "      <th>Place of Birth</th>\n",
       "      <th>Height (cm)</th>\n",
       "      <th>Wikipedia Page</th>\n",
       "      <th>dbpedia Page</th>\n",
       "      <th>Image</th>\n",
       "      <th>Description</th>\n",
       "    </tr>\n",
       "  </thead>\n",
       "  <tbody>\n",
       "    <tr>\n",
       "      <th>5</th>\n",
       "      <td>27</td>\n",
       "      <td>Amar'e Stoudemire</td>\n",
       "      <td>Basketball</td>\n",
       "      <td>$26,700,000</td>\n",
       "      <td>$21,700,000</td>\n",
       "      <td>$5,000,000</td>\n",
       "      <td>United States</td>\n",
       "      <td>Male</td>\n",
       "      <td>1982</td>\n",
       "      <td>16/11/1982</td>\n",
       "      <td>Lake Wales, Florida</td>\n",
       "      <td>211</td>\n",
       "      <td>http://en.wikipedia.org/wiki/Amar%27e_Stoudemire</td>\n",
       "      <td>dbpedia.org/resource/Amar%27e_Stoudemire</td>\n",
       "      <td>http://commons.wikimedia.org/wiki/Special:File...</td>\n",
       "      <td>Amar'e Carsares Stoudemire ( /əˈmɑreɪˈstɒdəmaɪ...</td>\n",
       "    </tr>\n",
       "    <tr>\n",
       "      <th>7</th>\n",
       "      <td>47</td>\n",
       "      <td>Blake Griffin</td>\n",
       "      <td>Basketball</td>\n",
       "      <td>$23,000,000</td>\n",
       "      <td>$16,500,000</td>\n",
       "      <td>$6,500,000</td>\n",
       "      <td>United States</td>\n",
       "      <td>Male</td>\n",
       "      <td>1989</td>\n",
       "      <td>16/03/1989</td>\n",
       "      <td>Oklahoma City, Oklahoma, United States</td>\n",
       "      <td>208</td>\n",
       "      <td>http://en.wikipedia.org/wiki/Blake_Griffin</td>\n",
       "      <td>dbpedia.org/resource/Blake_Griffin</td>\n",
       "      <td>http://commons.wikimedia.org/wiki/Special:File...</td>\n",
       "      <td>Blake Austin Griffin (born March 16, 1989) is ...</td>\n",
       "    </tr>\n",
       "    <tr>\n",
       "      <th>12</th>\n",
       "      <td>24</td>\n",
       "      <td>Carmelo Anthony</td>\n",
       "      <td>Basketball</td>\n",
       "      <td>$29,400,000</td>\n",
       "      <td>$21,400,000</td>\n",
       "      <td>$8,000,000</td>\n",
       "      <td>United States</td>\n",
       "      <td>Male</td>\n",
       "      <td>1984</td>\n",
       "      <td>29/05/1984</td>\n",
       "      <td>Brooklyn, New York City, New York, United States</td>\n",
       "      <td>203</td>\n",
       "      <td>http://en.wikipedia.org/wiki/Carmelo_Anthony</td>\n",
       "      <td>dbpedia.org/resource/Carmelo_Anthony</td>\n",
       "      <td>http://commons.wikimedia.org/wiki/Special:File...</td>\n",
       "      <td>Carmelo Kyam Anthony (born May 29, 1984) is an...</td>\n",
       "    </tr>\n",
       "    <tr>\n",
       "      <th>14</th>\n",
       "      <td>37</td>\n",
       "      <td>Chris Paul</td>\n",
       "      <td>Basketball</td>\n",
       "      <td>$24,200,000</td>\n",
       "      <td>$18,700,000</td>\n",
       "      <td>$5,500,000</td>\n",
       "      <td>United States</td>\n",
       "      <td>Male</td>\n",
       "      <td>1985</td>\n",
       "      <td>6/05/1985</td>\n",
       "      <td>Forsyth County, North Carolina, United States</td>\n",
       "      <td>183</td>\n",
       "      <td>http://en.wikipedia.org/wiki/Chris_Paul</td>\n",
       "      <td>dbpedia.org/resource/Chris_Paul</td>\n",
       "      <td>http://commons.wikimedia.org/wiki/Special:File...</td>\n",
       "      <td>Christopher Emmanuel \"Chris\" Paul (born May 6,...</td>\n",
       "    </tr>\n",
       "    <tr>\n",
       "      <th>15</th>\n",
       "      <td>57</td>\n",
       "      <td>Chris Bosh</td>\n",
       "      <td>Basketball</td>\n",
       "      <td>$21,800,000</td>\n",
       "      <td>$19,300,000</td>\n",
       "      <td>$2,500,000</td>\n",
       "      <td>United States</td>\n",
       "      <td>Male</td>\n",
       "      <td>1984</td>\n",
       "      <td>24/03/1984</td>\n",
       "      <td>Dallas, Texas, United States</td>\n",
       "      <td>211</td>\n",
       "      <td>http://en.wikipedia.org/wiki/Chris_Bosh</td>\n",
       "      <td>dbpedia.org/resource/Chris_Bosh</td>\n",
       "      <td>http://commons.wikimedia.org/wiki/Special:File...</td>\n",
       "      <td>Christopher Wesson \"Chris\" Bosh (born March 24...</td>\n",
       "    </tr>\n",
       "  </tbody>\n",
       "</table>\n",
       "</div>"
      ],
      "text/plain": [
       "    Rank               Name       Sport    Total Pay Salary/Winnings  \\\n",
       "5     27  Amar'e Stoudemire  Basketball  $26,700,000     $21,700,000   \n",
       "7     47      Blake Griffin  Basketball  $23,000,000     $16,500,000   \n",
       "12    24    Carmelo Anthony  Basketball  $29,400,000     $21,400,000   \n",
       "14    37         Chris Paul  Basketball  $24,200,000     $18,700,000   \n",
       "15    57         Chris Bosh  Basketball  $21,800,000     $19,300,000   \n",
       "\n",
       "   Endorsements         Nation Gender  Year of birth  Birth Date  \\\n",
       "5    $5,000,000  United States   Male           1982  16/11/1982   \n",
       "7    $6,500,000  United States   Male           1989  16/03/1989   \n",
       "12   $8,000,000  United States   Male           1984  29/05/1984   \n",
       "14   $5,500,000  United States   Male           1985   6/05/1985   \n",
       "15   $2,500,000  United States   Male           1984  24/03/1984   \n",
       "\n",
       "                                      Place of Birth  Height (cm)  \\\n",
       "5                                Lake Wales, Florida          211   \n",
       "7             Oklahoma City, Oklahoma, United States          208   \n",
       "12  Brooklyn, New York City, New York, United States          203   \n",
       "14     Forsyth County, North Carolina, United States          183   \n",
       "15                      Dallas, Texas, United States          211   \n",
       "\n",
       "                                      Wikipedia Page  \\\n",
       "5   http://en.wikipedia.org/wiki/Amar%27e_Stoudemire   \n",
       "7         http://en.wikipedia.org/wiki/Blake_Griffin   \n",
       "12      http://en.wikipedia.org/wiki/Carmelo_Anthony   \n",
       "14           http://en.wikipedia.org/wiki/Chris_Paul   \n",
       "15           http://en.wikipedia.org/wiki/Chris_Bosh   \n",
       "\n",
       "                                dbpedia Page  \\\n",
       "5   dbpedia.org/resource/Amar%27e_Stoudemire   \n",
       "7         dbpedia.org/resource/Blake_Griffin   \n",
       "12      dbpedia.org/resource/Carmelo_Anthony   \n",
       "14           dbpedia.org/resource/Chris_Paul   \n",
       "15           dbpedia.org/resource/Chris_Bosh   \n",
       "\n",
       "                                                Image  \\\n",
       "5   http://commons.wikimedia.org/wiki/Special:File...   \n",
       "7   http://commons.wikimedia.org/wiki/Special:File...   \n",
       "12  http://commons.wikimedia.org/wiki/Special:File...   \n",
       "14  http://commons.wikimedia.org/wiki/Special:File...   \n",
       "15  http://commons.wikimedia.org/wiki/Special:File...   \n",
       "\n",
       "                                          Description  \n",
       "5   Amar'e Carsares Stoudemire ( /əˈmɑreɪˈstɒdəmaɪ...  \n",
       "7   Blake Austin Griffin (born March 16, 1989) is ...  \n",
       "12  Carmelo Kyam Anthony (born May 29, 1984) is an...  \n",
       "14  Christopher Emmanuel \"Chris\" Paul (born May 6,...  \n",
       "15  Christopher Wesson \"Chris\" Bosh (born March 24...  "
      ]
     },
     "execution_count": 33,
     "metadata": {},
     "output_type": "execute_result"
    }
   ],
   "source": [
    "athletes = pd.read_csv(path_to_athletes_csv)\n",
    "\n",
    "#athletes[athletes['Sport'] == 'Golf']\n",
    "#golfletes = athletes[athletes['Sport'] == 'Golf']\n",
    "\n",
    "golfletesplus = athletes[(athletes['Sport'] == 'Basketball') & (athletes['Total Pay'] > 20000000)]\n",
    "golfletesplus.head()"
   ]
  },
  {
   "cell_type": "markdown",
   "metadata": {},
   "source": [
    "---\n",
    "\n",
    "#### 5.6 Review\n",
    "\n",
    "These are the essential kinds of operations we'll be using. The main takeaway is to get used to these kind of **vectorized** operations: doing arithmetic operations on every element of an array, either with single values or element-wise with another array.  **Masking** operations will become extremely important tools as we move into pandas data manipulation.\n",
    "\n",
    "We'll be doing this on data all the time using pandas. For example, adding a year to everyone's age, or multiplying the age column by the height column for each person (element-wise).\n",
    "\n",
    "For more detailed information on the capabilities of numpy operations, see:\n",
    "\n",
    "http://www.python-course.eu/matrix_arithmetic.php\n",
    "\n",
    "https://docs.scipy.org/doc/numpy-dev/user/numpy-for-matlab-users.html"
   ]
  },
  {
   "cell_type": "markdown",
   "metadata": {},
   "source": [
    "---\n",
    "\n",
    "### 6. The Central Limit Theorem and the Law of Large Numbers\n",
    "\n",
    "The Central Limit Theorem (CLT) is one of the most important, if not **THE** most important theorems in statistics. While this lecture does not cover the implications so much as the theorem itself, know that this is the basis of Frequentist statistics.\n",
    "\n",
    "#### 6.1 The Law of Large Numbers\n",
    "\n",
    "But first... [The Law of Large Numbers (LLN)](https://en.wikipedia.org/wiki/Law_of_large_numbers)\n",
    "\n",
    "The LLN is (luckily) fairly straightforward, and a precursor to understanding the CLT. My simplified definition is:\n",
    "\n",
    "> Performing the same experiment a large number of times and taking the average of the results will result in a convergence to the true expected value of the experiment.\n",
    "\n",
    "Imagine, for example, you were to roll a die two times. In this case, the die is weighted, but you don't know how it is weighted. You get a 1 and a 5.\n",
    "\n",
    "From just these two experiments, our average is 3.0. If we were to stop here, we would assume that the expected value of the die is 3.0, and so slightly biased towards smaller numbers...\n",
    "\n",
    "#### 6.2 Numpy's `random` module and exploration of the LLN\n",
    "\n",
    "Before continuing, let's introduce a very important section of `numpy`: the `np.random` module.\n",
    "\n",
    "It is _very_ much worth reading over the documentation for the different functions available in `numpy.random`. Randomness is intrinsic to statistical theory, and, especially in a statistical course, we will be using it often.\n",
    "\n",
    "That's not to say you _won't_ be using it in practice. I guarantee that you will be consistently returning to these functions in your future jobs.\n",
    "\n",
    "For this example of the LLN, we will be using `np.random.choice()`, a function that samples from a provided array or list of elements. The arguments are:\n",
    "\n",
    "    a : the array from which to choose elements\n",
    "    size : the number of elements to draw\n",
    "    replace : whether to sample with replacement\n",
    "    p : a vector of probabilities equal to the number of elements in a which sums to one, specifying the probability of drawing the elements\n",
    "    \n",
    "Below are the _true_ probabilities of drawing each number on the die, or in other words the true weighting of the die:"
   ]
  },
  {
   "cell_type": "code",
   "execution_count": 35,
   "metadata": {
    "collapsed": false
   },
   "outputs": [
    {
     "data": {
      "text/plain": [
       "array([ 0.125,  0.875])"
      ]
     },
     "execution_count": 35,
     "metadata": {},
     "output_type": "execute_result"
    }
   ],
   "source": [
    "a = np.array([1,7])/8.\n",
    "a"
   ]
  },
  {
   "cell_type": "code",
   "execution_count": 36,
   "metadata": {
    "collapsed": true
   },
   "outputs": [],
   "source": [
    "die = [1,2,3,4,5,6]\n",
    "\n",
    "weight = np.array([13.5, 1.2, 3.3, 2.2, 3.9, 12.8])\n",
    "weight = weight/np.sum(weight)\n"
   ]
  },
  {
   "cell_type": "markdown",
   "metadata": {},
   "source": [
    "Explain what each step in defining the `weight` vector means. What is the difference in describing the `weight` vector before and after dividing it by its sum to get the probabilities for `np.random.choice()`?\n",
    "\n",
    "Now we will \"roll the die\" different numbers of times. Use `np.random.choice` with the `die` and `weight` vector to assign different die roll \"experiments\":\n",
    "\n",
    "    1. 2 die roles\n",
    "    2. 5 die roles\n",
    "    3. 10 die rolls\n",
    "    4. 100 die rolls\n",
    "    5. 10000 die rolls\n",
    "    \n",
    "**Make sure to set replace=True !! Just because you rolled a 6, for example, doesn't mean you can't roll a 6 again.** This is the difference between rolling a die and say choosing items out of a bag without putting them back in."
   ]
  },
  {
   "cell_type": "code",
   "execution_count": 37,
   "metadata": {
    "collapsed": false
   },
   "outputs": [],
   "source": [
    "roll2 = np.random.choice(die, size=2, replace=True, p=weight)\n",
    "roll5 = np.random.choice(die, size=5, replace=True, p=weight)\n",
    "roll10 = np.random.choice(die, size=10, replace=True, p=weight)\n",
    "roll100 = np.random.choice(die, size=100, replace=True, p=weight)\n",
    "roll10000 = np.random.choice(die, size=10000, replace=True, p=weight)\n"
   ]
  },
  {
   "cell_type": "markdown",
   "metadata": {},
   "source": [
    "#### 6.3 Visualization of the LLN\n",
    "\n",
    "Below I have defined a histogram plotting function. Use the function to plot the histograms of each of the die roll experiments.\n",
    "\n",
    "You can look up the seaborn function `distplot` on the [seaborn API documentation](https://stanford.edu/~mwaskom/software/seaborn/api.html) to see how the histogram plot function works. Again, we'll be going into seaborn in depth very soon, but getting accustomed to reading documentation now is essential.\n",
    "\n",
    "**DON'T WORRY ABOUT UNDERSTANDING THE PLOTTING CODE AT THIS POINT!** Matplotlib is very confusing at first. We will spend a lot of time on this."
   ]
  },
  {
   "cell_type": "code",
   "execution_count": 38,
   "metadata": {
    "collapsed": false
   },
   "outputs": [],
   "source": [
    "def histogram_plotter(title, data):\n",
    "    sns.set(rc={\"figure.figsize\": (10, 7)})\n",
    "    sns.set_style('white')\n",
    "    dist = sns.distplot(data, kde=False, bins=6)\n",
    "    \n",
    "    dist.axvline(np.mean(data), lw=5, c='darkred', ls='dashed')\n",
    "    average_roll = '{0:.2f}'.format(np.mean(data))\n",
    "    title = 'Distribution of ' + title + '; average = '  + average_roll + '\\n'\n",
    "    dist.set_title(title, fontsize=16)"
   ]
  },
  {
   "cell_type": "code",
   "execution_count": 43,
   "metadata": {
    "collapsed": false
   },
   "outputs": [
    {
     "data": {
      "image/png": "[encoded data removed]",
      "text/plain": [
       "<matplotlib.figure.Figure at 0x11a4ba110>"
      ]
     },
     "metadata": {
      "image/png": {
       "height": 454,
       "width": 604
      }
     },
     "output_type": "display_data"
    }
   ],
   "source": [
    "histogram_plotter('10000 rolls', roll10000)"
   ]
  },
  {
   "cell_type": "markdown",
   "metadata": {},
   "source": [
    "Calculate the **true expected value**. \n",
    "\n",
    "Hint: you can do this with the element-wise numpy array operations we covered earlier!"
   ]
  },
  {
   "cell_type": "code",
   "execution_count": 44,
   "metadata": {
    "collapsed": false
   },
   "outputs": [
    {
     "data": {
      "text/plain": [
       "3.5474254742547426"
      ]
     },
     "execution_count": 44,
     "metadata": {},
     "output_type": "execute_result"
    }
   ],
   "source": [
    "np.sum(weight*die)"
   ]
  },
  {
   "cell_type": "code",
   "execution_count": 45,
   "metadata": {
    "collapsed": false
   },
   "outputs": [
    {
     "data": {
      "text/plain": [
       "3.585"
      ]
     },
     "execution_count": 45,
     "metadata": {},
     "output_type": "execute_result"
    }
   ],
   "source": [
    "np.mean(roll10000)"
   ]
  },
  {
   "cell_type": "code",
   "execution_count": 47,
   "metadata": {
    "collapsed": false
   },
   "outputs": [
    {
     "data": {
      "text/plain": [
       "2.2000000000000002"
      ]
     },
     "execution_count": 47,
     "metadata": {},
     "output_type": "execute_result"
    }
   ],
   "source": [
    "np.mean(roll10)"
   ]
  },
  {
   "cell_type": "markdown",
   "metadata": {},
   "source": [
    "np.mean(roll100)"
   ]
  },
  {
   "cell_type": "markdown",
   "metadata": {},
   "source": [
    "The expected value is very close to the expected value of an evenly weighted die, but 1 and 6 are rolled much more often than the other numbers. This is an example of a **bi-modal** distribution."
   ]
  },
  {
   "cell_type": "markdown",
   "metadata": {},
   "source": [
    "---\n",
    "\n",
    "#### 6.4 On to the CLT\n",
    "\n",
    "So, how does the LLN relate to the CLT? Below is the high-level definition of [the CLT, (which is lifted from Wikipedia, of course)](https://en.wikipedia.org/wiki/Central_limit_theorem):\n",
    "\n",
    "> In probability theory, the central limit theorem (CLT) states that, given certain conditions, the arithmetic mean of a sufficiently large number of iterates of independent random variables, each with a well-defined (finite) expected value and finite variance, will be approximately normally distributed, regardless of the underlying distribution.\n",
    "\n",
    "**WTF does this mean?**\n",
    "\n",
    "It means that if you compute a mean of samples from ANY _true population distribution_, that mean will be normally distributed with \n",
    "\n",
    "**mean = mean of true population mean** and \n",
    "\n",
    "**standard deviation = standard error of the population mean**\n",
    "\n",
    "where a **standard error = (standard deviation) / sqrt(N)**\n",
    "\n",
    "check out:\n",
    "\n",
    "http://blog.vctr.me/posts/central-limit-theorem.html\n",
    "\n",
    "and http://www.usablestats.com/lessons/central_limit\n",
    "\n",
    "for a couple of gentle explanations."
   ]
  },
  {
   "cell_type": "markdown",
   "metadata": {},
   "source": [
    "#### 6.5 Exploring the CLT in code - back to the dice\n",
    "\n",
    "Let's say now we have two different conditions:\n",
    "\n",
    "1. Rolling the die 5 times _in batches_ 20 different times. Each time we roll the die 5 times, we take the mean of the batch and append it to a list.\n",
    "2. Rolling the die 5 times _in batches_ 300 different times. Each time we roll the die 5 times, we take the mean of the batch and append it to a list.\n",
    "3. Rolling the die 100 times _in batches_ 300 different times. Each time we roll the die 100 times, we take the mean of the batch and append it to a list.\n",
    "\n",
    "Code out these different scenarios. You should have 3 different lists with the means of the batch die-rolling."
   ]
  },
  {
   "cell_type": "code",
   "execution_count": null,
   "metadata": {
    "collapsed": false
   },
   "outputs": [],
   "source": []
  },
  {
   "cell_type": "markdown",
   "metadata": {},
   "source": [
    "#### 6.6 Plot the realization of the CLT\n",
    "\n",
    "Now, plot out these different mean distributions using the histogram plotting function.\n",
    "\n",
    "Also print out the standard deviation of the sample means as well as the standard deviation of the sample means **multipled by the square root of the sample means.** \n",
    "\n",
    "Multiplying by the square root of the sample means is necessary is a correction. What does this correction do?"
   ]
  },
  {
   "cell_type": "code",
   "execution_count": null,
   "metadata": {
    "collapsed": false
   },
   "outputs": [],
   "source": []
  }
 ],
 "metadata": {
  "anaconda-cloud": {},
  "kernelspec": {
   "display_name": "Python [dsi]",
   "language": "python",
   "name": "Python [dsi]"
  },
  "language_info": {
   "codemirror_mode": {
    "name": "ipython",
    "version": 2
   },
   "file_extension": ".py",
   "mimetype": "text/x-python",
   "name": "python",
   "nbconvert_exporter": "python",
   "pygments_lexer": "ipython2",
   "version": "2.7.12"
  }
 },
 "nbformat": 4,
 "nbformat_minor": 0
}
