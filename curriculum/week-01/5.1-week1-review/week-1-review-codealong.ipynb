{
 "cells": [
  {
   "cell_type": "markdown",
   "metadata": {},
   "source": [
    "# Week 1 review\n",
    "\n",
    "---\n",
    "\n",
    "### Topics (ranked by pain):\n",
    "\n"
   ]
  },
  {
   "cell_type": "markdown",
   "metadata": {},
   "source": [
    "---\n",
    "\n",
    "### Packages"
   ]
  },
  {
   "cell_type": "code",
   "execution_count": 1,
   "metadata": {
    "collapsed": true
   },
   "outputs": [],
   "source": [
    "import csv\n",
    "import numpy as np\n",
    "import pandas as pd"
   ]
  },
  {
   "cell_type": "markdown",
   "metadata": {},
   "source": [
    "## Car dataset"
   ]
  },
  {
   "cell_type": "code",
   "execution_count": 2,
   "metadata": {
    "collapsed": true
   },
   "outputs": [],
   "source": [
    "# my path - put your specific one in place of this"
   ]
  },
  {
   "cell_type": "code",
   "execution_count": 10,
   "metadata": {
    "collapsed": false
   },
   "outputs": [],
   "source": [
    "#car_filename = '/Users/kiefer/github-repos/DSI-SF-2/datasets/used_cars/used_cars.csv'\n",
    "car_filename = '/Users/katbishop/Desktop/DSI-SF2-bishopkd/datasets/used_cars/used_cars.csv'\n"
   ]
  },
  {
   "cell_type": "code",
   "execution_count": 5,
   "metadata": {
    "collapsed": false
   },
   "outputs": [
    {
     "name": "stdout",
     "output_type": "stream",
     "text": [
      "22\n"
     ]
    }
   ],
   "source": [
    "students = ['Denise','Alex','Alex K', 'Carlos', 'Vanessa','Ryan','Cecilia','Tim',\n",
    "           'Kat','Kyle','Divya','Amos','Caitlin','Lenny','Ovid','Chris',\n",
    "           'Nick','Paul','Daniel','Edward','Nivetha','Nicholle']\n",
    "\n",
    "print len(students)"
   ]
  },
  {
   "cell_type": "markdown",
   "metadata": {},
   "source": [
    "### The order of cold-calls:"
   ]
  },
  {
   "cell_type": "code",
   "execution_count": 8,
   "metadata": {
    "collapsed": false
   },
   "outputs": [
    {
     "data": {
      "text/plain": [
       "array([ 1.,  2.])"
      ]
     },
     "execution_count": 8,
     "metadata": {},
     "output_type": "execute_result"
    }
   ],
   "source": [
    "a = np.array([1,2])\n",
    "a.astype(float)\n"
   ]
  },
  {
   "cell_type": "code",
   "execution_count": 6,
   "metadata": {
    "collapsed": true
   },
   "outputs": [],
   "source": [
    "# replace=True means you put name back in bucket, False means take it out, keep it out\n",
    "# .tolist() adds chosen names to list\n",
    "victims = np.random.choice(students, size=len(students), replace=False).tolist()\n"
   ]
  },
  {
   "cell_type": "code",
   "execution_count": 11,
   "metadata": {
    "collapsed": false
   },
   "outputs": [],
   "source": [
    "with open(car_filename, 'r') as f:\n",
    "    reader = csv.reader(f)\n",
    "    rows = [row for row in reader]"
   ]
  },
  {
   "cell_type": "code",
   "execution_count": 12,
   "metadata": {
    "collapsed": false
   },
   "outputs": [
    {
     "data": {
      "text/plain": [
       "[['price', 'year', 'miles', 'doors', 'type'],\n",
       " ['22000', '2012', '13000', '2', 'car'],\n",
       " ['14000', '2010', '30000', '2', 'car'],\n",
       " ['13000', '2010', '73500', '4', 'car'],\n",
       " ['9500', '2009', '78000', '4', 'car'],\n",
       " ['9000', '2007', '47000', '4', 'car'],\n",
       " ['4000', '2006', '124000', '2', 'car'],\n",
       " ['3000', '2004', '177000', '4', 'car'],\n",
       " ['2000', '2004', '209000', '4', 'truck'],\n",
       " ['3000', '2003', '138000', '2', 'car'],\n",
       " ['1900', '2003', '160000', '4', 'car'],\n",
       " ['2500', '2003', '190000', '2', 'truck'],\n",
       " ['5000', '2001', '62000', '4', 'car'],\n",
       " ['1800', '1999', '163000', '2', 'truck'],\n",
       " ['1300', '1997', '138000', '4', 'car']]"
      ]
     },
     "execution_count": 12,
     "metadata": {},
     "output_type": "execute_result"
    }
   ],
   "source": [
    "# draw a list of lists with 2 cols and 2 rows\n",
    "a = [[1,2],[3,4]]\n",
    "#(list of list representation) of a csv\n",
    "rows\n"
   ]
  },
  {
   "cell_type": "code",
   "execution_count": 15,
   "metadata": {
    "collapsed": false
   },
   "outputs": [
    {
     "data": {
      "text/plain": [
       "['22000',\n",
       " '14000',\n",
       " '13000',\n",
       " '9500',\n",
       " '9000',\n",
       " '4000',\n",
       " '3000',\n",
       " '2000',\n",
       " '3000',\n",
       " '1900',\n",
       " '2500',\n",
       " '5000',\n",
       " '1800',\n",
       " '1300']"
      ]
     },
     "execution_count": 15,
     "metadata": {},
     "output_type": "execute_result"
    }
   ],
   "source": [
    "# using list comprehension, get the price of the cars, excl the header\n",
    "\n",
    "[row[0] for row in rows[1:]]"
   ]
  },
  {
   "cell_type": "code",
   "execution_count": null,
   "metadata": {
    "collapsed": true
   },
   "outputs": [],
   "source": [
    "# using a filter stmt in a list comprehension\n",
    "# create a list of doors excl the header"
   ]
  },
  {
   "cell_type": "code",
   "execution_count": 18,
   "metadata": {
    "collapsed": false
   },
   "outputs": [
    {
     "data": {
      "text/plain": [
       "['2', '2', '4', '4', '4', '2', '4', '4', '2', '4', '2', '4', '2', '4']"
      ]
     },
     "execution_count": 18,
     "metadata": {},
     "output_type": "execute_result"
    }
   ],
   "source": [
    "[row[3] for line_no, row in enumerate(rows) if line_no > 0]"
   ]
  },
  {
   "cell_type": "code",
   "execution_count": 20,
   "metadata": {
    "collapsed": false
   },
   "outputs": [
    {
     "data": {
      "text/plain": [
       "[['price', 'year', 'miles', 'doors', 'type'],\n",
       " ['22000', '2012', '13000', '2', 'car'],\n",
       " ['14000', '2010', '30000', '2', 'car'],\n",
       " ['13000', '2010', '73500', '4', 'car'],\n",
       " ['9500', '2009', '78000', '4', 'car'],\n",
       " ['9000', '2007', '47000', '4', 'car'],\n",
       " ['4000', '2006', '124000', '2', 'car'],\n",
       " ['3000', '2004', '177000', '4', 'car'],\n",
       " ['2000', '2004', '209000', '4', 'truck'],\n",
       " ['3000', '2003', '138000', '2', 'car'],\n",
       " ['1900', '2003', '160000', '4', 'car'],\n",
       " ['2500', '2003', '190000', '2', 'truck'],\n",
       " ['5000', '2001', '62000', '4', 'car'],\n",
       " ['1800', '1999', '163000', '2', 'truck'],\n",
       " ['1300', '1997', '138000', '4', 'car']]"
      ]
     },
     "execution_count": 20,
     "metadata": {},
     "output_type": "execute_result"
    }
   ],
   "source": [
    "# create rows_parsed\n",
    "# where the numeric values have been converted to floats\n",
    "cars = []\n",
    "cars = rows\n",
    "cars"
   ]
  },
  {
   "cell_type": "code",
   "execution_count": 31,
   "metadata": {
    "collapsed": false
   },
   "outputs": [
    {
     "data": {
      "text/plain": [
       "[['price', 'year', 'miles', 'doors', 'type'],\n",
       " [22000.0, 2012.0, 13000.0, 2.0, 'car'],\n",
       " [14000.0, 2010.0, 30000.0, 2.0, 'car'],\n",
       " [13000.0, 2010.0, 73500.0, 4.0, 'car'],\n",
       " [9500.0, 2009.0, 78000.0, 4.0, 'car'],\n",
       " [9000.0, 2007.0, 47000.0, 4.0, 'car'],\n",
       " [4000.0, 2006.0, 124000.0, 2.0, 'car'],\n",
       " [3000.0, 2004.0, 177000.0, 4.0, 'car'],\n",
       " [2000.0, 2004.0, 209000.0, 4.0, 'truck'],\n",
       " [3000.0, 2003.0, 138000.0, 2.0, 'car'],\n",
       " [1900.0, 2003.0, 160000.0, 4.0, 'car'],\n",
       " [2500.0, 2003.0, 190000.0, 2.0, 'truck'],\n",
       " [5000.0, 2001.0, 62000.0, 4.0, 'car'],\n",
       " [1800.0, 1999.0, 163000.0, 2.0, 'truck'],\n",
       " [1300.0, 1997.0, 138000.0, 4.0, 'car']]"
      ]
     },
     "execution_count": 31,
     "metadata": {},
     "output_type": "execute_result"
    }
   ],
   "source": [
    "# [cell for cell in row for row in cars] <- no additional bracket flattens\n",
    "\n",
    "new_cars = [[float(cell) if cell.isdigit() else cell for cell in row] for row in cars]\n",
    "\n",
    "# new_cars = [\n",
    "#     [\n",
    "#         float(cell) if cell.isdigit() \n",
    "#      else cell \n",
    "#      for cell in row\n",
    "#     ] \n",
    "#     for row in cars\n",
    "# ]\n",
    "\n",
    "new_cars"
   ]
  },
  {
   "cell_type": "code",
   "execution_count": 34,
   "metadata": {
    "collapsed": false
   },
   "outputs": [
    {
     "data": {
      "text/plain": [
       "[['price', 'year', 'miles', 'doors', 'type'],\n",
       " [22000.0, 2012.0, 13000.0, 2.0, 'car'],\n",
       " [14000.0, 2010.0, 30000.0, 2.0, 'car'],\n",
       " [13000.0, 2010.0, 73500.0, 4.0, 'car'],\n",
       " [9500.0, 2009.0, 78000.0, 4.0, 'car'],\n",
       " [9000.0, 2007.0, 47000.0, 4.0, 'car'],\n",
       " [4000.0, 2006.0, 124000.0, 2.0, 'car'],\n",
       " [3000.0, 2004.0, 177000.0, 4.0, 'car'],\n",
       " [2000.0, 2004.0, 209000.0, 4.0, 'truck'],\n",
       " [3000.0, 2003.0, 138000.0, 2.0, 'car'],\n",
       " [1900.0, 2003.0, 160000.0, 4.0, 'car'],\n",
       " [2500.0, 2003.0, 190000.0, 2.0, 'truck'],\n",
       " [5000.0, 2001.0, 62000.0, 4.0, 'car'],\n",
       " [1800.0, 1999.0, 163000.0, 2.0, 'truck'],\n",
       " [1300.0, 1997.0, 138000.0, 4.0, 'car']]"
      ]
     },
     "execution_count": 34,
     "metadata": {},
     "output_type": "execute_result"
    }
   ],
   "source": [
    "# do the same thing with for loops\n",
    "new_cars = []\n",
    "for row in cars:\n",
    "    temp_row = []\n",
    "    for cell in row:\n",
    "        if cell.isdigit():\n",
    "            temp_row.append(float(cell))\n",
    "        else:\n",
    "            temp_row.append(cell)\n",
    "    new_cars.append(temp_row)\n",
    "            \n",
    "new_cars\n"
   ]
  },
  {
   "cell_type": "code",
   "execution_count": 39,
   "metadata": {
    "collapsed": false
   },
   "outputs": [
    {
     "name": "stdout",
     "output_type": "stream",
     "text": [
      "['price', 'year', 'miles', 'doors', 'type']\n"
     ]
    },
    {
     "data": {
      "text/plain": [
       "{'doors': [2.0,\n",
       "  2.0,\n",
       "  4.0,\n",
       "  4.0,\n",
       "  4.0,\n",
       "  2.0,\n",
       "  4.0,\n",
       "  4.0,\n",
       "  2.0,\n",
       "  4.0,\n",
       "  2.0,\n",
       "  4.0,\n",
       "  2.0,\n",
       "  4.0],\n",
       " 'miles': [13000.0,\n",
       "  30000.0,\n",
       "  73500.0,\n",
       "  78000.0,\n",
       "  47000.0,\n",
       "  124000.0,\n",
       "  177000.0,\n",
       "  209000.0,\n",
       "  138000.0,\n",
       "  160000.0,\n",
       "  190000.0,\n",
       "  62000.0,\n",
       "  163000.0,\n",
       "  138000.0],\n",
       " 'price': [22000.0,\n",
       "  14000.0,\n",
       "  13000.0,\n",
       "  9500.0,\n",
       "  9000.0,\n",
       "  4000.0,\n",
       "  3000.0,\n",
       "  2000.0,\n",
       "  3000.0,\n",
       "  1900.0,\n",
       "  2500.0,\n",
       "  5000.0,\n",
       "  1800.0,\n",
       "  1300.0],\n",
       " 'type': ['car',\n",
       "  'car',\n",
       "  'car',\n",
       "  'car',\n",
       "  'car',\n",
       "  'car',\n",
       "  'car',\n",
       "  'truck',\n",
       "  'car',\n",
       "  'car',\n",
       "  'truck',\n",
       "  'car',\n",
       "  'truck',\n",
       "  'car'],\n",
       " 'year': [2012.0,\n",
       "  2010.0,\n",
       "  2010.0,\n",
       "  2009.0,\n",
       "  2007.0,\n",
       "  2006.0,\n",
       "  2004.0,\n",
       "  2004.0,\n",
       "  2003.0,\n",
       "  2003.0,\n",
       "  2003.0,\n",
       "  2001.0,\n",
       "  1999.0,\n",
       "  1997.0]}"
      ]
     },
     "execution_count": 39,
     "metadata": {},
     "output_type": "execute_result"
    }
   ],
   "source": [
    "# convert cars to dictionary\n",
    "# keys are column names\n",
    "# rows are column values\n",
    "\n",
    "cars = new_cars\n",
    "cars\n",
    " \n",
    "# set up frame of dictionary first, then you can reference it\n",
    "cars_dict = {key:[] for key in cars[0]}\n",
    "\n",
    "# enumerate to keep the data with the correct row\n",
    "for index, key in enumerate(cars[0]):\n",
    "        for row in cars[1:]:\n",
    "            cars_dict[key].append(row[index])  \n",
    "\n",
    "cars_dict\n",
    "        \n",
    "\n"
   ]
  },
  {
   "cell_type": "code",
   "execution_count": null,
   "metadata": {
    "collapsed": true
   },
   "outputs": [],
   "source": []
  }
 ],
 "metadata": {
  "anaconda-cloud": {},
  "kernelspec": {
   "display_name": "Python [dsi]",
   "language": "python",
   "name": "Python [dsi]"
  },
  "language_info": {
   "codemirror_mode": {
    "name": "ipython",
    "version": 2
   },
   "file_extension": ".py",
   "mimetype": "text/x-python",
   "name": "python",
   "nbconvert_exporter": "python",
   "pygments_lexer": "ipython2",
   "version": "2.7.12"
  }
 },
 "nbformat": 4,
 "nbformat_minor": 0
}
