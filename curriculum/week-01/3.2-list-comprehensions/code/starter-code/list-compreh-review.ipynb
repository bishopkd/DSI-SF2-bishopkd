{
 "cells": [
  {
   "cell_type": "code",
   "execution_count": 1,
   "metadata": {
    "collapsed": false
   },
   "outputs": [
    {
     "data": {
      "text/plain": [
       "[0, 1, 2, 3, 4]"
      ]
     },
     "execution_count": 1,
     "metadata": {},
     "output_type": "execute_result"
    }
   ],
   "source": [
    "a = range(5)\n",
    "a"
   ]
  },
  {
   "cell_type": "code",
   "execution_count": 5,
   "metadata": {
    "collapsed": false
   },
   "outputs": [
    {
     "data": {
      "text/plain": [
       "[[1.0, 1.0], [2.0, 2.8284271247461903], [3.0, 5.196152422706632], [4.0, 8.0]]"
      ]
     },
     "execution_count": 5,
     "metadata": {},
     "output_type": "execute_result"
    }
   ],
   "source": [
    "# i want: square root of each number and put in flat list\n",
    "# if starter element is itself nested, then your for/list compr will also be nested\n",
    "import numpy as np\n",
    "a = [[0,0],[1,1],[4,8],[9,27],[16,64]]\n",
    "\n",
    "# take square root\n",
    "\n",
    "# output list outer\n",
    "output = []\n",
    "# from/iterator outer\n",
    "for num_list in a:\n",
    "    # output list inner\n",
    "    internal_list = []\n",
    "    # where/filter\n",
    "    if not 0 in num_list:\n",
    "        # from/iterator inner\n",
    "        for num in num_list:\n",
    "            # selector/modifier inner\n",
    "            internal_list.append(np.sqrt(num))\n",
    "        # selector/modifier outer\n",
    "        output.append(internal_list)\n",
    "    \n",
    "output\n",
    "    "
   ]
  },
  {
   "cell_type": "code",
   "execution_count": 7,
   "metadata": {
    "collapsed": false
   },
   "outputs": [
    {
     "data": {
      "text/plain": [
       "[[1.0, 1.0], [2.0, 2.8284271247461903], [3.0, 5.196152422706632], [4.0, 8.0]]"
      ]
     },
     "execution_count": 7,
     "metadata": {},
     "output_type": "execute_result"
    }
   ],
   "source": [
    "# list comprehension\n",
    "# anatomy:\n",
    "# [selector/modifyer | from/iterator | where/filter] <-- brackets = output list\n",
    "\n",
    "lc = [  #\n",
    "    [\n",
    "        np.sqrt(num) # <-- inner selector/modifier\n",
    "        for num in num_list # <-- inner for/iterator\n",
    "        # implied if True\n",
    "    ] # <-- output list inner\n",
    "    for num_list in a # <-- outer for/iterator\n",
    "    if not 0 in num_list # <-- outer where/filter\n",
    "      \n",
    "] #  <--output list outer\n",
    "\n",
    "lc"
   ]
  },
  {
   "cell_type": "code",
   "execution_count": 8,
   "metadata": {
    "collapsed": false
   },
   "outputs": [
    {
     "data": {
      "text/plain": [
       "[8.0, 112.56854249492379, 550.59223082615813, 1728.0]"
      ]
     },
     "execution_count": 8,
     "metadata": {},
     "output_type": "execute_result"
    }
   ],
   "source": [
    "# with additional\n",
    "\n",
    "lc = [  #\n",
    "    np.sum([\n",
    "        np.sqrt(num) # <-- inner selector/modifier\n",
    "        for num in num_list # <-- inner for/iterator\n",
    "        # implied if True\n",
    "    ])**3 # <-- output list inner\n",
    "    for num_list in a # <-- outer for/iterator\n",
    "    if not 0 in num_list # <-- outer where/filter\n",
    "      \n",
    "] #  <--output list outer\n",
    "\n",
    "lc"
   ]
  },
  {
   "cell_type": "code",
   "execution_count": null,
   "metadata": {
    "collapsed": true
   },
   "outputs": [],
   "source": [
    "# also\n",
    "\n",
    "def square_rooter (num)list):\n",
    "    return [insert lc here]\n",
    "\n"
   ]
  }
 ],
 "metadata": {
  "anaconda-cloud": {},
  "kernelspec": {
   "display_name": "Python [dsi]",
   "language": "python",
   "name": "Python [dsi]"
  },
  "language_info": {
   "codemirror_mode": {
    "name": "ipython",
    "version": 2
   },
   "file_extension": ".py",
   "mimetype": "text/x-python",
   "name": "python",
   "nbconvert_exporter": "python",
   "pygments_lexer": "ipython2",
   "version": "2.7.12"
  }
 },
 "nbformat": 4,
 "nbformat_minor": 0
}
