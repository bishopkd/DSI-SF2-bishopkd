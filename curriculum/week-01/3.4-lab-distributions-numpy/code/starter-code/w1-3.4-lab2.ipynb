{
 "cells": [
  {
   "cell_type": "markdown",
   "metadata": {},
   "source": [
    "## Lab 3.4: csvs, functions, numpy, and distributions\n",
    "\n",
    "Run the cell below to load the required packages and set up plotting in the notebook!"
   ]
  },
  {
   "cell_type": "code",
   "execution_count": 2,
   "metadata": {
    "collapsed": true
   },
   "outputs": [],
   "source": [
    "import numpy as np\n",
    "import scipy.stats as stats\n",
    "import csv\n",
    "import seaborn as sns\n",
    "%matplotlib inline"
   ]
  },
  {
   "cell_type": "markdown",
   "metadata": {},
   "source": [
    "### Sales data\n",
    "\n",
    "For this lab we will be using a truncated version of some sales data that we will be looking at further down the line in more detail. \n",
    "\n",
    "The csv has about 200 rows of data and 4 columns. The relative path to the csv ```sales_info.csv``` is provided below. If you copied files over and moved them around, this might be different for you and you will have to figure out the correct relative path to enter."
   ]
  },
  {
   "cell_type": "code",
   "execution_count": 3,
   "metadata": {
    "collapsed": true
   },
   "outputs": [],
   "source": [
    "sales_csv_path = '../../../../../datasets/sales_data_simple/sales.csv'"
   ]
  },
  {
   "cell_type": "markdown",
   "metadata": {},
   "source": [
    "#### 1. Loading the data\n",
    "\n",
    "Set up an empty list called ```rows```.\n",
    "\n",
    "Using the pattern for loading csvs we learned earlier, add all of the rows in the csv file to the rows list.\n",
    "\n",
    "For your reference, the pattern is:\n",
    "```python\n",
    "with open(my_csv_path, 'r') as f:\n",
    "    reader = csv.reader(f)\n",
    "    ...\n",
    "```\n",
    "\n",
    "Beyond this, adding the rows in the csv file to the ```rows``` variable is up to you."
   ]
  },
  {
   "cell_type": "code",
   "execution_count": 4,
   "metadata": {
    "collapsed": false
   },
   "outputs": [],
   "source": [
    "rows = []\n",
    "\n",
    "with open(sales_csv_path, 'r') as f:\n",
    "    reader = csv.reader(f)\n",
    "    for row in reader:\n",
    "        rows.append(row)\n"
   ]
  },
  {
   "cell_type": "markdown",
   "metadata": {},
   "source": [
    "##### 2. Separate header and data\n",
    "\n",
    "The header of the csv is contained in the first index of the ```rows``` variable, as it is the first row in the csv file. \n",
    "\n",
    "Use python indexing to create two new variables: ```header``` which contains the 4 column names, and ```data``` which contains the list of lists, each sub-list representing a row from the csv.\n",
    "\n",
    "Lastly, print ```header``` to see the names of the columns."
   ]
  },
  {
   "cell_type": "code",
   "execution_count": 12,
   "metadata": {
    "collapsed": false
   },
   "outputs": [
    {
     "data": {
      "text/plain": [
       "['volume_sold', '2015_margin', '2015_q1_sales', '2016_q1_sales']"
      ]
     },
     "execution_count": 12,
     "metadata": {},
     "output_type": "execute_result"
    }
   ],
   "source": [
    "header = rows[0]\n",
    "data = rows[1:]\n",
    "header"
   ]
  },
  {
   "cell_type": "markdown",
   "metadata": {},
   "source": [
    "#### 3. Create a dictionary with the data\n",
    "\n",
    "Use loops or list comprehensions to create a dictionary called ```sales_data```, where the keys of the dictionary are the column names, and the values of the dictionary are lists of the data points of the column corresponding to that column name."
   ]
  },
  {
   "cell_type": "code",
   "execution_count": 17,
   "metadata": {
    "collapsed": false
   },
   "outputs": [],
   "source": [
    "sales_data = {k:[] for k in header}\n",
    "\n",
    "for index, key in enumerate(header):\n",
    "        for row in data:\n",
    "            sales_data[key].append(row[index])     \n",
    "\n",
    "\n",
    "    "
   ]
  },
  {
   "cell_type": "markdown",
   "metadata": {},
   "source": [
    "**3.A** Print out the first 10 items of the 'volume_sold' column."
   ]
  },
  {
   "cell_type": "code",
   "execution_count": 19,
   "metadata": {
    "collapsed": false
   },
   "outputs": [
    {
     "data": {
      "text/plain": [
       "['18.4207604861',\n",
       " '4.77650991918',\n",
       " '16.6024006077',\n",
       " '4.29611149826',\n",
       " '8.15602328201',\n",
       " '5.00512242518',\n",
       " '14.60675',\n",
       " '4.45646649485',\n",
       " '5.04752965097',\n",
       " '5.38807023767']"
      ]
     },
     "execution_count": 19,
     "metadata": {},
     "output_type": "execute_result"
    }
   ],
   "source": [
    "sales_data['volume_sold'][0:10]"
   ]
  },
  {
   "cell_type": "markdown",
   "metadata": {},
   "source": [
    "#### 4. Convert data from string to float\n",
    "\n",
    "As you can see, the data is still in string format (which is how it is read in from the csv). For each key:value pair in our ```sales_data``` dictionary, convert the values (column data) from string values to float values."
   ]
  },
  {
   "cell_type": "code",
   "execution_count": 21,
   "metadata": {
    "collapsed": false
   },
   "outputs": [],
   "source": [
    "for cols in sales_data:\n",
    "    string_row = sales_data[cols]\n",
    "    float_row = [float(s) for s in string_row]\n",
    "    #print float_row\n",
    "    sales_data[cols] = float_row \n",
    "    \n",
    "    "
   ]
  },
  {
   "cell_type": "code",
   "execution_count": null,
   "metadata": {
    "collapsed": false
   },
   "outputs": [],
   "source": [
    "\n"
   ]
  },
  {
   "cell_type": "markdown",
   "metadata": {},
   "source": [
    "#### 5. Write function to print summary statistics\n",
    "\n",
    "Now write a function to print out summary statistics for the data.\n",
    "\n",
    "Your function should:\n",
    "\n",
    "- Accept two arguments: the column name and the data associated with that column\n",
    "- Print out information, clearly labeling each item when you print it:\n",
    "    1. Print out the column name\n",
    "    2. Print the mean of the data using ```np.mean()```\n",
    "    3. Print out the median of the data using ```np.median()```\n",
    "    4. Print out the mode of the **rounded data** using ```stats.mode()```\n",
    "    5. Print out the variance of the data using ```np.var()```\n",
    "    6. Print out the standard deviation of the data using ```np.std()```\n",
    "    \n",
    "Remember that you will need to convert the numeric data from these function to strings by wrapping them in the ```str()``` function."
   ]
  },
  {
   "cell_type": "code",
   "execution_count": 36,
   "metadata": {
    "collapsed": false,
    "scrolled": true
   },
   "outputs": [
    {
     "name": "stdout",
     "output_type": "stream",
     "text": [
      "volume_sold\n",
      "Mean:  10.018684079\n",
      "Median:  8.16634551564\n",
      "Mode:  ModeResult(mode=array([ 8.]), count=array([28]))\n",
      "Var:  84.1299652005\n",
      "Std Dev:  9.1722388325\n"
     ]
    }
   ],
   "source": [
    "def summary_stats(col_name,col_data):\n",
    "    print col_name\n",
    "    print 'Mean: ', np.mean(col_data)\n",
    "    print 'Median: ', np.median(col_data)\n",
    "    print 'Mode: ', stats.mode([round(x) for x in col_data])    \n",
    "    print 'Var: ', np.var(col_data)\n",
    "    print 'Std Dev: ', np.std(col_data)\n",
    "            \n",
    "summary_stats(header[0],sales_data['volume_sold'])"
   ]
  },
  {
   "cell_type": "markdown",
   "metadata": {},
   "source": [
    "**5.A** Using your function, print the summary statistics for 'volume_sold'"
   ]
  },
  {
   "cell_type": "code",
   "execution_count": 38,
   "metadata": {
    "collapsed": false
   },
   "outputs": [
    {
     "name": "stdout",
     "output_type": "stream",
     "text": [
      "volume_sold\n",
      "Mean:  10.018684079\n",
      "Median:  8.16634551564\n",
      "Mode:  ModeResult(mode=array([ 8.]), count=array([28]))\n",
      "Var:  84.1299652005\n",
      "Std Dev:  9.1722388325\n"
     ]
    }
   ],
   "source": [
    "summary_stats('volume_sold',sales_data['volume_sold'])"
   ]
  },
  {
   "cell_type": "markdown",
   "metadata": {},
   "source": [
    "**5.B** Using your function, print the summary statistics for '2015_margin'"
   ]
  },
  {
   "cell_type": "code",
   "execution_count": 37,
   "metadata": {
    "collapsed": false
   },
   "outputs": [
    {
     "name": "stdout",
     "output_type": "stream",
     "text": [
      "2015_margin\n",
      "Mean:  46.8588951379\n",
      "Median:  36.5621438181\n",
      "Mode:  ModeResult(mode=array([ 35.]), count=array([9]))\n",
      "Var:  2016.06166296\n",
      "Std Dev:  44.9005753077\n"
     ]
    }
   ],
   "source": [
    "summary_stats('2015_margin',sales_data['2015_margin'])"
   ]
  },
  {
   "cell_type": "markdown",
   "metadata": {},
   "source": [
    "**5.C** Using your function, print the summary statistics for '2015_q1_sales'"
   ]
  },
  {
   "cell_type": "code",
   "execution_count": 39,
   "metadata": {
    "collapsed": false
   },
   "outputs": [
    {
     "name": "stdout",
     "output_type": "stream",
     "text": [
      "2015_q1_sales\n",
      "Mean:  154631.6682\n",
      "Median:  104199.41\n",
      "Mode:  ModeResult(mode=array([ 4152.]), count=array([1]))\n",
      "Var:  47430301462.3\n",
      "Std Dev:  217784.989066\n"
     ]
    }
   ],
   "source": [
    "summary_stats('2015_q1_sales',sales_data['2015_q1_sales'])"
   ]
  },
  {
   "cell_type": "markdown",
   "metadata": {},
   "source": [
    "**5.D** Using your function, print the summary statistics for '2016_q1_sales'"
   ]
  },
  {
   "cell_type": "code",
   "execution_count": 40,
   "metadata": {
    "collapsed": false
   },
   "outputs": [
    {
     "name": "stdout",
     "output_type": "stream",
     "text": [
      "2016_q1_sales\n",
      "Mean:  154699.17875\n",
      "Median:  103207.2\n",
      "Mode:  ModeResult(mode=array([ 3536.]), count=array([1]))\n",
      "Var:  47139411653.4\n",
      "Std Dev:  217116.124812\n"
     ]
    }
   ],
   "source": [
    "summary_stats('2016_q1_sales',sales_data['2016_q1_sales'])"
   ]
  },
  {
   "cell_type": "markdown",
   "metadata": {},
   "source": [
    "#### 6. Plot the distributions\n",
    "\n",
    "We've provided a plotting function below called ```distribution_plotter()```. It takes two arguments, the name of the column and the data associated with that column.\n",
    "\n",
    "In individual cells, plot the distributions for each of the 4 columns. Do the data appear skewed? Symmetrical? If skewed, what would be your hypothesis for why?"
   ]
  },
  {
   "cell_type": "code",
   "execution_count": 48,
   "metadata": {
    "collapsed": false
   },
   "outputs": [
    {
     "data": {
      "image/png": "[encoded data removed]",
      "text/plain": [
       "<matplotlib.figure.Figure at 0x11aac1390>"
      ]
     },
     "metadata": {},
     "output_type": "display_data"
    }
   ],
   "source": [
    "def distribution_plotter(column, data):\n",
    "    sns.set(rc={\"figure.figsize\": (10, 7)})\n",
    "    sns.set_style(\"white\")\n",
    "    dist = sns.distplot(data[column], hist_kws={'alpha':0.2}, kde_kws={'linewidth':5})\n",
    "    dist.set_title('Distribution of ' + column + '\\n', fontsize=16)\n",
    "    \n",
    "#col = 'volume_sold'\n",
    "col = '2015_margin'\n",
    "#col = '2015_q1_sales'\n",
    "#col = '2016_q1_sales'\n",
    "\n",
    "distribution_plotter(col, sales_data)"
   ]
  },
  {
   "cell_type": "markdown",
   "metadata": {
    "collapsed": false
   },
   "source": [
    "## Prologue to Plotting / Visual Elements\n",
    "\n",
    "Check out this example:\n",
    "\n",
    "```python\n",
    "   1.  sns.set(rc={\"figure.figsize\": (10, 7)})\n",
    "   2.  sns.set_style(\"white\")\n",
    "   3.  dist = sns.distplot(data, hist_kws={'alpha':0.2}, kde_kws={'linewidth':5})\n",
    "   4.  dist.set_title(\"I'm a fairly cool plot!\", fontsize=16)\n",
    "```\n",
    "\n",
    "**1.** With Seaborn (the `sns` object in context), the `sns.set()` method with `{\"figure.figsize\": (10, 7)}` parameter will control the size of the plot based on aspect ratio and scale.<br><br>\n",
    "**2.** Seaborn comes with a variety of styles.  They can be set using `sns.set_style([The style])`.  There are five preset seaborn themes: `darkgrid`, `whitegrid`, `dark`, `white`, and ticks. They are each suited to different applications and personal preferences. The default theme is `darkgrid`. <br><br>\n",
    "**3.** There are plenty of different types of plot types available.  For getting sense of the distribution of your data, `sns.distplot()` is a great choice.  The first paramter `data` is the only required parameter.  The other parameters in our example on line 3, control the visual aesthetics.  You can read more about [controling the visual aesthetics](https://stanford.edu/~mwaskom/software/seaborn/tutorial/aesthetics.html) of Seaborn.\n",
    "<br><br>\n",
    "**4.** Notice on line 3, we've assigned a reference to sns.distplot(), to a variable called `dist`.  In order to control certain visual elements, it's necessary to have a reference to the specific instance that initially references the plotting function. In this case, with the plot refernece to \"distplot\", it's possible to set the title using `.set_title`."
   ]
  },
  {
   "cell_type": "code",
   "execution_count": 42,
   "metadata": {
    "collapsed": false
   },
   "outputs": [],
   "source": [
    "# We are going to convert our sales data to a Pandas DataFrame for convenience.\n",
    "# We will go into much more depth about Pandas in the near future\n",
    "\n",
    "# For the rest of the lab, use this `sales_data` object, as if it where a dictionary.\n",
    "# ** A DataFrame is much different than a python dictionary!!! Don't worry about yet! **\n",
    "import pandas as pd\n",
    "\n",
    "sales_data = pd.DataFrame(sales_data)"
   ]
  },
  {
   "cell_type": "markdown",
   "metadata": {
    "collapsed": false
   },
   "source": [
    "### 7. Different Plot Methods\n",
    "\n",
    "Plot some of your variables from our prior dataset (ie: sales_data[KEY_NAME_HERE]) using these plotting methods:\n",
    "\n",
    "- **kdeplot** /w params `shading=True`\n",
    "- **jointplot** /w params `x=\"volume_sold\", y=\"2015_margin\"`\n",
    "- **tsplot** /w params `data=sales_data['2015_q1_sales']`\n",
    "- **pairplot** (pass the entire sales_data as the `data` parameter)"
   ]
  },
  {
   "cell_type": "code",
   "execution_count": 57,
   "metadata": {
    "collapsed": false
   },
   "outputs": [
    {
     "data": {
      "text/plain": [
       "<matplotlib.axes._subplots.AxesSubplot at 0x1208d1650>"
      ]
     },
     "execution_count": 57,
     "metadata": {},
     "output_type": "execute_result"
    },
    {
     "data": {
      "image/png": "[encoded data removed]",
      "text/plain": [
       "<matplotlib.figure.Figure at 0x1208faa10>"
      ]
     },
     "metadata": {},
     "output_type": "display_data"
    }
   ],
   "source": [
    "col = 'volume_sold'\n",
    "col2 = '2015_margin'\n",
    "col3 = '2015_q1_sales'\n",
    "col4 = '2016_q1_sales'\n",
    "sns.kdeplot(sales_data[col])\n",
    "#sns.jointplot(sales_data[col],sales_data[col2])\n",
    "#sns.tsplot(sales_data[col3])\n",
    "#sns.pairplot(sales_data)"
   ]
  },
  {
   "cell_type": "markdown",
   "metadata": {},
   "source": [
    "### 8. Multiple Plots\n",
    "\n",
    "There are times when we would like to plot different distributions in context with each other on the same plot.  By default, using the Seaborn library, when we attempt to call multiple plots, using different datasets, the display with consolitdate to a single figure output.\n",
    "\n",
    "Call multiple `kdeplot` in a single frame, using the keys: ['volume_sold', '2015_margin']\n",
    "\n",
    "** Bonus:  Do it with a loop **\n",
    "\n",
    "_Protip:  It's helpful to change the alpha parameter to less than 1.0 to control the visual transperancy of the layered plots that are displayed, so each of the distributions can be much more differentiated._\n",
    "\n"
   ]
  },
  {
   "cell_type": "code",
   "execution_count": 63,
   "metadata": {
    "collapsed": false
   },
   "outputs": [
    {
     "data": {
      "text/plain": [
       "<matplotlib.axes._subplots.AxesSubplot at 0x1215f8b90>"
      ]
     },
     "execution_count": 63,
     "metadata": {},
     "output_type": "execute_result"
    },
    {
     "data": {
      "image/png": "[encoded data removed]",
      "text/plain": [
       "<matplotlib.figure.Figure at 0x1217dd810>"
      ]
     },
     "metadata": {},
     "output_type": "display_data"
    }
   ],
   "source": [
    "sns.kdeplot(sales_data[col],sales_data[col2], alpha=.9)"
   ]
  },
  {
   "cell_type": "markdown",
   "metadata": {},
   "source": [
    "### 9. Bonus Challenge:  Explore The Seaborn Gallery\n",
    "\n",
    "Explore the [Seaborn Gallery](https://stanford.edu/~mwaskom/software/seaborn/examples/index.html), and attempt to adapt 2-3 other plot methods using our `sales_data`.  This should give you a little context and familliarity with some of the most common plotting functions in Seaborn.  \n",
    "\n",
    "Beyond this we will be diving into `matplotlib`, `pandas`, and other plotting packages.  The best way to get good at data visualization, is practicing.  Each package has their own nuance and convention, but most of these packages are rooted to matplotlib at a low level so it's possible to use these packages together.  Generally, seaborn and Pandas will get you most of the way there, but then using Matplotlib will help you \"tweek\" the finer aesthetics of the output."
   ]
  },
  {
   "cell_type": "code",
   "execution_count": 77,
   "metadata": {
    "collapsed": false
   },
   "outputs": [
    {
     "data": {
      "text/plain": [
       "<matplotlib.axes._subplots.AxesSubplot at 0x1228a5290>"
      ]
     },
     "execution_count": 77,
     "metadata": {},
     "output_type": "execute_result"
    },
    {
     "data": {
      "image/png": "[encoded data removed]",
      "text/plain": [
       "<matplotlib.figure.Figure at 0x1228a5c50>"
      ]
     },
     "metadata": {},
     "output_type": "display_data"
    }
   ],
   "source": [
    "sns.violinplot(data=sales_data[col], palette=\"Set3\", bw=.2, cut=1, linewidth=1)\n"
   ]
  },
  {
   "cell_type": "code",
   "execution_count": null,
   "metadata": {
    "collapsed": true
   },
   "outputs": [],
   "source": []
  }
 ],
 "metadata": {
  "anaconda-cloud": {},
  "kernelspec": {
   "display_name": "Python [dsi]",
   "language": "python",
   "name": "Python [dsi]"
  },
  "language_info": {
   "codemirror_mode": {
    "name": "ipython",
    "version": 2
   },
   "file_extension": ".py",
   "mimetype": "text/x-python",
   "name": "python",
   "nbconvert_exporter": "python",
   "pygments_lexer": "ipython2",
   "version": "2.7.12"
  }
 },
 "nbformat": 4,
 "nbformat_minor": 0
}
