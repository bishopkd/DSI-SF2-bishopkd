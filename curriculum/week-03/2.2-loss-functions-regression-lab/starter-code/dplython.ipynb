{
 "cells": [
  {
   "cell_type": "code",
   "execution_count": 1,
   "metadata": {
    "collapsed": true
   },
   "outputs": [],
   "source": [
    "import pandas as pd\n",
    "import numpy as np\n",
    "from dplython import (DplyFrame, X, select, sift, sample_n,\n",
    "    sample_frac, head, arrange, mutate, group_by, summarize, DelayFunction)"
   ]
  },
  {
   "cell_type": "code",
   "execution_count": 2,
   "metadata": {
    "collapsed": true
   },
   "outputs": [],
   "source": [
    "# dplython different/more intuitive syntax for manipulating data\n",
    "combine = '/Users/katbishop/Desktop/DSI-SF2-bishopkd/datasets/football_combine/combine.csv'"
   ]
  },
  {
   "cell_type": "code",
   "execution_count": 5,
   "metadata": {
    "collapsed": false
   },
   "outputs": [
    {
     "name": "stderr",
     "output_type": "stream",
     "text": [
      "/Users/katbishop/anaconda/envs/dsi/lib/python2.7/site-packages/IPython/core/formatters.py:92: DeprecationWarning: DisplayFormatter._ipython_display_formatter_default is deprecated: use @default decorator instead.\n",
      "  def _ipython_display_formatter_default(self):\n",
      "/Users/katbishop/anaconda/envs/dsi/lib/python2.7/site-packages/IPython/core/formatters.py:98: DeprecationWarning: DisplayFormatter._formatters_default is deprecated: use @default decorator instead.\n",
      "  def _formatters_default(self):\n",
      "/Users/katbishop/anaconda/envs/dsi/lib/python2.7/site-packages/IPython/core/formatters.py:677: DeprecationWarning: PlainTextFormatter._deferred_printers_default is deprecated: use @default decorator instead.\n",
      "  def _deferred_printers_default(self):\n",
      "/Users/katbishop/anaconda/envs/dsi/lib/python2.7/site-packages/IPython/core/formatters.py:669: DeprecationWarning: PlainTextFormatter._singleton_printers_default is deprecated: use @default decorator instead.\n",
      "  def _singleton_printers_default(self):\n",
      "/Users/katbishop/anaconda/envs/dsi/lib/python2.7/site-packages/IPython/core/formatters.py:672: DeprecationWarning: PlainTextFormatter._type_printers_default is deprecated: use @default decorator instead.\n",
      "  def _type_printers_default(self):\n"
     ]
    },
    {
     "data": {
      "text/html": [
       "<div>\n",
       "<table border=\"1\" class=\"dataframe\">\n",
       "  <thead>\n",
       "    <tr style=\"text-align: right;\">\n",
       "      <th></th>\n",
       "      <th>id</th>\n",
       "      <th>Year</th>\n",
       "      <th>Name</th>\n",
       "      <th>Position</th>\n",
       "      <th>HeightFeet</th>\n",
       "      <th>HeightInches</th>\n",
       "      <th>Weight</th>\n",
       "      <th>Arms</th>\n",
       "      <th>Hands</th>\n",
       "      <th>FortyYD</th>\n",
       "      <th>...</th>\n",
       "      <th>Bench</th>\n",
       "      <th>Round</th>\n",
       "      <th>College</th>\n",
       "      <th>Pick</th>\n",
       "      <th>PickRound</th>\n",
       "      <th>PickTotal</th>\n",
       "      <th>FirstName</th>\n",
       "      <th>LastName</th>\n",
       "      <th>HeightInchesTotal</th>\n",
       "      <th>Wonderlic</th>\n",
       "    </tr>\n",
       "  </thead>\n",
       "  <tbody>\n",
       "    <tr>\n",
       "      <th>0</th>\n",
       "      <td>8984</td>\n",
       "      <td>2013</td>\n",
       "      <td>Quanterus Smith</td>\n",
       "      <td>DE</td>\n",
       "      <td>6</td>\n",
       "      <td>5.0</td>\n",
       "      <td>250</td>\n",
       "      <td>33.25</td>\n",
       "      <td>10.375</td>\n",
       "      <td>0.0</td>\n",
       "      <td>...</td>\n",
       "      <td>0</td>\n",
       "      <td>5</td>\n",
       "      <td>Western Kentucky</td>\n",
       "      <td>13(146)</td>\n",
       "      <td>13</td>\n",
       "      <td>146</td>\n",
       "      <td>Quanterus</td>\n",
       "      <td>Smith</td>\n",
       "      <td>77.0</td>\n",
       "      <td>0</td>\n",
       "    </tr>\n",
       "    <tr>\n",
       "      <th>1</th>\n",
       "      <td>9002</td>\n",
       "      <td>2013</td>\n",
       "      <td>Abry Jones</td>\n",
       "      <td>DT</td>\n",
       "      <td>6</td>\n",
       "      <td>3.0</td>\n",
       "      <td>313</td>\n",
       "      <td>35.00</td>\n",
       "      <td>9.750</td>\n",
       "      <td>0.0</td>\n",
       "      <td>...</td>\n",
       "      <td>30</td>\n",
       "      <td>0</td>\n",
       "      <td>NaN</td>\n",
       "      <td>NaN</td>\n",
       "      <td>0</td>\n",
       "      <td>0</td>\n",
       "      <td>Abry</td>\n",
       "      <td>Jones</td>\n",
       "      <td>75.0</td>\n",
       "      <td>0</td>\n",
       "    </tr>\n",
       "    <tr>\n",
       "      <th>2</th>\n",
       "      <td>9004</td>\n",
       "      <td>2013</td>\n",
       "      <td>Bennie Logan</td>\n",
       "      <td>DT</td>\n",
       "      <td>6</td>\n",
       "      <td>2.0</td>\n",
       "      <td>309</td>\n",
       "      <td>34.00</td>\n",
       "      <td>10.250</td>\n",
       "      <td>0.0</td>\n",
       "      <td>...</td>\n",
       "      <td>30</td>\n",
       "      <td>3</td>\n",
       "      <td>LSU</td>\n",
       "      <td>5(67)</td>\n",
       "      <td>5</td>\n",
       "      <td>67</td>\n",
       "      <td>Bennie</td>\n",
       "      <td>Logan</td>\n",
       "      <td>74.0</td>\n",
       "      <td>0</td>\n",
       "    </tr>\n",
       "    <tr>\n",
       "      <th>3</th>\n",
       "      <td>9012</td>\n",
       "      <td>2013</td>\n",
       "      <td>John Boyett</td>\n",
       "      <td>FS</td>\n",
       "      <td>5</td>\n",
       "      <td>10.0</td>\n",
       "      <td>204</td>\n",
       "      <td>30.50</td>\n",
       "      <td>8.500</td>\n",
       "      <td>0.0</td>\n",
       "      <td>...</td>\n",
       "      <td>27</td>\n",
       "      <td>6</td>\n",
       "      <td>Oregon</td>\n",
       "      <td>24(192)</td>\n",
       "      <td>24</td>\n",
       "      <td>192</td>\n",
       "      <td>John</td>\n",
       "      <td>Boyett</td>\n",
       "      <td>70.0</td>\n",
       "      <td>0</td>\n",
       "    </tr>\n",
       "    <tr>\n",
       "      <th>4</th>\n",
       "      <td>9018</td>\n",
       "      <td>2013</td>\n",
       "      <td>Bacarri Rambo</td>\n",
       "      <td>FS</td>\n",
       "      <td>6</td>\n",
       "      <td>0.0</td>\n",
       "      <td>211</td>\n",
       "      <td>31.00</td>\n",
       "      <td>9.250</td>\n",
       "      <td>0.0</td>\n",
       "      <td>...</td>\n",
       "      <td>17</td>\n",
       "      <td>6</td>\n",
       "      <td>Georgia</td>\n",
       "      <td>23(191)</td>\n",
       "      <td>23</td>\n",
       "      <td>191</td>\n",
       "      <td>Bacarri</td>\n",
       "      <td>Rambo</td>\n",
       "      <td>72.0</td>\n",
       "      <td>0</td>\n",
       "    </tr>\n",
       "  </tbody>\n",
       "</table>\n",
       "<p>5 rows × 26 columns</p>\n",
       "</div>"
      ],
      "text/plain": [
       "     id  Year             Name Position  HeightFeet  HeightInches  Weight  \\\n",
       "0  8984  2013  Quanterus Smith       DE           6           5.0     250   \n",
       "1  9002  2013       Abry Jones       DT           6           3.0     313   \n",
       "2  9004  2013     Bennie Logan       DT           6           2.0     309   \n",
       "3  9012  2013      John Boyett       FS           5          10.0     204   \n",
       "4  9018  2013    Bacarri Rambo       FS           6           0.0     211   \n",
       "\n",
       "    Arms   Hands  FortyYD    ...     Bench  Round           College     Pick  \\\n",
       "0  33.25  10.375      0.0    ...         0      5  Western Kentucky  13(146)   \n",
       "1  35.00   9.750      0.0    ...        30      0               NaN      NaN   \n",
       "2  34.00  10.250      0.0    ...        30      3               LSU    5(67)   \n",
       "3  30.50   8.500      0.0    ...        27      6            Oregon  24(192)   \n",
       "4  31.00   9.250      0.0    ...        17      6           Georgia  23(191)   \n",
       "\n",
       "   PickRound  PickTotal  FirstName  LastName HeightInchesTotal Wonderlic  \n",
       "0         13        146  Quanterus     Smith              77.0         0  \n",
       "1          0          0       Abry     Jones              75.0         0  \n",
       "2          5         67     Bennie     Logan              74.0         0  \n",
       "3         24        192       John    Boyett              70.0         0  \n",
       "4         23        191    Bacarri     Rambo              72.0         0  \n",
       "\n",
       "[5 rows x 26 columns]"
      ]
     },
     "execution_count": 5,
     "metadata": {},
     "output_type": "execute_result"
    }
   ],
   "source": [
    "combine = DplyFrame(pd.read_csv(combine))\n",
    "combine.head()"
   ]
  },
  {
   "cell_type": "code",
   "execution_count": 8,
   "metadata": {
    "collapsed": false
   },
   "outputs": [
    {
     "name": "stdout",
     "output_type": "stream",
     "text": [
      "  Position\n",
      "0       DE\n",
      "1       DT\n",
      "2       DT\n",
      "3       FS\n",
      "4       FS\n"
     ]
    }
   ],
   "source": [
    "# position = combine['position'] -- undply syntax\n",
    "position = combine >> select(X.Position)\n",
    "print position[0:5]\n"
   ]
  },
  {
   "cell_type": "code",
   "execution_count": 9,
   "metadata": {
    "collapsed": false
   },
   "outputs": [
    {
     "data": {
      "text/html": [
       "<div>\n",
       "<table border=\"1\" class=\"dataframe\">\n",
       "  <thead>\n",
       "    <tr style=\"text-align: right;\">\n",
       "      <th></th>\n",
       "      <th>Name</th>\n",
       "      <th>Weight</th>\n",
       "    </tr>\n",
       "  </thead>\n",
       "  <tbody>\n",
       "    <tr>\n",
       "      <th>15</th>\n",
       "      <td>Brandon Boykin</td>\n",
       "      <td>182</td>\n",
       "    </tr>\n",
       "    <tr>\n",
       "      <th>49</th>\n",
       "      <td>Foswhitt Whittaker</td>\n",
       "      <td>193</td>\n",
       "    </tr>\n",
       "    <tr>\n",
       "      <th>55</th>\n",
       "      <td>Ryan Broyles</td>\n",
       "      <td>192</td>\n",
       "    </tr>\n",
       "    <tr>\n",
       "      <th>56</th>\n",
       "      <td>Chase Minnifield</td>\n",
       "      <td>183</td>\n",
       "    </tr>\n",
       "    <tr>\n",
       "      <th>58</th>\n",
       "      <td>Shaun Prater</td>\n",
       "      <td>190</td>\n",
       "    </tr>\n",
       "  </tbody>\n",
       "</table>\n",
       "</div>"
      ],
      "text/plain": [
       "                  Name  Weight\n",
       "15      Brandon Boykin     182\n",
       "49  Foswhitt Whittaker     193\n",
       "55        Ryan Broyles     192\n",
       "56    Chase Minnifield     183\n",
       "58        Shaun Prater     190"
      ]
     },
     "execution_count": 9,
     "metadata": {},
     "output_type": "execute_result"
    }
   ],
   "source": [
    "# names of players who weight is < 200\n",
    "# pandas: \n",
    "players = combine[['Name','Weight']]\n",
    "players = players[players.Weight < 200]\n",
    "players.head()"
   ]
  },
  {
   "cell_type": "code",
   "execution_count": 10,
   "metadata": {
    "collapsed": false
   },
   "outputs": [
    {
     "data": {
      "text/html": [
       "<div>\n",
       "<table border=\"1\" class=\"dataframe\">\n",
       "  <thead>\n",
       "    <tr style=\"text-align: right;\">\n",
       "      <th></th>\n",
       "      <th>Name</th>\n",
       "      <th>Weight</th>\n",
       "    </tr>\n",
       "  </thead>\n",
       "  <tbody>\n",
       "    <tr>\n",
       "      <th>15</th>\n",
       "      <td>Brandon Boykin</td>\n",
       "      <td>182</td>\n",
       "    </tr>\n",
       "    <tr>\n",
       "      <th>49</th>\n",
       "      <td>Foswhitt Whittaker</td>\n",
       "      <td>193</td>\n",
       "    </tr>\n",
       "    <tr>\n",
       "      <th>55</th>\n",
       "      <td>Ryan Broyles</td>\n",
       "      <td>192</td>\n",
       "    </tr>\n",
       "    <tr>\n",
       "      <th>56</th>\n",
       "      <td>Chase Minnifield</td>\n",
       "      <td>183</td>\n",
       "    </tr>\n",
       "    <tr>\n",
       "      <th>58</th>\n",
       "      <td>Shaun Prater</td>\n",
       "      <td>190</td>\n",
       "    </tr>\n",
       "  </tbody>\n",
       "</table>\n",
       "</div>"
      ],
      "text/plain": [
       "                  Name  Weight\n",
       "15      Brandon Boykin     182\n",
       "49  Foswhitt Whittaker     193\n",
       "55        Ryan Broyles     192\n",
       "56    Chase Minnifield     183\n",
       "58        Shaun Prater     190"
      ]
     },
     "execution_count": 10,
     "metadata": {},
     "output_type": "execute_result"
    }
   ],
   "source": [
    "# dplython\n",
    "dply_players = (combine >> sift(X.Weight < 200) >> select(X.Name, X.Weight))\n",
    "dply_players.head()"
   ]
  },
  {
   "cell_type": "code",
   "execution_count": 12,
   "metadata": {
    "collapsed": false
   },
   "outputs": [
    {
     "data": {
      "text/html": [
       "<div>\n",
       "<table border=\"1\" class=\"dataframe\">\n",
       "  <thead>\n",
       "    <tr style=\"text-align: right;\">\n",
       "      <th></th>\n",
       "      <th>id</th>\n",
       "      <th>Year</th>\n",
       "      <th>Name</th>\n",
       "      <th>Position</th>\n",
       "      <th>HeightFeet</th>\n",
       "      <th>HeightInches</th>\n",
       "      <th>Weight</th>\n",
       "      <th>Arms</th>\n",
       "      <th>Hands</th>\n",
       "      <th>FortyYD</th>\n",
       "      <th>...</th>\n",
       "      <th>Bench</th>\n",
       "      <th>Round</th>\n",
       "      <th>College</th>\n",
       "      <th>Pick</th>\n",
       "      <th>PickRound</th>\n",
       "      <th>PickTotal</th>\n",
       "      <th>FirstName</th>\n",
       "      <th>LastName</th>\n",
       "      <th>HeightInchesTotal</th>\n",
       "      <th>Wonderlic</th>\n",
       "    </tr>\n",
       "  </thead>\n",
       "  <tbody>\n",
       "    <tr>\n",
       "      <th>2394</th>\n",
       "      <td>12526</td>\n",
       "      <td>2001</td>\n",
       "      <td>Marques Tuiasosopo</td>\n",
       "      <td>QB</td>\n",
       "      <td>6</td>\n",
       "      <td>1.0</td>\n",
       "      <td>223</td>\n",
       "      <td>0.0</td>\n",
       "      <td>0.0</td>\n",
       "      <td>4.71</td>\n",
       "      <td>...</td>\n",
       "      <td>0</td>\n",
       "      <td>2</td>\n",
       "      <td>Washington</td>\n",
       "      <td>28(59)</td>\n",
       "      <td>28</td>\n",
       "      <td>59</td>\n",
       "      <td>Marques</td>\n",
       "      <td>Tuiasosopo</td>\n",
       "      <td>73.0</td>\n",
       "      <td>24</td>\n",
       "    </tr>\n",
       "    <tr>\n",
       "      <th>689</th>\n",
       "      <td>12887</td>\n",
       "      <td>1999</td>\n",
       "      <td>Donald Mitchell</td>\n",
       "      <td>CB</td>\n",
       "      <td>5</td>\n",
       "      <td>10.0</td>\n",
       "      <td>187</td>\n",
       "      <td>0.0</td>\n",
       "      <td>0.0</td>\n",
       "      <td>4.47</td>\n",
       "      <td>...</td>\n",
       "      <td>24</td>\n",
       "      <td>4</td>\n",
       "      <td>Southern Methodist</td>\n",
       "      <td>22(117)</td>\n",
       "      <td>22</td>\n",
       "      <td>117</td>\n",
       "      <td>Donald</td>\n",
       "      <td>Mitchell</td>\n",
       "      <td>70.0</td>\n",
       "      <td>0</td>\n",
       "    </tr>\n",
       "  </tbody>\n",
       "</table>\n",
       "<p>2 rows × 26 columns</p>\n",
       "</div>"
      ],
      "text/plain": [
       "         id  Year                Name Position  HeightFeet  HeightInches  \\\n",
       "2394  12526  2001  Marques Tuiasosopo       QB           6           1.0   \n",
       "689   12887  1999     Donald Mitchell       CB           5          10.0   \n",
       "\n",
       "      Weight  Arms  Hands  FortyYD    ...     Bench  Round  \\\n",
       "2394     223   0.0    0.0     4.71    ...         0      2   \n",
       "689      187   0.0    0.0     4.47    ...        24      4   \n",
       "\n",
       "                 College     Pick  PickRound  PickTotal  FirstName  \\\n",
       "2394          Washington   28(59)         28         59    Marques   \n",
       "689   Southern Methodist  22(117)         22        117     Donald   \n",
       "\n",
       "        LastName HeightInchesTotal Wonderlic  \n",
       "2394  Tuiasosopo              73.0        24  \n",
       "689     Mitchell              70.0         0  \n",
       "\n",
       "[2 rows x 26 columns]"
      ]
     },
     "execution_count": 12,
     "metadata": {},
     "output_type": "execute_result"
    }
   ],
   "source": [
    "# way to take a random sample 0f 5% and take out the Name and Weight\n",
    "# pandas\n",
    "sample = combine[['Name','Weight']]\n",
    "\n",
    "sample = combine.sample(frac=.05)\n",
    "sample.head(2)"
   ]
  },
  {
   "cell_type": "code",
   "execution_count": 13,
   "metadata": {
    "collapsed": false
   },
   "outputs": [
    {
     "data": {
      "text/html": [
       "<div>\n",
       "<table border=\"1\" class=\"dataframe\">\n",
       "  <thead>\n",
       "    <tr style=\"text-align: right;\">\n",
       "      <th></th>\n",
       "      <th>Name</th>\n",
       "      <th>Weight</th>\n",
       "    </tr>\n",
       "  </thead>\n",
       "  <tbody>\n",
       "    <tr>\n",
       "      <th>4559</th>\n",
       "      <td>Adam Grant</td>\n",
       "      <td>325</td>\n",
       "    </tr>\n",
       "    <tr>\n",
       "      <th>3788</th>\n",
       "      <td>Kelly Butler</td>\n",
       "      <td>324</td>\n",
       "    </tr>\n",
       "  </tbody>\n",
       "</table>\n",
       "</div>"
      ],
      "text/plain": [
       "              Name  Weight\n",
       "4559    Adam Grant     325\n",
       "3788  Kelly Butler     324"
      ]
     },
     "execution_count": 13,
     "metadata": {},
     "output_type": "execute_result"
    }
   ],
   "source": [
    "# dply; don't have to declare df cols first\n",
    "# leave out select portion to select all cols\n",
    "\n",
    "dply_sample = (combine >> sample_frac(.05) >> select (X.Name, X.Weight))\n",
    "dply_sample.head(2)"
   ]
  },
  {
   "cell_type": "code",
   "execution_count": 17,
   "metadata": {
    "collapsed": false
   },
   "outputs": [
    {
     "data": {
      "text/html": [
       "<div>\n",
       "<table border=\"1\" class=\"dataframe\">\n",
       "  <thead>\n",
       "    <tr style=\"text-align: right;\">\n",
       "      <th></th>\n",
       "      <th>Position</th>\n",
       "      <th>Year</th>\n",
       "      <th>0</th>\n",
       "    </tr>\n",
       "  </thead>\n",
       "  <tbody>\n",
       "    <tr>\n",
       "      <th>0</th>\n",
       "      <td>C</td>\n",
       "      <td>2014</td>\n",
       "      <td>307.166667</td>\n",
       "    </tr>\n",
       "    <tr>\n",
       "      <th>1</th>\n",
       "      <td>CB</td>\n",
       "      <td>1999</td>\n",
       "      <td>184.807692</td>\n",
       "    </tr>\n",
       "    <tr>\n",
       "      <th>2</th>\n",
       "      <td>CB</td>\n",
       "      <td>2000</td>\n",
       "      <td>191.750000</td>\n",
       "    </tr>\n",
       "  </tbody>\n",
       "</table>\n",
       "</div>"
      ],
      "text/plain": [
       "  Position  Year           0\n",
       "0        C  2014  307.166667\n",
       "1       CB  1999  184.807692\n",
       "2       CB  2000  191.750000"
      ]
     },
     "execution_count": 17,
     "metadata": {},
     "output_type": "execute_result"
    }
   ],
   "source": [
    "# group by Position and Year, add together weight and arms,\n",
    "# and return the mean of that column\n",
    "\n",
    "# pandas\n",
    "def weight_plus_arms_mean(df):\n",
    "    summed = df['Weight'] + df['Arms']\n",
    "    df['weight_arms_mean'] = np.mean(summed)\n",
    "    return df.loc[:,'weight_arms_mean'].iloc[0]\n",
    "\n",
    "combine.groupby(['Position', 'Year']).apply(weight_plus_arms_mean).reset_index().head(3)\n",
    "\n",
    "\n"
   ]
  },
  {
   "cell_type": "code",
   "execution_count": 24,
   "metadata": {
    "collapsed": false
   },
   "outputs": [
    {
     "data": {
      "text/html": [
       "<div>\n",
       "<table border=\"1\" class=\"dataframe\">\n",
       "  <thead>\n",
       "    <tr style=\"text-align: right;\">\n",
       "      <th></th>\n",
       "      <th>Position</th>\n",
       "      <th>Year</th>\n",
       "      <th>weight_arms_mean</th>\n",
       "      <th>year_mean</th>\n",
       "    </tr>\n",
       "  </thead>\n",
       "  <tbody>\n",
       "    <tr>\n",
       "      <th>0</th>\n",
       "      <td>C</td>\n",
       "      <td>2014</td>\n",
       "      <td>307.166667</td>\n",
       "      <td>2014</td>\n",
       "    </tr>\n",
       "    <tr>\n",
       "      <th>1</th>\n",
       "      <td>CB</td>\n",
       "      <td>1999</td>\n",
       "      <td>184.807692</td>\n",
       "      <td>1999</td>\n",
       "    </tr>\n",
       "    <tr>\n",
       "      <th>2</th>\n",
       "      <td>CB</td>\n",
       "      <td>2000</td>\n",
       "      <td>191.750000</td>\n",
       "      <td>2000</td>\n",
       "    </tr>\n",
       "  </tbody>\n",
       "</table>\n",
       "</div>"
      ],
      "text/plain": [
       "  Position  Year  weight_arms_mean  year_mean\n",
       "0        C  2014        307.166667       2014\n",
       "1       CB  1999        184.807692       1999\n",
       "2       CB  2000        191.750000       2000"
      ]
     },
     "execution_count": 24,
     "metadata": {},
     "output_type": "execute_result"
    }
   ],
   "source": [
    "# dply\n",
    "# mutate - add cols\n",
    "weight_arms_mean = (combine >> group_by(X.Position, X.Year) >> \n",
    "                    mutate(weight_arms_mean=X.Weight + X.Arms) >> \n",
    "                    summarize(weight_arms_mean=X.weight_arms_mean.mean(),\n",
    "                             year_mean=X.Year.mean()))\n",
    "weight_arms_mean.head(3)"
   ]
  },
  {
   "cell_type": "code",
   "execution_count": 22,
   "metadata": {
    "collapsed": false
   },
   "outputs": [
    {
     "data": {
      "text/html": [
       "<div>\n",
       "<table border=\"1\" class=\"dataframe\">\n",
       "  <thead>\n",
       "    <tr style=\"text-align: right;\">\n",
       "      <th></th>\n",
       "      <th>Name</th>\n",
       "      <th>Weight</th>\n",
       "      <th>Year</th>\n",
       "      <th>Hands</th>\n",
       "      <th>mean_of_ywh</th>\n",
       "    </tr>\n",
       "  </thead>\n",
       "  <tbody>\n",
       "    <tr>\n",
       "      <th>0</th>\n",
       "      <td>Quanterus Smith</td>\n",
       "      <td>250</td>\n",
       "      <td>2013</td>\n",
       "      <td>10.375</td>\n",
       "      <td>757.791667</td>\n",
       "    </tr>\n",
       "    <tr>\n",
       "      <th>1</th>\n",
       "      <td>Abry Jones</td>\n",
       "      <td>313</td>\n",
       "      <td>2013</td>\n",
       "      <td>9.750</td>\n",
       "      <td>778.583333</td>\n",
       "    </tr>\n",
       "    <tr>\n",
       "      <th>2</th>\n",
       "      <td>Bennie Logan</td>\n",
       "      <td>309</td>\n",
       "      <td>2013</td>\n",
       "      <td>10.250</td>\n",
       "      <td>777.416667</td>\n",
       "    </tr>\n",
       "  </tbody>\n",
       "</table>\n",
       "</div>"
      ],
      "text/plain": [
       "              Name  Weight  Year   Hands  mean_of_ywh\n",
       "0  Quanterus Smith     250  2013  10.375   757.791667\n",
       "1       Abry Jones     313  2013   9.750   778.583333\n",
       "2     Bennie Logan     309  2013  10.250   777.416667"
      ]
     },
     "execution_count": 22,
     "metadata": {},
     "output_type": "execute_result"
    }
   ],
   "source": [
    "@DelayFunction\n",
    "def mean_of_columns(df):\n",
    "    meancol = df.mean(axis=1)\n",
    "    return meancol\n",
    "\n",
    "# mean of year, weight, and hands columns:\n",
    "ywh_mean = (combine >>\n",
    "            select (X.Name, X.Weight, X.Year, X.Hands) >>\n",
    "            mutate(mean_of_ywh = (combine >>\n",
    "                                 select(X.Weight, X.Year, X.Hands) >>\n",
    "                                 mean_of_columns(X))))\n",
    "ywh_mean.head(3)"
   ]
  },
  {
   "cell_type": "code",
   "execution_count": null,
   "metadata": {
    "collapsed": true
   },
   "outputs": [],
   "source": []
  }
 ],
 "metadata": {
  "anaconda-cloud": {},
  "kernelspec": {
   "display_name": "Python [dsi]",
   "language": "python",
   "name": "Python [dsi]"
  },
  "language_info": {
   "codemirror_mode": {
    "name": "ipython",
    "version": 2
   },
   "file_extension": ".py",
   "mimetype": "text/x-python",
   "name": "python",
   "nbconvert_exporter": "python",
   "pygments_lexer": "ipython2",
   "version": "2.7.12"
  }
 },
 "nbformat": 4,
 "nbformat_minor": 0
}
