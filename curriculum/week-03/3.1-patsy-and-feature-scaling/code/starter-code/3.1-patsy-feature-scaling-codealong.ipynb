{
 "cells": [
  {
   "cell_type": "markdown",
   "metadata": {},
   "source": [
    "```\n",
    "---\n",
    "title: Patsy + Feature Scaling\n",
    "duration: \"~1:5\"\n",
    "creator:\n",
    "    name: David Yerrington\n",
    "    city: SF\n",
    "---\n",
    "```\n",
    "<img src=\"https://ga-dash.s3.amazonaws.com/production/assets/logo-9f88ae6c9c3871690e33280fcf557f33.png\" style=\"float: left; margin: 15px;\">\n",
    "\n",
    "# Patsy + Feature Scaling\n",
    "\n",
    "Week 3 | Codealong 3.1\n",
    "\n",
    "---\n",
    "\n",
    "To round out our workflow in what we sometimes refer to as the **preprocessing pipeline**, we will be working with normalizing features within our dataset(s), and converting our data to design matrices with **Patsy**, before using models with a linear component (ie: linear regression).\n",
    "\n",
    "\n",
    "\n",
    "\n"
   ]
  },
  {
   "cell_type": "markdown",
   "metadata": {},
   "source": [
    "## Why Feature Scaling\n",
    "\n",
    "The majority of machine learning methods will perform better when our variables are on the same scale.  Some methods will optimize for larger errors in spaces that have a bigger range in the case where some features are weighted by errors.  Other cases include methods that rely on euclidean distances (ie: KNN, K-Means), or linearly sperable points, which means that scaling can have a desirable impact.  The most obvious cases were this makes sense is when you have features that are drastically different _and_ we want them within a bound interval.\n",
    "\n",
    "### Normalizing or standarding prevents features from dominating each other in machine learning.  The larger numbers are going to be larger in weight.\n",
    "\n",
    "<br>\n",
    "\n",
    "Consider the example we've talked about a times when we are predicting the value of real-estate properties, and we have a variable \"square feet\" within 1-10,000, and \"number of bathrooms\" between 1-3.\n",
    "\n"
   ]
  },
  {
   "cell_type": "code",
   "execution_count": 1,
   "metadata": {
    "collapsed": false
   },
   "outputs": [
    {
     "data": {
      "text/plain": [
       "<matplotlib.axes._subplots.AxesSubplot at 0x117007f90>"
      ]
     },
     "execution_count": 1,
     "metadata": {},
     "output_type": "execute_result"
    },
    {
     "data": {
      "image/png": "[encoded data removed]",
      "text/plain": [
       "<matplotlib.figure.Figure at 0x117007750>"
      ]
     },
     "metadata": {},
     "output_type": "display_data"
    }
   ],
   "source": [
    "import seaborn as sns, pandas as pd\n",
    "import numpy as np\n",
    "\n",
    "%matplotlib inline\n",
    "\n",
    "# Creating some artificial data\n",
    "df = pd.DataFrame() # initializing blank dataframe\n",
    "df['square_feet'] = np.random.randint(500, 10000, 500) # gives you whole numbers\n",
    "df['bathrooms'] = np.random.choice(np.arange(1, 4, 0.5), size=500) # min range, max range, intervals\n",
    "\n",
    "# Plot it!\n",
    "df.plot(kind=\"scatter\", x=\"bathrooms\", y=\"square_feet\", figsize=(8,5))"
   ]
  },
  {
   "cell_type": "markdown",
   "metadata": {},
   "source": [
    "There are two approaches to scaling.\n",
    "\n",
    "**Min-max scaling** (sometimes called _normalization_), which typically means rescaling features from 0 to 1.  There are a lot of different methods for transforming your data to scale.  The methods in `sklean.preprocessing` are extremely fast compared to doing this calculation by hand and are very well tested.\n",
    "\n",
    "![](https://snag.gy/DEwF4T.jpg)\n"
   ]
  },
  {
   "cell_type": "code",
   "execution_count": 2,
   "metadata": {
    "collapsed": false
   },
   "outputs": [
    {
     "data": {
      "text/html": [
       "<div>\n",
       "<table border=\"1\" class=\"dataframe\">\n",
       "  <thead>\n",
       "    <tr style=\"text-align: right;\">\n",
       "      <th></th>\n",
       "      <th>count</th>\n",
       "      <th>mean</th>\n",
       "      <th>std</th>\n",
       "      <th>min</th>\n",
       "      <th>25%</th>\n",
       "      <th>50%</th>\n",
       "      <th>75%</th>\n",
       "      <th>max</th>\n",
       "    </tr>\n",
       "  </thead>\n",
       "  <tbody>\n",
       "    <tr>\n",
       "      <th>norm_square_feet</th>\n",
       "      <td>500.0</td>\n",
       "      <td>0.523847</td>\n",
       "      <td>0.292786</td>\n",
       "      <td>0.0</td>\n",
       "      <td>0.256551</td>\n",
       "      <td>0.544273</td>\n",
       "      <td>0.777076</td>\n",
       "      <td>1.0</td>\n",
       "    </tr>\n",
       "    <tr>\n",
       "      <th>norm_bathrooms</th>\n",
       "      <td>500.0</td>\n",
       "      <td>0.475600</td>\n",
       "      <td>0.347168</td>\n",
       "      <td>0.0</td>\n",
       "      <td>0.200000</td>\n",
       "      <td>0.400000</td>\n",
       "      <td>0.800000</td>\n",
       "      <td>1.0</td>\n",
       "    </tr>\n",
       "  </tbody>\n",
       "</table>\n",
       "</div>"
      ],
      "text/plain": [
       "                  count      mean       std  min       25%       50%  \\\n",
       "norm_square_feet  500.0  0.523847  0.292786  0.0  0.256551  0.544273   \n",
       "norm_bathrooms    500.0  0.475600  0.347168  0.0  0.200000  0.400000   \n",
       "\n",
       "                       75%  max  \n",
       "norm_square_feet  0.777076  1.0  \n",
       "norm_bathrooms    0.800000  1.0  "
      ]
     },
     "execution_count": 2,
     "metadata": {},
     "output_type": "execute_result"
    }
   ],
   "source": [
    "from sklearn.preprocessing import MinMaxScaler, StandardScaler\n",
    "\n",
    "scaler = MinMaxScaler()\n",
    "scaled_data = scaler.fit_transform(df) # can only send a df with continuous values, no categorical values\n",
    "\n",
    "normalized = pd.DataFrame(scaled_data, columns=[\"norm_square_feet\", \"norm_bathrooms\"])\n",
    "normalized.describe().T"
   ]
  },
  {
   "cell_type": "code",
   "execution_count": 3,
   "metadata": {
    "collapsed": false
   },
   "outputs": [
    {
     "data": {
      "text/html": [
       "<div>\n",
       "<table border=\"1\" class=\"dataframe\">\n",
       "  <thead>\n",
       "    <tr style=\"text-align: right;\">\n",
       "      <th></th>\n",
       "      <th>norm_square_feet</th>\n",
       "      <th>norm_bathrooms</th>\n",
       "    </tr>\n",
       "  </thead>\n",
       "  <tbody>\n",
       "    <tr>\n",
       "      <th>0</th>\n",
       "      <td>0.231298</td>\n",
       "      <td>0.8</td>\n",
       "    </tr>\n",
       "    <tr>\n",
       "      <th>1</th>\n",
       "      <td>0.279797</td>\n",
       "      <td>0.0</td>\n",
       "    </tr>\n",
       "    <tr>\n",
       "      <th>2</th>\n",
       "      <td>0.477177</td>\n",
       "      <td>1.0</td>\n",
       "    </tr>\n",
       "    <tr>\n",
       "      <th>3</th>\n",
       "      <td>0.796492</td>\n",
       "      <td>1.0</td>\n",
       "    </tr>\n",
       "    <tr>\n",
       "      <th>4</th>\n",
       "      <td>0.342456</td>\n",
       "      <td>0.0</td>\n",
       "    </tr>\n",
       "  </tbody>\n",
       "</table>\n",
       "</div>"
      ],
      "text/plain": [
       "   norm_square_feet  norm_bathrooms\n",
       "0          0.231298             0.8\n",
       "1          0.279797             0.0\n",
       "2          0.477177             1.0\n",
       "3          0.796492             1.0\n",
       "4          0.342456             0.0"
      ]
     },
     "execution_count": 3,
     "metadata": {},
     "output_type": "execute_result"
    }
   ],
   "source": [
    "normalized.head()"
   ]
  },
  {
   "cell_type": "code",
   "execution_count": 64,
   "metadata": {
    "collapsed": false
   },
   "outputs": [
    {
     "data": {
      "text/plain": [
       "<matplotlib.axes._subplots.AxesSubplot at 0x11b180b10>"
      ]
     },
     "execution_count": 64,
     "metadata": {},
     "output_type": "execute_result"
    },
    {
     "data": {
      "image/png": "[encoded data removed]",
      "text/plain": [
       "<matplotlib.figure.Figure at 0x11b300d90>"
      ]
     },
     "metadata": {},
     "output_type": "display_data"
    }
   ],
   "source": [
    "normalized.plot(kind=\"scatter\", x=\"norm_bathrooms\", y=\"norm_square_feet\", figsize=(8,5))"
   ]
  },
  {
   "cell_type": "code",
   "execution_count": null,
   "metadata": {
    "collapsed": true
   },
   "outputs": [],
   "source": []
  },
  {
   "cell_type": "markdown",
   "metadata": {},
   "source": [
    "Alternatively, we may want to use **standardization** to scale our variables to 0 for the mean, with a standard deviantion of 1, in effect creating a normal distribution.  This actually makes it easier for machine learning methods to learn variable weights (ie: stochastic gradient descent, [Newton-CG](https://en.wikipedia.org/wiki/Nonlinear_conjugate_gradient_method), or OLS regression!)\n",
    "\n",
    "![](https://snag.gy/VNbp4H.jpg)\n",
    "\n",
    "> _In this form, the mean and standard deviation is represented for each variable that is being standardized._\n",
    "\n",
    "Where **min-max normalization** is sensitive to outliers, **standardization** is not as sensitive to outliers but still retains some of those characteristics because the range isn't limited to a set of fixed values (0-1).\n"
   ]
  },
  {
   "cell_type": "code",
   "execution_count": 4,
   "metadata": {
    "collapsed": false
   },
   "outputs": [
    {
     "data": {
      "text/html": [
       "<div>\n",
       "<table border=\"1\" class=\"dataframe\">\n",
       "  <thead>\n",
       "    <tr style=\"text-align: right;\">\n",
       "      <th></th>\n",
       "      <th>count</th>\n",
       "      <th>mean</th>\n",
       "      <th>std</th>\n",
       "      <th>min</th>\n",
       "      <th>25%</th>\n",
       "      <th>50%</th>\n",
       "      <th>75%</th>\n",
       "      <th>max</th>\n",
       "    </tr>\n",
       "  </thead>\n",
       "  <tbody>\n",
       "    <tr>\n",
       "      <th>stand_square_feet</th>\n",
       "      <td>500.0</td>\n",
       "      <td>-1.720846e-18</td>\n",
       "      <td>1.001002</td>\n",
       "      <td>-1.790976</td>\n",
       "      <td>-0.913856</td>\n",
       "      <td>0.069833</td>\n",
       "      <td>0.865761</td>\n",
       "      <td>1.627912</td>\n",
       "    </tr>\n",
       "    <tr>\n",
       "      <th>stand_bathrooms</th>\n",
       "      <td>500.0</td>\n",
       "      <td>-1.350031e-16</td>\n",
       "      <td>1.001002</td>\n",
       "      <td>-1.371314</td>\n",
       "      <td>-0.794647</td>\n",
       "      <td>-0.217980</td>\n",
       "      <td>0.935353</td>\n",
       "      <td>1.512020</td>\n",
       "    </tr>\n",
       "  </tbody>\n",
       "</table>\n",
       "</div>"
      ],
      "text/plain": [
       "                   count          mean       std       min       25%  \\\n",
       "stand_square_feet  500.0 -1.720846e-18  1.001002 -1.790976 -0.913856   \n",
       "stand_bathrooms    500.0 -1.350031e-16  1.001002 -1.371314 -0.794647   \n",
       "\n",
       "                        50%       75%       max  \n",
       "stand_square_feet  0.069833  0.865761  1.627912  \n",
       "stand_bathrooms   -0.217980  0.935353  1.512020  "
      ]
     },
     "execution_count": 4,
     "metadata": {},
     "output_type": "execute_result"
    }
   ],
   "source": [
    "scaler = StandardScaler()\n",
    "scaled_data = scaler.fit_transform(df)\n",
    "\n",
    "standardized = pd.DataFrame(scaled_data, columns=[\"stand_square_feet\", \"stand_bathrooms\"])\n",
    "standardized.describe().T"
   ]
  },
  {
   "cell_type": "code",
   "execution_count": 74,
   "metadata": {
    "collapsed": false
   },
   "outputs": [
    {
     "data": {
      "text/plain": [
       "<matplotlib.axes._subplots.AxesSubplot at 0x11bbaa750>"
      ]
     },
     "execution_count": 74,
     "metadata": {},
     "output_type": "execute_result"
    },
    {
     "data": {
      "image/png": "[encoded data removed]",
      "text/plain": [
       "<matplotlib.figure.Figure at 0x11bbb3fd0>"
      ]
     },
     "metadata": {},
     "output_type": "display_data"
    }
   ],
   "source": [
    "standardized.plot(kind=\"scatter\", x=\"stand_bathrooms\", y=\"stand_square_feet\", figsize=(8,5))"
   ]
  },
  {
   "cell_type": "markdown",
   "metadata": {},
   "source": [
    "### Normalized vs Standardized Compared"
   ]
  },
  {
   "cell_type": "code",
   "execution_count": 7,
   "metadata": {
    "collapsed": false
   },
   "outputs": [
    {
     "name": "stdout",
     "output_type": "stream",
     "text": [
      "Bathrooms\n"
     ]
    },
    {
     "data": {
      "text/html": [
       "<div>\n",
       "<table border=\"1\" class=\"dataframe\">\n",
       "  <thead>\n",
       "    <tr style=\"text-align: right;\">\n",
       "      <th></th>\n",
       "      <th>bathrooms</th>\n",
       "      <th>norm_bathrooms</th>\n",
       "      <th>stand_bathrooms</th>\n",
       "    </tr>\n",
       "  </thead>\n",
       "  <tbody>\n",
       "    <tr>\n",
       "      <th>0</th>\n",
       "      <td>3.0</td>\n",
       "      <td>0.8</td>\n",
       "      <td>0.935353</td>\n",
       "    </tr>\n",
       "    <tr>\n",
       "      <th>1</th>\n",
       "      <td>1.0</td>\n",
       "      <td>0.0</td>\n",
       "      <td>-1.371314</td>\n",
       "    </tr>\n",
       "    <tr>\n",
       "      <th>2</th>\n",
       "      <td>3.5</td>\n",
       "      <td>1.0</td>\n",
       "      <td>1.512020</td>\n",
       "    </tr>\n",
       "    <tr>\n",
       "      <th>3</th>\n",
       "      <td>3.5</td>\n",
       "      <td>1.0</td>\n",
       "      <td>1.512020</td>\n",
       "    </tr>\n",
       "    <tr>\n",
       "      <th>4</th>\n",
       "      <td>1.0</td>\n",
       "      <td>0.0</td>\n",
       "      <td>-1.371314</td>\n",
       "    </tr>\n",
       "  </tbody>\n",
       "</table>\n",
       "</div>"
      ],
      "text/plain": [
       "   bathrooms  norm_bathrooms  stand_bathrooms\n",
       "0        3.0             0.8         0.935353\n",
       "1        1.0             0.0        -1.371314\n",
       "2        3.5             1.0         1.512020\n",
       "3        3.5             1.0         1.512020\n",
       "4        1.0             0.0        -1.371314"
      ]
     },
     "execution_count": 7,
     "metadata": {},
     "output_type": "execute_result"
    }
   ],
   "source": [
    "# Consolidate some data\n",
    "df['norm_bathrooms']    =  normalized['norm_bathrooms']\n",
    "df['norm_square_feet']  =  normalized['norm_square_feet']\n",
    "\n",
    "df['stand_bathrooms']   =  standardized['stand_bathrooms']\n",
    "df['stand_square_feet'] =  standardized['stand_square_feet']\n",
    "\n",
    "print \"Bathrooms\"\n",
    "df[['bathrooms', 'norm_bathrooms', 'stand_bathrooms']].head()"
   ]
  },
  {
   "cell_type": "code",
   "execution_count": 9,
   "metadata": {
    "collapsed": false
   },
   "outputs": [
    {
     "data": {
      "text/plain": [
       "<matplotlib.axes._subplots.AxesSubplot at 0x11a593310>"
      ]
     },
     "execution_count": 9,
     "metadata": {},
     "output_type": "execute_result"
    },
    {
     "data": {
      "image/png": "[encoded data removed]",
      "text/plain": [
       "<matplotlib.figure.Figure at 0x119efc150>"
      ]
     },
     "metadata": {},
     "output_type": "display_data"
    }
   ],
   "source": [
    "df['bathrooms'].hist()\n",
    "df['norm_bathrooms'].hist()\n",
    "df['stand_bathrooms'].hist()"
   ]
  },
  {
   "cell_type": "code",
   "execution_count": null,
   "metadata": {
    "collapsed": true
   },
   "outputs": [],
   "source": []
  },
  {
   "cell_type": "code",
   "execution_count": 12,
   "metadata": {
    "collapsed": false
   },
   "outputs": [
    {
     "name": "stdout",
     "output_type": "stream",
     "text": [
      "Square Feet\n"
     ]
    },
    {
     "data": {
      "text/html": [
       "<div>\n",
       "<table border=\"1\" class=\"dataframe\">\n",
       "  <thead>\n",
       "    <tr style=\"text-align: right;\">\n",
       "      <th></th>\n",
       "      <th>square_feet</th>\n",
       "      <th>norm_square_feet</th>\n",
       "      <th>stand_square_feet</th>\n",
       "    </tr>\n",
       "  </thead>\n",
       "  <tbody>\n",
       "    <tr>\n",
       "      <th>0</th>\n",
       "      <td>2717</td>\n",
       "      <td>0.231298</td>\n",
       "      <td>-1.000195</td>\n",
       "    </tr>\n",
       "    <tr>\n",
       "      <th>1</th>\n",
       "      <td>3176</td>\n",
       "      <td>0.279797</td>\n",
       "      <td>-0.834381</td>\n",
       "    </tr>\n",
       "    <tr>\n",
       "      <th>2</th>\n",
       "      <td>5044</td>\n",
       "      <td>0.477177</td>\n",
       "      <td>-0.159562</td>\n",
       "    </tr>\n",
       "    <tr>\n",
       "      <th>3</th>\n",
       "      <td>8066</td>\n",
       "      <td>0.796492</td>\n",
       "      <td>0.932141</td>\n",
       "    </tr>\n",
       "    <tr>\n",
       "      <th>4</th>\n",
       "      <td>3769</td>\n",
       "      <td>0.342456</td>\n",
       "      <td>-0.620158</td>\n",
       "    </tr>\n",
       "    <tr>\n",
       "      <th>5</th>\n",
       "      <td>1724</td>\n",
       "      <td>0.126374</td>\n",
       "      <td>-1.358918</td>\n",
       "    </tr>\n",
       "    <tr>\n",
       "      <th>6</th>\n",
       "      <td>9838</td>\n",
       "      <td>0.983728</td>\n",
       "      <td>1.572280</td>\n",
       "    </tr>\n",
       "    <tr>\n",
       "      <th>7</th>\n",
       "      <td>1685</td>\n",
       "      <td>0.122253</td>\n",
       "      <td>-1.373007</td>\n",
       "    </tr>\n",
       "    <tr>\n",
       "      <th>8</th>\n",
       "      <td>5698</td>\n",
       "      <td>0.546281</td>\n",
       "      <td>0.076697</td>\n",
       "    </tr>\n",
       "    <tr>\n",
       "      <th>9</th>\n",
       "      <td>8267</td>\n",
       "      <td>0.817730</td>\n",
       "      <td>1.004753</td>\n",
       "    </tr>\n",
       "  </tbody>\n",
       "</table>\n",
       "</div>"
      ],
      "text/plain": [
       "   square_feet  norm_square_feet  stand_square_feet\n",
       "0         2717          0.231298          -1.000195\n",
       "1         3176          0.279797          -0.834381\n",
       "2         5044          0.477177          -0.159562\n",
       "3         8066          0.796492           0.932141\n",
       "4         3769          0.342456          -0.620158\n",
       "5         1724          0.126374          -1.358918\n",
       "6         9838          0.983728           1.572280\n",
       "7         1685          0.122253          -1.373007\n",
       "8         5698          0.546281           0.076697\n",
       "9         8267          0.817730           1.004753"
      ]
     },
     "execution_count": 12,
     "metadata": {},
     "output_type": "execute_result"
    },
    {
     "data": {
      "image/png": "[encoded data removed]",
      "text/plain": [
       "<matplotlib.figure.Figure at 0x11a961ad0>"
      ]
     },
     "metadata": {},
     "output_type": "display_data"
    }
   ],
   "source": [
    "print \"Square Feet\"\n",
    "\n",
    "#df['square_feet'].hist()\n",
    "df['stand_square_feet'].hist()\n",
    "df['norm_square_feet'].hist()\n",
    "\n",
    "df[['square_feet', 'norm_square_feet', 'stand_square_feet']].head(10)"
   ]
  },
  {
   "cell_type": "code",
   "execution_count": null,
   "metadata": {
    "collapsed": true
   },
   "outputs": [],
   "source": []
  },
  {
   "cell_type": "markdown",
   "metadata": {},
   "source": [
    "## Some Guidelines\n",
    "\n",
    "- Standardize when there is a huge variance in values.\n",
    "- Standardize when a single feature can have both a positive and negative effect.\n",
    "- **Consider** normalizing anything that will be used with Euclidean distance.\n",
    "\n",
    "### General Questions\n",
    "- Is the algorithm heavily influenced by different scales of different features?\n",
    "- Do your features share the comparable scales already?\n",
    "- Does your algorithm already normalize your data? _(Linear Discriminant Analysis and Naive Bayes)_\n",
    "  - Does it care? _(ie: decision trees / CART models)_\n",
    "  \n",
    "#### Don't forget to keep your original UNSCALED variables if you care about referencing the original values.  You can omit them from your models.\n",
    "\n",
    "## Feature Scaling\n",
    "\n",
    "1. Fitting your model will be faster on larger datasets.\n",
    "1. Prevents getting stuck in local optima.\n",
    "1. When scales of variables are vastly different.\n",
    "1. When we want small valued features to contribute more equally."
   ]
  },
  {
   "cell_type": "markdown",
   "metadata": {},
   "source": [
    "# Patsy!\n",
    "\n",
    "Yes we learened a lot this week.  Yes Patsy may seem like yet another unecessary step but we it's actually very useful.  We will explore this utility that gives us the power of design matrices in a live coding example.\n",
    "\n",
    ">_patsy is a Python package for describing statistical models (especially linear models, or models that have a linear component) and building design matrices. It is closely inspired by and compatible with the formula mini-language used in R and S._\n",
    "\n",
    "> Check out the docs:  https://patsy.readthedocs.io/en/latest/overview.html\n",
    "\n",
    "Patsy is not just useful for linear models, but anytime you may want to encode or modify your dataset in preprocessing step before modeling."
   ]
  },
  {
   "cell_type": "markdown",
   "metadata": {},
   "source": [
    "### Load Patsy"
   ]
  },
  {
   "cell_type": "code",
   "execution_count": 13,
   "metadata": {
    "collapsed": true
   },
   "outputs": [],
   "source": [
    "import patsy"
   ]
  },
  {
   "cell_type": "markdown",
   "metadata": {},
   "source": [
    "### Create Some Fake Data\n",
    "With 2-3 continious variables, and one categorical."
   ]
  },
  {
   "cell_type": "code",
   "execution_count": 16,
   "metadata": {
    "collapsed": false
   },
   "outputs": [],
   "source": [
    "df = pd.DataFrame()\n",
    "\n",
    "df['ship_type'] = np.random.choice([\"romulan\", \"human\", \"klingon\", \"borg\",'red_shirt','ovid'], size=500)\n",
    "df['baths'] = np.random.choice(np.arange(1, 4, 0.5), size=500)\n",
    "df['ship_value'] = np.random.randint(200000, 10000000, size=500)\n",
    "df['speed'] = np.random.randint(10,60, size=500)"
   ]
  },
  {
   "cell_type": "code",
   "execution_count": 15,
   "metadata": {
    "collapsed": false
   },
   "outputs": [
    {
     "data": {
      "text/html": [
       "<div>\n",
       "<table border=\"1\" class=\"dataframe\">\n",
       "  <thead>\n",
       "    <tr style=\"text-align: right;\">\n",
       "      <th></th>\n",
       "      <th>ship</th>\n",
       "      <th>baths</th>\n",
       "      <th>ship_value</th>\n",
       "      <th>speed</th>\n",
       "    </tr>\n",
       "  </thead>\n",
       "  <tbody>\n",
       "    <tr>\n",
       "      <th>0</th>\n",
       "      <td>ovid</td>\n",
       "      <td>2.0</td>\n",
       "      <td>1450634</td>\n",
       "      <td>42</td>\n",
       "    </tr>\n",
       "    <tr>\n",
       "      <th>1</th>\n",
       "      <td>klingon</td>\n",
       "      <td>3.5</td>\n",
       "      <td>5995532</td>\n",
       "      <td>30</td>\n",
       "    </tr>\n",
       "    <tr>\n",
       "      <th>2</th>\n",
       "      <td>romulan</td>\n",
       "      <td>3.0</td>\n",
       "      <td>6858980</td>\n",
       "      <td>50</td>\n",
       "    </tr>\n",
       "    <tr>\n",
       "      <th>3</th>\n",
       "      <td>red_shirt</td>\n",
       "      <td>3.5</td>\n",
       "      <td>9972861</td>\n",
       "      <td>47</td>\n",
       "    </tr>\n",
       "    <tr>\n",
       "      <th>4</th>\n",
       "      <td>romulan</td>\n",
       "      <td>1.5</td>\n",
       "      <td>2246331</td>\n",
       "      <td>55</td>\n",
       "    </tr>\n",
       "  </tbody>\n",
       "</table>\n",
       "</div>"
      ],
      "text/plain": [
       "        ship  baths  ship_value  speed\n",
       "0       ovid    2.0     1450634     42\n",
       "1    klingon    3.5     5995532     30\n",
       "2    romulan    3.0     6858980     50\n",
       "3  red_shirt    3.5     9972861     47\n",
       "4    romulan    1.5     2246331     55"
      ]
     },
     "execution_count": 15,
     "metadata": {},
     "output_type": "execute_result"
    }
   ],
   "source": [
    "df.head()"
   ]
  },
  {
   "cell_type": "markdown",
   "metadata": {},
   "source": [
    "### Let's look at the design matrix\n",
    "Using a simple formula.  \n",
    "\n",
    "Read more about how to use formulas here:  http://patsy.readthedocs.io/en/latest/formulas.html"
   ]
  },
  {
   "cell_type": "code",
   "execution_count": null,
   "metadata": {
    "collapsed": false
   },
   "outputs": [],
   "source": [
    "# predict the num of bathrooms\n",
    "# y = df['baths']\n",
    "# x = df[['ship_value', 'speed','ship']] # <-- there is another way\n"
   ]
  },
  {
   "cell_type": "code",
   "execution_count": 25,
   "metadata": {
    "collapsed": false
   },
   "outputs": [
    {
     "data": {
      "text/html": [
       "<div>\n",
       "<table border=\"1\" class=\"dataframe\">\n",
       "  <thead>\n",
       "    <tr style=\"text-align: right;\">\n",
       "      <th></th>\n",
       "      <th>Intercept</th>\n",
       "      <th>ship_type[T.human]</th>\n",
       "      <th>ship_type[T.klingon]</th>\n",
       "      <th>ship_type[T.ovid]</th>\n",
       "      <th>ship_type[T.red_shirt]</th>\n",
       "      <th>ship_type[T.romulan]</th>\n",
       "      <th>ship_value</th>\n",
       "    </tr>\n",
       "  </thead>\n",
       "  <tbody>\n",
       "    <tr>\n",
       "      <th>0</th>\n",
       "      <td>1.0</td>\n",
       "      <td>1.0</td>\n",
       "      <td>0.0</td>\n",
       "      <td>0.0</td>\n",
       "      <td>0.0</td>\n",
       "      <td>0.0</td>\n",
       "      <td>4318747.0</td>\n",
       "    </tr>\n",
       "    <tr>\n",
       "      <th>1</th>\n",
       "      <td>1.0</td>\n",
       "      <td>0.0</td>\n",
       "      <td>1.0</td>\n",
       "      <td>0.0</td>\n",
       "      <td>0.0</td>\n",
       "      <td>0.0</td>\n",
       "      <td>2875403.0</td>\n",
       "    </tr>\n",
       "    <tr>\n",
       "      <th>2</th>\n",
       "      <td>1.0</td>\n",
       "      <td>0.0</td>\n",
       "      <td>0.0</td>\n",
       "      <td>1.0</td>\n",
       "      <td>0.0</td>\n",
       "      <td>0.0</td>\n",
       "      <td>1593691.0</td>\n",
       "    </tr>\n",
       "    <tr>\n",
       "      <th>3</th>\n",
       "      <td>1.0</td>\n",
       "      <td>0.0</td>\n",
       "      <td>0.0</td>\n",
       "      <td>1.0</td>\n",
       "      <td>0.0</td>\n",
       "      <td>0.0</td>\n",
       "      <td>431546.0</td>\n",
       "    </tr>\n",
       "    <tr>\n",
       "      <th>4</th>\n",
       "      <td>1.0</td>\n",
       "      <td>1.0</td>\n",
       "      <td>0.0</td>\n",
       "      <td>0.0</td>\n",
       "      <td>0.0</td>\n",
       "      <td>0.0</td>\n",
       "      <td>5349580.0</td>\n",
       "    </tr>\n",
       "  </tbody>\n",
       "</table>\n",
       "</div>"
      ],
      "text/plain": [
       "   Intercept  ship_type[T.human]  ship_type[T.klingon]  ship_type[T.ovid]  \\\n",
       "0        1.0                 1.0                   0.0                0.0   \n",
       "1        1.0                 0.0                   1.0                0.0   \n",
       "2        1.0                 0.0                   0.0                1.0   \n",
       "3        1.0                 0.0                   0.0                1.0   \n",
       "4        1.0                 1.0                   0.0                0.0   \n",
       "\n",
       "   ship_type[T.red_shirt]  ship_type[T.romulan]  ship_value  \n",
       "0                     0.0                   0.0   4318747.0  \n",
       "1                     0.0                   0.0   2875403.0  \n",
       "2                     0.0                   0.0   1593691.0  \n",
       "3                     0.0                   0.0    431546.0  \n",
       "4                     0.0                   0.0   5349580.0  "
      ]
     },
     "execution_count": 25,
     "metadata": {},
     "output_type": "execute_result"
    }
   ],
   "source": [
    "#formula = 'baths ~ C(ship_type) + ship_value'\n",
    "# this is to prepare x and y to then plug in to model\n",
    "formula = 'baths ~ ship_type + ship_value'# can add/remove variables and don't have to reslice\n",
    "y, x = patsy.dmatrices(formula, data=df, return_type='dataframe')\n",
    "x.head()"
   ]
  },
  {
   "cell_type": "code",
   "execution_count": 27,
   "metadata": {
    "collapsed": false
   },
   "outputs": [
    {
     "data": {
      "text/html": [
       "<div>\n",
       "<table border=\"1\" class=\"dataframe\">\n",
       "  <thead>\n",
       "    <tr style=\"text-align: right;\">\n",
       "      <th></th>\n",
       "      <th>baths</th>\n",
       "    </tr>\n",
       "  </thead>\n",
       "  <tbody>\n",
       "    <tr>\n",
       "      <th>0</th>\n",
       "      <td>2.0</td>\n",
       "    </tr>\n",
       "    <tr>\n",
       "      <th>1</th>\n",
       "      <td>2.0</td>\n",
       "    </tr>\n",
       "    <tr>\n",
       "      <th>2</th>\n",
       "      <td>1.5</td>\n",
       "    </tr>\n",
       "    <tr>\n",
       "      <th>3</th>\n",
       "      <td>2.0</td>\n",
       "    </tr>\n",
       "    <tr>\n",
       "      <th>4</th>\n",
       "      <td>3.0</td>\n",
       "    </tr>\n",
       "  </tbody>\n",
       "</table>\n",
       "</div>"
      ],
      "text/plain": [
       "   baths\n",
       "0    2.0\n",
       "1    2.0\n",
       "2    1.5\n",
       "3    2.0\n",
       "4    3.0"
      ]
     },
     "execution_count": 27,
     "metadata": {},
     "output_type": "execute_result"
    }
   ],
   "source": [
    "y.head() # true y"
   ]
  },
  {
   "cell_type": "code",
   "execution_count": 23,
   "metadata": {
    "collapsed": false
   },
   "outputs": [
    {
     "data": {
      "text/plain": [
       "{'design_info': DesignInfo(['Intercept',\n",
       "             'ship_type[T.human]',\n",
       "             'ship_type[T.klingon]',\n",
       "             'ship_type[T.ovid]',\n",
       "             'ship_type[T.red_shirt]',\n",
       "             'ship_type[T.romulan]',\n",
       "             'ship_value'],\n",
       "            factor_infos={EvalFactor('ship_type'): FactorInfo(factor=EvalFactor('ship_type'),\n",
       "                                     type='categorical',\n",
       "                                     state=<factor state>,\n",
       "                                     categories=('borg',\n",
       "                                                 'human',\n",
       "                                                 'klingon',\n",
       "                                                 'ovid',\n",
       "                                                 'red_shirt',\n",
       "                                                 'romulan')),\n",
       "                          EvalFactor('ship_value'): FactorInfo(factor=EvalFactor('ship_value'),\n",
       "                                     type='numerical',\n",
       "                                     state=<factor state>,\n",
       "                                     num_columns=1)},\n",
       "            term_codings=OrderedDict([(Term([]),\n",
       "                                       [SubtermInfo(factors=(),\n",
       "                                                    contrast_matrices={},\n",
       "                                                    num_columns=1)]),\n",
       "                                      (Term([EvalFactor('ship_type')]),\n",
       "                                       [SubtermInfo(factors=(EvalFactor('ship_type'),),\n",
       "                                                    contrast_matrices={EvalFactor('ship_type'): ContrastMatrix(array([[ 0.,  0.,  0.,  0.,  0.],\n",
       "                                                                                             [ 1.,  0.,  0.,  0.,  0.],\n",
       "                                                                                             [ 0.,  1.,  0.,  0.,  0.],\n",
       "                                                                                             [ 0.,  0.,  1.,  0.,  0.],\n",
       "                                                                                             [ 0.,  0.,  0.,  1.,  0.],\n",
       "                                                                                             [ 0.,  0.,  0.,  0.,  1.]]),\n",
       "                                                                                      ['[T.human]',\n",
       "                                                                                       '[T.klingon]',\n",
       "                                                                                       '[T.ovid]',\n",
       "                                                                                       '[T.red_shirt]',\n",
       "                                                                                       '[T.romulan]'])},\n",
       "                                                    num_columns=5)]),\n",
       "                                      (Term([EvalFactor('ship_value')]),\n",
       "                                       [SubtermInfo(factors=(EvalFactor('ship_value'),),\n",
       "                                                    contrast_matrices={},\n",
       "                                                    num_columns=1)])]))}"
      ]
     },
     "execution_count": 23,
     "metadata": {},
     "output_type": "execute_result"
    }
   ],
   "source": [
    "vars(x) # /.design_info"
   ]
  },
  {
   "cell_type": "code",
   "execution_count": null,
   "metadata": {
    "collapsed": true
   },
   "outputs": [],
   "source": []
  },
  {
   "cell_type": "markdown",
   "metadata": {},
   "source": [
    "### Load up a linear model\n",
    "Demonstrate the power of the formula and how to quickly switch out our forumula, without having to reslice our data."
   ]
  },
  {
   "cell_type": "code",
   "execution_count": 28,
   "metadata": {
    "collapsed": true
   },
   "outputs": [],
   "source": [
    "from sklearn.linear_model import LinearRegression"
   ]
  },
  {
   "cell_type": "code",
   "execution_count": 35,
   "metadata": {
    "collapsed": false
   },
   "outputs": [
    {
     "data": {
      "text/html": [
       "<div>\n",
       "<table border=\"1\" class=\"dataframe\">\n",
       "  <thead>\n",
       "    <tr style=\"text-align: right;\">\n",
       "      <th></th>\n",
       "      <th>R^2</th>\n",
       "      <th>formula</th>\n",
       "      <th>formula_name</th>\n",
       "    </tr>\n",
       "  </thead>\n",
       "  <tbody>\n",
       "    <tr>\n",
       "      <th>0</th>\n",
       "      <td>0.006942</td>\n",
       "      <td>baths ~ ship_type + ship_value + speed</td>\n",
       "      <td>baths_prediction_1</td>\n",
       "    </tr>\n",
       "    <tr>\n",
       "      <th>1</th>\n",
       "      <td>0.006942</td>\n",
       "      <td>baths ~ ship_type</td>\n",
       "      <td>baths_prediction_3</td>\n",
       "    </tr>\n",
       "    <tr>\n",
       "      <th>2</th>\n",
       "      <td>0.006942</td>\n",
       "      <td>baths ~ ship_type + ship_value</td>\n",
       "      <td>baths_prediction_2</td>\n",
       "    </tr>\n",
       "  </tbody>\n",
       "</table>\n",
       "</div>"
      ],
      "text/plain": [
       "        R^2                                 formula        formula_name\n",
       "0  0.006942  baths ~ ship_type + ship_value + speed  baths_prediction_1\n",
       "1  0.006942                       baths ~ ship_type  baths_prediction_3\n",
       "2  0.006942          baths ~ ship_type + ship_value  baths_prediction_2"
      ]
     },
     "execution_count": 35,
     "metadata": {},
     "output_type": "execute_result"
    }
   ],
   "source": [
    "scores = []\n",
    "\n",
    "formulas = {\"baths_prediction_1\":'baths ~ ship_type + ship_value + speed',\n",
    "           \"baths_prediction_2\":'baths ~ ship_type + ship_value',\n",
    "           \"baths_prediction_3\":'baths ~ ship_type'\n",
    "          }\n",
    "for formula_name, formula in formulas.items():\n",
    "    \n",
    "    y, x = patsy.dmatrices(formulas[\"baths_prediction_1\"], data=df, return_type='dataframe')\n",
    "\n",
    "    lm = LinearRegression()\n",
    "    model = lm.fit(x,y)\n",
    "    score = model.score(x,y)\n",
    "    \n",
    "    scores.append({\n",
    "        \"formula_name\":  formula_name, \n",
    "        \"formula\":       formula,\n",
    "        \"R^2\":           score\n",
    "    })\n",
    "    \n",
    "pd.DataFrame(scores)"
   ]
  },
  {
   "cell_type": "markdown",
   "metadata": {},
   "source": [
    "### You will have questions.\n",
    "\n",
    "More code will be written..."
   ]
  },
  {
   "cell_type": "code",
   "execution_count": 40,
   "metadata": {
    "collapsed": false
   },
   "outputs": [
    {
     "name": "stdout",
     "output_type": "stream",
     "text": [
      "R^2 0.0063064163692\n"
     ]
    }
   ],
   "source": [
    "from sklearn.preprocessing import StandardScaler\n",
    "# scale the data first\n",
    "scaler = StandardScaler()\n",
    "columns = ['ship_value','speed']\n",
    "\n",
    "df[columns] = scaler.fit_transform(df[columns])\n",
    "\n",
    "formulas = 'baths ~ ship_value + speed ' # if you add -1 to end of formula gets rid of intercept\n",
    "y, x = patsy.dmatrices(formula, data=df, return_type='dataframe')\n",
    "\n",
    "lm = LinearRegression()\n",
    "model = lm.fit(x,y)\n",
    "score = model.score(x,y)\n",
    "\n",
    "print 'R^2', score\n"
   ]
  },
  {
   "cell_type": "code",
   "execution_count": null,
   "metadata": {
    "collapsed": true
   },
   "outputs": [],
   "source": []
  }
 ],
 "metadata": {
  "anaconda-cloud": {},
  "kernelspec": {
   "display_name": "Python [dsi]",
   "language": "python",
   "name": "Python [dsi]"
  },
  "language_info": {
   "codemirror_mode": {
    "name": "ipython",
    "version": 2
   },
   "file_extension": ".py",
   "mimetype": "text/x-python",
   "name": "python",
   "nbconvert_exporter": "python",
   "pygments_lexer": "ipython2",
   "version": "2.7.12"
  }
 },
 "nbformat": 4,
 "nbformat_minor": 0
}
