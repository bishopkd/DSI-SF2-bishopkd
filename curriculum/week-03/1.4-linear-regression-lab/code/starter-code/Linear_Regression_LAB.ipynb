{
 "cells": [
  {
   "cell_type": "markdown",
   "metadata": {},
   "source": [
    "# Linear Regression Practice\n",
    "\n",
    "In this lab we are going to use a 1994 dataset that has detailed prices on items sold at over 400 Burguer King, Wendy's, KFC and Roy Roger restaurants in New Jersey and Pennsivania.\n",
    "\n",
    "Roy Roger https://en.wikipedia.org/wiki/Roy_Rogers_Restaurants\n",
    "\n",
    "\n",
    "The data set has zip-code level data on various items prices, characterisitics of the zip code population.\n",
    "\n",
    "The idea with this exercise is to see wheter fast-food restaurants charge higher prices in areas with a larger concentration of African Americans. "
   ]
  },
  {
   "cell_type": "markdown",
   "metadata": {},
   "source": [
    "### Data Set Characteristics:  \n",
    "K. Graddy (1997), \"Do Fast-Food Chains Price Discriminate on the Race and Income Characteristics of an Area?\" Journal of Business and Economic Statistics 15, 391-401.\n",
    "http://people.brandeis.edu/~kgraddy/published%20papers/GraddyK_jbes1997.pdf\n",
    "\n",
    "    :Number of Instances: 410\n",
    "    \n",
    "    :Attribute Information\n",
    "    \n",
    "    psoda         price of medium soda, 1st wave\n",
    "    pfries        price of small fries, 1st wave\n",
    "    pentree       price entree (burger or chicken), 1st wave\n",
    "    wagest        starting wage, 1st wave\n",
    "    nmgrs         number of managers, 1st wave\n",
    "    nregs         number of registers, 1st wave\n",
    "    hrsopen       hours open, 1st wave\n",
    "    emp           number of employees, 1st wave\n",
    "    psoda2        price of medium soday, 2nd wave\n",
    "    pfries2       price of small fries, 2nd wave\n",
    "    pentree2      price entree, 2nd wave\n",
    "    wagest2       starting wage, 2nd wave\n",
    "    nmgrs2        number of managers, 2nd wave\n",
    "    nregs2        number of registers, 2nd wave\n",
    "    hrsopen2      hours open, 2nd wave\n",
    "    emp2          number of employees, 2nd wave\n",
    "    compown       =1 if company owned\n",
    "    chain         BK = 1, KFC = 2, Roy Rogers = 3, Wendy's = 4\n",
    "    density       population density, town\n",
    "    crmrte        crime rate, town\n",
    "    state         NJ = 1, PA = 2\n",
    "    prpblck       proportion black, zipcode\n",
    "    prppov        proportion in poverty, zipcode\n",
    "    prpncar       proportion no car, zipcode\n",
    "    hseval        median housing value, zipcode\n",
    "    nstores       number of stores, zipcode\n",
    "    income        median family income, zipcode\n",
    "    county        county label\n",
    "    lpsoda        log(psoda)\n",
    "    lpfries       log(pfries)\n",
    "    lhseval       log(hseval)\n",
    "    lincome       log(income)\n",
    "    ldensity      log(density)\n",
    "    NJ            =1 for New Jersey\n",
    "    BK            =1 if Burger King\n",
    "    KFC           =1 if Kentucky Fried Chicken\n",
    "    RR            =1 if Roy Rogers\n"
   ]
  },
  {
   "cell_type": "code",
   "execution_count": 50,
   "metadata": {
    "collapsed": false
   },
   "outputs": [],
   "source": [
    "# data modules\n",
    "import numpy as np\n",
    "import scipy.stats as stats\n",
    "import pandas as pd\n",
    "\n",
    "# plotting modules\n",
    "import matplotlib.pyplot as plt\n",
    "import seaborn as sns\n",
    "sns.set_style('whitegrid')\n",
    "\n",
    "# Stats/Regresions Packages\n",
    "from sklearn import linear_model\n",
    "from sklearn.metrics import mean_squared_error\n",
    "\n",
    "# make sure charts appear in the notebook:\n",
    "%matplotlib inline\n",
    "%config InlineBackend.figure_format ='retina'"
   ]
  },
  {
   "cell_type": "markdown",
   "metadata": {},
   "source": [
    "#### 1. Read the data, print the last 5 rows, perform EDA (missing values, data types, describe)"
   ]
  },
  {
   "cell_type": "code",
   "execution_count": 51,
   "metadata": {
    "collapsed": false
   },
   "outputs": [
    {
     "data": {
      "text/html": [
       "<div>\n",
       "<table border=\"1\" class=\"dataframe\">\n",
       "  <thead>\n",
       "    <tr style=\"text-align: right;\">\n",
       "      <th></th>\n",
       "      <th>psoda</th>\n",
       "      <th>chain</th>\n",
       "    </tr>\n",
       "  </thead>\n",
       "  <tbody>\n",
       "    <tr>\n",
       "      <th>0</th>\n",
       "      <td>1.12</td>\n",
       "      <td>3</td>\n",
       "    </tr>\n",
       "    <tr>\n",
       "      <th>1</th>\n",
       "      <td>1.06</td>\n",
       "      <td>1</td>\n",
       "    </tr>\n",
       "    <tr>\n",
       "      <th>2</th>\n",
       "      <td>1.06</td>\n",
       "      <td>1</td>\n",
       "    </tr>\n",
       "    <tr>\n",
       "      <th>3</th>\n",
       "      <td>1.12</td>\n",
       "      <td>3</td>\n",
       "    </tr>\n",
       "    <tr>\n",
       "      <th>4</th>\n",
       "      <td>1.12</td>\n",
       "      <td>1</td>\n",
       "    </tr>\n",
       "  </tbody>\n",
       "</table>\n",
       "</div>"
      ],
      "text/plain": [
       "   psoda  chain\n",
       "0   1.12      3\n",
       "1   1.06      1\n",
       "2   1.06      1\n",
       "3   1.12      3\n",
       "4   1.12      1"
      ]
     },
     "execution_count": 51,
     "metadata": {},
     "output_type": "execute_result"
    }
   ],
   "source": [
    "path_to_file = '/Users/katbishop/Desktop/DSI-SF2-bishopkd/datasets/fast_food_chains/discrim.csv' ## Change it to your path\n",
    "fast_food = pd.read_csv(path_to_file)\n",
    "fast_food[['psoda','chain']].head()\n"
   ]
  },
  {
   "cell_type": "code",
   "execution_count": 71,
   "metadata": {
    "collapsed": false
   },
   "outputs": [
    {
     "data": {
      "text/plain": [
       "(409, 39)"
      ]
     },
     "execution_count": 71,
     "metadata": {},
     "output_type": "execute_result"
    }
   ],
   "source": [
    "fast_food.shape"
   ]
  },
  {
   "cell_type": "code",
   "execution_count": 52,
   "metadata": {
    "collapsed": false
   },
   "outputs": [
    {
     "data": {
      "text/html": [
       "<div>\n",
       "<table border=\"1\" class=\"dataframe\">\n",
       "  <thead>\n",
       "    <tr style=\"text-align: right;\">\n",
       "      <th></th>\n",
       "      <th>57</th>\n",
       "      <th>92</th>\n",
       "      <th>143</th>\n",
       "      <th>183</th>\n",
       "      <th>283</th>\n",
       "      <th>310</th>\n",
       "      <th>361</th>\n",
       "      <th>368</th>\n",
       "    </tr>\n",
       "  </thead>\n",
       "  <tbody>\n",
       "    <tr>\n",
       "      <th>psoda</th>\n",
       "      <td>NaN</td>\n",
       "      <td>NaN</td>\n",
       "      <td>NaN</td>\n",
       "      <td>NaN</td>\n",
       "      <td>NaN</td>\n",
       "      <td>NaN</td>\n",
       "      <td>NaN</td>\n",
       "      <td>NaN</td>\n",
       "    </tr>\n",
       "    <tr>\n",
       "      <th>pfries</th>\n",
       "      <td>1.120000</td>\n",
       "      <td>NaN</td>\n",
       "      <td>NaN</td>\n",
       "      <td>NaN</td>\n",
       "      <td>NaN</td>\n",
       "      <td>NaN</td>\n",
       "      <td>NaN</td>\n",
       "      <td>NaN</td>\n",
       "    </tr>\n",
       "    <tr>\n",
       "      <th>pentree</th>\n",
       "      <td>1.120000</td>\n",
       "      <td>NaN</td>\n",
       "      <td>0.960000</td>\n",
       "      <td>NaN</td>\n",
       "      <td>NaN</td>\n",
       "      <td>NaN</td>\n",
       "      <td>0.520000</td>\n",
       "      <td>NaN</td>\n",
       "    </tr>\n",
       "    <tr>\n",
       "      <th>wagest</th>\n",
       "      <td>4.250000</td>\n",
       "      <td>4.250000</td>\n",
       "      <td>4.250000</td>\n",
       "      <td>4.750000</td>\n",
       "      <td>4.250000</td>\n",
       "      <td>NaN</td>\n",
       "      <td>4.250000</td>\n",
       "      <td>4.870000</td>\n",
       "    </tr>\n",
       "    <tr>\n",
       "      <th>nmgrs</th>\n",
       "      <td>5.000000</td>\n",
       "      <td>3.000000</td>\n",
       "      <td>3.000000</td>\n",
       "      <td>3.000000</td>\n",
       "      <td>3.000000</td>\n",
       "      <td>4.000000</td>\n",
       "      <td>3.000000</td>\n",
       "      <td>3.000000</td>\n",
       "    </tr>\n",
       "    <tr>\n",
       "      <th>nregs</th>\n",
       "      <td>6.000000</td>\n",
       "      <td>3.000000</td>\n",
       "      <td>4.000000</td>\n",
       "      <td>3.000000</td>\n",
       "      <td>7.000000</td>\n",
       "      <td>5.000000</td>\n",
       "      <td>4.000000</td>\n",
       "      <td>3.000000</td>\n",
       "    </tr>\n",
       "    <tr>\n",
       "      <th>hrsopen</th>\n",
       "      <td>12.500000</td>\n",
       "      <td>17.000000</td>\n",
       "      <td>16.000000</td>\n",
       "      <td>16.000000</td>\n",
       "      <td>17.000000</td>\n",
       "      <td>12.500000</td>\n",
       "      <td>16.500000</td>\n",
       "      <td>18.000000</td>\n",
       "    </tr>\n",
       "    <tr>\n",
       "      <th>emp</th>\n",
       "      <td>20.000000</td>\n",
       "      <td>23.000000</td>\n",
       "      <td>17.500000</td>\n",
       "      <td>12.000000</td>\n",
       "      <td>27.500000</td>\n",
       "      <td>20.000000</td>\n",
       "      <td>12.500000</td>\n",
       "      <td>12.500000</td>\n",
       "    </tr>\n",
       "    <tr>\n",
       "      <th>psoda2</th>\n",
       "      <td>1.150000</td>\n",
       "      <td>1.160000</td>\n",
       "      <td>1.110000</td>\n",
       "      <td>1.010000</td>\n",
       "      <td>1.050000</td>\n",
       "      <td>1.160000</td>\n",
       "      <td>0.410000</td>\n",
       "      <td>0.970000</td>\n",
       "    </tr>\n",
       "    <tr>\n",
       "      <th>pfries2</th>\n",
       "      <td>0.940000</td>\n",
       "      <td>1.220000</td>\n",
       "      <td>1.050000</td>\n",
       "      <td>1.010000</td>\n",
       "      <td>1.000000</td>\n",
       "      <td>1.060000</td>\n",
       "      <td>0.840000</td>\n",
       "      <td>0.840000</td>\n",
       "    </tr>\n",
       "    <tr>\n",
       "      <th>pentree2</th>\n",
       "      <td>1.150000</td>\n",
       "      <td>0.410000</td>\n",
       "      <td>1.050000</td>\n",
       "      <td>0.940000</td>\n",
       "      <td>0.630000</td>\n",
       "      <td>1.050000</td>\n",
       "      <td>0.890000</td>\n",
       "      <td>0.730000</td>\n",
       "    </tr>\n",
       "    <tr>\n",
       "      <th>wagest2</th>\n",
       "      <td>5.050000</td>\n",
       "      <td>5.050000</td>\n",
       "      <td>5.050000</td>\n",
       "      <td>5.050000</td>\n",
       "      <td>5.050000</td>\n",
       "      <td>5.050000</td>\n",
       "      <td>4.400000</td>\n",
       "      <td>5.000000</td>\n",
       "    </tr>\n",
       "    <tr>\n",
       "      <th>nmgrs2</th>\n",
       "      <td>6.000000</td>\n",
       "      <td>3.000000</td>\n",
       "      <td>5.000000</td>\n",
       "      <td>3.000000</td>\n",
       "      <td>5.000000</td>\n",
       "      <td>3.000000</td>\n",
       "      <td>8.000000</td>\n",
       "      <td>5.000000</td>\n",
       "    </tr>\n",
       "    <tr>\n",
       "      <th>nregs2</th>\n",
       "      <td>6.000000</td>\n",
       "      <td>3.000000</td>\n",
       "      <td>4.000000</td>\n",
       "      <td>3.000000</td>\n",
       "      <td>7.000000</td>\n",
       "      <td>5.000000</td>\n",
       "      <td>4.000000</td>\n",
       "      <td>3.000000</td>\n",
       "    </tr>\n",
       "    <tr>\n",
       "      <th>hrsopen2</th>\n",
       "      <td>12.500000</td>\n",
       "      <td>17.000000</td>\n",
       "      <td>16.000000</td>\n",
       "      <td>15.000000</td>\n",
       "      <td>17.000000</td>\n",
       "      <td>11.500000</td>\n",
       "      <td>16.000000</td>\n",
       "      <td>18.000000</td>\n",
       "    </tr>\n",
       "    <tr>\n",
       "      <th>emp2</th>\n",
       "      <td>35.000000</td>\n",
       "      <td>22.000000</td>\n",
       "      <td>17.500000</td>\n",
       "      <td>13.000000</td>\n",
       "      <td>27.000000</td>\n",
       "      <td>20.000000</td>\n",
       "      <td>6.000000</td>\n",
       "      <td>22.500000</td>\n",
       "    </tr>\n",
       "    <tr>\n",
       "      <th>compown</th>\n",
       "      <td>0.000000</td>\n",
       "      <td>0.000000</td>\n",
       "      <td>1.000000</td>\n",
       "      <td>1.000000</td>\n",
       "      <td>0.000000</td>\n",
       "      <td>0.000000</td>\n",
       "      <td>0.000000</td>\n",
       "      <td>0.000000</td>\n",
       "    </tr>\n",
       "    <tr>\n",
       "      <th>chain</th>\n",
       "      <td>1.000000</td>\n",
       "      <td>1.000000</td>\n",
       "      <td>1.000000</td>\n",
       "      <td>3.000000</td>\n",
       "      <td>3.000000</td>\n",
       "      <td>3.000000</td>\n",
       "      <td>1.000000</td>\n",
       "      <td>1.000000</td>\n",
       "    </tr>\n",
       "    <tr>\n",
       "      <th>density</th>\n",
       "      <td>4030.000000</td>\n",
       "      <td>697.000000</td>\n",
       "      <td>628.000000</td>\n",
       "      <td>1938.000000</td>\n",
       "      <td>2198.000000</td>\n",
       "      <td>1962.000000</td>\n",
       "      <td>1139.000000</td>\n",
       "      <td>6546.250000</td>\n",
       "    </tr>\n",
       "    <tr>\n",
       "      <th>crmrte</th>\n",
       "      <td>0.052887</td>\n",
       "      <td>0.023625</td>\n",
       "      <td>0.025367</td>\n",
       "      <td>0.036392</td>\n",
       "      <td>0.032281</td>\n",
       "      <td>0.041586</td>\n",
       "      <td>0.035997</td>\n",
       "      <td>0.056616</td>\n",
       "    </tr>\n",
       "    <tr>\n",
       "      <th>state</th>\n",
       "      <td>1.000000</td>\n",
       "      <td>1.000000</td>\n",
       "      <td>1.000000</td>\n",
       "      <td>1.000000</td>\n",
       "      <td>1.000000</td>\n",
       "      <td>1.000000</td>\n",
       "      <td>2.000000</td>\n",
       "      <td>2.000000</td>\n",
       "    </tr>\n",
       "    <tr>\n",
       "      <th>prpblck</th>\n",
       "      <td>0.042239</td>\n",
       "      <td>0.031873</td>\n",
       "      <td>0.026525</td>\n",
       "      <td>0.039983</td>\n",
       "      <td>0.019091</td>\n",
       "      <td>0.023150</td>\n",
       "      <td>0.014509</td>\n",
       "      <td>0.121563</td>\n",
       "    </tr>\n",
       "    <tr>\n",
       "      <th>prppov</th>\n",
       "      <td>0.047436</td>\n",
       "      <td>0.035029</td>\n",
       "      <td>0.034255</td>\n",
       "      <td>0.028783</td>\n",
       "      <td>0.038419</td>\n",
       "      <td>0.022561</td>\n",
       "      <td>0.063753</td>\n",
       "      <td>0.108836</td>\n",
       "    </tr>\n",
       "    <tr>\n",
       "      <th>prpncar</th>\n",
       "      <td>0.085971</td>\n",
       "      <td>0.025974</td>\n",
       "      <td>0.040288</td>\n",
       "      <td>0.047651</td>\n",
       "      <td>0.067834</td>\n",
       "      <td>0.038316</td>\n",
       "      <td>0.075832</td>\n",
       "      <td>0.137716</td>\n",
       "    </tr>\n",
       "    <tr>\n",
       "      <th>hseval</th>\n",
       "      <td>155300.000000</td>\n",
       "      <td>275900.000000</td>\n",
       "      <td>163600.000000</td>\n",
       "      <td>110200.000000</td>\n",
       "      <td>144700.000000</td>\n",
       "      <td>188400.000000</td>\n",
       "      <td>74800.000000</td>\n",
       "      <td>86900.000000</td>\n",
       "    </tr>\n",
       "    <tr>\n",
       "      <th>nstores</th>\n",
       "      <td>4.000000</td>\n",
       "      <td>3.000000</td>\n",
       "      <td>4.000000</td>\n",
       "      <td>7.000000</td>\n",
       "      <td>5.000000</td>\n",
       "      <td>8.000000</td>\n",
       "      <td>2.000000</td>\n",
       "      <td>2.000000</td>\n",
       "    </tr>\n",
       "    <tr>\n",
       "      <th>income</th>\n",
       "      <td>48350.000000</td>\n",
       "      <td>64367.000000</td>\n",
       "      <td>53795.000000</td>\n",
       "      <td>48574.000000</td>\n",
       "      <td>51548.000000</td>\n",
       "      <td>63905.000000</td>\n",
       "      <td>32161.000000</td>\n",
       "      <td>35537.000000</td>\n",
       "    </tr>\n",
       "    <tr>\n",
       "      <th>county</th>\n",
       "      <td>18.000000</td>\n",
       "      <td>2.000000</td>\n",
       "      <td>19.000000</td>\n",
       "      <td>6.000000</td>\n",
       "      <td>17.000000</td>\n",
       "      <td>18.000000</td>\n",
       "      <td>16.000000</td>\n",
       "      <td>4.000000</td>\n",
       "    </tr>\n",
       "    <tr>\n",
       "      <th>lpsoda</th>\n",
       "      <td>NaN</td>\n",
       "      <td>NaN</td>\n",
       "      <td>NaN</td>\n",
       "      <td>NaN</td>\n",
       "      <td>NaN</td>\n",
       "      <td>NaN</td>\n",
       "      <td>NaN</td>\n",
       "      <td>NaN</td>\n",
       "    </tr>\n",
       "    <tr>\n",
       "      <th>lpfries</th>\n",
       "      <td>0.113329</td>\n",
       "      <td>NaN</td>\n",
       "      <td>NaN</td>\n",
       "      <td>NaN</td>\n",
       "      <td>NaN</td>\n",
       "      <td>NaN</td>\n",
       "      <td>NaN</td>\n",
       "      <td>NaN</td>\n",
       "    </tr>\n",
       "    <tr>\n",
       "      <th>lhseval</th>\n",
       "      <td>11.953110</td>\n",
       "      <td>12.527790</td>\n",
       "      <td>12.005180</td>\n",
       "      <td>11.610050</td>\n",
       "      <td>11.882420</td>\n",
       "      <td>12.146320</td>\n",
       "      <td>11.222570</td>\n",
       "      <td>11.372510</td>\n",
       "    </tr>\n",
       "    <tr>\n",
       "      <th>lincome</th>\n",
       "      <td>10.786220</td>\n",
       "      <td>11.072360</td>\n",
       "      <td>10.892940</td>\n",
       "      <td>10.790840</td>\n",
       "      <td>10.850270</td>\n",
       "      <td>11.065150</td>\n",
       "      <td>10.378510</td>\n",
       "      <td>10.478330</td>\n",
       "    </tr>\n",
       "    <tr>\n",
       "      <th>ldensity</th>\n",
       "      <td>8.301521</td>\n",
       "      <td>6.546785</td>\n",
       "      <td>6.442540</td>\n",
       "      <td>7.569412</td>\n",
       "      <td>7.695303</td>\n",
       "      <td>7.581720</td>\n",
       "      <td>7.037906</td>\n",
       "      <td>8.786648</td>\n",
       "    </tr>\n",
       "    <tr>\n",
       "      <th>NJ</th>\n",
       "      <td>1.000000</td>\n",
       "      <td>1.000000</td>\n",
       "      <td>1.000000</td>\n",
       "      <td>1.000000</td>\n",
       "      <td>1.000000</td>\n",
       "      <td>1.000000</td>\n",
       "      <td>0.000000</td>\n",
       "      <td>0.000000</td>\n",
       "    </tr>\n",
       "    <tr>\n",
       "      <th>BK</th>\n",
       "      <td>1.000000</td>\n",
       "      <td>1.000000</td>\n",
       "      <td>1.000000</td>\n",
       "      <td>0.000000</td>\n",
       "      <td>0.000000</td>\n",
       "      <td>0.000000</td>\n",
       "      <td>1.000000</td>\n",
       "      <td>1.000000</td>\n",
       "    </tr>\n",
       "    <tr>\n",
       "      <th>KFC</th>\n",
       "      <td>0.000000</td>\n",
       "      <td>0.000000</td>\n",
       "      <td>0.000000</td>\n",
       "      <td>0.000000</td>\n",
       "      <td>0.000000</td>\n",
       "      <td>0.000000</td>\n",
       "      <td>0.000000</td>\n",
       "      <td>0.000000</td>\n",
       "    </tr>\n",
       "    <tr>\n",
       "      <th>RR</th>\n",
       "      <td>0.000000</td>\n",
       "      <td>0.000000</td>\n",
       "      <td>0.000000</td>\n",
       "      <td>1.000000</td>\n",
       "      <td>1.000000</td>\n",
       "      <td>1.000000</td>\n",
       "      <td>0.000000</td>\n",
       "      <td>0.000000</td>\n",
       "    </tr>\n",
       "  </tbody>\n",
       "</table>\n",
       "</div>"
      ],
      "text/plain": [
       "                    57             92             143            183  \\\n",
       "psoda               NaN            NaN            NaN            NaN   \n",
       "pfries         1.120000            NaN            NaN            NaN   \n",
       "pentree        1.120000            NaN       0.960000            NaN   \n",
       "wagest         4.250000       4.250000       4.250000       4.750000   \n",
       "nmgrs          5.000000       3.000000       3.000000       3.000000   \n",
       "nregs          6.000000       3.000000       4.000000       3.000000   \n",
       "hrsopen       12.500000      17.000000      16.000000      16.000000   \n",
       "emp           20.000000      23.000000      17.500000      12.000000   \n",
       "psoda2         1.150000       1.160000       1.110000       1.010000   \n",
       "pfries2        0.940000       1.220000       1.050000       1.010000   \n",
       "pentree2       1.150000       0.410000       1.050000       0.940000   \n",
       "wagest2        5.050000       5.050000       5.050000       5.050000   \n",
       "nmgrs2         6.000000       3.000000       5.000000       3.000000   \n",
       "nregs2         6.000000       3.000000       4.000000       3.000000   \n",
       "hrsopen2      12.500000      17.000000      16.000000      15.000000   \n",
       "emp2          35.000000      22.000000      17.500000      13.000000   \n",
       "compown        0.000000       0.000000       1.000000       1.000000   \n",
       "chain          1.000000       1.000000       1.000000       3.000000   \n",
       "density     4030.000000     697.000000     628.000000    1938.000000   \n",
       "crmrte         0.052887       0.023625       0.025367       0.036392   \n",
       "state          1.000000       1.000000       1.000000       1.000000   \n",
       "prpblck        0.042239       0.031873       0.026525       0.039983   \n",
       "prppov         0.047436       0.035029       0.034255       0.028783   \n",
       "prpncar        0.085971       0.025974       0.040288       0.047651   \n",
       "hseval    155300.000000  275900.000000  163600.000000  110200.000000   \n",
       "nstores        4.000000       3.000000       4.000000       7.000000   \n",
       "income     48350.000000   64367.000000   53795.000000   48574.000000   \n",
       "county        18.000000       2.000000      19.000000       6.000000   \n",
       "lpsoda              NaN            NaN            NaN            NaN   \n",
       "lpfries        0.113329            NaN            NaN            NaN   \n",
       "lhseval       11.953110      12.527790      12.005180      11.610050   \n",
       "lincome       10.786220      11.072360      10.892940      10.790840   \n",
       "ldensity       8.301521       6.546785       6.442540       7.569412   \n",
       "NJ             1.000000       1.000000       1.000000       1.000000   \n",
       "BK             1.000000       1.000000       1.000000       0.000000   \n",
       "KFC            0.000000       0.000000       0.000000       0.000000   \n",
       "RR             0.000000       0.000000       0.000000       1.000000   \n",
       "\n",
       "                    283            310           361           368  \n",
       "psoda               NaN            NaN           NaN           NaN  \n",
       "pfries              NaN            NaN           NaN           NaN  \n",
       "pentree             NaN            NaN      0.520000           NaN  \n",
       "wagest         4.250000            NaN      4.250000      4.870000  \n",
       "nmgrs          3.000000       4.000000      3.000000      3.000000  \n",
       "nregs          7.000000       5.000000      4.000000      3.000000  \n",
       "hrsopen       17.000000      12.500000     16.500000     18.000000  \n",
       "emp           27.500000      20.000000     12.500000     12.500000  \n",
       "psoda2         1.050000       1.160000      0.410000      0.970000  \n",
       "pfries2        1.000000       1.060000      0.840000      0.840000  \n",
       "pentree2       0.630000       1.050000      0.890000      0.730000  \n",
       "wagest2        5.050000       5.050000      4.400000      5.000000  \n",
       "nmgrs2         5.000000       3.000000      8.000000      5.000000  \n",
       "nregs2         7.000000       5.000000      4.000000      3.000000  \n",
       "hrsopen2      17.000000      11.500000     16.000000     18.000000  \n",
       "emp2          27.000000      20.000000      6.000000     22.500000  \n",
       "compown        0.000000       0.000000      0.000000      0.000000  \n",
       "chain          3.000000       3.000000      1.000000      1.000000  \n",
       "density     2198.000000    1962.000000   1139.000000   6546.250000  \n",
       "crmrte         0.032281       0.041586      0.035997      0.056616  \n",
       "state          1.000000       1.000000      2.000000      2.000000  \n",
       "prpblck        0.019091       0.023150      0.014509      0.121563  \n",
       "prppov         0.038419       0.022561      0.063753      0.108836  \n",
       "prpncar        0.067834       0.038316      0.075832      0.137716  \n",
       "hseval    144700.000000  188400.000000  74800.000000  86900.000000  \n",
       "nstores        5.000000       8.000000      2.000000      2.000000  \n",
       "income     51548.000000   63905.000000  32161.000000  35537.000000  \n",
       "county        17.000000      18.000000     16.000000      4.000000  \n",
       "lpsoda              NaN            NaN           NaN           NaN  \n",
       "lpfries             NaN            NaN           NaN           NaN  \n",
       "lhseval       11.882420      12.146320     11.222570     11.372510  \n",
       "lincome       10.850270      11.065150     10.378510     10.478330  \n",
       "ldensity       7.695303       7.581720      7.037906      8.786648  \n",
       "NJ             1.000000       1.000000      0.000000      0.000000  \n",
       "BK             0.000000       0.000000      1.000000      1.000000  \n",
       "KFC            0.000000       0.000000      0.000000      0.000000  \n",
       "RR             1.000000       1.000000      0.000000      0.000000  "
      ]
     },
     "execution_count": 52,
     "metadata": {},
     "output_type": "execute_result"
    }
   ],
   "source": [
    "fast_food.loc[fast_food['psoda'].isnull()].T"
   ]
  },
  {
   "cell_type": "markdown",
   "metadata": {},
   "source": [
    "#### 2. The variable/feature psoda has eight missing observations. Replace those missing observations with the average price of soda per chain ( you will have to find which chain is missing psoda values)"
   ]
  },
  {
   "cell_type": "code",
   "execution_count": 53,
   "metadata": {
    "collapsed": false
   },
   "outputs": [
    {
     "data": {
      "text/html": [
       "<div>\n",
       "<table border=\"1\" class=\"dataframe\">\n",
       "  <thead>\n",
       "    <tr style=\"text-align: right;\">\n",
       "      <th></th>\n",
       "      <th>count</th>\n",
       "      <th>mean</th>\n",
       "      <th>std</th>\n",
       "      <th>min</th>\n",
       "      <th>25%</th>\n",
       "      <th>50%</th>\n",
       "      <th>75%</th>\n",
       "      <th>max</th>\n",
       "    </tr>\n",
       "  </thead>\n",
       "  <tbody>\n",
       "    <tr>\n",
       "      <th>psoda</th>\n",
       "      <td>402.0</td>\n",
       "      <td>1.044876</td>\n",
       "      <td>0.088687</td>\n",
       "      <td>0.730000</td>\n",
       "      <td>NaN</td>\n",
       "      <td>NaN</td>\n",
       "      <td>NaN</td>\n",
       "      <td>1.490000</td>\n",
       "    </tr>\n",
       "    <tr>\n",
       "      <th>pfries</th>\n",
       "      <td>393.0</td>\n",
       "      <td>0.921985</td>\n",
       "      <td>0.105881</td>\n",
       "      <td>0.670000</td>\n",
       "      <td>NaN</td>\n",
       "      <td>NaN</td>\n",
       "      <td>NaN</td>\n",
       "      <td>1.270000</td>\n",
       "    </tr>\n",
       "    <tr>\n",
       "      <th>pentree</th>\n",
       "      <td>398.0</td>\n",
       "      <td>1.322186</td>\n",
       "      <td>0.643085</td>\n",
       "      <td>0.490000</td>\n",
       "      <td>NaN</td>\n",
       "      <td>NaN</td>\n",
       "      <td>NaN</td>\n",
       "      <td>3.950000</td>\n",
       "    </tr>\n",
       "    <tr>\n",
       "      <th>wagest</th>\n",
       "      <td>390.0</td>\n",
       "      <td>4.615641</td>\n",
       "      <td>0.347015</td>\n",
       "      <td>4.250000</td>\n",
       "      <td>NaN</td>\n",
       "      <td>NaN</td>\n",
       "      <td>NaN</td>\n",
       "      <td>5.750000</td>\n",
       "    </tr>\n",
       "    <tr>\n",
       "      <th>nmgrs</th>\n",
       "      <td>404.0</td>\n",
       "      <td>3.420297</td>\n",
       "      <td>1.018408</td>\n",
       "      <td>1.000000</td>\n",
       "      <td>NaN</td>\n",
       "      <td>NaN</td>\n",
       "      <td>NaN</td>\n",
       "      <td>10.000000</td>\n",
       "    </tr>\n",
       "    <tr>\n",
       "      <th>nregs</th>\n",
       "      <td>388.0</td>\n",
       "      <td>3.608247</td>\n",
       "      <td>1.243540</td>\n",
       "      <td>1.000000</td>\n",
       "      <td>NaN</td>\n",
       "      <td>NaN</td>\n",
       "      <td>NaN</td>\n",
       "      <td>8.000000</td>\n",
       "    </tr>\n",
       "    <tr>\n",
       "      <th>hrsopen</th>\n",
       "      <td>410.0</td>\n",
       "      <td>14.439024</td>\n",
       "      <td>2.809987</td>\n",
       "      <td>7.000000</td>\n",
       "      <td>12.0</td>\n",
       "      <td>15.5</td>\n",
       "      <td>16.0</td>\n",
       "      <td>24.000000</td>\n",
       "    </tr>\n",
       "    <tr>\n",
       "      <th>emp</th>\n",
       "      <td>404.0</td>\n",
       "      <td>17.621906</td>\n",
       "      <td>9.423264</td>\n",
       "      <td>3.000000</td>\n",
       "      <td>NaN</td>\n",
       "      <td>NaN</td>\n",
       "      <td>NaN</td>\n",
       "      <td>80.000000</td>\n",
       "    </tr>\n",
       "    <tr>\n",
       "      <th>psoda2</th>\n",
       "      <td>388.0</td>\n",
       "      <td>1.044948</td>\n",
       "      <td>0.093567</td>\n",
       "      <td>0.410000</td>\n",
       "      <td>NaN</td>\n",
       "      <td>NaN</td>\n",
       "      <td>NaN</td>\n",
       "      <td>1.400000</td>\n",
       "    </tr>\n",
       "    <tr>\n",
       "      <th>pfries2</th>\n",
       "      <td>382.0</td>\n",
       "      <td>0.941230</td>\n",
       "      <td>0.109304</td>\n",
       "      <td>0.690000</td>\n",
       "      <td>NaN</td>\n",
       "      <td>NaN</td>\n",
       "      <td>NaN</td>\n",
       "      <td>1.370000</td>\n",
       "    </tr>\n",
       "    <tr>\n",
       "      <th>pentree2</th>\n",
       "      <td>386.0</td>\n",
       "      <td>1.354067</td>\n",
       "      <td>0.649702</td>\n",
       "      <td>0.410000</td>\n",
       "      <td>NaN</td>\n",
       "      <td>NaN</td>\n",
       "      <td>NaN</td>\n",
       "      <td>2.850000</td>\n",
       "    </tr>\n",
       "    <tr>\n",
       "      <th>wagest2</th>\n",
       "      <td>389.0</td>\n",
       "      <td>4.996272</td>\n",
       "      <td>0.253190</td>\n",
       "      <td>4.250000</td>\n",
       "      <td>NaN</td>\n",
       "      <td>NaN</td>\n",
       "      <td>NaN</td>\n",
       "      <td>6.250000</td>\n",
       "    </tr>\n",
       "    <tr>\n",
       "      <th>nmgrs2</th>\n",
       "      <td>404.0</td>\n",
       "      <td>3.483911</td>\n",
       "      <td>1.139898</td>\n",
       "      <td>0.000000</td>\n",
       "      <td>NaN</td>\n",
       "      <td>NaN</td>\n",
       "      <td>NaN</td>\n",
       "      <td>8.000000</td>\n",
       "    </tr>\n",
       "    <tr>\n",
       "      <th>nregs2</th>\n",
       "      <td>388.0</td>\n",
       "      <td>3.608247</td>\n",
       "      <td>1.243540</td>\n",
       "      <td>1.000000</td>\n",
       "      <td>NaN</td>\n",
       "      <td>NaN</td>\n",
       "      <td>NaN</td>\n",
       "      <td>8.000000</td>\n",
       "    </tr>\n",
       "    <tr>\n",
       "      <th>hrsopen2</th>\n",
       "      <td>399.0</td>\n",
       "      <td>14.465539</td>\n",
       "      <td>2.752495</td>\n",
       "      <td>8.000000</td>\n",
       "      <td>NaN</td>\n",
       "      <td>NaN</td>\n",
       "      <td>NaN</td>\n",
       "      <td>24.000000</td>\n",
       "    </tr>\n",
       "    <tr>\n",
       "      <th>emp2</th>\n",
       "      <td>397.0</td>\n",
       "      <td>17.566751</td>\n",
       "      <td>8.607385</td>\n",
       "      <td>0.000000</td>\n",
       "      <td>NaN</td>\n",
       "      <td>NaN</td>\n",
       "      <td>NaN</td>\n",
       "      <td>55.500000</td>\n",
       "    </tr>\n",
       "    <tr>\n",
       "      <th>compown</th>\n",
       "      <td>410.0</td>\n",
       "      <td>0.343902</td>\n",
       "      <td>0.475589</td>\n",
       "      <td>0.000000</td>\n",
       "      <td>0.0</td>\n",
       "      <td>0.0</td>\n",
       "      <td>1.0</td>\n",
       "      <td>1.000000</td>\n",
       "    </tr>\n",
       "    <tr>\n",
       "      <th>chain</th>\n",
       "      <td>410.0</td>\n",
       "      <td>2.117073</td>\n",
       "      <td>1.110497</td>\n",
       "      <td>1.000000</td>\n",
       "      <td>1.0</td>\n",
       "      <td>2.0</td>\n",
       "      <td>3.0</td>\n",
       "      <td>4.000000</td>\n",
       "    </tr>\n",
       "    <tr>\n",
       "      <th>density</th>\n",
       "      <td>409.0</td>\n",
       "      <td>4561.803452</td>\n",
       "      <td>5132.407913</td>\n",
       "      <td>163.000000</td>\n",
       "      <td>NaN</td>\n",
       "      <td>NaN</td>\n",
       "      <td>NaN</td>\n",
       "      <td>41437.000000</td>\n",
       "    </tr>\n",
       "    <tr>\n",
       "      <th>crmrte</th>\n",
       "      <td>409.0</td>\n",
       "      <td>0.053379</td>\n",
       "      <td>0.047326</td>\n",
       "      <td>0.005180</td>\n",
       "      <td>NaN</td>\n",
       "      <td>NaN</td>\n",
       "      <td>NaN</td>\n",
       "      <td>0.359711</td>\n",
       "    </tr>\n",
       "    <tr>\n",
       "      <th>state</th>\n",
       "      <td>410.0</td>\n",
       "      <td>1.192683</td>\n",
       "      <td>0.394888</td>\n",
       "      <td>1.000000</td>\n",
       "      <td>1.0</td>\n",
       "      <td>1.0</td>\n",
       "      <td>1.0</td>\n",
       "      <td>2.000000</td>\n",
       "    </tr>\n",
       "    <tr>\n",
       "      <th>prpblck</th>\n",
       "      <td>409.0</td>\n",
       "      <td>0.113486</td>\n",
       "      <td>0.182416</td>\n",
       "      <td>0.000000</td>\n",
       "      <td>NaN</td>\n",
       "      <td>NaN</td>\n",
       "      <td>NaN</td>\n",
       "      <td>0.981658</td>\n",
       "    </tr>\n",
       "    <tr>\n",
       "      <th>prppov</th>\n",
       "      <td>409.0</td>\n",
       "      <td>0.071297</td>\n",
       "      <td>0.067439</td>\n",
       "      <td>0.004298</td>\n",
       "      <td>NaN</td>\n",
       "      <td>NaN</td>\n",
       "      <td>NaN</td>\n",
       "      <td>0.418480</td>\n",
       "    </tr>\n",
       "    <tr>\n",
       "      <th>prpncar</th>\n",
       "      <td>409.0</td>\n",
       "      <td>0.114874</td>\n",
       "      <td>0.117416</td>\n",
       "      <td>0.000000</td>\n",
       "      <td>NaN</td>\n",
       "      <td>NaN</td>\n",
       "      <td>NaN</td>\n",
       "      <td>0.627238</td>\n",
       "    </tr>\n",
       "    <tr>\n",
       "      <th>hseval</th>\n",
       "      <td>409.0</td>\n",
       "      <td>147399.266504</td>\n",
       "      <td>56070.467520</td>\n",
       "      <td>33900.000000</td>\n",
       "      <td>NaN</td>\n",
       "      <td>NaN</td>\n",
       "      <td>NaN</td>\n",
       "      <td>473400.000000</td>\n",
       "    </tr>\n",
       "    <tr>\n",
       "      <th>nstores</th>\n",
       "      <td>410.0</td>\n",
       "      <td>3.139024</td>\n",
       "      <td>1.809426</td>\n",
       "      <td>1.000000</td>\n",
       "      <td>2.0</td>\n",
       "      <td>3.0</td>\n",
       "      <td>4.0</td>\n",
       "      <td>8.000000</td>\n",
       "    </tr>\n",
       "    <tr>\n",
       "      <th>income</th>\n",
       "      <td>409.0</td>\n",
       "      <td>47053.784841</td>\n",
       "      <td>13179.286069</td>\n",
       "      <td>15919.000000</td>\n",
       "      <td>NaN</td>\n",
       "      <td>NaN</td>\n",
       "      <td>NaN</td>\n",
       "      <td>136529.000000</td>\n",
       "    </tr>\n",
       "    <tr>\n",
       "      <th>county</th>\n",
       "      <td>410.0</td>\n",
       "      <td>13.658537</td>\n",
       "      <td>8.045439</td>\n",
       "      <td>1.000000</td>\n",
       "      <td>6.0</td>\n",
       "      <td>14.0</td>\n",
       "      <td>20.0</td>\n",
       "      <td>29.000000</td>\n",
       "    </tr>\n",
       "    <tr>\n",
       "      <th>lpsoda</th>\n",
       "      <td>402.0</td>\n",
       "      <td>0.040321</td>\n",
       "      <td>0.084730</td>\n",
       "      <td>-0.314711</td>\n",
       "      <td>NaN</td>\n",
       "      <td>NaN</td>\n",
       "      <td>NaN</td>\n",
       "      <td>0.398776</td>\n",
       "    </tr>\n",
       "    <tr>\n",
       "      <th>lpfries</th>\n",
       "      <td>393.0</td>\n",
       "      <td>-0.087813</td>\n",
       "      <td>0.115152</td>\n",
       "      <td>-0.400477</td>\n",
       "      <td>NaN</td>\n",
       "      <td>NaN</td>\n",
       "      <td>NaN</td>\n",
       "      <td>0.239017</td>\n",
       "    </tr>\n",
       "    <tr>\n",
       "      <th>lhseval</th>\n",
       "      <td>409.0</td>\n",
       "      <td>11.828533</td>\n",
       "      <td>0.389349</td>\n",
       "      <td>10.431170</td>\n",
       "      <td>NaN</td>\n",
       "      <td>NaN</td>\n",
       "      <td>NaN</td>\n",
       "      <td>13.067700</td>\n",
       "    </tr>\n",
       "    <tr>\n",
       "      <th>lincome</th>\n",
       "      <td>409.0</td>\n",
       "      <td>10.719937</td>\n",
       "      <td>0.284479</td>\n",
       "      <td>9.675268</td>\n",
       "      <td>NaN</td>\n",
       "      <td>NaN</td>\n",
       "      <td>NaN</td>\n",
       "      <td>11.824290</td>\n",
       "    </tr>\n",
       "    <tr>\n",
       "      <th>ldensity</th>\n",
       "      <td>409.0</td>\n",
       "      <td>7.958750</td>\n",
       "      <td>0.995858</td>\n",
       "      <td>5.093750</td>\n",
       "      <td>NaN</td>\n",
       "      <td>NaN</td>\n",
       "      <td>NaN</td>\n",
       "      <td>10.631930</td>\n",
       "    </tr>\n",
       "    <tr>\n",
       "      <th>NJ</th>\n",
       "      <td>410.0</td>\n",
       "      <td>0.807317</td>\n",
       "      <td>0.394888</td>\n",
       "      <td>0.000000</td>\n",
       "      <td>1.0</td>\n",
       "      <td>1.0</td>\n",
       "      <td>1.0</td>\n",
       "      <td>1.000000</td>\n",
       "    </tr>\n",
       "    <tr>\n",
       "      <th>BK</th>\n",
       "      <td>410.0</td>\n",
       "      <td>0.417073</td>\n",
       "      <td>0.493678</td>\n",
       "      <td>0.000000</td>\n",
       "      <td>0.0</td>\n",
       "      <td>0.0</td>\n",
       "      <td>1.0</td>\n",
       "      <td>1.000000</td>\n",
       "    </tr>\n",
       "    <tr>\n",
       "      <th>KFC</th>\n",
       "      <td>410.0</td>\n",
       "      <td>0.195122</td>\n",
       "      <td>0.396779</td>\n",
       "      <td>0.000000</td>\n",
       "      <td>0.0</td>\n",
       "      <td>0.0</td>\n",
       "      <td>0.0</td>\n",
       "      <td>1.000000</td>\n",
       "    </tr>\n",
       "    <tr>\n",
       "      <th>RR</th>\n",
       "      <td>410.0</td>\n",
       "      <td>0.241463</td>\n",
       "      <td>0.428493</td>\n",
       "      <td>0.000000</td>\n",
       "      <td>0.0</td>\n",
       "      <td>0.0</td>\n",
       "      <td>0.0</td>\n",
       "      <td>1.000000</td>\n",
       "    </tr>\n",
       "  </tbody>\n",
       "</table>\n",
       "</div>"
      ],
      "text/plain": [
       "          count           mean           std           min   25%   50%   75%  \\\n",
       "psoda     402.0       1.044876      0.088687      0.730000   NaN   NaN   NaN   \n",
       "pfries    393.0       0.921985      0.105881      0.670000   NaN   NaN   NaN   \n",
       "pentree   398.0       1.322186      0.643085      0.490000   NaN   NaN   NaN   \n",
       "wagest    390.0       4.615641      0.347015      4.250000   NaN   NaN   NaN   \n",
       "nmgrs     404.0       3.420297      1.018408      1.000000   NaN   NaN   NaN   \n",
       "nregs     388.0       3.608247      1.243540      1.000000   NaN   NaN   NaN   \n",
       "hrsopen   410.0      14.439024      2.809987      7.000000  12.0  15.5  16.0   \n",
       "emp       404.0      17.621906      9.423264      3.000000   NaN   NaN   NaN   \n",
       "psoda2    388.0       1.044948      0.093567      0.410000   NaN   NaN   NaN   \n",
       "pfries2   382.0       0.941230      0.109304      0.690000   NaN   NaN   NaN   \n",
       "pentree2  386.0       1.354067      0.649702      0.410000   NaN   NaN   NaN   \n",
       "wagest2   389.0       4.996272      0.253190      4.250000   NaN   NaN   NaN   \n",
       "nmgrs2    404.0       3.483911      1.139898      0.000000   NaN   NaN   NaN   \n",
       "nregs2    388.0       3.608247      1.243540      1.000000   NaN   NaN   NaN   \n",
       "hrsopen2  399.0      14.465539      2.752495      8.000000   NaN   NaN   NaN   \n",
       "emp2      397.0      17.566751      8.607385      0.000000   NaN   NaN   NaN   \n",
       "compown   410.0       0.343902      0.475589      0.000000   0.0   0.0   1.0   \n",
       "chain     410.0       2.117073      1.110497      1.000000   1.0   2.0   3.0   \n",
       "density   409.0    4561.803452   5132.407913    163.000000   NaN   NaN   NaN   \n",
       "crmrte    409.0       0.053379      0.047326      0.005180   NaN   NaN   NaN   \n",
       "state     410.0       1.192683      0.394888      1.000000   1.0   1.0   1.0   \n",
       "prpblck   409.0       0.113486      0.182416      0.000000   NaN   NaN   NaN   \n",
       "prppov    409.0       0.071297      0.067439      0.004298   NaN   NaN   NaN   \n",
       "prpncar   409.0       0.114874      0.117416      0.000000   NaN   NaN   NaN   \n",
       "hseval    409.0  147399.266504  56070.467520  33900.000000   NaN   NaN   NaN   \n",
       "nstores   410.0       3.139024      1.809426      1.000000   2.0   3.0   4.0   \n",
       "income    409.0   47053.784841  13179.286069  15919.000000   NaN   NaN   NaN   \n",
       "county    410.0      13.658537      8.045439      1.000000   6.0  14.0  20.0   \n",
       "lpsoda    402.0       0.040321      0.084730     -0.314711   NaN   NaN   NaN   \n",
       "lpfries   393.0      -0.087813      0.115152     -0.400477   NaN   NaN   NaN   \n",
       "lhseval   409.0      11.828533      0.389349     10.431170   NaN   NaN   NaN   \n",
       "lincome   409.0      10.719937      0.284479      9.675268   NaN   NaN   NaN   \n",
       "ldensity  409.0       7.958750      0.995858      5.093750   NaN   NaN   NaN   \n",
       "NJ        410.0       0.807317      0.394888      0.000000   1.0   1.0   1.0   \n",
       "BK        410.0       0.417073      0.493678      0.000000   0.0   0.0   1.0   \n",
       "KFC       410.0       0.195122      0.396779      0.000000   0.0   0.0   0.0   \n",
       "RR        410.0       0.241463      0.428493      0.000000   0.0   0.0   0.0   \n",
       "\n",
       "                    max  \n",
       "psoda          1.490000  \n",
       "pfries         1.270000  \n",
       "pentree        3.950000  \n",
       "wagest         5.750000  \n",
       "nmgrs         10.000000  \n",
       "nregs          8.000000  \n",
       "hrsopen       24.000000  \n",
       "emp           80.000000  \n",
       "psoda2         1.400000  \n",
       "pfries2        1.370000  \n",
       "pentree2       2.850000  \n",
       "wagest2        6.250000  \n",
       "nmgrs2         8.000000  \n",
       "nregs2         8.000000  \n",
       "hrsopen2      24.000000  \n",
       "emp2          55.500000  \n",
       "compown        1.000000  \n",
       "chain          4.000000  \n",
       "density    41437.000000  \n",
       "crmrte         0.359711  \n",
       "state          2.000000  \n",
       "prpblck        0.981658  \n",
       "prppov         0.418480  \n",
       "prpncar        0.627238  \n",
       "hseval    473400.000000  \n",
       "nstores        8.000000  \n",
       "income    136529.000000  \n",
       "county        29.000000  \n",
       "lpsoda         0.398776  \n",
       "lpfries        0.239017  \n",
       "lhseval       13.067700  \n",
       "lincome       11.824290  \n",
       "ldensity      10.631930  \n",
       "NJ             1.000000  \n",
       "BK             1.000000  \n",
       "KFC            1.000000  \n",
       "RR             1.000000  "
      ]
     },
     "execution_count": 53,
     "metadata": {},
     "output_type": "execute_result"
    }
   ],
   "source": [
    "fast_food.describe().T"
   ]
  },
  {
   "cell_type": "code",
   "execution_count": 54,
   "metadata": {
    "collapsed": false
   },
   "outputs": [
    {
     "name": "stdout",
     "output_type": "stream",
     "text": [
      "1.05421686747\n",
      "1.10604166667\n"
     ]
    }
   ],
   "source": [
    "print fast_food[fast_food['chain']==1]['psoda'].mean()\n",
    "print fast_food[fast_food['chain']==3]['psoda'].mean()"
   ]
  },
  {
   "cell_type": "markdown",
   "metadata": {},
   "source": [
    "#### 3. In one graph, plot the distribution of 'psoda' for each chain (4 histograms in one graph) add different colors per histogram, label each histogram, locate the legend on the 'upper left' side of your chart. Are there any similarities or differences in their distributions?\n",
    "\n"
   ]
  },
  {
   "cell_type": "code",
   "execution_count": 55,
   "metadata": {
    "collapsed": true
   },
   "outputs": [],
   "source": [
    "fast_food['psoda'] = fast_food.groupby('chain').transform(lambda x: x.fillna(x.mean()))"
   ]
  },
  {
   "cell_type": "code",
   "execution_count": 56,
   "metadata": {
    "collapsed": false
   },
   "outputs": [],
   "source": [
    "#fast_food.loc[fast_food['psoda'].isnull()].T"
   ]
  },
  {
   "cell_type": "markdown",
   "metadata": {},
   "source": [
    "#### 4. The variable income has one missing value. First, identify to what state \"NJ=1 or PA=2\" this missing value belongs to. Then drop the \"row \" that corresponds to this missing value fast_food.drop(\"row_number\", axis=0)"
   ]
  },
  {
   "cell_type": "code",
   "execution_count": 57,
   "metadata": {
    "collapsed": false
   },
   "outputs": [
    {
     "data": {
      "text/html": [
       "<div>\n",
       "<table border=\"1\" class=\"dataframe\">\n",
       "  <thead>\n",
       "    <tr style=\"text-align: right;\">\n",
       "      <th></th>\n",
       "      <th>384</th>\n",
       "    </tr>\n",
       "  </thead>\n",
       "  <tbody>\n",
       "    <tr>\n",
       "      <th>psoda</th>\n",
       "      <td>1.050000</td>\n",
       "    </tr>\n",
       "    <tr>\n",
       "      <th>pfries</th>\n",
       "      <td>0.900000</td>\n",
       "    </tr>\n",
       "    <tr>\n",
       "      <th>pentree</th>\n",
       "      <td>0.940000</td>\n",
       "    </tr>\n",
       "    <tr>\n",
       "      <th>wagest</th>\n",
       "      <td>4.250000</td>\n",
       "    </tr>\n",
       "    <tr>\n",
       "      <th>nmgrs</th>\n",
       "      <td>3.000000</td>\n",
       "    </tr>\n",
       "    <tr>\n",
       "      <th>nregs</th>\n",
       "      <td>4.000000</td>\n",
       "    </tr>\n",
       "    <tr>\n",
       "      <th>hrsopen</th>\n",
       "      <td>16.000000</td>\n",
       "    </tr>\n",
       "    <tr>\n",
       "      <th>emp</th>\n",
       "      <td>15.000000</td>\n",
       "    </tr>\n",
       "    <tr>\n",
       "      <th>psoda2</th>\n",
       "      <td>1.010000</td>\n",
       "    </tr>\n",
       "    <tr>\n",
       "      <th>pfries2</th>\n",
       "      <td>1.010000</td>\n",
       "    </tr>\n",
       "    <tr>\n",
       "      <th>pentree2</th>\n",
       "      <td>0.890000</td>\n",
       "    </tr>\n",
       "    <tr>\n",
       "      <th>wagest2</th>\n",
       "      <td>4.350000</td>\n",
       "    </tr>\n",
       "    <tr>\n",
       "      <th>nmgrs2</th>\n",
       "      <td>5.000000</td>\n",
       "    </tr>\n",
       "    <tr>\n",
       "      <th>nregs2</th>\n",
       "      <td>4.000000</td>\n",
       "    </tr>\n",
       "    <tr>\n",
       "      <th>hrsopen2</th>\n",
       "      <td>15.000000</td>\n",
       "    </tr>\n",
       "    <tr>\n",
       "      <th>emp2</th>\n",
       "      <td>10.000000</td>\n",
       "    </tr>\n",
       "    <tr>\n",
       "      <th>compown</th>\n",
       "      <td>1.000000</td>\n",
       "    </tr>\n",
       "    <tr>\n",
       "      <th>chain</th>\n",
       "      <td>3.000000</td>\n",
       "    </tr>\n",
       "    <tr>\n",
       "      <th>density</th>\n",
       "      <td>896.500000</td>\n",
       "    </tr>\n",
       "    <tr>\n",
       "      <th>crmrte</th>\n",
       "      <td>0.006035</td>\n",
       "    </tr>\n",
       "    <tr>\n",
       "      <th>state</th>\n",
       "      <td>2.000000</td>\n",
       "    </tr>\n",
       "    <tr>\n",
       "      <th>prpblck</th>\n",
       "      <td>NaN</td>\n",
       "    </tr>\n",
       "    <tr>\n",
       "      <th>prppov</th>\n",
       "      <td>NaN</td>\n",
       "    </tr>\n",
       "    <tr>\n",
       "      <th>prpncar</th>\n",
       "      <td>NaN</td>\n",
       "    </tr>\n",
       "    <tr>\n",
       "      <th>hseval</th>\n",
       "      <td>NaN</td>\n",
       "    </tr>\n",
       "    <tr>\n",
       "      <th>nstores</th>\n",
       "      <td>1.000000</td>\n",
       "    </tr>\n",
       "    <tr>\n",
       "      <th>income</th>\n",
       "      <td>NaN</td>\n",
       "    </tr>\n",
       "    <tr>\n",
       "      <th>county</th>\n",
       "      <td>4.000000</td>\n",
       "    </tr>\n",
       "    <tr>\n",
       "      <th>lpsoda</th>\n",
       "      <td>0.048790</td>\n",
       "    </tr>\n",
       "    <tr>\n",
       "      <th>lpfries</th>\n",
       "      <td>-0.105360</td>\n",
       "    </tr>\n",
       "    <tr>\n",
       "      <th>lhseval</th>\n",
       "      <td>NaN</td>\n",
       "    </tr>\n",
       "    <tr>\n",
       "      <th>lincome</th>\n",
       "      <td>NaN</td>\n",
       "    </tr>\n",
       "    <tr>\n",
       "      <th>ldensity</th>\n",
       "      <td>6.798498</td>\n",
       "    </tr>\n",
       "    <tr>\n",
       "      <th>NJ</th>\n",
       "      <td>0.000000</td>\n",
       "    </tr>\n",
       "    <tr>\n",
       "      <th>BK</th>\n",
       "      <td>0.000000</td>\n",
       "    </tr>\n",
       "    <tr>\n",
       "      <th>KFC</th>\n",
       "      <td>0.000000</td>\n",
       "    </tr>\n",
       "    <tr>\n",
       "      <th>RR</th>\n",
       "      <td>1.000000</td>\n",
       "    </tr>\n",
       "  </tbody>\n",
       "</table>\n",
       "</div>"
      ],
      "text/plain": [
       "                 384\n",
       "psoda       1.050000\n",
       "pfries      0.900000\n",
       "pentree     0.940000\n",
       "wagest      4.250000\n",
       "nmgrs       3.000000\n",
       "nregs       4.000000\n",
       "hrsopen    16.000000\n",
       "emp        15.000000\n",
       "psoda2      1.010000\n",
       "pfries2     1.010000\n",
       "pentree2    0.890000\n",
       "wagest2     4.350000\n",
       "nmgrs2      5.000000\n",
       "nregs2      4.000000\n",
       "hrsopen2   15.000000\n",
       "emp2       10.000000\n",
       "compown     1.000000\n",
       "chain       3.000000\n",
       "density   896.500000\n",
       "crmrte      0.006035\n",
       "state       2.000000\n",
       "prpblck          NaN\n",
       "prppov           NaN\n",
       "prpncar          NaN\n",
       "hseval           NaN\n",
       "nstores     1.000000\n",
       "income           NaN\n",
       "county      4.000000\n",
       "lpsoda      0.048790\n",
       "lpfries    -0.105360\n",
       "lhseval          NaN\n",
       "lincome          NaN\n",
       "ldensity    6.798498\n",
       "NJ          0.000000\n",
       "BK          0.000000\n",
       "KFC         0.000000\n",
       "RR          1.000000"
      ]
     },
     "execution_count": 57,
     "metadata": {},
     "output_type": "execute_result"
    }
   ],
   "source": [
    "fast_food.loc[fast_food['income'].isnull()].T # State PA=2"
   ]
  },
  {
   "cell_type": "code",
   "execution_count": 58,
   "metadata": {
    "collapsed": false
   },
   "outputs": [
    {
     "data": {
      "text/html": [
       "<div>\n",
       "<table border=\"1\" class=\"dataframe\">\n",
       "  <thead>\n",
       "    <tr style=\"text-align: right;\">\n",
       "      <th></th>\n",
       "      <th>psoda</th>\n",
       "      <th>pfries</th>\n",
       "      <th>pentree</th>\n",
       "      <th>wagest</th>\n",
       "      <th>nmgrs</th>\n",
       "      <th>nregs</th>\n",
       "      <th>hrsopen</th>\n",
       "      <th>emp</th>\n",
       "      <th>psoda2</th>\n",
       "      <th>pfries2</th>\n",
       "      <th>...</th>\n",
       "      <th>county</th>\n",
       "      <th>lpsoda</th>\n",
       "      <th>lpfries</th>\n",
       "      <th>lhseval</th>\n",
       "      <th>lincome</th>\n",
       "      <th>ldensity</th>\n",
       "      <th>NJ</th>\n",
       "      <th>BK</th>\n",
       "      <th>KFC</th>\n",
       "      <th>RR</th>\n",
       "    </tr>\n",
       "  </thead>\n",
       "  <tbody>\n",
       "  </tbody>\n",
       "</table>\n",
       "<p>0 rows × 37 columns</p>\n",
       "</div>"
      ],
      "text/plain": [
       "Empty DataFrame\n",
       "Columns: [psoda, pfries, pentree, wagest, nmgrs, nregs, hrsopen, emp, psoda2, pfries2, pentree2, wagest2, nmgrs2, nregs2, hrsopen2, emp2, compown, chain, density, crmrte, state, prpblck, prppov, prpncar, hseval, nstores, income, county, lpsoda, lpfries, lhseval, lincome, ldensity, NJ, BK, KFC, RR]\n",
       "Index: []\n",
       "\n",
       "[0 rows x 37 columns]"
      ]
     },
     "execution_count": 58,
     "metadata": {},
     "output_type": "execute_result"
    }
   ],
   "source": [
    "fast_food.drop(384, axis=0, inplace=True)\n",
    "fast_food.loc[fast_food['income'].isnull()]"
   ]
  },
  {
   "cell_type": "markdown",
   "metadata": {},
   "source": [
    "#### 5. Graph the distribution of psoda for the entire dataset and include a line for the average in your graph."
   ]
  },
  {
   "cell_type": "code",
   "execution_count": 59,
   "metadata": {
    "collapsed": false
   },
   "outputs": [
    {
     "data": {
      "text/plain": [
       "<matplotlib.lines.Line2D at 0x11d315f90>"
      ]
     },
     "execution_count": 59,
     "metadata": {},
     "output_type": "execute_result"
    },
    {
     "data": {
      "image/png": "[encoded data removed]",
      "text/plain": [
       "<matplotlib.figure.Figure at 0x11d315ad0>"
      ]
     },
     "metadata": {
      "image/png": {
       "height": 370,
       "width": 603
      }
     },
     "output_type": "display_data"
    }
   ],
   "source": [
    "fig = plt.figure(figsize=(10,6))\n",
    "result = plt.hist(fast_food['psoda'], bins=20, color='r')\n",
    "plt.axvline(fast_food['psoda'].mean(), color='b', linestyle='dotted', linewidth=5) "
   ]
  },
  {
   "cell_type": "markdown",
   "metadata": {},
   "source": [
    "#### 6. Find the average values of _prpblck_ and _income_ in the sample, along with their standard deviations. Can you infer the units of measurement of these two variables (Get used to do this, these are your baseline values)"
   ]
  },
  {
   "cell_type": "code",
   "execution_count": 60,
   "metadata": {
    "collapsed": false
   },
   "outputs": [
    {
     "data": {
      "text/html": [
       "<div>\n",
       "<table border=\"1\" class=\"dataframe\">\n",
       "  <thead>\n",
       "    <tr style=\"text-align: right;\">\n",
       "      <th></th>\n",
       "      <th>prpblck</th>\n",
       "      <th>income</th>\n",
       "    </tr>\n",
       "  </thead>\n",
       "  <tbody>\n",
       "    <tr>\n",
       "      <th>count</th>\n",
       "      <td>409.000000</td>\n",
       "      <td>409.000000</td>\n",
       "    </tr>\n",
       "    <tr>\n",
       "      <th>mean</th>\n",
       "      <td>0.113486</td>\n",
       "      <td>47053.784841</td>\n",
       "    </tr>\n",
       "    <tr>\n",
       "      <th>std</th>\n",
       "      <td>0.182416</td>\n",
       "      <td>13179.286069</td>\n",
       "    </tr>\n",
       "    <tr>\n",
       "      <th>min</th>\n",
       "      <td>0.000000</td>\n",
       "      <td>15919.000000</td>\n",
       "    </tr>\n",
       "    <tr>\n",
       "      <th>25%</th>\n",
       "      <td>0.011649</td>\n",
       "      <td>37883.000000</td>\n",
       "    </tr>\n",
       "    <tr>\n",
       "      <th>50%</th>\n",
       "      <td>0.041444</td>\n",
       "      <td>46272.000000</td>\n",
       "    </tr>\n",
       "    <tr>\n",
       "      <th>75%</th>\n",
       "      <td>0.121059</td>\n",
       "      <td>54981.000000</td>\n",
       "    </tr>\n",
       "    <tr>\n",
       "      <th>max</th>\n",
       "      <td>0.981658</td>\n",
       "      <td>136529.000000</td>\n",
       "    </tr>\n",
       "  </tbody>\n",
       "</table>\n",
       "</div>"
      ],
      "text/plain": [
       "          prpblck         income\n",
       "count  409.000000     409.000000\n",
       "mean     0.113486   47053.784841\n",
       "std      0.182416   13179.286069\n",
       "min      0.000000   15919.000000\n",
       "25%      0.011649   37883.000000\n",
       "50%      0.041444   46272.000000\n",
       "75%      0.121059   54981.000000\n",
       "max      0.981658  136529.000000"
      ]
     },
     "execution_count": 60,
     "metadata": {},
     "output_type": "execute_result"
    }
   ],
   "source": [
    "fast_food[['prpblck','income']].describe() # percentage and dollars?"
   ]
  },
  {
   "cell_type": "markdown",
   "metadata": {},
   "source": [
    "### Linear Regressions"
   ]
  },
  {
   "cell_type": "markdown",
   "metadata": {},
   "source": [
    "#### 7.  Consider a model to explain the price of soda _psoda_, in terms of the proportion of the African American population and the median income\n",
    "    \n",
    "    psoda = β0 + β1prpblck + β2income + e\n"
   ]
  },
  {
   "cell_type": "code",
   "execution_count": 61,
   "metadata": {
    "collapsed": false
   },
   "outputs": [],
   "source": [
    "# Define your linear model \n",
    "# Define the target variable, called it y\n",
    "# Define your predictors, called them X\n",
    "# Print the shapes of your y and X\n",
    "\n",
    "lm = linear_model.LinearRegression()\n",
    "\n",
    "X = fast_food[['prpblck','income']]\n",
    "y = fast_food[\"psoda\"]\n",
    "\n",
    "\n"
   ]
  },
  {
   "cell_type": "code",
   "execution_count": 75,
   "metadata": {
    "collapsed": false
   },
   "outputs": [
    {
     "data": {
      "image/png": "[encoded data removed]",
      "text/plain": [
       "<matplotlib.figure.Figure at 0x1182b3090>"
      ]
     },
     "metadata": {
      "image/png": {
       "height": 273,
       "width": 394
      }
     },
     "output_type": "display_data"
    },
    {
     "name": "stdout",
     "output_type": "stream",
     "text": [
      "MSE: 0.00724966165558\n",
      "Intercept: 0.957615682412\n"
     ]
    }
   ],
   "source": [
    "# Fit your model\n",
    "# Predict your y, call them predictions, print the shape of predictions\n",
    "# Print the shape of predictions\n",
    "model = lm.fit(X, y)\n",
    "predictions = model.predict(X)\n",
    "\n",
    "# Plot the model\n",
    "plt.scatter(predictions, y, s=30, c='r', marker='*', zorder=10) \n",
    "plt.xlabel(\"Predicted Values from PRP-Income\")\n",
    "plt.ylabel(\"Actual Values psoda\")\n",
    "plt.show()\n",
    "print \"MSE:\", mean_squared_error(y, predictions)\n",
    "print 'Intercept: %s' % model.intercept_\n"
   ]
  },
  {
   "cell_type": "code",
   "execution_count": 69,
   "metadata": {
    "collapsed": false
   },
   "outputs": [
    {
     "data": {
      "image/png": "[encoded data removed]",
      "text/plain": [
       "<matplotlib.figure.Figure at 0x118492e10>"
      ]
     },
     "metadata": {
      "image/png": {
       "height": 273,
       "width": 392
      }
     },
     "output_type": "display_data"
    },
    {
     "name": "stdout",
     "output_type": "stream",
     "text": [
      "MSE: 0.0540586982747\n"
     ]
    }
   ],
   "source": [
    "import statsmodels.api as sm\n",
    "x = fast_food[['prpblck','income']]\n",
    "y = fast_food[\"psoda\"]\n",
    "\n",
    "model = sm.OLS(y,x).fit()\n",
    "predictions = model.predict(x)\n",
    "\n",
    "plt.scatter(predictions, y, c='b',marker='^',s=30)\n",
    "plt.xlabel(\"Predicted Values from PRP-Income\")\n",
    "plt.ylabel(\"Actual Values psoda\")\n",
    "plt.show()\n",
    "\n",
    "print \"MSE:\", mean_squared_error(y, predictions)\n"
   ]
  },
  {
   "cell_type": "code",
   "execution_count": 64,
   "metadata": {
    "collapsed": false
   },
   "outputs": [],
   "source": [
    "## Is there a difference between the means for actual values (psoda) and your predictions\n",
    "# yes"
   ]
  },
  {
   "cell_type": "code",
   "execution_count": 65,
   "metadata": {
    "collapsed": false,
    "scrolled": false
   },
   "outputs": [
    {
     "data": {
      "text/plain": [
       "<matplotlib.axes._subplots.AxesSubplot at 0x11d31fe10>"
      ]
     },
     "execution_count": 65,
     "metadata": {},
     "output_type": "execute_result"
    },
    {
     "data": {
      "image/png": "[encoded data removed]",
      "text/plain": [
       "<matplotlib.figure.Figure at 0x11d2fae90>"
      ]
     },
     "metadata": {
      "image/png": {
       "height": 273,
       "width": 392
      }
     },
     "output_type": "display_data"
    }
   ],
   "source": [
    "## Construct a scatter plot of your model. Use your predicted values as your y axis and your y values as your x axis\n",
    "## Print the Mean Square error see/read this link \n",
    "## http://mste.illinois.edu/patel/amar430/meansquare.html\n",
    "compared = fast_food\n",
    "compared.loc[:, 'Predicted PRP-Income (y_hat)'] = predictions\n",
    "compared.loc[:, 'Actual psoda (y)'] = y\n",
    "\n",
    "compared.plot(kind='scatter',x='Predicted PRP-Income (y_hat)',y='Actual psoda (y)')\n",
    "\n"
   ]
  },
  {
   "cell_type": "code",
   "execution_count": 66,
   "metadata": {
    "collapsed": false
   },
   "outputs": [
    {
     "data": {
      "text/html": [
       "<table class=\"simpletable\">\n",
       "<caption>OLS Regression Results</caption>\n",
       "<tr>\n",
       "  <th>Dep. Variable:</th>          <td>psoda</td>      <th>  R-squared:         </th> <td>   0.951</td> \n",
       "</tr>\n",
       "<tr>\n",
       "  <th>Model:</th>                   <td>OLS</td>       <th>  Adj. R-squared:    </th> <td>   0.951</td> \n",
       "</tr>\n",
       "<tr>\n",
       "  <th>Method:</th>             <td>Least Squares</td>  <th>  F-statistic:       </th> <td>   3940.</td> \n",
       "</tr>\n",
       "<tr>\n",
       "  <th>Date:</th>             <td>Mon, 08 Aug 2016</td> <th>  Prob (F-statistic):</th> <td>4.59e-267</td>\n",
       "</tr>\n",
       "<tr>\n",
       "  <th>Time:</th>                 <td>16:53:30</td>     <th>  Log-Likelihood:    </th> <td>  16.321</td> \n",
       "</tr>\n",
       "<tr>\n",
       "  <th>No. Observations:</th>      <td>   409</td>      <th>  AIC:               </th> <td>  -28.64</td> \n",
       "</tr>\n",
       "<tr>\n",
       "  <th>Df Residuals:</th>          <td>   407</td>      <th>  BIC:               </th> <td>  -20.61</td> \n",
       "</tr>\n",
       "<tr>\n",
       "  <th>Df Model:</th>              <td>     2</td>      <th>                     </th>     <td> </td>    \n",
       "</tr>\n",
       "<tr>\n",
       "  <th>Covariance Type:</th>      <td>nonrobust</td>    <th>                     </th>     <td> </td>    \n",
       "</tr>\n",
       "</table>\n",
       "<table class=\"simpletable\">\n",
       "<tr>\n",
       "     <td></td>        <th>coef</th>     <th>std err</th>      <th>t</th>      <th>P>|t|</th> <th>[95.0% Conf. Int.]</th> \n",
       "</tr>\n",
       "<tr>\n",
       "  <th>prpblck</th> <td>    0.8310</td> <td>    0.059</td> <td>   14.116</td> <td> 0.000</td> <td>    0.715     0.947</td>\n",
       "</tr>\n",
       "<tr>\n",
       "  <th>income</th>  <td> 1.917e-05</td> <td> 2.59e-07</td> <td>   74.144</td> <td> 0.000</td> <td> 1.87e-05  1.97e-05</td>\n",
       "</tr>\n",
       "</table>\n",
       "<table class=\"simpletable\">\n",
       "<tr>\n",
       "  <th>Omnibus:</th>       <td>122.930</td> <th>  Durbin-Watson:     </th> <td>   1.191</td> \n",
       "</tr>\n",
       "<tr>\n",
       "  <th>Prob(Omnibus):</th> <td> 0.000</td>  <th>  Jarque-Bera (JB):  </th> <td> 621.384</td> \n",
       "</tr>\n",
       "<tr>\n",
       "  <th>Skew:</th>          <td>-1.194</td>  <th>  Prob(JB):          </th> <td>1.17e-135</td>\n",
       "</tr>\n",
       "<tr>\n",
       "  <th>Kurtosis:</th>      <td> 8.546</td>  <th>  Cond. No.          </th> <td>2.50e+05</td> \n",
       "</tr>\n",
       "</table>"
      ],
      "text/plain": [
       "<class 'statsmodels.iolib.summary.Summary'>\n",
       "\"\"\"\n",
       "                            OLS Regression Results                            \n",
       "==============================================================================\n",
       "Dep. Variable:                  psoda   R-squared:                       0.951\n",
       "Model:                            OLS   Adj. R-squared:                  0.951\n",
       "Method:                 Least Squares   F-statistic:                     3940.\n",
       "Date:                Mon, 08 Aug 2016   Prob (F-statistic):          4.59e-267\n",
       "Time:                        16:53:30   Log-Likelihood:                 16.321\n",
       "No. Observations:                 409   AIC:                            -28.64\n",
       "Df Residuals:                     407   BIC:                            -20.61\n",
       "Df Model:                           2                                         \n",
       "Covariance Type:            nonrobust                                         \n",
       "==============================================================================\n",
       "                 coef    std err          t      P>|t|      [95.0% Conf. Int.]\n",
       "------------------------------------------------------------------------------\n",
       "prpblck        0.8310      0.059     14.116      0.000         0.715     0.947\n",
       "income      1.917e-05   2.59e-07     74.144      0.000      1.87e-05  1.97e-05\n",
       "==============================================================================\n",
       "Omnibus:                      122.930   Durbin-Watson:                   1.191\n",
       "Prob(Omnibus):                  0.000   Jarque-Bera (JB):              621.384\n",
       "Skew:                          -1.194   Prob(JB):                    1.17e-135\n",
       "Kurtosis:                       8.546   Cond. No.                     2.50e+05\n",
       "==============================================================================\n",
       "\n",
       "Warnings:\n",
       "[1] Standard Errors assume that the covariance matrix of the errors is correctly specified.\n",
       "[2] The condition number is large, 2.5e+05. This might indicate that there are\n",
       "strong multicollinearity or other numerical problems.\n",
       "\"\"\""
      ]
     },
     "execution_count": 66,
     "metadata": {},
     "output_type": "execute_result"
    }
   ],
   "source": [
    "## What is the coefficient of determination (R^2) of the prediction. In other words,what is the accuracy of your model?\n",
    "\n",
    "#0.951\n",
    "\n",
    "from sklearn.metrics import mean_squared_error\n",
    "model.summary()\n",
    "\n",
    "# other scikit version:\n",
    "# print \"R^2 / Variance Explained Score (1 = perfect score): \\n%f \\n\" % score\n"
   ]
  },
  {
   "cell_type": "code",
   "execution_count": 67,
   "metadata": {
    "collapsed": false
   },
   "outputs": [
    {
     "ename": "IndentationError",
     "evalue": "unexpected indent (<ipython-input-67-db658ec41468>, line 3)",
     "output_type": "error",
     "traceback": [
      "\u001b[0;36m  File \u001b[0;32m\"<ipython-input-67-db658ec41468>\"\u001b[0;36m, line \u001b[0;32m3\u001b[0m\n\u001b[0;31m    coef\u001b[0m\n\u001b[0m    ^\u001b[0m\n\u001b[0;31mIndentationError\u001b[0m\u001b[0;31m:\u001b[0m unexpected indent\n"
     ]
    }
   ],
   "source": [
    "# ## Print the estimated coefficients of your model.\n",
    "\n",
    "        coef\n",
    "prpblc  .8310\n",
    "income  1.917e-05\n",
    "\n",
    "# other scikit method: \n",
    "# print \"Coefficients ('RM'): \\n%s \\n\" % model.coef_"
   ]
  },
  {
   "cell_type": "code",
   "execution_count": null,
   "metadata": {
    "collapsed": false
   },
   "outputs": [],
   "source": [
    "## What is the intercept of your model.\n",
    "\n",
    "# other scikit method:\n",
    "# print 'Intercept: %s' % model.intercept_\n",
    "\n",
    "#MSE: 0.00724966165558\n",
    "#Intercept: 0.957615682412 + .8310(prpblc)"
   ]
  },
  {
   "cell_type": "code",
   "execution_count": null,
   "metadata": {
    "collapsed": true
   },
   "outputs": [],
   "source": [
    "## Write your results in equation form, include the sample size and R^2\n",
    "## Interpret the coefficient on prpblck\n",
    "N = 409\n",
    "R^2 = 0.951\n",
    "y ~ 0.957615682412 + 0.8310(prpblc) + 1.917e-05(income) # + 0.00724966165558?/MSE"
   ]
  },
  {
   "cell_type": "markdown",
   "metadata": {},
   "source": [
    "### 8.  Compare the estimate from question 7 with a simple regression estimate from _psoda_ on _prpblck_. Is the discrimination effect larger or smaller when you control/include income on your predictors?\n",
    "    \n",
    "    psoda = β0 + β1prpblck + e"
   ]
  },
  {
   "cell_type": "code",
   "execution_count": 77,
   "metadata": {
    "collapsed": false
   },
   "outputs": [],
   "source": [
    "# Define your predictors and called them X\n",
    "lm = linear_model.LinearRegression()\n",
    "\n",
    "X = fast_food[['prpblck']]\n",
    "y = fast_food[\"psoda\"]\n",
    "\n",
    "# Print the shapes of your y and X\n"
   ]
  },
  {
   "cell_type": "code",
   "execution_count": 78,
   "metadata": {
    "collapsed": true
   },
   "outputs": [],
   "source": [
    "# Fit your model\n",
    "model = lm.fit(X, y)\n"
   ]
  },
  {
   "cell_type": "code",
   "execution_count": 79,
   "metadata": {
    "collapsed": false
   },
   "outputs": [],
   "source": [
    "# find the predictors and called them predictions\n",
    "# print the shape of predictions\n",
    "predictions = model.predict(X)"
   ]
  },
  {
   "cell_type": "code",
   "execution_count": 82,
   "metadata": {
    "collapsed": false
   },
   "outputs": [
    {
     "data": {
      "image/png": "[encoded data removed]",
      "text/plain": [
       "<matplotlib.figure.Figure at 0x11b03b910>"
      ]
     },
     "metadata": {
      "image/png": {
       "height": 273,
       "width": 394
      }
     },
     "output_type": "display_data"
    },
    {
     "name": "stdout",
     "output_type": "stream",
     "text": [
      "MSE: 0.00760680000723\n",
      "Residual sum of squares: \n",
      "0.01 \n",
      "\n",
      "Coefficients ('RM'): \n",
      "[ 0.06328429] \n",
      "\n",
      "Intercept: 1.03824403319\n"
     ]
    }
   ],
   "source": [
    "## Is there a difference between the means for actual values (psoda) and your predictions\n",
    "plt.scatter(predictions, y, c='b',marker='^',s=30)\n",
    "plt.xlabel(\"Predicted Values from PRP\")\n",
    "plt.ylabel(\"Actual Values psoda\")\n",
    "plt.show()\n",
    "\n",
    "print \"MSE:\", mean_squared_error(y, predictions)\n",
    " # \n",
    "print \"Coefficients ('RM'): \\n%s \\n\" % model.coef_  # when do these objects show up? after you fit\n",
    "#print \"R^2 / Variance Explained Score (1 = perfect score): \\n%f \\n\" % score\n",
    "print 'Intercept: %s' % model.intercept_"
   ]
  },
  {
   "cell_type": "code",
   "execution_count": 84,
   "metadata": {
    "collapsed": false
   },
   "outputs": [
    {
     "name": "stdout",
     "output_type": "stream",
     "text": [
      "Residual sum of squares: \n",
      "0.01 \n",
      "\n"
     ]
    },
    {
     "data": {
      "image/png": "[encoded data removed]",
      "text/plain": [
       "<matplotlib.figure.Figure at 0x117f97e50>"
      ]
     },
     "metadata": {
      "image/png": {
       "height": 273,
       "width": 394
      }
     },
     "output_type": "display_data"
    }
   ],
   "source": [
    "## Construct a scatter plot of your model. Use your predicted values as your y axis and your y values as your x axis\n",
    "## Print the Mean Square error \n",
    "compared = fast_food\n",
    "compared.loc[:, 'Predicted PRP (y_hat)'] = predictions\n",
    "compared.loc[:, 'Actual psoda (y)'] = y\n",
    "\n",
    "compared.plot(kind='scatter',x='Predicted PRP (y_hat)',y='Actual psoda (y)')\n",
    "\n",
    "\n",
    "print \"Residual sum of squares: \\n%.2f \\n\" % (np.mean((predictions - y) ** 2)) "
   ]
  },
  {
   "cell_type": "code",
   "execution_count": null,
   "metadata": {
    "collapsed": false
   },
   "outputs": [],
   "source": [
    "## What is the accuracy of your model?\n",
    "R^2 = 0.06328429"
   ]
  },
  {
   "cell_type": "code",
   "execution_count": 85,
   "metadata": {
    "collapsed": false
   },
   "outputs": [
    {
     "name": "stdout",
     "output_type": "stream",
     "text": [
      "Coefficients ('RM'): \n",
      "[ 0.06328429] \n",
      "\n"
     ]
    }
   ],
   "source": [
    "## Print the estimated coefficients for the linear regression problem\n",
    "print \"Coefficients ('RM'): \\n%s \\n\" % model.coef_"
   ]
  },
  {
   "cell_type": "code",
   "execution_count": null,
   "metadata": {
    "collapsed": false
   },
   "outputs": [],
   "source": [
    "## What is the intercept of your model.\n"
   ]
  },
  {
   "cell_type": "code",
   "execution_count": null,
   "metadata": {
    "collapsed": true
   },
   "outputs": [],
   "source": [
    "## Write your results in equation form, include the sample size and R^2"
   ]
  },
  {
   "cell_type": "markdown",
   "metadata": {},
   "source": [
    "#### 9.  Now Use StatsModel and repeat questions 7 and 8\n",
    "http://statsmodels.sourceforge.net/devel/example_formulas.html\n",
    "\n",
    "##### Helpful Notes to Keep in mind:\n",
    "1. P value for a coefficient says nothing about the size of the effect that variable is having on your dependent variable - it is possible to have a highly significant result (very small P-value) for a miniscule effect.\n",
    "2. With a P value of 5% (or .05) there is only a 5% chance that results you are seeing would have come up in a \n",
    "random distribution, so you can say with a 95% probability of being correct that the variable is having some effect, assuming your model is specified correctly.\n",
    "3. In simple or multiple linear regression, the size of the coefficient for each independent variable gives you \n",
    "the size of the effect that variable is having on your dependent/target (y) variable, and the sign on the coefficient \n",
    "(positive or negative) gives you the direction of the effect. In regression with a single independent/predictor variable, the coefficient tells you how much the dependent variable is expected to increase (if the coefficient is positive) or decrease (if the coefficient is negative) when that independent variable increases by one unit. \n",
    "4. In regression with multiple independent/predictors variables, the coefficient tells you how much the dependent variable is expected to increase when that independent variable increases by one unit, \"_holding all the other independent variables constant_\". Remember to keep in mind the units which your variables are measured in."
   ]
  },
  {
   "cell_type": "code",
   "execution_count": null,
   "metadata": {
    "collapsed": false
   },
   "outputs": [],
   "source": [
    "import statsmodels.formula.api as smf\n"
   ]
  },
  {
   "cell_type": "code",
   "execution_count": null,
   "metadata": {
    "collapsed": false
   },
   "outputs": [],
   "source": []
  },
  {
   "cell_type": "markdown",
   "metadata": {},
   "source": [
    "#### 10. There is one fundamental step that I have \"purposely\" left out? Can you guess what this step is, and implement it. Use Matplotlib and Seaborn (regplot) to graph hem."
   ]
  },
  {
   "cell_type": "code",
   "execution_count": null,
   "metadata": {
    "collapsed": false
   },
   "outputs": [],
   "source": []
  },
  {
   "cell_type": "markdown",
   "metadata": {},
   "source": [
    "### Before you move to the next question, read this article \"Why I'm not a fan of R-Squared\"\n",
    "http://www.johnmyleswhite.com/notebook/2016/07/23/why-im-not-a-fan-of-r-squared/"
   ]
  },
  {
   "cell_type": "markdown",
   "metadata": {},
   "source": [
    "### Bonus\n",
    "#### 11. Report the estimates of the follwing model (use sklearn):\n",
    "    log(psoda) = β0 + β1prpblck + β2log(income) + e\n"
   ]
  },
  {
   "cell_type": "code",
   "execution_count": null,
   "metadata": {
    "collapsed": false
   },
   "outputs": [],
   "source": [
    "## If there are missing observations on any of the log variables, would you dropped them\n",
    "## from the dataset, if so how does this impact your calculations?\n",
    "## Fill the missing values of lpsoda with 0\n"
   ]
  },
  {
   "cell_type": "code",
   "execution_count": null,
   "metadata": {
    "collapsed": false
   },
   "outputs": [],
   "source": [
    "## Plot a histogram that will have 2 histograms showing the distribution of psoda and lpsoda\n",
    "## Are they the same?\n"
   ]
  },
  {
   "cell_type": "code",
   "execution_count": null,
   "metadata": {
    "collapsed": false
   },
   "outputs": [],
   "source": [
    "## Plot a histogram of the variable log of income (lincome)\n"
   ]
  },
  {
   "cell_type": "code",
   "execution_count": null,
   "metadata": {
    "collapsed": false
   },
   "outputs": [],
   "source": [
    "## Plot a histogram of the variable income \n"
   ]
  },
  {
   "cell_type": "code",
   "execution_count": null,
   "metadata": {
    "collapsed": true
   },
   "outputs": [],
   "source": [
    "## Can you explain what log is doing to the variables (income, and price of soda (psoda))"
   ]
  },
  {
   "cell_type": "code",
   "execution_count": null,
   "metadata": {
    "collapsed": false
   },
   "outputs": [],
   "source": [
    "## In one graph use seaborn regplot to graph\n",
    "## graph psoda, vs lincome\n",
    "## graph lpsoda vs income\n",
    "## graph lpsoda vs lincome\n"
   ]
  },
  {
   "cell_type": "code",
   "execution_count": null,
   "metadata": {
    "collapsed": false
   },
   "outputs": [],
   "source": [
    "## graph lpsoda vs income\n"
   ]
  },
  {
   "cell_type": "code",
   "execution_count": null,
   "metadata": {
    "collapsed": false
   },
   "outputs": [],
   "source": [
    "# graph lpsoda vs lincome\n"
   ]
  },
  {
   "cell_type": "code",
   "execution_count": null,
   "metadata": {
    "collapsed": false
   },
   "outputs": [],
   "source": [
    "# Define your linear model \n",
    "\n",
    "\n",
    "# Define the target variable, called it y\n",
    "\n",
    "\n",
    "\n",
    "# Define your predictors, called them X\n",
    "\n",
    "\n",
    "# Print the shapes of your y and X\n",
    "\n",
    "\n"
   ]
  },
  {
   "cell_type": "code",
   "execution_count": null,
   "metadata": {
    "collapsed": false
   },
   "outputs": [],
   "source": [
    "# Fit your model\n",
    "\n",
    "\n",
    "# Predict your y, call them predictions, print the shape of predictions\n",
    "# Print the shape of predictions\n"
   ]
  },
  {
   "cell_type": "code",
   "execution_count": null,
   "metadata": {
    "collapsed": false
   },
   "outputs": [],
   "source": [
    "## Graph your predicted and y values\n"
   ]
  },
  {
   "cell_type": "code",
   "execution_count": null,
   "metadata": {
    "collapsed": false
   },
   "outputs": [],
   "source": [
    "## Print the coefficients, and R2, interpret your result \n",
    "## See/read this link for interpretation of results/coeficients: \n",
    "## http://www.ats.ucla.edu/stat/mult_pkg/faq/general/log_transformed_regression.htm\n",
    "\n",
    "\n",
    "\n",
    "## Do you think that is model is more appropriate? "
   ]
  },
  {
   "cell_type": "code",
   "execution_count": null,
   "metadata": {
    "collapsed": false
   },
   "outputs": [],
   "source": [
    "## Now add the variable prppov to the regression in question 11, What happened with prpblck?\n",
    "\n",
    "# Define your linear model \n",
    "\n",
    "\n",
    "# Define the target variable, called it y\n",
    "\n",
    "\n",
    "\n",
    "# Define your predictors, called them X\n",
    "\n",
    "\n",
    "# Print the shapes of your y and X\n"
   ]
  },
  {
   "cell_type": "code",
   "execution_count": null,
   "metadata": {
    "collapsed": false
   },
   "outputs": [],
   "source": [
    "# Fit your model\n",
    "\n",
    "\n",
    "# Predict your y, call them predictions, print the shape of predictions\n",
    "# Print the shape of predictions\n",
    "\n",
    "## Print the coefficients, and R2, interpret your result\n"
   ]
  },
  {
   "cell_type": "code",
   "execution_count": null,
   "metadata": {
    "collapsed": false
   },
   "outputs": [],
   "source": [
    "## Find the correlatoion between log(income) and prpov. Is it close to what you expected?\n"
   ]
  },
  {
   "cell_type": "code",
   "execution_count": null,
   "metadata": {
    "collapsed": true
   },
   "outputs": [],
   "source": [
    "## What are your thoughts on this statement:\n",
    "## \"Because log(income) and prppov are so highky correlated, they have no business in being \n",
    "## included in the same regression\""
   ]
  },
  {
   "cell_type": "code",
   "execution_count": null,
   "metadata": {
    "collapsed": false
   },
   "outputs": [],
   "source": []
  },
  {
   "cell_type": "code",
   "execution_count": null,
   "metadata": {
    "collapsed": true
   },
   "outputs": [],
   "source": []
  }
 ],
 "metadata": {
  "anaconda-cloud": {},
  "kernelspec": {
   "display_name": "Python [dsi]",
   "language": "python",
   "name": "Python [dsi]"
  },
  "language_info": {
   "codemirror_mode": {
    "name": "ipython",
    "version": 2
   },
   "file_extension": ".py",
   "mimetype": "text/x-python",
   "name": "python",
   "nbconvert_exporter": "python",
   "pygments_lexer": "ipython2",
   "version": "2.7.12"
  }
 },
 "nbformat": 4,
 "nbformat_minor": 0
}
