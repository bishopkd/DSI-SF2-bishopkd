{
 "cells": [
  {
   "cell_type": "markdown",
   "metadata": {},
   "source": [
    "<img src=\"http://imgur.com/1ZcRyrc.png\" style=\"float: left; margin: 15px; height: 80px\">\n",
    "\n",
    "# Project 4\n",
    "\n",
    "## Help Yelp\n",
    "\n",
    "---\n",
    "\n",
    "In this project you will be investigating a small version of the [Yelp challenge dataset](https://www.yelp.com/dataset_challenge). You'll practice using classification algorithms, cross-validation, gridsearching – all that good stuff.\n",
    "\n"
   ]
  },
  {
   "cell_type": "markdown",
   "metadata": {},
   "source": [
    "---\n",
    "\n",
    "### The data\n",
    "\n",
    "There are 5 individual .csv files that have the information, zipped into .7z format like with the SF data last project. The dataset is located in your datasets folder:\n",
    "\n",
    "    DSI-SF-2/datasets/yelp_arizona_data.7z\n",
    "\n",
    "The columns in each are:\n",
    "\n",
    "    businesses_small_parsed.csv\n",
    "        business_id: unique business identifier\n",
    "        name: name of the business\n",
    "        review_count: number of reviews per business\n",
    "        city: city business resides in\n",
    "        stars: average rating\n",
    "        categories: categories the business falls into (can be one or multiple)\n",
    "        latitude\n",
    "        longitude\n",
    "        neighborhoods: neighborhoods business belongs to\n",
    "        variable: \"property\" of the business (a tag)\n",
    "        value: True/False for the property\n",
    "        \n",
    "    reviews_small_nlp_parsed.csv\n",
    "        user_id: unique user identifier\n",
    "        review_id: unique review identifier\n",
    "        votes.cool: how many thought the review was \"cool\"\n",
    "        business_id: unique business id the review is for\n",
    "        votes.funny: how many thought the review was funny\n",
    "        stars: rating given\n",
    "        date: date of review\n",
    "        votes.useful: how many thought the review was useful\n",
    "        ... 100 columns of counts of most common 2 word phrases that appear in reviews in this review\n",
    "        \n",
    "    users_small_parsed.csv\n",
    "        yelping_since: signup date\n",
    "        compliments.plain: # of compliments \"plain\"\n",
    "        review_count: # of reviews:\n",
    "        compliments.cute: total # of compliments \"cute\"\n",
    "        compliments.writer: # of compliments \"writer\"\n",
    "        compliments.note: # of compliments \"note\" (not sure what this is)\n",
    "        compliments.hot: # of compliments \"hot\" (?)\n",
    "        compliments.cool: # of compliments \"cool\"\n",
    "        compliments.profile: # of compliments \"profile\"\n",
    "        average_stars: average rating\n",
    "        compliments.more: # of compliments \"more\"\n",
    "        elite: years considered \"elite\"\n",
    "        name: user's name\n",
    "        user_id: unique user id\n",
    "        votes.cool: # of votes \"cool\"\n",
    "        compliments.list: # of compliments \"list\"\n",
    "        votes.funny: # of compliments \"funny\"\n",
    "        compliments.photos: # of compliments \"photos\"\n",
    "        compliments.funny: # of compliments \"funny\"\n",
    "        votes.useful: # of votes \"useful\"\n",
    "       \n",
    "    checkins_small_parsed.csv\n",
    "        business_id: unique business identifier\n",
    "        variable: day-time identifier of checkins (0-0 is Sunday 0:00 - 1:00am,  for example)\n",
    "        value: # of checkins at that time\n",
    "    \n",
    "    tips_small_nlp_parsed.csv\n",
    "        user_id: unique user identifier\n",
    "        business_id: unique business identifier\n",
    "        likes: likes that the tip has\n",
    "        date: date of tip\n",
    "        ... 100 columns of counts of most common 2 word phrases that appear in tips in this tip\n",
    "\n",
    "The reviews and tips datasets in particular have parsed \"NLP\" columns with counts of 2-word phrases in that review or tip (a \"tip\", it seems, is some kind of smaller review).\n",
    "\n",
    "The user dataset has a lot of columns of counts of different compliments and votes. I'm not sure whether the compliments or votes are _by_ the user or _for_ the user.\n",
    "\n",
    "---\n",
    "\n",
    "If you look at the website, or the full data, you'll see I have removed pieces of the data and cut it down quite a bit. This is to simplify it for this project. Specifically, business are limited to be in these cities:\n",
    "\n",
    "    Phoenix\n",
    "    Surprise\n",
    "    Las Vegas\n",
    "    Waterloo\n",
    "\n",
    "Apparently there is a city called \"Surprise\" in Arizona. \n",
    "\n",
    "Businesses are also restricted to at least be in one of the following categories, because I thought the mix of them was funny:\n",
    "\n",
    "    Airports\n",
    "    Breakfast & Brunch\n",
    "    Bubble Tea\n",
    "    Burgers\n",
    "    Bars\n",
    "    Bakeries\n",
    "    Breweries\n",
    "    Cafes\n",
    "    Candy Stores\n",
    "    Comedy Clubs\n",
    "    Courthouses\n",
    "    Dance Clubs\n",
    "    Fast Food\n",
    "    Museums\n",
    "    Tattoo\n",
    "    Vape Shops\n",
    "    Yoga\n",
    "    \n",
    "---\n",
    "\n",
    "### Project requirements\n",
    "\n",
    "**You will be performing 4 different sections of analysis, like in the last project.**\n",
    "\n",
    "Remember that classification targets are categorical and regression targets are continuous variables."
   ]
  },
  {
   "cell_type": "markdown",
   "metadata": {},
   "source": [
    "<img src=\"http://imgur.com/l5NasQj.png\" style=\"float: left; margin: 25px 15px 0px 0px; height: 25px\">\n",
    "\n",
    "## 1. Constructing a \"profile\" for Las Vegas\n",
    "\n",
    "---\n",
    "\n",
    "Yelp is interested in building out what they are calling \"profiles\" for cities. They want you to start with just Las Vegas to see what a prototype of this would look like. Essentially, they want to know what makes Las Vegas distinct from the other four.\n",
    "\n",
    "Use the data you have to predict Las Vegas from the other variables you have. You should not be predicting the city from any kind of location data or other data perfectly associated with that city (or another city).\n",
    "\n",
    "You may use any classification algorithm you deem appropriate, or even multiple models. You should:\n",
    "\n",
    "1. Build at least one model predicting Las Vegas vs. the other cities.\n",
    "- Validate your model(s).\n",
    "- Interpret and visualize, in some way, the results.\n",
    "- Write up a \"profile\" for Las Vegas. This should be a writeup converting your findings from the model(s) into a human-readable description of the city."
   ]
  },
  {
   "cell_type": "code",
   "execution_count": 502,
   "metadata": {
    "collapsed": true
   },
   "outputs": [],
   "source": [
    "import numpy as np\n",
    "import pandas as pd\n",
    "import patsy\n",
    "from datetime import datetime\n",
    "import matplotlib\n",
    "import matplotlib.pyplot as plt\n",
    "import seaborn as sns\n",
    "plt.style.use('fivethirtyeight')\n",
    "\n",
    "%matplotlib inline\n",
    "\n",
    "from sklearn.linear_model import (LinearRegression, LogisticRegression, \n",
    "                                  Lasso, Ridge,\n",
    "                                  SGDRegressor, SGDClassifier)\n",
    "from sklearn.preprocessing import StandardScaler\n",
    "from sklearn.cross_validation import cross_val_score\n",
    "from sklearn.grid_search import GridSearchCV, RandomizedSearchCV\n",
    "from sklearn import grid_search\n",
    "\n",
    "from sklearn.cross_validation import cross_val_score, StratifiedKFold\n",
    "from sklearn.neighbors import KNeighborsClassifier\n",
    "\n",
    "import scipy.stats as stats"
   ]
  },
  {
   "cell_type": "code",
   "execution_count": 168,
   "metadata": {
    "collapsed": true
   },
   "outputs": [],
   "source": [
    "filen = '/Users/katbishop/Desktop/DSI-SF2-bishopkd/datasets/yelp_arizona_data/businesses_small_parsed.csv'\n",
    "filen2 = '/Users/katbishop/Desktop/DSI-SF2-bishopkd/datasets/yelp_arizona_data/checkins_small_parsed.csv'\n",
    "filen3 = '/Users/katbishop/Desktop/DSI-SF2-bishopkd/datasets/yelp_arizona_data/reviews_small_nlp_parsed.csv'\n",
    "filen4 = '/Users/katbishop/Desktop/DSI-SF2-bishopkd/datasets/yelp_arizona_data/users_small_parsed.csv'\n",
    "filen5 = '/Users/katbishop/Desktop/DSI-SF2-bishopkd/datasets/yelp_arizona_data/tips_small_nlp_parsed.csv'\n",
    "\n",
    "business = pd.read_csv(filen)\n",
    "checkins = pd.read_csv(filen2)\n",
    "revs = pd.read_csv(filen3)\n",
    "users = pd.read_csv(filen4)\n",
    "tips = pd.read_csv(filen5)"
   ]
  },
  {
   "cell_type": "code",
   "execution_count": 430,
   "metadata": {
    "collapsed": false
   },
   "outputs": [],
   "source": [
    "filen4 = '/Users/katbishop/Desktop/DSI-SF2-bishopkd/datasets/yelp_arizona_data/users_small_parsed.csv'\n",
    "users = pd.read_csv(filen4)\n"
   ]
  },
  {
   "cell_type": "code",
   "execution_count": 12,
   "metadata": {
    "collapsed": false
   },
   "outputs": [
    {
     "data": {
      "text/html": [
       "<div>\n",
       "<table border=\"1\" class=\"dataframe\">\n",
       "  <thead>\n",
       "    <tr style=\"text-align: right;\">\n",
       "      <th></th>\n",
       "      <th>business_id</th>\n",
       "      <th>variable</th>\n",
       "      <th>value</th>\n",
       "    </tr>\n",
       "  </thead>\n",
       "  <tbody>\n",
       "    <tr>\n",
       "      <th>0</th>\n",
       "      <td>SG_gEmEXL4ID6RAEinC5Bg</td>\n",
       "      <td>checkin_info.9-0</td>\n",
       "      <td>1.0</td>\n",
       "    </tr>\n",
       "    <tr>\n",
       "      <th>1</th>\n",
       "      <td>45puCRQ6Vh_IIAy7kkfFDQ</td>\n",
       "      <td>checkin_info.9-0</td>\n",
       "      <td>1.0</td>\n",
       "    </tr>\n",
       "  </tbody>\n",
       "</table>\n",
       "</div>"
      ],
      "text/plain": [
       "              business_id          variable  value\n",
       "0  SG_gEmEXL4ID6RAEinC5Bg  checkin_info.9-0    1.0\n",
       "1  45puCRQ6Vh_IIAy7kkfFDQ  checkin_info.9-0    1.0"
      ]
     },
     "execution_count": 12,
     "metadata": {},
     "output_type": "execute_result"
    }
   ],
   "source": [
    "checkins.head(2)"
   ]
  },
  {
   "cell_type": "code",
   "execution_count": 374,
   "metadata": {
    "collapsed": false
   },
   "outputs": [
    {
     "data": {
      "text/plain": [
       "business_id       object\n",
       "name              object\n",
       "review_count       int64\n",
       "city              object\n",
       "stars            float64\n",
       "categories        object\n",
       "latitude         float64\n",
       "longitude        float64\n",
       "neighborhoods     object\n",
       "variable          object\n",
       "value             object\n",
       "dtype: object"
      ]
     },
     "execution_count": 374,
     "metadata": {},
     "output_type": "execute_result"
    }
   ],
   "source": [
    "business.dtypes"
   ]
  },
  {
   "cell_type": "code",
   "execution_count": 169,
   "metadata": {
    "collapsed": false
   },
   "outputs": [
    {
     "data": {
      "text/plain": [
       "(152832, 11)"
      ]
     },
     "execution_count": 169,
     "metadata": {},
     "output_type": "execute_result"
    }
   ],
   "source": [
    "business.shape"
   ]
  },
  {
   "cell_type": "code",
   "execution_count": 170,
   "metadata": {
    "collapsed": false
   },
   "outputs": [],
   "source": [
    "bus_vars = pd.pivot_table(business,columns=['variable'], values='value', index=['business_id','review_count','stars', 'city','categories'], \n",
    "                          aggfunc=lambda x: \" \".join([str(y) for y in x])).reset_index()"
   ]
  },
  {
   "cell_type": "code",
   "execution_count": 192,
   "metadata": {
    "collapsed": false
   },
   "outputs": [
    {
     "data": {
      "text/plain": [
       "(4132, 83)"
      ]
     },
     "execution_count": 192,
     "metadata": {},
     "output_type": "execute_result"
    }
   ],
   "source": [
    "bus_vars['is_vegas'] = bus_vars['city'].apply(lambda x: 1 if x=='Las Vegas' else 0)\n",
    "bus_vars.drop('city', axis=1,inplace=True)\n",
    "bus_vars.shape"
   ]
  },
  {
   "cell_type": "code",
   "execution_count": 180,
   "metadata": {
    "collapsed": false
   },
   "outputs": [
    {
     "data": {
      "text/plain": [
       "<matplotlib.axes._subplots.AxesSubplot at 0x13c704850>"
      ]
     },
     "execution_count": 180,
     "metadata": {},
     "output_type": "execute_result"
    },
    {
     "data": {
      "image/png": "[encoded data removed]",
      "text/plain": [
       "<matplotlib.figure.Figure at 0x12b5a9b50>"
      ]
     },
     "metadata": {},
     "output_type": "display_data"
    }
   ],
   "source": [
    "bus_vars.rename(columns=lambda x: x.strip().replace(\" \", \"_\").replace(\".\", \"_\").replace(\"-\", \"_\").replace(\"attributes_\", \"\"), inplace=True)\n",
    "\n",
    "features = [x for x in bus.columns if x not in 'is_vegas']\n",
    "for f in features[4:]:\n",
    "    bus_vars[f] = bus_vars[f].apply(lambda x: 0 if x=='False' else 1 if x=='True' else x)\n",
    "\n",
    "sns.heatmap(bus_vars.corr())"
   ]
  },
  {
   "cell_type": "code",
   "execution_count": 181,
   "metadata": {
    "collapsed": false
   },
   "outputs": [
    {
     "data": {
      "text/plain": [
       "array(['business_id', 'review_count', 'stars', 'categories',\n",
       "       'Accepts_Credit_Cards', 'Accepts_Insurance', 'Ages_Allowed',\n",
       "       'Alcohol', 'Ambience_casual', 'Ambience_classy', 'Ambience_divey',\n",
       "       'Ambience_hipster', 'Ambience_intimate', 'Ambience_romantic',\n",
       "       'Ambience_touristy', 'Ambience_trendy', 'Ambience_upscale',\n",
       "       'Attire', 'BYOB', 'BYOB/Corkage', 'By_Appointment_Only', 'Caters',\n",
       "       'Coat_Check', 'Corkage', 'Delivery',\n",
       "       'Dietary_Restrictions_dairy_free',\n",
       "       'Dietary_Restrictions_gluten_free', 'Dietary_Restrictions_halal',\n",
       "       'Dietary_Restrictions_kosher', 'Dietary_Restrictions_soy_free',\n",
       "       'Dietary_Restrictions_vegan', 'Dietary_Restrictions_vegetarian',\n",
       "       'Dogs_Allowed', 'Drive_Thru', 'Good_For_Dancing', 'Good_For_Groups',\n",
       "       'Good_For_breakfast', 'Good_For_brunch', 'Good_For_dessert',\n",
       "       'Good_For_dinner', 'Good_For_latenight', 'Good_For_lunch',\n",
       "       'Good_for_Kids', 'Happy_Hour', 'Has_TV', 'Music_background_music',\n",
       "       'Music_dj', 'Music_jukebox', 'Music_karaoke', 'Music_live',\n",
       "       'Music_video', 'Noise_Level', 'Open_24_Hours', 'Order_at_Counter',\n",
       "       'Outdoor_Seating', 'Parking_garage', 'Parking_lot',\n",
       "       'Parking_street', 'Parking_valet', 'Parking_validated',\n",
       "       'Price_Range', 'Smoking', 'Take_out', 'Takes_Reservations',\n",
       "       'Waiter_Service', 'Wheelchair_Accessible', 'Wi_Fi',\n",
       "       'hours_Friday_close', 'hours_Friday_open', 'hours_Monday_close',\n",
       "       'hours_Monday_open', 'hours_Saturday_close', 'hours_Saturday_open',\n",
       "       'hours_Sunday_close', 'hours_Sunday_open', 'hours_Thursday_close',\n",
       "       'hours_Thursday_open', 'hours_Tuesday_close', 'hours_Tuesday_open',\n",
       "       'hours_Wednesday_close', 'hours_Wednesday_open', 'open', 'is_vegas'], dtype=object)"
      ]
     },
     "execution_count": 181,
     "metadata": {},
     "output_type": "execute_result"
    }
   ],
   "source": [
    "bus_vars.columns.values"
   ]
  },
  {
   "cell_type": "code",
   "execution_count": 218,
   "metadata": {
    "collapsed": false
   },
   "outputs": [
    {
     "data": {
      "text/plain": [
       "(4132, 83)"
      ]
     },
     "execution_count": 218,
     "metadata": {},
     "output_type": "execute_result"
    }
   ],
   "source": [
    "bus_vars.shape"
   ]
  },
  {
   "cell_type": "code",
   "execution_count": 228,
   "metadata": {
    "collapsed": false
   },
   "outputs": [],
   "source": [
    "fe = ['Dietary_Restrictions_gluten_free', 'Dietary_Restrictions_vegan', 'Corkage', 'Ambience_casual', 'Dogs_Allowed', 'BYOB', 'Delivery', 'Ambience_hipster', 'Ambience_touristy']\n",
    "for f in fe:\n",
    "    bus_vars[f] = bus_vars[f].apply(lambda x: 1 if x==1 else 0)\n"
   ]
  },
  {
   "cell_type": "code",
   "execution_count": 376,
   "metadata": {
    "collapsed": false
   },
   "outputs": [
    {
     "data": {
      "text/html": [
       "<div>\n",
       "<table border=\"1\" class=\"dataframe\">\n",
       "  <thead>\n",
       "    <tr style=\"text-align: right;\">\n",
       "      <th>variable</th>\n",
       "      <th>is_vegas</th>\n",
       "      <th>Dietary_Restrictions_gluten_free</th>\n",
       "      <th>Dietary_Restrictions_vegan</th>\n",
       "      <th>Corkage</th>\n",
       "      <th>Ambience_casual</th>\n",
       "      <th>Dogs_Allowed</th>\n",
       "      <th>BYOB</th>\n",
       "      <th>Delivery</th>\n",
       "      <th>Ambience_hipster</th>\n",
       "      <th>Ambience_touristy</th>\n",
       "    </tr>\n",
       "  </thead>\n",
       "  <tbody>\n",
       "    <tr>\n",
       "      <th>0</th>\n",
       "      <td>0</td>\n",
       "      <td>1</td>\n",
       "      <td>1</td>\n",
       "      <td>2</td>\n",
       "      <td>501</td>\n",
       "      <td>76</td>\n",
       "      <td>0</td>\n",
       "      <td>97</td>\n",
       "      <td>32</td>\n",
       "      <td>3</td>\n",
       "    </tr>\n",
       "    <tr>\n",
       "      <th>1</th>\n",
       "      <td>1</td>\n",
       "      <td>0</td>\n",
       "      <td>0</td>\n",
       "      <td>20</td>\n",
       "      <td>752</td>\n",
       "      <td>52</td>\n",
       "      <td>3</td>\n",
       "      <td>125</td>\n",
       "      <td>52</td>\n",
       "      <td>45</td>\n",
       "    </tr>\n",
       "  </tbody>\n",
       "</table>\n",
       "</div>"
      ],
      "text/plain": [
       "variable  is_vegas  Dietary_Restrictions_gluten_free  \\\n",
       "0                0                                 1   \n",
       "1                1                                 0   \n",
       "\n",
       "variable  Dietary_Restrictions_vegan  Corkage  Ambience_casual  Dogs_Allowed  \\\n",
       "0                                  1        2              501            76   \n",
       "1                                  0       20              752            52   \n",
       "\n",
       "variable  BYOB  Delivery  Ambience_hipster  Ambience_touristy  \n",
       "0            0        97                32                  3  \n",
       "1            3       125                52                 45  "
      ]
     },
     "execution_count": 376,
     "metadata": {},
     "output_type": "execute_result"
    }
   ],
   "source": [
    "veg_piv = bus_vars.groupby(['is_vegas'])[['Dietary_Restrictions_gluten_free', 'Dietary_Restrictions_vegan', 'Corkage', 'Ambience_casual', 'Dogs_Allowed', 'BYOB', 'Delivery', 'Ambience_hipster', 'Ambience_touristy']].sum().reset_index()\n",
    "veg_piv.head()"
   ]
  },
  {
   "cell_type": "code",
   "execution_count": 397,
   "metadata": {
    "collapsed": false
   },
   "outputs": [
    {
     "data": {
      "image/png": "[encoded data removed]",
      "text/plain": [
       "<matplotlib.figure.Figure at 0x1274bd2d0>"
      ]
     },
     "metadata": {},
     "output_type": "display_data"
    }
   ],
   "source": [
    "fig = plt.figure(figsize=(5,5))\n",
    "ax = fig.gca()\n",
    "\n",
    "veg_piv[['Ambience_touristy']].plot.bar(stacked=True, ax=ax)\n",
    "\n",
    "ax.set_title('Ambience in Vegas', fontsize=20)\n",
    "ax.set_xticklabels(veg_piv.is_vegas)\n",
    "ax.set_xlabel('Is Vegas')\n",
    "plt.show()\n"
   ]
  },
  {
   "cell_type": "code",
   "execution_count": 416,
   "metadata": {
    "collapsed": false
   },
   "outputs": [
    {
     "data": {
      "image/png": "[encoded data removed]",
      "text/plain": [
       "<matplotlib.figure.Figure at 0x1540e5550>"
      ]
     },
     "metadata": {},
     "output_type": "display_data"
    }
   ],
   "source": [
    "import matplotlib.pyplot as plt\n",
    "import seaborn as sns\n",
    "\n",
    "\n",
    "fig, ax = plt.subplots(1, 3, figsize=(15,5))\n",
    "\n",
    "# ax[0] = sns.barplot(veg_piv['Ambience_touristy'],  color='gold', ax=ax[0])\n",
    "# ax[1] = sns.barplot(veg_piv['Ambience_hipster'],  color='steelblue', ax=ax[1])\n",
    "# ax[2] = sns.barplot(veg_piv['Ambience_casual'],  color='darkred', ax=ax[2])\n",
    "\n",
    "ax[0] = veg_piv[['Ambience_touristy']].plot(kind='bar',  color='gold', ax=ax[0])\n",
    "ax[1] = veg_piv[['Ambience_hipster']].plot(kind='bar',  color='steelblue', ax=ax[1])\n",
    "ax[2] = veg_piv[['Ambience_casual']].plot(kind='bar',  color='darkred', ax=ax[2])\n",
    "\n",
    "ax[0].set_title('Touristy', fontsize=15)\n",
    "ax[1].set_title('Hipster', fontsize=15)\n",
    "ax[2].set_title('Casual', fontsize=15)\n",
    "\n",
    "plt.suptitle('Ambience in Vegas \\n', fontsize=20)\n",
    "\n",
    "plt.show()"
   ]
  },
  {
   "cell_type": "code",
   "execution_count": 187,
   "metadata": {
    "collapsed": false
   },
   "outputs": [
    {
     "name": "stdout",
     "output_type": "stream",
     "text": [
      "is_vegas ~ stars + review_count + Dietary_Restrictions_gluten_free + Dietary_Restrictions_vegan + Corkage + Ambience_casual + Dogs_Allowed + BYOB + Delivery + Ambience_hipster + Ambience_touristy -1\n"
     ]
    }
   ],
   "source": [
    "formula = 'is_vegas ~ stars + review_count + Dietary_Restrictions_gluten_free + Dietary_Restrictions_vegan + Corkage + Ambience_casual + Dogs_Allowed + BYOB + Delivery + Ambience_hipster + Ambience_touristy -1'\n",
    "print formula\n"
   ]
  },
  {
   "cell_type": "code",
   "execution_count": 229,
   "metadata": {
    "collapsed": false
   },
   "outputs": [
    {
     "data": {
      "text/plain": [
       "array([0, 1])"
      ]
     },
     "execution_count": 229,
     "metadata": {},
     "output_type": "execute_result"
    }
   ],
   "source": [
    "bus_vars['Corkage'].unique()"
   ]
  },
  {
   "cell_type": "code",
   "execution_count": 230,
   "metadata": {
    "collapsed": false
   },
   "outputs": [
    {
     "name": "stdout",
     "output_type": "stream",
     "text": [
      "(4132,) (4132, 11)\n"
     ]
    }
   ],
   "source": [
    "y = bus_vars['is_vegas']\n",
    "X = bus_vars[['stars', 'review_count', 'Dietary_Restrictions_gluten_free', 'Dietary_Restrictions_vegan', 'Corkage', 'Ambience_casual', 'Dogs_Allowed', 'BYOB', 'Delivery', 'Ambience_hipster', 'Ambience_touristy']].values\n",
    "y = y.values.ravel()\n",
    "\n",
    "print y.shape,X.shape"
   ]
  },
  {
   "cell_type": "code",
   "execution_count": 231,
   "metadata": {
    "collapsed": false
   },
   "outputs": [],
   "source": [
    "ss = StandardScaler()\n",
    "Xn = ss.fit_transform(X)"
   ]
  },
  {
   "cell_type": "code",
   "execution_count": 235,
   "metadata": {
    "collapsed": false
   },
   "outputs": [
    {
     "name": "stdout",
     "output_type": "stream",
     "text": [
      "[0.62756952841596125, 0.61910519951632403, 0.62590799031476996, 0.62832929782082325, 0.63075060532687655]\n",
      "Mean score:  0.626332524279\n",
      "Baseline accuracy: 0.621974830591\n"
     ]
    }
   ],
   "source": [
    "cv_indices = StratifiedKFold(y, n_folds=5)\n",
    "\n",
    "logreg = LogisticRegression()\n",
    "\n",
    "lr_scores = []\n",
    "\n",
    "\n",
    "for train_inds, test_inds in cv_indices:\n",
    "    \n",
    "    X_train, y_train = X[train_inds, :], y[train_inds]\n",
    "    X_test, y_test = X[test_inds, :], y[test_inds]\n",
    "    \n",
    "    logreg.fit(X_train, y_train)\n",
    "    lr_scores.append(logreg.score(X_test, y_test))\n",
    "    \n",
    "print lr_scores\n",
    "print 'Mean score: ', np.mean(lr_scores)\n",
    "\n",
    "print 'Baseline accuracy:', np.mean(y)"
   ]
  },
  {
   "cell_type": "code",
   "execution_count": null,
   "metadata": {
    "collapsed": true
   },
   "outputs": [],
   "source": [
    "['Dietary_Restrictions_gluten_free', 'Dietary_Restrictions_vegan', 'Corkage', 'Ambience_casual', 'Dogs_Allowed', \n",
    " 'BYOB', 'Delivery', 'Ambience_hipster', 'Ambience_touristy']\n",
    "\n",
    "Are you a casual hipster looking to tourist about soon? Bring your dog and your gluten-free, vegan tastes to Vegas.\n",
    "You can bring your own artisan wine for a corkage fee or have local varietals delivered to you. Vegas, come be\n",
    "your very randomly specific self here.\n"
   ]
  },
  {
   "cell_type": "markdown",
   "metadata": {},
   "source": [
    "<img src=\"http://imgur.com/l5NasQj.png\" style=\"float: left; margin: 25px 15px 0px 0px; height: 25px\">\n",
    "\n",
    "## 2. Different categories of ratings\n",
    "\n",
    "---\n",
    "\n",
    "Yelp is finally ready to adm\n",
    "it that their rating system sucks. No one cares about the ratings, they just use the site to find out what's nearby. The ratings are simply too unreliable for people. \n",
    "\n",
    "Yelp hypothesizes that this is, in fact, because different people tend to give their ratings based on different things. They believe that perhaps some people always base their ratings on quality of food, others on service, and perhaps other categories as well. \n",
    "\n",
    "1. Do some users tend to talk about service more than others in reviews/tips? Divide up the tips/reviews into more \"service-focused\" ones and those less concerned with service.\n",
    "2. Create two new ratings for businesses: ratings from just the service-focused reviews and ratings from the non-service reviews.\n",
    "3. Construct a regression model for each of the two ratings. They should use the same predictor variables (of your choice). \n",
    "4. Validate the performance of the models.\n",
    "5. Do the models coefficients differ at all? What does this tell you about the hypothesis that there are in fact two different kinds of ratings?"
   ]
  },
  {
   "cell_type": "code",
   "execution_count": 281,
   "metadata": {
    "collapsed": false
   },
   "outputs": [
    {
     "data": {
      "text/html": [
       "<div>\n",
       "<table border=\"1\" class=\"dataframe\">\n",
       "  <thead>\n",
       "    <tr style=\"text-align: right;\">\n",
       "      <th></th>\n",
       "      <th>user_id</th>\n",
       "      <th>review_id</th>\n",
       "      <th>votes.cool</th>\n",
       "      <th>business_id</th>\n",
       "      <th>votes.funny</th>\n",
       "      <th>stars</th>\n",
       "      <th>date</th>\n",
       "      <th>votes.useful</th>\n",
       "      <th>10_minutes</th>\n",
       "      <th>15_minutes</th>\n",
       "      <th>...</th>\n",
       "      <th>time_vegas</th>\n",
       "      <th>try_place</th>\n",
       "      <th>ve_seen</th>\n",
       "      <th>ve_tried</th>\n",
       "      <th>wait_staff</th>\n",
       "      <th>avg_total_service</th>\n",
       "      <th>avg_total_food</th>\n",
       "      <th>service_over_food</th>\n",
       "      <th>service_count</th>\n",
       "      <th>food_count</th>\n",
       "    </tr>\n",
       "  </thead>\n",
       "  <tbody>\n",
       "    <tr>\n",
       "      <th>0</th>\n",
       "      <td>o_LCYay4uo5N4eq3U5pbrQ</td>\n",
       "      <td>biEOCicjWlibF26pNLvhcw</td>\n",
       "      <td>0</td>\n",
       "      <td>EmzaQR5hQlF0WIl24NxAZA</td>\n",
       "      <td>0</td>\n",
       "      <td>3</td>\n",
       "      <td>2007-09-14</td>\n",
       "      <td>1</td>\n",
       "      <td>0</td>\n",
       "      <td>0</td>\n",
       "      <td>...</td>\n",
       "      <td>0</td>\n",
       "      <td>0</td>\n",
       "      <td>0</td>\n",
       "      <td>0</td>\n",
       "      <td>0</td>\n",
       "      <td>0.0</td>\n",
       "      <td>0.0</td>\n",
       "      <td>0</td>\n",
       "      <td>0</td>\n",
       "      <td>0</td>\n",
       "    </tr>\n",
       "    <tr>\n",
       "      <th>1</th>\n",
       "      <td>sEWeeq41k4ohBz4jS_iGRw</td>\n",
       "      <td>tOhOHUAS7XJch7a_HW5Csw</td>\n",
       "      <td>3</td>\n",
       "      <td>EmzaQR5hQlF0WIl24NxAZA</td>\n",
       "      <td>12</td>\n",
       "      <td>2</td>\n",
       "      <td>2008-04-21</td>\n",
       "      <td>3</td>\n",
       "      <td>0</td>\n",
       "      <td>0</td>\n",
       "      <td>...</td>\n",
       "      <td>0</td>\n",
       "      <td>0</td>\n",
       "      <td>0</td>\n",
       "      <td>0</td>\n",
       "      <td>0</td>\n",
       "      <td>0.0</td>\n",
       "      <td>0.0</td>\n",
       "      <td>0</td>\n",
       "      <td>0</td>\n",
       "      <td>0</td>\n",
       "    </tr>\n",
       "  </tbody>\n",
       "</table>\n",
       "<p>2 rows × 113 columns</p>\n",
       "</div>"
      ],
      "text/plain": [
       "                  user_id               review_id  votes.cool  \\\n",
       "0  o_LCYay4uo5N4eq3U5pbrQ  biEOCicjWlibF26pNLvhcw           0   \n",
       "1  sEWeeq41k4ohBz4jS_iGRw  tOhOHUAS7XJch7a_HW5Csw           3   \n",
       "\n",
       "              business_id  votes.funny  stars        date  votes.useful  \\\n",
       "0  EmzaQR5hQlF0WIl24NxAZA            0      3  2007-09-14             1   \n",
       "1  EmzaQR5hQlF0WIl24NxAZA           12      2  2008-04-21             3   \n",
       "\n",
       "   10_minutes  15_minutes     ...      time_vegas  try_place  ve_seen  \\\n",
       "0           0           0     ...               0          0        0   \n",
       "1           0           0     ...               0          0        0   \n",
       "\n",
       "   ve_tried  wait_staff  avg_total_service  avg_total_food  service_over_food  \\\n",
       "0         0           0                0.0             0.0                  0   \n",
       "1         0           0                0.0             0.0                  0   \n",
       "\n",
       "   service_count  food_count  \n",
       "0              0           0  \n",
       "1              0           0  \n",
       "\n",
       "[2 rows x 113 columns]"
      ]
     },
     "execution_count": 281,
     "metadata": {},
     "output_type": "execute_result"
    }
   ],
   "source": [
    "revs.head(2)"
   ]
  },
  {
   "cell_type": "code",
   "execution_count": 243,
   "metadata": {
    "collapsed": false
   },
   "outputs": [
    {
     "data": {
      "text/plain": [
       "array(['user_id', 'review_id', 'votes.cool', 'business_id', 'votes.funny',\n",
       "       'stars', 'date', 'votes.useful', '10_minutes', '15_minutes',\n",
       "       '20_minutes', '30_minutes', 'bar_food', 'beer_selection', 'best_ve',\n",
       "       'bloody_mary', 'bottle_service', 'chicken_waffles',\n",
       "       'customer_service', 'dance_floor', 'decided_try', 'definitely_come',\n",
       "       'definitely_recommend', 'didn_want', 'don_know', 'don_like',\n",
       "       'don_think', 'don_want', 'eggs_benedict', 'fast_food', 'feel_like',\n",
       "       'felt_like', 'fish_chips', 'food_amazing', 'food_came',\n",
       "       'food_delicious', 'food_good', 'food_great', 'food_just',\n",
       "       'food_service', 'french_fries', 'french_toast', 'friday_night',\n",
       "       'fried_chicken', 'friendly_staff', 'good_food', 'good_place',\n",
       "       'good_service', 'good_thing', 'good_time', 'great_atmosphere',\n",
       "       'great_experience', 'great_food', 'great_place', 'great_service',\n",
       "       'great_time', 'happy_hour', 'hash_browns', 'highly_recommend',\n",
       "       'hip_hop', 'ice_cream', 'just_like', 'just_ok', 'just_right',\n",
       "       'las_vegas', 'late_night', 'like_place', 'little_bit', 'long_time',\n",
       "       'looked_like', 'looks_like', 'love_place', 'mac_cheese',\n",
       "       'make_sure', 'mashed_potatoes', 'medium_rare', 'minutes_later',\n",
       "       'new_york', 'onion_rings', 'place_good', 'place_great',\n",
       "       'place_just', 'potato_fries', 'pretty_good', 'quality_food',\n",
       "       'really_enjoyed', 'really_good', 'really_like', 'really_nice',\n",
       "       'recommend_place', 'red_velvet', 'right_away', 'saturday_night',\n",
       "       'second_time', 'service_excellent', 'service_food',\n",
       "       'service_friendly', 'service_good', 'service_great',\n",
       "       'staff_friendly', 'super_friendly', 'sweet_potato', 'tasted_like',\n",
       "       'time_vegas', 'try_place', 've_seen', 've_tried', 'wait_staff'], dtype=object)"
      ]
     },
     "execution_count": 243,
     "metadata": {},
     "output_type": "execute_result"
    }
   ],
   "source": [
    "revs.columns.values"
   ]
  },
  {
   "cell_type": "code",
   "execution_count": 310,
   "metadata": {
    "collapsed": false
   },
   "outputs": [],
   "source": [
    "revs.rename(columns=lambda x: x.strip().replace(\" \", \"_\"), inplace=True)"
   ]
  },
  {
   "cell_type": "code",
   "execution_count": 304,
   "metadata": {
    "collapsed": true
   },
   "outputs": [],
   "source": []
  },
  {
   "cell_type": "code",
   "execution_count": 312,
   "metadata": {
    "collapsed": false
   },
   "outputs": [],
   "source": [
    "revs['service_count'] = 0\n",
    "revs['food_count'] = 0\n",
    "\n",
    "food = ['food_delicious', 'food_good', 'food_great','great_food','quality_food',\n",
    "        'food_amazing','good_food','really_enjoyed', 'really_good']\n",
    "serv = ['good_service','customer_service','great_service','service_excellent','service_food',\n",
    "        'service_friendly', 'service_good', 'service_great','staff_friendly']\n",
    "\n",
    "for s in serv:\n",
    "    revs['service_count'] = revs['service_count'] + np.where(revs[s] > 0, 1, 0)\n",
    "    \n",
    "for f in food:\n",
    "    revs['food_count'] = revs['food_count'] + np.where(revs[f] > 0, 1, 0)\n",
    "\n"
   ]
  },
  {
   "cell_type": "code",
   "execution_count": 314,
   "metadata": {
    "collapsed": false
   },
   "outputs": [],
   "source": [
    "revs['service_over_food'] =  np.where(revs['service_count'] > revs['food_count'], 1, 0)"
   ]
  },
  {
   "cell_type": "code",
   "execution_count": 315,
   "metadata": {
    "collapsed": false
   },
   "outputs": [
    {
     "data": {
      "text/html": [
       "<div>\n",
       "<table border=\"1\" class=\"dataframe\">\n",
       "  <thead>\n",
       "    <tr style=\"text-align: right;\">\n",
       "      <th></th>\n",
       "      <th>food_delicious</th>\n",
       "      <th>food_good</th>\n",
       "      <th>food_great</th>\n",
       "      <th>great_food</th>\n",
       "      <th>quality_food</th>\n",
       "      <th>food_amazing</th>\n",
       "      <th>good_food</th>\n",
       "      <th>really_enjoyed</th>\n",
       "      <th>really_good</th>\n",
       "    </tr>\n",
       "  </thead>\n",
       "  <tbody>\n",
       "    <tr>\n",
       "      <th>6005</th>\n",
       "      <td>0</td>\n",
       "      <td>2</td>\n",
       "      <td>1</td>\n",
       "      <td>1</td>\n",
       "      <td>0</td>\n",
       "      <td>0</td>\n",
       "      <td>1</td>\n",
       "      <td>0</td>\n",
       "      <td>0</td>\n",
       "    </tr>\n",
       "    <tr>\n",
       "      <th>19002</th>\n",
       "      <td>0</td>\n",
       "      <td>1</td>\n",
       "      <td>0</td>\n",
       "      <td>1</td>\n",
       "      <td>0</td>\n",
       "      <td>0</td>\n",
       "      <td>1</td>\n",
       "      <td>0</td>\n",
       "      <td>1</td>\n",
       "    </tr>\n",
       "    <tr>\n",
       "      <th>30527</th>\n",
       "      <td>0</td>\n",
       "      <td>1</td>\n",
       "      <td>0</td>\n",
       "      <td>1</td>\n",
       "      <td>0</td>\n",
       "      <td>0</td>\n",
       "      <td>1</td>\n",
       "      <td>0</td>\n",
       "      <td>1</td>\n",
       "    </tr>\n",
       "    <tr>\n",
       "      <th>32384</th>\n",
       "      <td>0</td>\n",
       "      <td>1</td>\n",
       "      <td>1</td>\n",
       "      <td>1</td>\n",
       "      <td>0</td>\n",
       "      <td>0</td>\n",
       "      <td>0</td>\n",
       "      <td>0</td>\n",
       "      <td>1</td>\n",
       "    </tr>\n",
       "  </tbody>\n",
       "</table>\n",
       "</div>"
      ],
      "text/plain": [
       "       food_delicious  food_good  food_great  great_food  quality_food  \\\n",
       "6005                0          2           1           1             0   \n",
       "19002               0          1           0           1             0   \n",
       "30527               0          1           0           1             0   \n",
       "32384               0          1           1           1             0   \n",
       "\n",
       "       food_amazing  good_food  really_enjoyed  really_good  \n",
       "6005              0          1               0            0  \n",
       "19002             0          1               0            1  \n",
       "30527             0          1               0            1  \n",
       "32384             0          0               0            1  "
      ]
     },
     "execution_count": 315,
     "metadata": {},
     "output_type": "execute_result"
    }
   ],
   "source": [
    "revs[revs.food_count == 4][food].head(4)"
   ]
  },
  {
   "cell_type": "code",
   "execution_count": 316,
   "metadata": {
    "collapsed": false
   },
   "outputs": [
    {
     "data": {
      "text/html": [
       "<div>\n",
       "<table border=\"1\" class=\"dataframe\">\n",
       "  <thead>\n",
       "    <tr style=\"text-align: right;\">\n",
       "      <th></th>\n",
       "      <th>user_id</th>\n",
       "      <th>review_id</th>\n",
       "      <th>votes.cool</th>\n",
       "      <th>business_id</th>\n",
       "      <th>votes.funny</th>\n",
       "      <th>stars</th>\n",
       "      <th>date</th>\n",
       "      <th>votes.useful</th>\n",
       "      <th>10_minutes</th>\n",
       "      <th>15_minutes</th>\n",
       "      <th>...</th>\n",
       "      <th>sweet_potato</th>\n",
       "      <th>tasted_like</th>\n",
       "      <th>time_vegas</th>\n",
       "      <th>try_place</th>\n",
       "      <th>ve_seen</th>\n",
       "      <th>ve_tried</th>\n",
       "      <th>wait_staff</th>\n",
       "      <th>service_count</th>\n",
       "      <th>food_count</th>\n",
       "      <th>service_over_food</th>\n",
       "    </tr>\n",
       "  </thead>\n",
       "  <tbody>\n",
       "    <tr>\n",
       "      <th>18</th>\n",
       "      <td>tm3vOevmVh6EQlcWNV6Xug</td>\n",
       "      <td>e3LPy75TialrhqsRMH0PYw</td>\n",
       "      <td>0</td>\n",
       "      <td>EmzaQR5hQlF0WIl24NxAZA</td>\n",
       "      <td>0</td>\n",
       "      <td>5</td>\n",
       "      <td>2014-05-21</td>\n",
       "      <td>1</td>\n",
       "      <td>0</td>\n",
       "      <td>0</td>\n",
       "      <td>...</td>\n",
       "      <td>0</td>\n",
       "      <td>0</td>\n",
       "      <td>0</td>\n",
       "      <td>0</td>\n",
       "      <td>0</td>\n",
       "      <td>0</td>\n",
       "      <td>0</td>\n",
       "      <td>1</td>\n",
       "      <td>0</td>\n",
       "      <td>1</td>\n",
       "    </tr>\n",
       "    <tr>\n",
       "      <th>43</th>\n",
       "      <td>N-D-d1Z4UybdlkK1HxlNPA</td>\n",
       "      <td>n1c9Qyb-A9gVjtOCbWz4xw</td>\n",
       "      <td>0</td>\n",
       "      <td>e5kc0CQ4R-PCCDgb274gSg</td>\n",
       "      <td>0</td>\n",
       "      <td>4</td>\n",
       "      <td>2007-02-25</td>\n",
       "      <td>0</td>\n",
       "      <td>0</td>\n",
       "      <td>0</td>\n",
       "      <td>...</td>\n",
       "      <td>0</td>\n",
       "      <td>0</td>\n",
       "      <td>0</td>\n",
       "      <td>0</td>\n",
       "      <td>0</td>\n",
       "      <td>0</td>\n",
       "      <td>0</td>\n",
       "      <td>1</td>\n",
       "      <td>0</td>\n",
       "      <td>1</td>\n",
       "    </tr>\n",
       "    <tr>\n",
       "      <th>49</th>\n",
       "      <td>HOleI3jz1MLNUJ6cc1x0Pw</td>\n",
       "      <td>8EwBq6JDbL3-G5harQcbgw</td>\n",
       "      <td>0</td>\n",
       "      <td>e5kc0CQ4R-PCCDgb274gSg</td>\n",
       "      <td>3</td>\n",
       "      <td>2</td>\n",
       "      <td>2008-06-29</td>\n",
       "      <td>3</td>\n",
       "      <td>1</td>\n",
       "      <td>0</td>\n",
       "      <td>...</td>\n",
       "      <td>0</td>\n",
       "      <td>0</td>\n",
       "      <td>0</td>\n",
       "      <td>0</td>\n",
       "      <td>0</td>\n",
       "      <td>0</td>\n",
       "      <td>0</td>\n",
       "      <td>2</td>\n",
       "      <td>1</td>\n",
       "      <td>1</td>\n",
       "    </tr>\n",
       "    <tr>\n",
       "      <th>61</th>\n",
       "      <td>4dnDsoHuxUtzhaumxbpR5w</td>\n",
       "      <td>SgKZrdPZGz6pV1-pZpPQAw</td>\n",
       "      <td>1</td>\n",
       "      <td>e5kc0CQ4R-PCCDgb274gSg</td>\n",
       "      <td>1</td>\n",
       "      <td>2</td>\n",
       "      <td>2009-05-31</td>\n",
       "      <td>2</td>\n",
       "      <td>0</td>\n",
       "      <td>0</td>\n",
       "      <td>...</td>\n",
       "      <td>0</td>\n",
       "      <td>1</td>\n",
       "      <td>0</td>\n",
       "      <td>0</td>\n",
       "      <td>0</td>\n",
       "      <td>0</td>\n",
       "      <td>0</td>\n",
       "      <td>1</td>\n",
       "      <td>0</td>\n",
       "      <td>1</td>\n",
       "    </tr>\n",
       "  </tbody>\n",
       "</table>\n",
       "<p>4 rows × 111 columns</p>\n",
       "</div>"
      ],
      "text/plain": [
       "                   user_id               review_id  votes.cool  \\\n",
       "18  tm3vOevmVh6EQlcWNV6Xug  e3LPy75TialrhqsRMH0PYw           0   \n",
       "43  N-D-d1Z4UybdlkK1HxlNPA  n1c9Qyb-A9gVjtOCbWz4xw           0   \n",
       "49  HOleI3jz1MLNUJ6cc1x0Pw  8EwBq6JDbL3-G5harQcbgw           0   \n",
       "61  4dnDsoHuxUtzhaumxbpR5w  SgKZrdPZGz6pV1-pZpPQAw           1   \n",
       "\n",
       "               business_id  votes.funny  stars        date  votes.useful  \\\n",
       "18  EmzaQR5hQlF0WIl24NxAZA            0      5  2014-05-21             1   \n",
       "43  e5kc0CQ4R-PCCDgb274gSg            0      4  2007-02-25             0   \n",
       "49  e5kc0CQ4R-PCCDgb274gSg            3      2  2008-06-29             3   \n",
       "61  e5kc0CQ4R-PCCDgb274gSg            1      2  2009-05-31             2   \n",
       "\n",
       "    10_minutes  15_minutes        ...          sweet_potato  tasted_like  \\\n",
       "18           0           0        ...                     0            0   \n",
       "43           0           0        ...                     0            0   \n",
       "49           1           0        ...                     0            0   \n",
       "61           0           0        ...                     0            1   \n",
       "\n",
       "    time_vegas  try_place  ve_seen  ve_tried  wait_staff  service_count  \\\n",
       "18           0          0        0         0           0              1   \n",
       "43           0          0        0         0           0              1   \n",
       "49           0          0        0         0           0              2   \n",
       "61           0          0        0         0           0              1   \n",
       "\n",
       "    food_count  service_over_food  \n",
       "18           0                  1  \n",
       "43           0                  1  \n",
       "49           1                  1  \n",
       "61           0                  1  \n",
       "\n",
       "[4 rows x 111 columns]"
      ]
     },
     "execution_count": 316,
     "metadata": {},
     "output_type": "execute_result"
    }
   ],
   "source": [
    "revs[revs.service_over_food == 1].head(4)"
   ]
  },
  {
   "cell_type": "code",
   "execution_count": 319,
   "metadata": {
    "collapsed": true
   },
   "outputs": [],
   "source": [
    "service_lean = (revs['service_over_food']==1)\n",
    "food_lean = (revs['service_over_food']==0)"
   ]
  },
  {
   "cell_type": "code",
   "execution_count": 354,
   "metadata": {
    "collapsed": false
   },
   "outputs": [
    {
     "data": {
      "text/html": [
       "<div>\n",
       "<table border=\"1\" class=\"dataframe\">\n",
       "  <thead>\n",
       "    <tr style=\"text-align: right;\">\n",
       "      <th></th>\n",
       "      <th>business_id</th>\n",
       "      <th>stars</th>\n",
       "      <th>good_service</th>\n",
       "      <th>customer_service</th>\n",
       "      <th>great_service</th>\n",
       "      <th>service_excellent</th>\n",
       "      <th>service_food</th>\n",
       "      <th>service_friendly</th>\n",
       "      <th>service_good</th>\n",
       "      <th>service_great</th>\n",
       "      <th>staff_friendly</th>\n",
       "      <th>food_delicious</th>\n",
       "      <th>food_good</th>\n",
       "      <th>food_great</th>\n",
       "      <th>great_food</th>\n",
       "      <th>quality_food</th>\n",
       "      <th>food_amazing</th>\n",
       "      <th>good_food</th>\n",
       "      <th>really_enjoyed</th>\n",
       "      <th>really_good</th>\n",
       "    </tr>\n",
       "  </thead>\n",
       "  <tbody>\n",
       "    <tr>\n",
       "      <th>0</th>\n",
       "      <td>--jFTZmywe7StuZ2hEjxyA</td>\n",
       "      <td>2</td>\n",
       "      <td>0</td>\n",
       "      <td>0</td>\n",
       "      <td>0</td>\n",
       "      <td>0</td>\n",
       "      <td>0</td>\n",
       "      <td>0</td>\n",
       "      <td>1</td>\n",
       "      <td>0</td>\n",
       "      <td>0</td>\n",
       "      <td>0</td>\n",
       "      <td>0</td>\n",
       "      <td>0</td>\n",
       "      <td>0</td>\n",
       "      <td>0</td>\n",
       "      <td>0</td>\n",
       "      <td>0</td>\n",
       "      <td>0</td>\n",
       "      <td>0</td>\n",
       "    </tr>\n",
       "    <tr>\n",
       "      <th>1</th>\n",
       "      <td>--jFTZmywe7StuZ2hEjxyA</td>\n",
       "      <td>4</td>\n",
       "      <td>0</td>\n",
       "      <td>1</td>\n",
       "      <td>0</td>\n",
       "      <td>0</td>\n",
       "      <td>0</td>\n",
       "      <td>0</td>\n",
       "      <td>0</td>\n",
       "      <td>0</td>\n",
       "      <td>0</td>\n",
       "      <td>0</td>\n",
       "      <td>0</td>\n",
       "      <td>0</td>\n",
       "      <td>0</td>\n",
       "      <td>0</td>\n",
       "      <td>0</td>\n",
       "      <td>0</td>\n",
       "      <td>0</td>\n",
       "      <td>0</td>\n",
       "    </tr>\n",
       "    <tr>\n",
       "      <th>2</th>\n",
       "      <td>-0HGqwlfw3I8nkJyMHxAsQ</td>\n",
       "      <td>2</td>\n",
       "      <td>0</td>\n",
       "      <td>1</td>\n",
       "      <td>0</td>\n",
       "      <td>0</td>\n",
       "      <td>0</td>\n",
       "      <td>0</td>\n",
       "      <td>0</td>\n",
       "      <td>0</td>\n",
       "      <td>0</td>\n",
       "      <td>0</td>\n",
       "      <td>0</td>\n",
       "      <td>0</td>\n",
       "      <td>0</td>\n",
       "      <td>0</td>\n",
       "      <td>0</td>\n",
       "      <td>0</td>\n",
       "      <td>0</td>\n",
       "      <td>0</td>\n",
       "    </tr>\n",
       "    <tr>\n",
       "      <th>3</th>\n",
       "      <td>-0HGqwlfw3I8nkJyMHxAsQ</td>\n",
       "      <td>5</td>\n",
       "      <td>0</td>\n",
       "      <td>0</td>\n",
       "      <td>0</td>\n",
       "      <td>0</td>\n",
       "      <td>0</td>\n",
       "      <td>0</td>\n",
       "      <td>0</td>\n",
       "      <td>0</td>\n",
       "      <td>1</td>\n",
       "      <td>0</td>\n",
       "      <td>0</td>\n",
       "      <td>0</td>\n",
       "      <td>0</td>\n",
       "      <td>0</td>\n",
       "      <td>0</td>\n",
       "      <td>0</td>\n",
       "      <td>0</td>\n",
       "      <td>0</td>\n",
       "    </tr>\n",
       "    <tr>\n",
       "      <th>4</th>\n",
       "      <td>-1bOb2izeJBZjHC7NWxiPA</td>\n",
       "      <td>3</td>\n",
       "      <td>2</td>\n",
       "      <td>0</td>\n",
       "      <td>0</td>\n",
       "      <td>0</td>\n",
       "      <td>1</td>\n",
       "      <td>0</td>\n",
       "      <td>0</td>\n",
       "      <td>0</td>\n",
       "      <td>0</td>\n",
       "      <td>0</td>\n",
       "      <td>0</td>\n",
       "      <td>1</td>\n",
       "      <td>0</td>\n",
       "      <td>0</td>\n",
       "      <td>0</td>\n",
       "      <td>0</td>\n",
       "      <td>0</td>\n",
       "      <td>0</td>\n",
       "    </tr>\n",
       "  </tbody>\n",
       "</table>\n",
       "</div>"
      ],
      "text/plain": [
       "              business_id  stars  good_service  customer_service  \\\n",
       "0  --jFTZmywe7StuZ2hEjxyA      2             0                 0   \n",
       "1  --jFTZmywe7StuZ2hEjxyA      4             0                 1   \n",
       "2  -0HGqwlfw3I8nkJyMHxAsQ      2             0                 1   \n",
       "3  -0HGqwlfw3I8nkJyMHxAsQ      5             0                 0   \n",
       "4  -1bOb2izeJBZjHC7NWxiPA      3             2                 0   \n",
       "\n",
       "   great_service  service_excellent  service_food  service_friendly  \\\n",
       "0              0                  0             0                 0   \n",
       "1              0                  0             0                 0   \n",
       "2              0                  0             0                 0   \n",
       "3              0                  0             0                 0   \n",
       "4              0                  0             1                 0   \n",
       "\n",
       "   service_good  service_great  staff_friendly  food_delicious  food_good  \\\n",
       "0             1              0               0               0          0   \n",
       "1             0              0               0               0          0   \n",
       "2             0              0               0               0          0   \n",
       "3             0              0               1               0          0   \n",
       "4             0              0               0               0          0   \n",
       "\n",
       "   food_great  great_food  quality_food  food_amazing  good_food  \\\n",
       "0           0           0             0             0          0   \n",
       "1           0           0             0             0          0   \n",
       "2           0           0             0             0          0   \n",
       "3           0           0             0             0          0   \n",
       "4           1           0             0             0          0   \n",
       "\n",
       "   really_enjoyed  really_good  \n",
       "0               0            0  \n",
       "1               0            0  \n",
       "2               0            0  \n",
       "3               0            0  \n",
       "4               0            0  "
      ]
     },
     "execution_count": 354,
     "metadata": {},
     "output_type": "execute_result"
    }
   ],
   "source": [
    "rev_serv = revs[service_lean].groupby(['business_id','stars'])[['good_service','customer_service','great_service',\n",
    "                                        'service_excellent','service_food','service_friendly', 'service_good', \n",
    "                                         'service_great','staff_friendly','food_delicious', 'food_good', 'food_great','great_food','quality_food',\n",
    "                              'food_amazing','good_food','really_enjoyed', 'really_good']].sum().reset_index()\n",
    "rev_serv.head()"
   ]
  },
  {
   "cell_type": "code",
   "execution_count": 355,
   "metadata": {
    "collapsed": false
   },
   "outputs": [
    {
     "data": {
      "text/html": [
       "<div>\n",
       "<table border=\"1\" class=\"dataframe\">\n",
       "  <thead>\n",
       "    <tr style=\"text-align: right;\">\n",
       "      <th></th>\n",
       "      <th>business_id</th>\n",
       "      <th>stars</th>\n",
       "      <th>good_service</th>\n",
       "      <th>customer_service</th>\n",
       "      <th>great_service</th>\n",
       "      <th>service_excellent</th>\n",
       "      <th>service_food</th>\n",
       "      <th>service_friendly</th>\n",
       "      <th>service_good</th>\n",
       "      <th>service_great</th>\n",
       "      <th>staff_friendly</th>\n",
       "      <th>food_delicious</th>\n",
       "      <th>food_good</th>\n",
       "      <th>food_great</th>\n",
       "      <th>great_food</th>\n",
       "      <th>quality_food</th>\n",
       "      <th>food_amazing</th>\n",
       "      <th>good_food</th>\n",
       "      <th>really_enjoyed</th>\n",
       "      <th>really_good</th>\n",
       "    </tr>\n",
       "  </thead>\n",
       "  <tbody>\n",
       "    <tr>\n",
       "      <th>0</th>\n",
       "      <td>--jFTZmywe7StuZ2hEjxyA</td>\n",
       "      <td>3</td>\n",
       "      <td>1</td>\n",
       "      <td>0</td>\n",
       "      <td>0</td>\n",
       "      <td>0</td>\n",
       "      <td>0</td>\n",
       "      <td>0</td>\n",
       "      <td>0</td>\n",
       "      <td>0</td>\n",
       "      <td>0</td>\n",
       "      <td>0</td>\n",
       "      <td>1</td>\n",
       "      <td>0</td>\n",
       "      <td>0</td>\n",
       "      <td>0</td>\n",
       "      <td>0</td>\n",
       "      <td>0</td>\n",
       "      <td>0</td>\n",
       "      <td>0</td>\n",
       "    </tr>\n",
       "    <tr>\n",
       "      <th>1</th>\n",
       "      <td>--jFTZmywe7StuZ2hEjxyA</td>\n",
       "      <td>4</td>\n",
       "      <td>0</td>\n",
       "      <td>0</td>\n",
       "      <td>0</td>\n",
       "      <td>0</td>\n",
       "      <td>0</td>\n",
       "      <td>0</td>\n",
       "      <td>0</td>\n",
       "      <td>0</td>\n",
       "      <td>0</td>\n",
       "      <td>0</td>\n",
       "      <td>0</td>\n",
       "      <td>0</td>\n",
       "      <td>0</td>\n",
       "      <td>0</td>\n",
       "      <td>0</td>\n",
       "      <td>0</td>\n",
       "      <td>0</td>\n",
       "      <td>0</td>\n",
       "    </tr>\n",
       "    <tr>\n",
       "      <th>2</th>\n",
       "      <td>-0HGqwlfw3I8nkJyMHxAsQ</td>\n",
       "      <td>1</td>\n",
       "      <td>0</td>\n",
       "      <td>0</td>\n",
       "      <td>0</td>\n",
       "      <td>0</td>\n",
       "      <td>0</td>\n",
       "      <td>0</td>\n",
       "      <td>0</td>\n",
       "      <td>0</td>\n",
       "      <td>0</td>\n",
       "      <td>0</td>\n",
       "      <td>0</td>\n",
       "      <td>0</td>\n",
       "      <td>0</td>\n",
       "      <td>0</td>\n",
       "      <td>0</td>\n",
       "      <td>0</td>\n",
       "      <td>0</td>\n",
       "      <td>0</td>\n",
       "    </tr>\n",
       "    <tr>\n",
       "      <th>3</th>\n",
       "      <td>-0HGqwlfw3I8nkJyMHxAsQ</td>\n",
       "      <td>2</td>\n",
       "      <td>0</td>\n",
       "      <td>0</td>\n",
       "      <td>0</td>\n",
       "      <td>0</td>\n",
       "      <td>0</td>\n",
       "      <td>0</td>\n",
       "      <td>0</td>\n",
       "      <td>0</td>\n",
       "      <td>0</td>\n",
       "      <td>0</td>\n",
       "      <td>0</td>\n",
       "      <td>0</td>\n",
       "      <td>0</td>\n",
       "      <td>0</td>\n",
       "      <td>0</td>\n",
       "      <td>0</td>\n",
       "      <td>0</td>\n",
       "      <td>0</td>\n",
       "    </tr>\n",
       "    <tr>\n",
       "      <th>4</th>\n",
       "      <td>-0HGqwlfw3I8nkJyMHxAsQ</td>\n",
       "      <td>4</td>\n",
       "      <td>0</td>\n",
       "      <td>0</td>\n",
       "      <td>0</td>\n",
       "      <td>0</td>\n",
       "      <td>0</td>\n",
       "      <td>0</td>\n",
       "      <td>0</td>\n",
       "      <td>0</td>\n",
       "      <td>0</td>\n",
       "      <td>0</td>\n",
       "      <td>0</td>\n",
       "      <td>0</td>\n",
       "      <td>0</td>\n",
       "      <td>0</td>\n",
       "      <td>0</td>\n",
       "      <td>0</td>\n",
       "      <td>0</td>\n",
       "      <td>0</td>\n",
       "    </tr>\n",
       "  </tbody>\n",
       "</table>\n",
       "</div>"
      ],
      "text/plain": [
       "              business_id  stars  good_service  customer_service  \\\n",
       "0  --jFTZmywe7StuZ2hEjxyA      3             1                 0   \n",
       "1  --jFTZmywe7StuZ2hEjxyA      4             0                 0   \n",
       "2  -0HGqwlfw3I8nkJyMHxAsQ      1             0                 0   \n",
       "3  -0HGqwlfw3I8nkJyMHxAsQ      2             0                 0   \n",
       "4  -0HGqwlfw3I8nkJyMHxAsQ      4             0                 0   \n",
       "\n",
       "   great_service  service_excellent  service_food  service_friendly  \\\n",
       "0              0                  0             0                 0   \n",
       "1              0                  0             0                 0   \n",
       "2              0                  0             0                 0   \n",
       "3              0                  0             0                 0   \n",
       "4              0                  0             0                 0   \n",
       "\n",
       "   service_good  service_great  staff_friendly  food_delicious  food_good  \\\n",
       "0             0              0               0               0          1   \n",
       "1             0              0               0               0          0   \n",
       "2             0              0               0               0          0   \n",
       "3             0              0               0               0          0   \n",
       "4             0              0               0               0          0   \n",
       "\n",
       "   food_great  great_food  quality_food  food_amazing  good_food  \\\n",
       "0           0           0             0             0          0   \n",
       "1           0           0             0             0          0   \n",
       "2           0           0             0             0          0   \n",
       "3           0           0             0             0          0   \n",
       "4           0           0             0             0          0   \n",
       "\n",
       "   really_enjoyed  really_good  \n",
       "0               0            0  \n",
       "1               0            0  \n",
       "2               0            0  \n",
       "3               0            0  \n",
       "4               0            0  "
      ]
     },
     "execution_count": 355,
     "metadata": {},
     "output_type": "execute_result"
    }
   ],
   "source": [
    "rev_food = revs[food_lean].groupby(['business_id','stars'])[['good_service','customer_service','great_service',\n",
    "                                        'service_excellent','service_food','service_friendly', 'service_good', \n",
    "                                         'service_great','staff_friendly','food_delicious', 'food_good', 'food_great','great_food','quality_food',\n",
    "                              'food_amazing','good_food','really_enjoyed', 'really_good']].sum().reset_index()\n",
    "rev_food.head()"
   ]
  },
  {
   "cell_type": "code",
   "execution_count": 356,
   "metadata": {
    "collapsed": true
   },
   "outputs": [],
   "source": [
    "ys = np.ravel(rev_serv['stars'].values)\n",
    "Xs = rev_serv[['food_delicious', 'food_good', 'food_great','great_food','quality_food','food_amazing','good_food','really_enjoyed', 'really_good','good_service','customer_service','great_service',\n",
    "                'service_excellent','service_food','service_friendly', 'service_good', 'service_great','staff_friendly']]\n",
    "yf = np.ravel(rev_food['stars'].values)\n",
    "Xf = rev_food[['food_delicious', 'food_good', 'food_great','great_food','quality_food','food_amazing','good_food','really_enjoyed', 'really_good','good_service','customer_service','great_service',\n",
    "                'service_excellent','service_food','service_friendly', 'service_good', 'service_great','staff_friendly']]"
   ]
  },
  {
   "cell_type": "code",
   "execution_count": 357,
   "metadata": {
    "collapsed": true
   },
   "outputs": [],
   "source": [
    "ss = StandardScaler()\n",
    "Xsn = ss.fit_transform(Xs)\n",
    "Xfn = ss.fit_transform(Xf)"
   ]
  },
  {
   "cell_type": "code",
   "execution_count": 358,
   "metadata": {
    "collapsed": false
   },
   "outputs": [],
   "source": [
    "alphas = np.linspace(0.001,10,100)"
   ]
  },
  {
   "cell_type": "code",
   "execution_count": 367,
   "metadata": {
    "collapsed": false
   },
   "outputs": [
    {
     "name": "stdout",
     "output_type": "stream",
     "text": [
      "Fitting 5 folds for each of 100 candidates, totalling 500 fits\n"
     ]
    },
    {
     "name": "stderr",
     "output_type": "stream",
     "text": [
      "[Parallel(n_jobs=1)]: Done  49 tasks       | elapsed:    0.4s\n",
      "[Parallel(n_jobs=1)]: Done 199 tasks       | elapsed:    1.5s\n",
      "[Parallel(n_jobs=1)]: Done 449 tasks       | elapsed:    3.0s\n"
     ]
    },
    {
     "name": "stdout",
     "output_type": "stream",
     "text": [
      "[ 0.09168559  0.13491878  0.09939168  0.13869555  0.14523668]\n",
      "0.121985656117\n",
      "\n",
      "Best Params:  {'alpha': 0.001}\n",
      "Best Score:  0.1219834885\n"
     ]
    },
    {
     "name": "stderr",
     "output_type": "stream",
     "text": [
      "[Parallel(n_jobs=1)]: Done 500 out of 500 | elapsed:    3.3s finished\n"
     ]
    }
   ],
   "source": [
    "params = {\n",
    "    'alpha': alphas\n",
    "}\n",
    "lasso = Lasso()\n",
    "lasso_gridsearcher = grid_search.GridSearchCV(lasso, params, cv=5, verbose=1)\n",
    "results = lasso_gridsearcher.fit(Xsn, ys)\n",
    "\n",
    "best_lasso = lasso_gridsearcher.best_estimator_\n",
    "\n",
    "lasso_scores = cross_val_score(best_lasso, Xsn, ys, cv=5)\n",
    "\n",
    "\n",
    "lasso_coefs = pd.DataFrame({'variable':Xs.columns,\n",
    "                            'coef':best_lasso.coef_,\n",
    "                            'abs_coef':np.abs(best_lasso.coef_)})\n",
    "\n",
    "lasso_coefs.sort_values('abs_coef', inplace=True, ascending=False)\n",
    "\n",
    "print lasso_scores\n",
    "print np.mean(lasso_scores)\n",
    "print\n",
    "print \"Best Params: \", lasso_gridsearcher.best_params_\n",
    "print \"Best Score: \", lasso_gridsearcher.best_score_\n"
   ]
  },
  {
   "cell_type": "code",
   "execution_count": 368,
   "metadata": {
    "collapsed": false
   },
   "outputs": [
    {
     "name": "stdout",
     "output_type": "stream",
     "text": [
      "Fitting 5 folds for each of 100 candidates, totalling 500 fits\n"
     ]
    },
    {
     "name": "stderr",
     "output_type": "stream",
     "text": [
      "[Parallel(n_jobs=1)]: Done  49 tasks       | elapsed:    0.8s\n",
      "[Parallel(n_jobs=1)]: Done 199 tasks       | elapsed:    2.1s\n",
      "[Parallel(n_jobs=1)]: Done 449 tasks       | elapsed:    4.6s\n",
      "[Parallel(n_jobs=1)]: Done 500 out of 500 | elapsed:    5.0s finished\n"
     ]
    },
    {
     "name": "stdout",
     "output_type": "stream",
     "text": [
      "[ 0.03043349  0.05682476  0.0414597   0.0555832   0.06207436]\n",
      "0.0492751017639\n",
      "\n",
      "Best Params:  {'alpha': 0.001}\n",
      "Best Score:  0.0492743104161\n"
     ]
    }
   ],
   "source": [
    "params = {\n",
    "    'alpha': alphas\n",
    "}\n",
    "lasso_f = Lasso()\n",
    "lasso_gridsearcher_f = grid_search.GridSearchCV(lasso_f, params, cv=5, verbose=1)\n",
    "results_f = lasso_gridsearcher_f.fit(Xfn, yf)\n",
    "\n",
    "best_lasso_f = lasso_gridsearcher_f.best_estimator_\n",
    "\n",
    "lasso_scores_f = cross_val_score(best_lasso_f, Xfn, yf, cv=5)\n",
    "\n",
    "\n",
    "lasso_coefs_f = pd.DataFrame({'variable':Xf.columns,\n",
    "                            'coef':best_lasso_f.coef_,\n",
    "                            'abs_coef':np.abs(best_lasso_f.coef_)})\n",
    "\n",
    "lasso_coefs_f.sort_values('abs_coef', inplace=True, ascending=False)\n",
    "\n",
    "print lasso_scores_f\n",
    "print np.mean(lasso_scores_f)\n",
    "print\n",
    "print \"Best Params: \", lasso_gridsearcher_f.best_params_\n",
    "print \"Best Score: \", lasso_gridsearcher_f.best_score_\n"
   ]
  },
  {
   "cell_type": "code",
   "execution_count": 370,
   "metadata": {
    "collapsed": false
   },
   "outputs": [
    {
     "name": "stdout",
     "output_type": "stream",
     "text": [
      "Top 5 coefficients for Food leaning reviews: \n",
      "   abs_coef      coef        variable\n",
      "3  0.326112  0.326112      great_food\n",
      "8  0.159984  0.159984     really_good\n",
      "4  0.157362 -0.157362    quality_food\n",
      "7  0.122675  0.122675  really_enjoyed\n",
      "1  0.122563 -0.122563       food_good\n",
      "\n",
      "Top 5 coefficients for Service leaning reviews: \n",
      "    abs_coef      coef          variable\n",
      "11  0.430768  0.430768     great_service\n",
      "17  0.381245  0.381245    staff_friendly\n",
      "13  0.273817 -0.273817      service_food\n",
      "10  0.261187 -0.261187  customer_service\n",
      "9   0.132231 -0.132231      good_service\n"
     ]
    }
   ],
   "source": [
    "print \"Top 5 coefficients for Food leaning reviews: \"\n",
    "print lasso_coefs_f.head()\n",
    "print\n",
    "print \"Top 5 coefficients for Service leaning reviews: \"\n",
    "print lasso_coefs.head()\n"
   ]
  },
  {
   "cell_type": "markdown",
   "metadata": {},
   "source": [
    "<img src=\"http://imgur.com/l5NasQj.png\" style=\"float: left; margin: 25px 15px 0px 0px; height: 25px\">\n",
    "\n",
    "## 3. Identifying \"elite\" users\n",
    "\n",
    "---\n",
    "\n",
    "Yelp, though having their own formula for determining whether a user is elite or not, is interested in delving deeper into what differentiates an elite user from a normal user at a broader level.\n",
    "\n",
    "Use a classification model to predict whether a user is elite or not. Note that users can be elite in some years and not in others.\n",
    "\n",
    "1. What things predict well whether a user is elite or not?\n",
    "- Validate the model.\n",
    "- If you were to remove the \"counts\" metrics for users (reviews, votes, compliments), what distinguishes an elite user, if anything? Validate the model and compare it to the one with the count variables.\n",
    "- Think of a way to visually represent your results in a compelling way.\n",
    "- Give a brief write-up of your findings.\n"
   ]
  },
  {
   "cell_type": "code",
   "execution_count": 475,
   "metadata": {
    "collapsed": false
   },
   "outputs": [
    {
     "data": {
      "text/html": [
       "<div>\n",
       "<table border=\"1\" class=\"dataframe\">\n",
       "  <thead>\n",
       "    <tr style=\"text-align: right;\">\n",
       "      <th></th>\n",
       "      <th>yelping_since</th>\n",
       "      <th>compliments.plain</th>\n",
       "      <th>review_count</th>\n",
       "      <th>compliments.cute</th>\n",
       "      <th>compliments.writer</th>\n",
       "      <th>fans</th>\n",
       "      <th>compliments.note</th>\n",
       "      <th>compliments.hot</th>\n",
       "      <th>compliments.cool</th>\n",
       "      <th>compliments.profile</th>\n",
       "      <th>...</th>\n",
       "      <th>compliments.more</th>\n",
       "      <th>elite</th>\n",
       "      <th>name</th>\n",
       "      <th>user_id</th>\n",
       "      <th>votes.cool</th>\n",
       "      <th>compliments.list</th>\n",
       "      <th>votes.funny</th>\n",
       "      <th>compliments.photos</th>\n",
       "      <th>compliments.funny</th>\n",
       "      <th>votes.useful</th>\n",
       "    </tr>\n",
       "  </thead>\n",
       "  <tbody>\n",
       "    <tr>\n",
       "      <th>0</th>\n",
       "      <td>2004-10</td>\n",
       "      <td>959.0</td>\n",
       "      <td>1274</td>\n",
       "      <td>206.0</td>\n",
       "      <td>327.0</td>\n",
       "      <td>1179</td>\n",
       "      <td>611.0</td>\n",
       "      <td>1094.0</td>\n",
       "      <td>1642.0</td>\n",
       "      <td>116.0</td>\n",
       "      <td>...</td>\n",
       "      <td>134.0</td>\n",
       "      <td>[2005, 2006, 2007, 2008, 2009, 2010, 2011, 201...</td>\n",
       "      <td>Jeremy</td>\n",
       "      <td>rpOyqD_893cqmDAtJLbdog</td>\n",
       "      <td>11093</td>\n",
       "      <td>38.0</td>\n",
       "      <td>7681</td>\n",
       "      <td>330.0</td>\n",
       "      <td>580.0</td>\n",
       "      <td>14199</td>\n",
       "    </tr>\n",
       "    <tr>\n",
       "      <th>1</th>\n",
       "      <td>2004-10</td>\n",
       "      <td>89.0</td>\n",
       "      <td>442</td>\n",
       "      <td>23.0</td>\n",
       "      <td>24.0</td>\n",
       "      <td>100</td>\n",
       "      <td>83.0</td>\n",
       "      <td>101.0</td>\n",
       "      <td>145.0</td>\n",
       "      <td>9.0</td>\n",
       "      <td>...</td>\n",
       "      <td>19.0</td>\n",
       "      <td>[2005, 2006, 2007, 2008, 2009, 2010, 2011, 201...</td>\n",
       "      <td>Michael</td>\n",
       "      <td>4U9kSBLuBDU391x6bxU-YA</td>\n",
       "      <td>732</td>\n",
       "      <td>4.0</td>\n",
       "      <td>908</td>\n",
       "      <td>24.0</td>\n",
       "      <td>120.0</td>\n",
       "      <td>1483</td>\n",
       "    </tr>\n",
       "  </tbody>\n",
       "</table>\n",
       "<p>2 rows × 21 columns</p>\n",
       "</div>"
      ],
      "text/plain": [
       "  yelping_since  compliments.plain  review_count  compliments.cute  \\\n",
       "0       2004-10              959.0          1274             206.0   \n",
       "1       2004-10               89.0           442              23.0   \n",
       "\n",
       "   compliments.writer  fans  compliments.note  compliments.hot  \\\n",
       "0               327.0  1179             611.0           1094.0   \n",
       "1                24.0   100              83.0            101.0   \n",
       "\n",
       "   compliments.cool  compliments.profile      ...       compliments.more  \\\n",
       "0            1642.0                116.0      ...                  134.0   \n",
       "1             145.0                  9.0      ...                   19.0   \n",
       "\n",
       "                                               elite     name  \\\n",
       "0  [2005, 2006, 2007, 2008, 2009, 2010, 2011, 201...   Jeremy   \n",
       "1  [2005, 2006, 2007, 2008, 2009, 2010, 2011, 201...  Michael   \n",
       "\n",
       "                  user_id votes.cool  compliments.list  votes.funny  \\\n",
       "0  rpOyqD_893cqmDAtJLbdog      11093              38.0         7681   \n",
       "1  4U9kSBLuBDU391x6bxU-YA        732               4.0          908   \n",
       "\n",
       "   compliments.photos  compliments.funny  votes.useful  \n",
       "0               330.0              580.0         14199  \n",
       "1                24.0              120.0          1483  \n",
       "\n",
       "[2 rows x 21 columns]"
      ]
     },
     "execution_count": 475,
     "metadata": {},
     "output_type": "execute_result"
    }
   ],
   "source": [
    "users.head(2)"
   ]
  },
  {
   "cell_type": "code",
   "execution_count": 448,
   "metadata": {
    "collapsed": false
   },
   "outputs": [
    {
     "name": "stderr",
     "output_type": "stream",
     "text": [
      "/Users/katbishop/anaconda/envs/dsi/lib/python2.7/site-packages/ipykernel/__main__.py:4: SettingWithCopyWarning: \n",
      "A value is trying to be set on a copy of a slice from a DataFrame.\n",
      "Try using .loc[row_indexer,col_indexer] = value instead\n",
      "\n",
      "See the caveats in the documentation: http://pandas.pydata.org/pandas-docs/stable/indexing.html#indexing-view-versus-copy\n"
     ]
    }
   ],
   "source": [
    "# restricting dataset to users who have been elite for the last 4 years without interruption\n",
    "lately = (users.elite == '[2012, 2013, 2014, 2015]')\n",
    "users_working = users[lately]\n",
    "users_working['is_elite'] = 1"
   ]
  },
  {
   "cell_type": "code",
   "execution_count": 473,
   "metadata": {
    "collapsed": false
   },
   "outputs": [
    {
     "name": "stderr",
     "output_type": "stream",
     "text": [
      "/Users/katbishop/anaconda/envs/dsi/lib/python2.7/site-packages/ipykernel/__main__.py:3: SettingWithCopyWarning: \n",
      "A value is trying to be set on a copy of a slice from a DataFrame.\n",
      "Try using .loc[row_indexer,col_indexer] = value instead\n",
      "\n",
      "See the caveats in the documentation: http://pandas.pydata.org/pandas-docs/stable/indexing.html#indexing-view-versus-copy\n",
      "  app.launch_new_instance()\n"
     ]
    }
   ],
   "source": [
    "#dataset of users who have been yelping but not elite since 2012\n",
    "not_elite = ((users.elite == '[]') & (users.yelping_since.str.contains('2012') ))\n",
    "users_not_elite = users[not_elite]\n",
    "users_not_elite['is_elite'] = 0"
   ]
  },
  {
   "cell_type": "code",
   "execution_count": 487,
   "metadata": {
    "collapsed": false
   },
   "outputs": [
    {
     "data": {
      "text/plain": [
       "(21496, 22)"
      ]
     },
     "execution_count": 487,
     "metadata": {},
     "output_type": "execute_result"
    }
   ],
   "source": [
    "users_sub = pd.concat([users_working,users_not_elite])\n",
    "users_sub.head(2)\n",
    "users_sub.shape"
   ]
  },
  {
   "cell_type": "code",
   "execution_count": 479,
   "metadata": {
    "collapsed": false
   },
   "outputs": [
    {
     "data": {
      "text/plain": [
       "array(['yelping_since', 'compliments.plain', 'review_count',\n",
       "       'compliments.cute', 'compliments.writer', 'fans',\n",
       "       'compliments.note', 'compliments.hot', 'compliments.cool',\n",
       "       'compliments.profile', 'average_stars', 'compliments.more', 'elite',\n",
       "       'name', 'user_id', 'votes.cool', 'compliments.list', 'votes.funny',\n",
       "       'compliments.photos', 'compliments.funny', 'votes.useful',\n",
       "       'is_elite'], dtype=object)"
      ]
     },
     "execution_count": 479,
     "metadata": {},
     "output_type": "execute_result"
    }
   ],
   "source": [
    "users_sub.columns.values"
   ]
  },
  {
   "cell_type": "code",
   "execution_count": 489,
   "metadata": {
    "collapsed": false
   },
   "outputs": [],
   "source": [
    "users_sub['compliments.plain'].isnull().sum()\n",
    "users_sub.fillna(0, inplace=True)"
   ]
  },
  {
   "cell_type": "code",
   "execution_count": 493,
   "metadata": {
    "collapsed": false
   },
   "outputs": [
    {
     "data": {
      "text/plain": [
       "<matplotlib.axes._subplots.AxesSubplot at 0x12d6b00d0>"
      ]
     },
     "execution_count": 493,
     "metadata": {},
     "output_type": "execute_result"
    },
    {
     "data": {
      "image/png": "[encoded data removed]",
      "text/plain": [
       "<matplotlib.figure.Figure at 0x11c865d10>"
      ]
     },
     "metadata": {},
     "output_type": "display_data"
    }
   ],
   "source": [
    "sns.heatmap(users_sub.corr())"
   ]
  },
  {
   "cell_type": "code",
   "execution_count": 506,
   "metadata": {
    "collapsed": false
   },
   "outputs": [],
   "source": [
    "# sns.pairplot(data=users_sub,\n",
    "#              hue=\"is_elite\", \n",
    "#              plot_kws=dict(alpha=0.3))"
   ]
  },
  {
   "cell_type": "code",
   "execution_count": 494,
   "metadata": {
    "collapsed": false
   },
   "outputs": [
    {
     "name": "stdout",
     "output_type": "stream",
     "text": [
      "(21496,) (21496, 16)\n"
     ]
    }
   ],
   "source": [
    "# including counts\n",
    "y = np.ravel(users_sub['is_elite'].values)\n",
    "X = users_sub[['compliments.plain', 'review_count','compliments.cute', 'compliments.writer', 'fans','compliments.note',\n",
    "               'compliments.hot', 'compliments.cool','compliments.profile', 'compliments.more',\n",
    "               'votes.cool', 'compliments.list', 'votes.funny','compliments.photos', 'compliments.funny', 'votes.useful']]\n",
    "\n",
    "print y.shape, X.shape"
   ]
  },
  {
   "cell_type": "code",
   "execution_count": 495,
   "metadata": {
    "collapsed": false
   },
   "outputs": [],
   "source": [
    "ss = StandardScaler()\n",
    "Xn = ss.fit_transform(X)"
   ]
  },
  {
   "cell_type": "code",
   "execution_count": 500,
   "metadata": {
    "collapsed": false
   },
   "outputs": [
    {
     "name": "stdout",
     "output_type": "stream",
     "text": [
      "Fitting 5 folds for each of 4 candidates, totalling 20 fits\n"
     ]
    },
    {
     "name": "stderr",
     "output_type": "stream",
     "text": [
      "[Parallel(n_jobs=1)]: Done  20 out of  20 | elapsed:  3.4min finished\n"
     ]
    },
    {
     "name": "stdout",
     "output_type": "stream",
     "text": [
      "{'penalty': 'l2', 'C': 10.0, 'solver': 'liblinear'}\n"
     ]
    }
   ],
   "source": [
    "lr_params = {\n",
    "    'penalty':['l1','l2'],\n",
    "    'solver':['liblinear'],\n",
    "    'C':np.linspace(0.0001, 10, 2)\n",
    "}\n",
    "\n",
    "lr_gs = GridSearchCV(LogisticRegression(), lr_params, cv=5, verbose=1)\n",
    "\n",
    "lr_gs.fit(Xn, y)\n",
    "print lr_gs.best_params_\n",
    "best_lr = lr_gs.best_estimator_"
   ]
  },
  {
   "cell_type": "code",
   "execution_count": 504,
   "metadata": {
    "collapsed": false
   },
   "outputs": [
    {
     "name": "stdout",
     "output_type": "stream",
     "text": [
      "Fitting 5 folds for each of 18 candidates, totalling 90 fits\n"
     ]
    },
    {
     "name": "stderr",
     "output_type": "stream",
     "text": [
      "[Parallel(n_jobs=1)]: Done  49 tasks       | elapsed:   43.1s\n"
     ]
    },
    {
     "name": "stdout",
     "output_type": "stream",
     "text": [
      "{'n_neighbors': 9, 'weights': 'distance'}\n"
     ]
    },
    {
     "name": "stderr",
     "output_type": "stream",
     "text": [
      "[Parallel(n_jobs=1)]: Done  90 out of  90 | elapsed:  1.4min finished\n"
     ]
    }
   ],
   "source": [
    "params = {\n",
    "    'n_neighbors':range(1,10),\n",
    "    'weights':['uniform','distance']\n",
    "}\n",
    "knn_gs = GridSearchCV(KNeighborsClassifier(), params, cv=5, verbose=1)\n",
    "\n",
    "knn_gs.fit(Xn, y)\n",
    "\n",
    "print knn_gs.best_params_\n",
    "best_knn = knn_gs.best_estimator_"
   ]
  },
  {
   "cell_type": "code",
   "execution_count": 505,
   "metadata": {
    "collapsed": false
   },
   "outputs": [
    {
     "name": "stdout",
     "output_type": "stream",
     "text": [
      "KNN:\n",
      "[0.9893023255813953, 0.98790697674418604, 0.99139534883720926, 0.98790134946486741, 0.98813401582131222]\n",
      "0.98892800329\n",
      "Logistic Regression:\n",
      "[0.98837209302325579, 0.98720930232558135, 0.9851162790697674, 0.98464402047463939, 0.98557468590041875]\n",
      "0.986183276159\n",
      "Baseline accuracy: 0.0734090063268\n"
     ]
    }
   ],
   "source": [
    "cv_indices = StratifiedKFold(y, n_folds=5)\n",
    "\n",
    "lr_scores = []\n",
    "knn_scores = []\n",
    "\n",
    "for train_inds, test_inds in cv_indices:\n",
    "    \n",
    "    Xtr, ytr = Xn[train_inds, :], y[train_inds]\n",
    "    Xte, yte = Xn[test_inds, :], y[test_inds]\n",
    "    \n",
    "    best_knn.fit(Xtr, ytr)\n",
    "    knn_scores.append(best_knn.score(Xte, yte))\n",
    "    \n",
    "    best_lr.fit(Xtr, ytr)\n",
    "    lr_scores.append(best_lr.score(Xte, yte))\n",
    "    \n",
    "print 'KNN:'\n",
    "print knn_scores\n",
    "print np.mean(knn_scores)\n",
    "\n",
    "print 'Logistic Regression:'\n",
    "print lr_scores\n",
    "print np.mean(lr_scores)\n",
    "\n",
    "print 'Baseline accuracy:', np.mean(y)"
   ]
  },
  {
   "cell_type": "code",
   "execution_count": 508,
   "metadata": {
    "collapsed": false
   },
   "outputs": [
    {
     "data": {
      "text/html": [
       "<div>\n",
       "<table border=\"1\" class=\"dataframe\">\n",
       "  <thead>\n",
       "    <tr style=\"text-align: right;\">\n",
       "      <th></th>\n",
       "      <th>is_elite</th>\n",
       "      <th>fans</th>\n",
       "      <th>average_stars</th>\n",
       "    </tr>\n",
       "  </thead>\n",
       "  <tbody>\n",
       "    <tr>\n",
       "      <th>is_elite</th>\n",
       "      <td>1.000000</td>\n",
       "      <td>0.479129</td>\n",
       "      <td>0.007644</td>\n",
       "    </tr>\n",
       "    <tr>\n",
       "      <th>fans</th>\n",
       "      <td>0.479129</td>\n",
       "      <td>1.000000</td>\n",
       "      <td>0.015017</td>\n",
       "    </tr>\n",
       "    <tr>\n",
       "      <th>average_stars</th>\n",
       "      <td>0.007644</td>\n",
       "      <td>0.015017</td>\n",
       "      <td>1.000000</td>\n",
       "    </tr>\n",
       "  </tbody>\n",
       "</table>\n",
       "</div>"
      ],
      "text/plain": [
       "               is_elite      fans  average_stars\n",
       "is_elite       1.000000  0.479129       0.007644\n",
       "fans           0.479129  1.000000       0.015017\n",
       "average_stars  0.007644  0.015017       1.000000"
      ]
     },
     "execution_count": 508,
     "metadata": {},
     "output_type": "execute_result"
    }
   ],
   "source": [
    "users_sub[['is_elite','fans','average_stars']].corr()"
   ]
  },
  {
   "cell_type": "code",
   "execution_count": 509,
   "metadata": {
    "collapsed": false
   },
   "outputs": [
    {
     "data": {
      "text/plain": [
       "<matplotlib.axes._subplots.AxesSubplot at 0x1fe177810>"
      ]
     },
     "execution_count": 509,
     "metadata": {},
     "output_type": "execute_result"
    },
    {
     "data": {
      "image/png": "[encoded data removed]",
      "text/plain": [
       "<matplotlib.figure.Figure at 0x1b4ebe090>"
      ]
     },
     "metadata": {},
     "output_type": "display_data"
    }
   ],
   "source": [
    "sns.heatmap(users_sub[['is_elite','fans','average_stars']].corr())"
   ]
  },
  {
   "cell_type": "code",
   "execution_count": null,
   "metadata": {
    "collapsed": true
   },
   "outputs": [],
   "source": []
  },
  {
   "cell_type": "code",
   "execution_count": 510,
   "metadata": {
    "collapsed": false
   },
   "outputs": [
    {
     "name": "stdout",
     "output_type": "stream",
     "text": [
      "(21496,) (21496, 16)\n"
     ]
    }
   ],
   "source": [
    "# removing counts\n",
    "y2 = np.ravel(users_sub['is_elite'].values)\n",
    "X2 = users_sub[['fans','average_stars']]\n",
    "\n",
    "print y.shape, X.shape"
   ]
  },
  {
   "cell_type": "code",
   "execution_count": 511,
   "metadata": {
    "collapsed": true
   },
   "outputs": [],
   "source": [
    "X2n = ss.fit_transform(X2)"
   ]
  },
  {
   "cell_type": "code",
   "execution_count": 512,
   "metadata": {
    "collapsed": false
   },
   "outputs": [
    {
     "name": "stdout",
     "output_type": "stream",
     "text": [
      "Fitting 5 folds for each of 18 candidates, totalling 90 fits\n"
     ]
    },
    {
     "name": "stderr",
     "output_type": "stream",
     "text": [
      "[Parallel(n_jobs=1)]: Done  49 tasks       | elapsed:    8.9s\n"
     ]
    },
    {
     "name": "stdout",
     "output_type": "stream",
     "text": [
      "{'n_neighbors': 7, 'weights': 'uniform'}\n"
     ]
    },
    {
     "name": "stderr",
     "output_type": "stream",
     "text": [
      "[Parallel(n_jobs=1)]: Done  90 out of  90 | elapsed:   15.6s finished\n"
     ]
    }
   ],
   "source": [
    "arams = {\n",
    "    'n_neighbors':range(1,10),\n",
    "    'weights':['uniform','distance']\n",
    "}\n",
    "knn_gs = GridSearchCV(KNeighborsClassifier(), params, cv=5, verbose=1)\n",
    "\n",
    "knn_gs.fit(X2n, y)\n",
    "\n",
    "print knn_gs.best_params_\n",
    "best_knn = knn_gs.best_estimator_"
   ]
  },
  {
   "cell_type": "code",
   "execution_count": 513,
   "metadata": {
    "collapsed": false
   },
   "outputs": [
    {
     "name": "stdout",
     "output_type": "stream",
     "text": [
      "KNN:\n",
      "[0.98906976744186048, 0.98767441860465122, 0.9909302325581395, 0.98836668217775714, 0.98766868310842248]\n",
      "0.988741956778\n",
      "Baseline accuracy: 0.0734090063268\n"
     ]
    }
   ],
   "source": [
    "knn_scores = []\n",
    "\n",
    "for train_inds, test_inds in cv_indices:\n",
    "    \n",
    "    Xtr, ytr = Xn[train_inds, :], y[train_inds]\n",
    "    Xte, yte = Xn[test_inds, :], y[test_inds]\n",
    "    \n",
    "    best_knn.fit(Xtr, ytr)\n",
    "    knn_scores.append(best_knn.score(Xte, yte))\n",
    "    \n",
    "    \n",
    "print 'KNN:'\n",
    "print knn_scores\n",
    "print np.mean(knn_scores)\n",
    "\n",
    "\n",
    "print 'Baseline accuracy:', np.mean(y)"
   ]
  },
  {
   "cell_type": "code",
   "execution_count": null,
   "metadata": {
    "collapsed": true
   },
   "outputs": [],
   "source": [
    "# The accuracty is similar. Which means that either both sets of models are crummy or that fans is the\n",
    "# major predictor"
   ]
  },
  {
   "cell_type": "markdown",
   "metadata": {},
   "source": [
    "<img src=\"http://imgur.com/GCAf1UX.png\" style=\"float: left; margin: 25px 15px 0px 0px; height: 25px\">\n",
    "\n",
    "## 4. Find something interesting on your own\n",
    "\n",
    "---\n",
    "\n",
    "You want to impress your superiors at Yelp by doing some investigation into the data on your own. You want to do classification, but you're not sure on what.\n",
    "\n",
    "1. Create a hypothesis or hypotheses about the data based on whatever you are interested in, as long as it is predicting a category of some kind (classification).\n",
    "2. Explore the data visually (ideally related to this hypothesis).\n",
    "3. Build one or more classification models to predict your target variable. **Your modeling should include gridsearching to find optimal model parameters.**\n",
    "4. Evaluate the performance of your model. Explain why your model may have chosen those specific parameters during the gridsearch process.\n",
    "5. Write up what the model tells you. Does it validate or invalidate your hypothesis? Write this up as if for a non-technical audience."
   ]
  },
  {
   "cell_type": "code",
   "execution_count": null,
   "metadata": {
    "collapsed": true
   },
   "outputs": [],
   "source": []
  },
  {
   "cell_type": "markdown",
   "metadata": {},
   "source": [
    "<img src=\"http://imgur.com/GCAf1UX.png\" style=\"float: left; margin: 25px 15px 0px 0px; height: 25px\">\n",
    "\n",
    "## 5. ROC and Precision-recall\n",
    "\n",
    "---\n",
    "\n",
    "Some categories have fewer overall businesses than others. Choose two categories of businesses to predict, one that makes your proportion of target classes as even as possible, and another that has very few businesses and thus makes the target varible imbalanced.\n",
    "\n",
    "1. Create two classification models predicting these categories. Optimize the models and choose variables as you see fit.\n",
    "- Make confusion matrices for your models. Describe the confusion matrices and explain what they tell you about your models' performance.\n",
    "- Make ROC curves for both models. What do the ROC curves describe and what do they tell you about your model?\n",
    "- Make Precision-Recall curves for the models. What do they describe? How do they compare to the ROC curves?\n",
    "- Explain when Precision-Recall may be preferable to ROC. Is that the case in either of your models?"
   ]
  },
  {
   "cell_type": "code",
   "execution_count": null,
   "metadata": {
    "collapsed": true
   },
   "outputs": [],
   "source": []
  }
 ],
 "metadata": {
  "anaconda-cloud": {},
  "kernelspec": {
   "display_name": "Python [dsi]",
   "language": "python",
   "name": "Python [dsi]"
  },
  "language_info": {
   "codemirror_mode": {
    "name": "ipython",
    "version": 2
   },
   "file_extension": ".py",
   "mimetype": "text/x-python",
   "name": "python",
   "nbconvert_exporter": "python",
   "pygments_lexer": "ipython2",
   "version": "2.7.12"
  }
 },
 "nbformat": 4,
 "nbformat_minor": 0
}
