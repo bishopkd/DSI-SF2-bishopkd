{
 "cells": [
  {
   "cell_type": "markdown",
   "metadata": {},
   "source": [
    "<img src=\"http://imgur.com/1ZcRyrc.png\" style=\"float: left; margin: 15px; height: 80px\">\n",
    "\n",
    "# Project 4\n",
    "\n",
    "## San Francisco Data\n",
    "\n",
    "---\n",
    "\n",
    "[San Francisco provides a wealth of data on the city to the public.](https://data.sfgov.org/) Project 4 is all about exploring this data and modeling interesting relationships with regression.\n",
    "\n",
    "Project 4 is also much more open-ended than the previous projects. You are more responsible for finding things about the data that interest you, coming up with your own hypothesis about it, and reporting on the analysis you carry out. That being said, there are still specific requirements and restrictions on the type of models you will be constructing.\n",
    "\n",
    "---\n",
    "\n",
    "## Notes on the data\n",
    "\n",
    "We have gone through the above website and pulled out a variety of different datasets that we think are particularly interesting. Some of the datasets are from external sources as well, but all are related to San Francisco. A high level overview of data folders is provided after the project requirements section.\n",
    "\n",
    "**There is a lot of different data. You are _NOT_ expected to explore all of it or include all of it in analyses.** The point of the project is to focus on aspects of San Francisco that are particularly interesting to you from a modeling point of view. \n",
    "\n",
    "**The uncompressed data is a large filesize.** Even the compressed data is pretty large. The data is compressed into a .7z format which has one of the smallest filesizes available. You will likely need a 3rd party app to extract it. \n",
    "\n",
    "### Recommended Utilities for .7z\n",
    "- For OSX [Keka](http://www.kekaosx.com/en/) or [The Unarchiver](http://wakaba.c3.cx/s/apps/unarchiver.html). \n",
    "- For Windows [7-zip](http://www.7-zip.org/) is the standard. \n",
    "- For Linux try the `p7zip` utility.  `sudo apt-get install p7zip`.\n",
    "\n",
    "---\n",
    "\n",
    "## Project requirements\n",
    "\n",
    "**You will be performing 4 different sections of analysis on the San Francisco data.**\n",
    "\n",
    "**Models must be regression. This means that your target variable needs to be numeric/continuous**\n",
    "\n",
    "Do not perform classification models – this will be the topic of week 4.\n"
   ]
  },
  {
   "cell_type": "markdown",
   "metadata": {},
   "source": [
    "<img src=\"http://imgur.com/l5NasQj.png\" style=\"float: left; margin: 25px 15px 0px 0px; height: 25px\">\n",
    "\n",
    "### 1. Choose a dataset or datasets of interest to you and perform EDA\n",
    "\n",
    "---\n",
    "\n",
    "1. Explain what the data is. This may include multiple csv files. Some of this data has hard to understand codes representing the variables. Nearly all data is pulled from https://data.sfgov.org/ so this is a very good resource for determining what the data is.\n",
    "- Clean the data.\n",
    "- Develop and state clearly a hypothesis about the data that you would want to test.\n",
    "- Create some initial visualizations on the portions of the data relevant to your hypothesis."
   ]
  },
  {
   "cell_type": "markdown",
   "metadata": {},
   "source": [
    "The data contains a log of SFFD incidents between 2003 and the first quarter of 2014"
   ]
  },
  {
   "cell_type": "code",
   "execution_count": 2,
   "metadata": {
    "collapsed": false
   },
   "outputs": [],
   "source": [
    "import numpy as np\n",
    "import pandas as pd\n",
    "import patsy\n",
    "from datetime import datetime\n",
    "\n",
    "from sklearn.preprocessing import StandardScaler\n",
    "from sklearn.linear_model import Ridge, Lasso, ElasticNet, LinearRegression, RidgeCV, LassoCV, ElasticNetCV\n",
    "from sklearn.cross_validation import cross_val_score\n",
    "from sklearn import datasets, linear_model\n",
    "from sklearn.cross_validation import train_test_split\n",
    "from sklearn.cross_validation import cross_val_score, cross_val_predict\n",
    "from sklearn import metrics\n",
    "\n",
    "from sklearn.cross_validation import cross_val_score, StratifiedKFold\n",
    "from sklearn import grid_search\n",
    "from sklearn.grid_search import GridSearchCV\n",
    "from sklearn.preprocessing import StandardScaler\n",
    "\n",
    "import matplotlib\n",
    "import matplotlib.pyplot as plt\n",
    "import seaborn as sns\n",
    "plt.style.use('fivethirtyeight')\n",
    "\n",
    "%matplotlib inline"
   ]
  },
  {
   "cell_type": "code",
   "execution_count": 3,
   "metadata": {
    "collapsed": false
   },
   "outputs": [
    {
     "name": "stderr",
     "output_type": "stream",
     "text": [
      "/Users/katbishop/anaconda/envs/dsi/lib/python2.7/site-packages/IPython/core/interactiveshell.py:2723: DtypeWarning: Columns (11,12,19,44,58) have mixed types. Specify dtype option on import or set low_memory=False.\n",
      "  interactivity=interactivity, compiler=compiler, result=result)\n"
     ]
    }
   ],
   "source": [
    "filename = '/Users/katbishop/Desktop/DSI-SF2-bishopkd/datasets/san_francisco/san_francisco/fire_data/fire_incidents.csv'\n",
    "df = pd.read_csv(filename)"
   ]
  },
  {
   "cell_type": "code",
   "execution_count": 220,
   "metadata": {
    "collapsed": false
   },
   "outputs": [
    {
     "data": {
      "text/plain": [
       "(406736, 63)"
      ]
     },
     "execution_count": 220,
     "metadata": {},
     "output_type": "execute_result"
    }
   ],
   "source": [
    "df.shape"
   ]
  },
  {
   "cell_type": "code",
   "execution_count": 221,
   "metadata": {
    "collapsed": false
   },
   "outputs": [
    {
     "data": {
      "text/plain": [
       "Incident Number                                      0\n",
       "Exposure Number                                      0\n",
       "Address                                            103\n",
       "Incident Date                                        0\n",
       "Call Number                                          0\n",
       "Alarm DtTm                                           0\n",
       "Arrival DtTm                                        18\n",
       "Close DtTm                                           0\n",
       "City                                              1227\n",
       "Zipcode                                          72387\n",
       "Battalion                                            0\n",
       "Station Area                                       529\n",
       "Box                                             297821\n",
       "Suppression Units                                    0\n",
       "Suppression Personnel                                0\n",
       "EMS Units                                            0\n",
       "EMS Personnel                                        0\n",
       "Other Units                                          0\n",
       "Other Personnel                                      0\n",
       "First Unit On Scene                              76927\n",
       "Estimated Property Loss                         280961\n",
       "Estimated Contents Loss                         273883\n",
       "Fire Fatalities                                      0\n",
       "Fire Injuries                                        0\n",
       "Civilian Fatalities                                  0\n",
       "Civilian Injuries                                    0\n",
       "Number of Alarms                                406736\n",
       "Primary Situation                                    0\n",
       "Mutual Aid                                           0\n",
       "Action Taken Primary                                 0\n",
       "                                                 ...  \n",
       "Property Use                                       332\n",
       "Area of Fire Origin                             379945\n",
       "Ignition Cause                                  379946\n",
       "Ignition Factor Primary                         379947\n",
       "Ignition Factor Secondary                       382593\n",
       "Heat Source                                     379945\n",
       "Item First Ignited                              379945\n",
       "Human Factors Associated with Ignition          379948\n",
       "Structure Type                                  396331\n",
       "Structure Status                                396399\n",
       "Floor of Fire Origin                            399412\n",
       "Fire Spread                                     397150\n",
       "No Flame Spead                                  330800\n",
       "Number of floors with minimum damage            400150\n",
       "Number of floors with significant damage        400152\n",
       "Number of floors with heavy damage              400150\n",
       "Number of floors with extreme damage            400149\n",
       "Detectors Present                               396398\n",
       "Detector Type                                   396745\n",
       "Detector Operation                              396745\n",
       "Detector Effectiveness                          396874\n",
       "Detector Failure Reason                         397132\n",
       "Automatic Extinguishing System Present          396399\n",
       "Automatic Extinguishing Sytem Type              396960\n",
       "Automatic Extinguishing Sytem Perfomance        396960\n",
       "Automatic Extinguishing Sytem Failure Reason    397144\n",
       "Number of Sprinkler Heads Operating             400096\n",
       "Supervisor District                              72402\n",
       "Neighborhood  District                           72506\n",
       "Location                                         63690\n",
       "dtype: int64"
      ]
     },
     "execution_count": 221,
     "metadata": {},
     "output_type": "execute_result"
    }
   ],
   "source": [
    "df.isnull().sum()"
   ]
  },
  {
   "cell_type": "code",
   "execution_count": 222,
   "metadata": {
    "collapsed": false
   },
   "outputs": [
    {
     "data": {
      "text/plain": [
       "Index([u'Incident Number', u'Exposure Number', u'Address', u'Incident Date',\n",
       "       u'Call Number', u'Alarm DtTm', u'Arrival DtTm', u'Close DtTm', u'City',\n",
       "       u'Zipcode', u'Battalion', u'Station Area', u'Box', u'Suppression Units',\n",
       "       u'Suppression Personnel', u'EMS Units', u'EMS Personnel',\n",
       "       u'Other Units', u'Other Personnel', u'First Unit On Scene',\n",
       "       u'Estimated Property Loss', u'Estimated Contents Loss',\n",
       "       u'Fire Fatalities', u'Fire Injuries', u'Civilian Fatalities',\n",
       "       u'Civilian Injuries', u'Number of Alarms', u'Primary Situation',\n",
       "       u'Mutual Aid', u'Action Taken Primary', u'Action Taken Secondary',\n",
       "       u'Action Taken Other', u'Detector Alerted Occupants', u'Property Use',\n",
       "       u'Area of Fire Origin', u'Ignition Cause', u'Ignition Factor Primary',\n",
       "       u'Ignition Factor Secondary', u'Heat Source', u'Item First Ignited',\n",
       "       u'Human Factors Associated with Ignition', u'Structure Type',\n",
       "       u'Structure Status', u'Floor of Fire Origin', u'Fire Spread',\n",
       "       u'No Flame Spead', u'Number of floors with minimum damage',\n",
       "       u'Number of floors with significant damage',\n",
       "       u'Number of floors with heavy damage',\n",
       "       u'Number of floors with extreme damage', u'Detectors Present',\n",
       "       u'Detector Type', u'Detector Operation', u'Detector Effectiveness',\n",
       "       u'Detector Failure Reason', u'Automatic Extinguishing System Present',\n",
       "       u'Automatic Extinguishing Sytem Type',\n",
       "       u'Automatic Extinguishing Sytem Perfomance',\n",
       "       u'Automatic Extinguishing Sytem Failure Reason',\n",
       "       u'Number of Sprinkler Heads Operating', u'Supervisor District',\n",
       "       u'Neighborhood  District', u'Location'],\n",
       "      dtype='object')"
      ]
     },
     "execution_count": 222,
     "metadata": {},
     "output_type": "execute_result"
    }
   ],
   "source": [
    "df.columns"
   ]
  },
  {
   "cell_type": "code",
   "execution_count": 4,
   "metadata": {
    "collapsed": false
   },
   "outputs": [],
   "source": [
    "df.rename(columns={'Incident Number': 'incident_num',\n",
    "                   'Incident Date': 'incident_date',\n",
    "                   'Alarm DtTm': 'alarm_time', \n",
    "                   'Arrival DtTm': 'arrival_time',\n",
    "                   'Zipcode': 'zip',\n",
    "                   'EMS Units': 'ems_units',\n",
    "                   'First Unit On Scene': 'first_on_scene',\n",
    "                   'Fire Fatalities': 'fire_fatalities', \n",
    "                   'Fire Injuries': 'fire_injuries', \n",
    "                   'Civilian Fatalities': 'civilian_fatalities',\n",
    "                   'Civilian Injuries': 'civilian_injuries', \n",
    "                   'Primary Situation': 'primary_situation',\n",
    "                   'Detector Alerted Occupants':  'detector_alerted_occupants',\n",
    "                   'Neighborhood  District': 'neighborhood', \n",
    "                   'Location': 'location'}, inplace=True)"
   ]
  },
  {
   "cell_type": "code",
   "execution_count": 5,
   "metadata": {
    "collapsed": false
   },
   "outputs": [],
   "source": [
    "df = df[['incident_num','incident_date','alarm_time', 'arrival_time','ems_units','first_on_scene','fire_fatalities', 'fire_injuries', 'civilian_fatalities','civilian_injuries', 'primary_situation','neighborhood']]"
   ]
  },
  {
   "cell_type": "code",
   "execution_count": 6,
   "metadata": {
    "collapsed": false
   },
   "outputs": [],
   "source": [
    "# removed nulls for neighborhood, arrival time, first on the scene\n",
    "clean_list = ['neighborhood','arrival_time','first_on_scene']\n",
    "for col in clean_list:\n",
    "    clean = (df[col].notnull())\n",
    "    df = df[clean]"
   ]
  },
  {
   "cell_type": "code",
   "execution_count": 226,
   "metadata": {
    "collapsed": false
   },
   "outputs": [
    {
     "name": "stdout",
     "output_type": "stream",
     "text": [
      "<class 'pandas.core.frame.DataFrame'>\n",
      "Int64Index: 259883 entries, 2 to 402687\n",
      "Data columns (total 12 columns):\n",
      "incident_num           259883 non-null int64\n",
      "incident_date          259883 non-null object\n",
      "alarm_time             259883 non-null object\n",
      "arrival_time           259883 non-null object\n",
      "ems_units              259883 non-null int64\n",
      "first_on_scene         259883 non-null object\n",
      "fire_fatalities        259883 non-null int64\n",
      "fire_injuries          259883 non-null int64\n",
      "civilian_fatalities    259883 non-null int64\n",
      "civilian_injuries      259883 non-null int64\n",
      "primary_situation      259883 non-null object\n",
      "neighborhood           259883 non-null object\n",
      "dtypes: int64(6), object(6)\n",
      "memory usage: 25.8+ MB\n"
     ]
    }
   ],
   "source": [
    "df.info()"
   ]
  },
  {
   "cell_type": "code",
   "execution_count": 227,
   "metadata": {
    "collapsed": false
   },
   "outputs": [
    {
     "data": {
      "text/html": [
       "<div>\n",
       "<table border=\"1\" class=\"dataframe\">\n",
       "  <thead>\n",
       "    <tr style=\"text-align: right;\">\n",
       "      <th></th>\n",
       "      <th>count</th>\n",
       "      <th>mean</th>\n",
       "      <th>std</th>\n",
       "      <th>min</th>\n",
       "      <th>25%</th>\n",
       "      <th>50%</th>\n",
       "      <th>75%</th>\n",
       "      <th>max</th>\n",
       "    </tr>\n",
       "  </thead>\n",
       "  <tbody>\n",
       "    <tr>\n",
       "      <th>incident_num</th>\n",
       "      <td>259883.0</td>\n",
       "      <td>8.265417e+06</td>\n",
       "      <td>3.271682e+06</td>\n",
       "      <td>3000003.0</td>\n",
       "      <td>5085921.5</td>\n",
       "      <td>8090890.0</td>\n",
       "      <td>11068668.0</td>\n",
       "      <td>14032351.0</td>\n",
       "    </tr>\n",
       "    <tr>\n",
       "      <th>ems_units</th>\n",
       "      <td>259883.0</td>\n",
       "      <td>1.313630e-01</td>\n",
       "      <td>7.872384e-01</td>\n",
       "      <td>0.0</td>\n",
       "      <td>0.0</td>\n",
       "      <td>0.0</td>\n",
       "      <td>0.0</td>\n",
       "      <td>96.0</td>\n",
       "    </tr>\n",
       "    <tr>\n",
       "      <th>fire_fatalities</th>\n",
       "      <td>259883.0</td>\n",
       "      <td>0.000000e+00</td>\n",
       "      <td>0.000000e+00</td>\n",
       "      <td>0.0</td>\n",
       "      <td>0.0</td>\n",
       "      <td>0.0</td>\n",
       "      <td>0.0</td>\n",
       "      <td>0.0</td>\n",
       "    </tr>\n",
       "    <tr>\n",
       "      <th>fire_injuries</th>\n",
       "      <td>259883.0</td>\n",
       "      <td>3.463097e-04</td>\n",
       "      <td>2.961758e-02</td>\n",
       "      <td>0.0</td>\n",
       "      <td>0.0</td>\n",
       "      <td>0.0</td>\n",
       "      <td>0.0</td>\n",
       "      <td>9.0</td>\n",
       "    </tr>\n",
       "    <tr>\n",
       "      <th>civilian_fatalities</th>\n",
       "      <td>259883.0</td>\n",
       "      <td>4.232674e-05</td>\n",
       "      <td>8.087800e-03</td>\n",
       "      <td>0.0</td>\n",
       "      <td>0.0</td>\n",
       "      <td>0.0</td>\n",
       "      <td>0.0</td>\n",
       "      <td>3.0</td>\n",
       "    </tr>\n",
       "    <tr>\n",
       "      <th>civilian_injuries</th>\n",
       "      <td>259883.0</td>\n",
       "      <td>1.073560e-03</td>\n",
       "      <td>7.235910e-02</td>\n",
       "      <td>0.0</td>\n",
       "      <td>0.0</td>\n",
       "      <td>0.0</td>\n",
       "      <td>0.0</td>\n",
       "      <td>24.0</td>\n",
       "    </tr>\n",
       "  </tbody>\n",
       "</table>\n",
       "</div>"
      ],
      "text/plain": [
       "                        count          mean           std        min  \\\n",
       "incident_num         259883.0  8.265417e+06  3.271682e+06  3000003.0   \n",
       "ems_units            259883.0  1.313630e-01  7.872384e-01        0.0   \n",
       "fire_fatalities      259883.0  0.000000e+00  0.000000e+00        0.0   \n",
       "fire_injuries        259883.0  3.463097e-04  2.961758e-02        0.0   \n",
       "civilian_fatalities  259883.0  4.232674e-05  8.087800e-03        0.0   \n",
       "civilian_injuries    259883.0  1.073560e-03  7.235910e-02        0.0   \n",
       "\n",
       "                           25%        50%         75%         max  \n",
       "incident_num         5085921.5  8090890.0  11068668.0  14032351.0  \n",
       "ems_units                  0.0        0.0         0.0        96.0  \n",
       "fire_fatalities            0.0        0.0         0.0         0.0  \n",
       "fire_injuries              0.0        0.0         0.0         9.0  \n",
       "civilian_fatalities        0.0        0.0         0.0         3.0  \n",
       "civilian_injuries          0.0        0.0         0.0        24.0  "
      ]
     },
     "execution_count": 227,
     "metadata": {},
     "output_type": "execute_result"
    }
   ],
   "source": [
    "df.describe().T"
   ]
  },
  {
   "cell_type": "code",
   "execution_count": 7,
   "metadata": {
    "collapsed": false
   },
   "outputs": [],
   "source": [
    "# given that there are zero injuries or fatalities when ems_units are between 30 - 96\n",
    "# i'm assuming these are data entry errors and removing them (21 rows)\n",
    "outlier_mask = (df['ems_units'] < 30)\n",
    "df = df[outlier_mask]"
   ]
  },
  {
   "cell_type": "code",
   "execution_count": 8,
   "metadata": {
    "collapsed": false
   },
   "outputs": [
    {
     "name": "stdout",
     "output_type": "stream",
     "text": [
      "2003-01-01 00:00:00\n",
      "2014-04-06 00:00:00\n"
     ]
    }
   ],
   "source": [
    "df['incident_date'] = pd.to_datetime(df['incident_date'])\n",
    "print df['incident_date'].min()\n",
    "print df['incident_date'].max()"
   ]
  },
  {
   "cell_type": "markdown",
   "metadata": {},
   "source": [
    "hypothosis: Can civilian fatalities be predicted by neighborhood, number of ems units called, first unit on the scene,\n",
    "incident month, and the time it took between the initial call and SFFD arrival."
   ]
  },
  {
   "cell_type": "code",
   "execution_count": 9,
   "metadata": {
    "collapsed": false
   },
   "outputs": [],
   "source": [
    "# format and create new column\n",
    "df['alarm_time'] = pd.to_datetime(df['alarm_time'])\n",
    "df['arrival_time'] = pd.to_datetime(df['arrival_time'])\n",
    "df['mins_to_scene'] = -(df['alarm_time']-df['arrival_time']).astype('timedelta64[m]')\n"
   ]
  },
  {
   "cell_type": "code",
   "execution_count": 10,
   "metadata": {
    "collapsed": false
   },
   "outputs": [],
   "source": [
    "df['incident_month'] = df['incident_date'].map(lambda x: x.month)"
   ]
  },
  {
   "cell_type": "code",
   "execution_count": 232,
   "metadata": {
    "collapsed": false
   },
   "outputs": [
    {
     "data": {
      "text/plain": [
       "<matplotlib.axes._subplots.AxesSubplot at 0x119dc3610>"
      ]
     },
     "execution_count": 232,
     "metadata": {},
     "output_type": "execute_result"
    },
    {
     "data": {
      "image/png": "[encoded data removed]",
      "text/plain": [
       "<matplotlib.figure.Figure at 0x11b506f10>"
      ]
     },
     "metadata": {},
     "output_type": "display_data"
    }
   ],
   "source": [
    "df.groupby(['neighborhood'])[['mins_to_scene']].sum().sort_values('mins_to_scene', ascending=0).plot(kind='bar', figsize=(18,6))"
   ]
  },
  {
   "cell_type": "code",
   "execution_count": 233,
   "metadata": {
    "collapsed": false
   },
   "outputs": [
    {
     "data": {
      "text/plain": [
       "<matplotlib.axes._subplots.AxesSubplot at 0x1c0f749d0>"
      ]
     },
     "execution_count": 233,
     "metadata": {},
     "output_type": "execute_result"
    },
    {
     "data": {
      "image/png": "[encoded data removed]",
      "text/plain": [
       "<matplotlib.figure.Figure at 0x1bf6feb10>"
      ]
     },
     "metadata": {},
     "output_type": "display_data"
    }
   ],
   "source": [
    "df.groupby(['neighborhood'])[['civilian_injuries']].sum().sort_values('civilian_injuries', ascending=0).head(18).plot(kind='bar', figsize=(18,6))"
   ]
  },
  {
   "cell_type": "code",
   "execution_count": 234,
   "metadata": {
    "collapsed": false
   },
   "outputs": [
    {
     "data": {
      "text/plain": [
       "<matplotlib.axes._subplots.AxesSubplot at 0x199c1a2d0>"
      ]
     },
     "execution_count": 234,
     "metadata": {},
     "output_type": "execute_result"
    },
    {
     "data": {
      "image/png": "[encoded data removed]",
      "text/plain": [
       "<matplotlib.figure.Figure at 0x178397f50>"
      ]
     },
     "metadata": {},
     "output_type": "display_data"
    }
   ],
   "source": [
    "df.groupby(['incident_month'])[['civilian_injuries']].sum().plot( figsize=(18,8))"
   ]
  },
  {
   "cell_type": "code",
   "execution_count": 235,
   "metadata": {
    "collapsed": false
   },
   "outputs": [
    {
     "data": {
      "text/plain": [
       "<matplotlib.axes._subplots.AxesSubplot at 0x1bd689450>"
      ]
     },
     "execution_count": 235,
     "metadata": {},
     "output_type": "execute_result"
    },
    {
     "data": {
      "image/png": "[encoded data removed]",
      "text/plain": [
       "<matplotlib.figure.Figure at 0x1bc4b3f90>"
      ]
     },
     "metadata": {},
     "output_type": "display_data"
    }
   ],
   "source": [
    "mins_mask = (df['mins_to_scene'] < 20)\n",
    "df[mins_mask].groupby(['mins_to_scene'])[['civilian_injuries']].sum().plot( figsize=(18,8))"
   ]
  },
  {
   "cell_type": "code",
   "execution_count": 236,
   "metadata": {
    "collapsed": false
   },
   "outputs": [
    {
     "data": {
      "text/plain": [
       "<matplotlib.axes._subplots.AxesSubplot at 0x1be62e450>"
      ]
     },
     "execution_count": 236,
     "metadata": {},
     "output_type": "execute_result"
    },
    {
     "data": {
      "image/png": "[encoded data removed]",
      "text/plain": [
       "<matplotlib.figure.Figure at 0x17b212550>"
      ]
     },
     "metadata": {},
     "output_type": "display_data"
    }
   ],
   "source": [
    "df.groupby(['first_on_scene'])[['civilian_injuries']].sum().sort_values('civilian_injuries', ascending=0).head(30).plot(kind='bar', figsize=(18,8))"
   ]
  },
  {
   "cell_type": "code",
   "execution_count": 237,
   "metadata": {
    "collapsed": false
   },
   "outputs": [
    {
     "data": {
      "text/plain": [
       "<matplotlib.axes._subplots.AxesSubplot at 0x154bc59d0>"
      ]
     },
     "execution_count": 237,
     "metadata": {},
     "output_type": "execute_result"
    },
    {
     "data": {
      "image/png": "[encoded data removed]",
      "text/plain": [
       "<matplotlib.figure.Figure at 0x17b21a3d0>"
      ]
     },
     "metadata": {},
     "output_type": "display_data"
    }
   ],
   "source": [
    "df.plot(kind='scatter', x='civilian_injuries', y='fire_injuries')"
   ]
  },
  {
   "cell_type": "code",
   "execution_count": 238,
   "metadata": {
    "collapsed": true
   },
   "outputs": [],
   "source": [
    "# I wanted to predict civilian injuries by neighborhood, but then decided I couldn't use that predictor (I now know\n",
    "# about C()). So I switched to attempting to predict civilian injuries by minutes from call to arrival at scene, \n",
    "# ems units called, and injuries sustained by firemen. "
   ]
  },
  {
   "cell_type": "markdown",
   "metadata": {},
   "source": [
    "<img src=\"http://imgur.com/l5NasQj.png\" style=\"float: left; margin: 25px 15px 0px 0px; height: 25px\">\n",
    "\n",
    "### 2. Construct and evaluate a linear regression model on the data\n",
    "\n",
    "---\n",
    "\n",
    "1. State the variables that are predictors in your linear regression and the target variable.\n",
    "- Investigate and remove any outliers or other problems in your data. _This is a subjective process._\n",
    "- Construct a linear regression model.\n",
    "- Evaluate the model. How does the $R^2$ of the overall model compare to cross-validated $R^2$. What do the differences in $R^2$ mean?\n",
    "  - Use test / train split\n",
    "  - Use K-Folds\n",
    "  - Compare and explain your results with both\n",
    "- Visualize the evaluation metrics of your analysis in clear charts.\n",
    "- Summarize your results in the context of your hypothesis. Frame this as if you are presenting to non-technical readers.\n"
   ]
  },
  {
   "cell_type": "code",
   "execution_count": 11,
   "metadata": {
    "collapsed": true
   },
   "outputs": [],
   "source": [
    "df_sub = df[['civilian_injuries','mins_to_scene','incident_month', 'ems_units','fire_injuries']]"
   ]
  },
  {
   "cell_type": "code",
   "execution_count": 243,
   "metadata": {
    "collapsed": false
   },
   "outputs": [
    {
     "data": {
      "text/html": [
       "<div>\n",
       "<table border=\"1\" class=\"dataframe\">\n",
       "  <thead>\n",
       "    <tr style=\"text-align: right;\">\n",
       "      <th></th>\n",
       "      <th>civilian_injuries</th>\n",
       "      <th>mins_to_scene</th>\n",
       "      <th>incident_month</th>\n",
       "      <th>ems_units</th>\n",
       "      <th>fire_injuries</th>\n",
       "    </tr>\n",
       "  </thead>\n",
       "  <tbody>\n",
       "    <tr>\n",
       "      <th>civilian_injuries</th>\n",
       "      <td>1.000000</td>\n",
       "      <td>0.033626</td>\n",
       "      <td>0.001352</td>\n",
       "      <td>0.054510</td>\n",
       "      <td>0.410992</td>\n",
       "    </tr>\n",
       "    <tr>\n",
       "      <th>mins_to_scene</th>\n",
       "      <td>0.033626</td>\n",
       "      <td>1.000000</td>\n",
       "      <td>-0.003578</td>\n",
       "      <td>0.038527</td>\n",
       "      <td>0.085521</td>\n",
       "    </tr>\n",
       "    <tr>\n",
       "      <th>incident_month</th>\n",
       "      <td>0.001352</td>\n",
       "      <td>-0.003578</td>\n",
       "      <td>1.000000</td>\n",
       "      <td>-0.001194</td>\n",
       "      <td>-0.000435</td>\n",
       "    </tr>\n",
       "    <tr>\n",
       "      <th>ems_units</th>\n",
       "      <td>0.054510</td>\n",
       "      <td>0.038527</td>\n",
       "      <td>-0.001194</td>\n",
       "      <td>1.000000</td>\n",
       "      <td>0.059465</td>\n",
       "    </tr>\n",
       "    <tr>\n",
       "      <th>fire_injuries</th>\n",
       "      <td>0.410992</td>\n",
       "      <td>0.085521</td>\n",
       "      <td>-0.000435</td>\n",
       "      <td>0.059465</td>\n",
       "      <td>1.000000</td>\n",
       "    </tr>\n",
       "  </tbody>\n",
       "</table>\n",
       "</div>"
      ],
      "text/plain": [
       "                   civilian_injuries  mins_to_scene  incident_month  \\\n",
       "civilian_injuries           1.000000       0.033626        0.001352   \n",
       "mins_to_scene               0.033626       1.000000       -0.003578   \n",
       "incident_month              0.001352      -0.003578        1.000000   \n",
       "ems_units                   0.054510       0.038527       -0.001194   \n",
       "fire_injuries               0.410992       0.085521       -0.000435   \n",
       "\n",
       "                   ems_units  fire_injuries  \n",
       "civilian_injuries   0.054510       0.410992  \n",
       "mins_to_scene       0.038527       0.085521  \n",
       "incident_month     -0.001194      -0.000435  \n",
       "ems_units           1.000000       0.059465  \n",
       "fire_injuries       0.059465       1.000000  "
      ]
     },
     "execution_count": 243,
     "metadata": {},
     "output_type": "execute_result"
    }
   ],
   "source": [
    "df_sub.corr()"
   ]
  },
  {
   "cell_type": "code",
   "execution_count": 244,
   "metadata": {
    "collapsed": false
   },
   "outputs": [
    {
     "data": {
      "text/plain": [
       "<matplotlib.axes._subplots.AxesSubplot at 0x1c4a3d7d0>"
      ]
     },
     "execution_count": 244,
     "metadata": {},
     "output_type": "execute_result"
    },
    {
     "data": {
      "image/png": "[encoded data removed]",
      "text/plain": [
       "<matplotlib.figure.Figure at 0x1c4a3d290>"
      ]
     },
     "metadata": {},
     "output_type": "display_data"
    }
   ],
   "source": [
    "sns.heatmap(df_sub.corr())"
   ]
  },
  {
   "cell_type": "code",
   "execution_count": 12,
   "metadata": {
    "collapsed": false
   },
   "outputs": [],
   "source": [
    "formula = 'civilian_injuries ~ mins_to_scene +  incident_month +ems_units + fire_injuries -1' \n",
    "y,X = patsy.dmatrices(formula, df_sub , return_type='dataframe')"
   ]
  },
  {
   "cell_type": "code",
   "execution_count": 13,
   "metadata": {
    "collapsed": false
   },
   "outputs": [
    {
     "name": "stdout",
     "output_type": "stream",
     "text": [
      "(181903, 4) (181903, 1)\n",
      "(77959, 4) (77959, 1)\n",
      "Score: 0.142927587103\n"
     ]
    }
   ],
   "source": [
    "# test/train split\n",
    "\n",
    "X_train, X_test, y_train, y_test = train_test_split(X, y, test_size=0.3)\n",
    "print X_train.shape, y_train.shape\n",
    "print X_test.shape, y_test.shape\n",
    "\n",
    "lm = linear_model.LinearRegression()\n",
    "\n",
    "model = lm.fit(X_train, y_train)\n",
    "predictions = lm.predict(X_test).ravel()\n",
    "\n",
    "print \"Score:\", model.score(X_test, y_test)"
   ]
  },
  {
   "cell_type": "code",
   "execution_count": null,
   "metadata": {
    "collapsed": false
   },
   "outputs": [],
   "source": []
  },
  {
   "cell_type": "code",
   "execution_count": 25,
   "metadata": {
    "collapsed": false
   },
   "outputs": [],
   "source": [
    "plt.scatter(y, predictions)"
   ]
  },
  {
   "cell_type": "code",
   "execution_count": 15,
   "metadata": {
    "collapsed": false
   },
   "outputs": [
    {
     "name": "stdout",
     "output_type": "stream",
     "text": [
      "Cross-validated scores: [ 1.          1.          1.          1.          0.78752721]\n",
      "Cross-Predicted Accuracy: 0.792202611919\n"
     ]
    },
    {
     "data": {
      "image/png": "[encoded data removed]",
      "text/plain": [
       "<matplotlib.figure.Figure at 0x11fec4410>"
      ]
     },
     "metadata": {},
     "output_type": "display_data"
    }
   ],
   "source": [
    "# k-folds\n",
    "formula = 'civilian_injuries ~ mins_to_scene  + incident_month + ems_units + fire_injuries -1' #  \n",
    "y,X = patsy.dmatrices(formula, df_sub , return_type='dataframe')\n",
    "\n",
    "lm = linear_model.LinearRegression()\n",
    "\n",
    "scores = cross_val_score(lm, df_sub, y, cv=5) \n",
    "print \"Cross-validated scores:\", scores # result of each fold\n",
    "\n",
    "predictions = cross_val_predict(lm, df_sub, y, cv=5)\n",
    "plt.scatter(y, predictions)\n",
    "\n",
    "accuracy = metrics.r2_score(y, predictions)\n",
    "print \"Cross-Predicted Accuracy:\", accuracy # R^2 \n"
   ]
  },
  {
   "cell_type": "markdown",
   "metadata": {},
   "source": [
    "<img src=\"http://imgur.com/xDpSobf.png\" style=\"float: left; margin: 25px 15px 0px 0px; height: 25px\">\n",
    "\n",
    "### 2.2 Explain $R^2$ vs. mean squared error (MSE)\n",
    "\n",
    "---\n",
    "\n",
    "1. If you have negative $R^2$ values in cross-validation, what does this mean? \n",
    "2. Why can $R^2$ only be negative when the model is tested on new data?"
   ]
  },
  {
   "cell_type": "code",
   "execution_count": null,
   "metadata": {
    "collapsed": false
   },
   "outputs": [],
   "source": [
    "# 1. It means that your prediction is worse than the baseline\n",
    "# 2. Because the train data builds the best fit for available data, at it's worst the regression would be the baseline/\n",
    "#     just taking the mean."
   ]
  },
  {
   "cell_type": "markdown",
   "metadata": {},
   "source": [
    "<img src=\"http://imgur.com/l5NasQj.png\" style=\"float: left; margin: 25px 15px 0px 0px; height: 25px\">\n",
    "\n",
    "### 3. Combine multiple sources of data and evaluate a model with regularized regression\n",
    "\n",
    "---\n",
    "\n",
    "**I recommend having many predictors to see benefits from regularization methods, but it's up to you.**\n",
    "\n",
    "1. Use _NEW_ sources of data for this section. It should not be related to your analysis/hypothesis from section 1.\n",
    "- Like in part 1, you should state a hypothesis and perform data cleaning and EDA _only_ on the relevant portions of your data. Don't waste time!\n",
    "- Construct and evaluate different models with cross-validated $R^2$. Compare LinearRegression, Lasso, Ridge, and ElasticNet. Find the optimal hyperparameters (alpha, l1_ratio) using gridsearch.\n",
    "- Report on which model is best, and why that might be the case (hint: does your data have multicollinearity? Irrelevant variables? Both?)\n",
    "- Plot visuals that compare the performance of the four models.\n"
   ]
  },
  {
   "cell_type": "code",
   "execution_count": 26,
   "metadata": {
    "collapsed": false
   },
   "outputs": [
    {
     "name": "stderr",
     "output_type": "stream",
     "text": [
      "/Users/katbishop/anaconda/envs/dsi/lib/python2.7/site-packages/IPython/core/interactiveshell.py:2723: DtypeWarning: Columns (26) have mixed types. Specify dtype option on import or set low_memory=False.\n",
      "  interactivity=interactivity, compiler=compiler, result=result)\n"
     ]
    },
    {
     "data": {
      "text/html": [
       "<div>\n",
       "<table border=\"1\" class=\"dataframe\">\n",
       "  <thead>\n",
       "    <tr style=\"text-align: right;\">\n",
       "      <th></th>\n",
       "      <th>PROPLOC</th>\n",
       "      <th>RP1NBRCDE</th>\n",
       "      <th>RP1PRCLID</th>\n",
       "      <th>RP1VOLUME</th>\n",
       "      <th>RP1CLACDE</th>\n",
       "      <th>YRBLT</th>\n",
       "      <th>BATHS</th>\n",
       "      <th>BEDS</th>\n",
       "      <th>ROOMS</th>\n",
       "      <th>STOREYNO</th>\n",
       "      <th>...</th>\n",
       "      <th>EXEMPTYPE</th>\n",
       "      <th>RP1STACDE</th>\n",
       "      <th>RP1EXMVL2</th>\n",
       "      <th>RP1EXMVL1</th>\n",
       "      <th>ROLLYEAR</th>\n",
       "      <th>RECURRSALD</th>\n",
       "      <th>RP1FXTVAL</th>\n",
       "      <th>RP1IMPVAL</th>\n",
       "      <th>RP1LNDVAL</th>\n",
       "      <th>RP1PPTVAL</th>\n",
       "    </tr>\n",
       "  </thead>\n",
       "  <tbody>\n",
       "    <tr>\n",
       "      <th>0</th>\n",
       "      <td>0000 0000                       0000</td>\n",
       "      <td>08H</td>\n",
       "      <td>0001 001</td>\n",
       "      <td>1</td>\n",
       "      <td>G</td>\n",
       "      <td>1900</td>\n",
       "      <td>0</td>\n",
       "      <td>0</td>\n",
       "      <td>0</td>\n",
       "      <td>0</td>\n",
       "      <td>...</td>\n",
       "      <td>NaN</td>\n",
       "      <td>N</td>\n",
       "      <td>0.0</td>\n",
       "      <td>0.0</td>\n",
       "      <td>11.0</td>\n",
       "      <td>0.0</td>\n",
       "      <td>0.0</td>\n",
       "      <td>0.0</td>\n",
       "      <td>0.0</td>\n",
       "      <td>0.0</td>\n",
       "    </tr>\n",
       "    <tr>\n",
       "      <th>1</th>\n",
       "      <td>0000 0000                       0000</td>\n",
       "      <td>08H</td>\n",
       "      <td>0002 001</td>\n",
       "      <td>1</td>\n",
       "      <td>G</td>\n",
       "      <td>1900</td>\n",
       "      <td>0</td>\n",
       "      <td>0</td>\n",
       "      <td>0</td>\n",
       "      <td>0</td>\n",
       "      <td>...</td>\n",
       "      <td>NaN</td>\n",
       "      <td>N</td>\n",
       "      <td>0.0</td>\n",
       "      <td>0.0</td>\n",
       "      <td>11.0</td>\n",
       "      <td>0.0</td>\n",
       "      <td>0.0</td>\n",
       "      <td>0.0</td>\n",
       "      <td>0.0</td>\n",
       "      <td>0.0</td>\n",
       "    </tr>\n",
       "  </tbody>\n",
       "</table>\n",
       "<p>2 rows × 36 columns</p>\n",
       "</div>"
      ],
      "text/plain": [
       "                                PROPLOC RP1NBRCDE RP1PRCLID  RP1VOLUME  \\\n",
       "0  0000 0000                       0000       08H  0001 001          1   \n",
       "1  0000 0000                       0000       08H  0002 001          1   \n",
       "\n",
       "  RP1CLACDE  YRBLT  BATHS  BEDS  ROOMS  STOREYNO    ...     EXEMPTYPE  \\\n",
       "0         G   1900      0     0      0         0    ...           NaN   \n",
       "1         G   1900      0     0      0         0    ...           NaN   \n",
       "\n",
       "   RP1STACDE RP1EXMVL2 RP1EXMVL1  ROLLYEAR  RECURRSALD  RP1FXTVAL  RP1IMPVAL  \\\n",
       "0          N       0.0       0.0      11.0         0.0        0.0        0.0   \n",
       "1          N       0.0       0.0      11.0         0.0        0.0        0.0   \n",
       "\n",
       "   RP1LNDVAL RP1PPTVAL  \n",
       "0        0.0       0.0  \n",
       "1        0.0       0.0  \n",
       "\n",
       "[2 rows x 36 columns]"
      ]
     },
     "execution_count": 26,
     "metadata": {},
     "output_type": "execute_result"
    }
   ],
   "source": [
    "fname = '/Users/katbishop/Desktop/DSI-SF2-bishopkd/datasets/san_francisco/san_francisco/assessor_office/assessor_data_2011_2012.csv'\n",
    "assess = pd.read_csv(fname)\n",
    "assess.head(2)"
   ]
  },
  {
   "cell_type": "code",
   "execution_count": null,
   "metadata": {
    "collapsed": false
   },
   "outputs": [],
   "source": [
    "assess.columns"
   ]
  },
  {
   "cell_type": "code",
   "execution_count": 27,
   "metadata": {
    "collapsed": false
   },
   "outputs": [],
   "source": [
    "assess.rename(columns ={\n",
    "        'YRBLT' : 'year_built', \n",
    "        'BATHS' : 'num_baths', \n",
    "        'BEDS' : 'num_bdrms', \n",
    "        'ROOMS' : 'num_rooms', \n",
    "        'STOREYNO' : 'num_stories' , \n",
    "        'UNITS' : 'num_units',\n",
    "       'CHGDATE' : 'char_change_date', \n",
    "         'DEPTH' : 'lot_depth' , \n",
    "        'FRONT' : 'lot_frontage', \n",
    "        'SQFT' : 'sq_ft', \n",
    "        'FBA' : 'basement_area',\n",
    "       'LAREA' : 'lot_area', \n",
    "        'ROLLYEAR' : 'roll_year',  \n",
    "        'RP1FXTVAL' : 'fixture_value',\n",
    "       'RP1IMPVAL' : 'improvement_value', \n",
    "        'RP1LNDVAL' : 'land_value', \n",
    "        'RP1PPTVAL' : 'property_value'   \n",
    "    }, inplace=True)"
   ]
  },
  {
   "cell_type": "code",
   "execution_count": 28,
   "metadata": {
    "collapsed": false
   },
   "outputs": [],
   "source": [
    "drop_list = ['PROPLOC','ZONE', 'CONSTTYPE','LOTCODE','REPRISDATE', 'RP1RECDAT1', 'RP1DOCNO1' ,'OWNRPRCNT','EXEMPTYPE',\n",
    "            'RECURRSALD','RP1EXMVL2' , 'RP1EXMVL1','RP1DOCNO2' , 'RP1TRACDE','RP1STACDE','RP1NBRCDE', 'RP1PRCLID', \n",
    "             'RP1VOLUME', 'RP1CLACDE']\n",
    "for col in drop_list:\n",
    "    assess.drop(col, axis=1, inplace=True)"
   ]
  },
  {
   "cell_type": "code",
   "execution_count": null,
   "metadata": {
    "collapsed": false
   },
   "outputs": [],
   "source": [
    "assess.head()"
   ]
  },
  {
   "cell_type": "code",
   "execution_count": 251,
   "metadata": {
    "collapsed": false
   },
   "outputs": [
    {
     "data": {
      "text/html": [
       "<div>\n",
       "<table border=\"1\" class=\"dataframe\">\n",
       "  <thead>\n",
       "    <tr style=\"text-align: right;\">\n",
       "      <th></th>\n",
       "      <th>count</th>\n",
       "      <th>mean</th>\n",
       "      <th>std</th>\n",
       "      <th>min</th>\n",
       "      <th>25%</th>\n",
       "      <th>50%</th>\n",
       "      <th>75%</th>\n",
       "      <th>max</th>\n",
       "    </tr>\n",
       "  </thead>\n",
       "  <tbody>\n",
       "    <tr>\n",
       "      <th>year_built</th>\n",
       "      <td>193758.0</td>\n",
       "      <td>1788.077788</td>\n",
       "      <td>5.250223e+02</td>\n",
       "      <td>0.0</td>\n",
       "      <td>1908.0</td>\n",
       "      <td>1927.0</td>\n",
       "      <td>1956.0</td>\n",
       "      <td>9.185000e+03</td>\n",
       "    </tr>\n",
       "    <tr>\n",
       "      <th>num_baths</th>\n",
       "      <td>193758.0</td>\n",
       "      <td>2.374452</td>\n",
       "      <td>8.758683e+00</td>\n",
       "      <td>0.0</td>\n",
       "      <td>1.0</td>\n",
       "      <td>1.0</td>\n",
       "      <td>2.0</td>\n",
       "      <td>1.002000e+03</td>\n",
       "    </tr>\n",
       "    <tr>\n",
       "      <th>num_bdrms</th>\n",
       "      <td>193758.0</td>\n",
       "      <td>0.987340</td>\n",
       "      <td>9.645268e+00</td>\n",
       "      <td>0.0</td>\n",
       "      <td>0.0</td>\n",
       "      <td>0.0</td>\n",
       "      <td>2.0</td>\n",
       "      <td>3.800000e+03</td>\n",
       "    </tr>\n",
       "    <tr>\n",
       "      <th>num_rooms</th>\n",
       "      <td>193758.0</td>\n",
       "      <td>7.864388</td>\n",
       "      <td>2.339989e+01</td>\n",
       "      <td>-7.0</td>\n",
       "      <td>4.0</td>\n",
       "      <td>6.0</td>\n",
       "      <td>8.0</td>\n",
       "      <td>3.606000e+03</td>\n",
       "    </tr>\n",
       "    <tr>\n",
       "      <th>num_stories</th>\n",
       "      <td>193758.0</td>\n",
       "      <td>1.472543</td>\n",
       "      <td>5.119017e+00</td>\n",
       "      <td>-1.0</td>\n",
       "      <td>1.0</td>\n",
       "      <td>1.0</td>\n",
       "      <td>2.0</td>\n",
       "      <td>9.630000e+02</td>\n",
       "    </tr>\n",
       "    <tr>\n",
       "      <th>num_units</th>\n",
       "      <td>193758.0</td>\n",
       "      <td>1.849038</td>\n",
       "      <td>1.511783e+01</td>\n",
       "      <td>0.0</td>\n",
       "      <td>1.0</td>\n",
       "      <td>1.0</td>\n",
       "      <td>1.0</td>\n",
       "      <td>4.000000e+03</td>\n",
       "    </tr>\n",
       "    <tr>\n",
       "      <th>char_change_date</th>\n",
       "      <td>193758.0</td>\n",
       "      <td>7794.663069</td>\n",
       "      <td>3.914587e+03</td>\n",
       "      <td>0.0</td>\n",
       "      <td>9503.0</td>\n",
       "      <td>9903.0</td>\n",
       "      <td>9908.0</td>\n",
       "      <td>9.912000e+03</td>\n",
       "    </tr>\n",
       "    <tr>\n",
       "      <th>lot_depth</th>\n",
       "      <td>193758.0</td>\n",
       "      <td>8.928739</td>\n",
       "      <td>2.204348e+01</td>\n",
       "      <td>0.0</td>\n",
       "      <td>0.0</td>\n",
       "      <td>0.0</td>\n",
       "      <td>0.0</td>\n",
       "      <td>9.996000e+01</td>\n",
       "    </tr>\n",
       "    <tr>\n",
       "      <th>lot_frontage</th>\n",
       "      <td>193758.0</td>\n",
       "      <td>0.061868</td>\n",
       "      <td>1.683939e+00</td>\n",
       "      <td>0.0</td>\n",
       "      <td>0.0</td>\n",
       "      <td>0.0</td>\n",
       "      <td>0.0</td>\n",
       "      <td>9.939000e+01</td>\n",
       "    </tr>\n",
       "    <tr>\n",
       "      <th>sq_ft</th>\n",
       "      <td>193758.0</td>\n",
       "      <td>2928.229921</td>\n",
       "      <td>1.844255e+04</td>\n",
       "      <td>0.0</td>\n",
       "      <td>1000.0</td>\n",
       "      <td>1420.0</td>\n",
       "      <td>2272.0</td>\n",
       "      <td>3.015837e+06</td>\n",
       "    </tr>\n",
       "    <tr>\n",
       "      <th>basement_area</th>\n",
       "      <td>193757.0</td>\n",
       "      <td>56.287706</td>\n",
       "      <td>3.509551e+02</td>\n",
       "      <td>-883.0</td>\n",
       "      <td>NaN</td>\n",
       "      <td>NaN</td>\n",
       "      <td>NaN</td>\n",
       "      <td>7.387800e+04</td>\n",
       "    </tr>\n",
       "    <tr>\n",
       "      <th>lot_area</th>\n",
       "      <td>193757.0</td>\n",
       "      <td>3718.825990</td>\n",
       "      <td>1.388080e+05</td>\n",
       "      <td>0.0</td>\n",
       "      <td>NaN</td>\n",
       "      <td>NaN</td>\n",
       "      <td>NaN</td>\n",
       "      <td>5.800145e+07</td>\n",
       "    </tr>\n",
       "    <tr>\n",
       "      <th>roll_year</th>\n",
       "      <td>193757.0</td>\n",
       "      <td>11.000000</td>\n",
       "      <td>0.000000e+00</td>\n",
       "      <td>11.0</td>\n",
       "      <td>NaN</td>\n",
       "      <td>NaN</td>\n",
       "      <td>NaN</td>\n",
       "      <td>1.100000e+01</td>\n",
       "    </tr>\n",
       "    <tr>\n",
       "      <th>fixture_value</th>\n",
       "      <td>193757.0</td>\n",
       "      <td>5658.126364</td>\n",
       "      <td>5.176199e+05</td>\n",
       "      <td>0.0</td>\n",
       "      <td>NaN</td>\n",
       "      <td>NaN</td>\n",
       "      <td>NaN</td>\n",
       "      <td>1.966384e+08</td>\n",
       "    </tr>\n",
       "    <tr>\n",
       "      <th>improvement_value</th>\n",
       "      <td>193757.0</td>\n",
       "      <td>372750.511594</td>\n",
       "      <td>3.613108e+06</td>\n",
       "      <td>0.0</td>\n",
       "      <td>NaN</td>\n",
       "      <td>NaN</td>\n",
       "      <td>NaN</td>\n",
       "      <td>6.373532e+08</td>\n",
       "    </tr>\n",
       "    <tr>\n",
       "      <th>land_value</th>\n",
       "      <td>193757.0</td>\n",
       "      <td>370092.166219</td>\n",
       "      <td>2.149892e+06</td>\n",
       "      <td>0.0</td>\n",
       "      <td>NaN</td>\n",
       "      <td>NaN</td>\n",
       "      <td>NaN</td>\n",
       "      <td>2.708492e+08</td>\n",
       "    </tr>\n",
       "    <tr>\n",
       "      <th>property_value</th>\n",
       "      <td>193757.0</td>\n",
       "      <td>2611.598038</td>\n",
       "      <td>2.260572e+05</td>\n",
       "      <td>0.0</td>\n",
       "      <td>NaN</td>\n",
       "      <td>NaN</td>\n",
       "      <td>NaN</td>\n",
       "      <td>6.970640e+07</td>\n",
       "    </tr>\n",
       "  </tbody>\n",
       "</table>\n",
       "</div>"
      ],
      "text/plain": [
       "                      count           mean           std    min     25%  \\\n",
       "year_built         193758.0    1788.077788  5.250223e+02    0.0  1908.0   \n",
       "num_baths          193758.0       2.374452  8.758683e+00    0.0     1.0   \n",
       "num_bdrms          193758.0       0.987340  9.645268e+00    0.0     0.0   \n",
       "num_rooms          193758.0       7.864388  2.339989e+01   -7.0     4.0   \n",
       "num_stories        193758.0       1.472543  5.119017e+00   -1.0     1.0   \n",
       "num_units          193758.0       1.849038  1.511783e+01    0.0     1.0   \n",
       "char_change_date   193758.0    7794.663069  3.914587e+03    0.0  9503.0   \n",
       "lot_depth          193758.0       8.928739  2.204348e+01    0.0     0.0   \n",
       "lot_frontage       193758.0       0.061868  1.683939e+00    0.0     0.0   \n",
       "sq_ft              193758.0    2928.229921  1.844255e+04    0.0  1000.0   \n",
       "basement_area      193757.0      56.287706  3.509551e+02 -883.0     NaN   \n",
       "lot_area           193757.0    3718.825990  1.388080e+05    0.0     NaN   \n",
       "roll_year          193757.0      11.000000  0.000000e+00   11.0     NaN   \n",
       "fixture_value      193757.0    5658.126364  5.176199e+05    0.0     NaN   \n",
       "improvement_value  193757.0  372750.511594  3.613108e+06    0.0     NaN   \n",
       "land_value         193757.0  370092.166219  2.149892e+06    0.0     NaN   \n",
       "property_value     193757.0    2611.598038  2.260572e+05    0.0     NaN   \n",
       "\n",
       "                      50%     75%           max  \n",
       "year_built         1927.0  1956.0  9.185000e+03  \n",
       "num_baths             1.0     2.0  1.002000e+03  \n",
       "num_bdrms             0.0     2.0  3.800000e+03  \n",
       "num_rooms             6.0     8.0  3.606000e+03  \n",
       "num_stories           1.0     2.0  9.630000e+02  \n",
       "num_units             1.0     1.0  4.000000e+03  \n",
       "char_change_date   9903.0  9908.0  9.912000e+03  \n",
       "lot_depth             0.0     0.0  9.996000e+01  \n",
       "lot_frontage          0.0     0.0  9.939000e+01  \n",
       "sq_ft              1420.0  2272.0  3.015837e+06  \n",
       "basement_area         NaN     NaN  7.387800e+04  \n",
       "lot_area              NaN     NaN  5.800145e+07  \n",
       "roll_year             NaN     NaN  1.100000e+01  \n",
       "fixture_value         NaN     NaN  1.966384e+08  \n",
       "improvement_value     NaN     NaN  6.373532e+08  \n",
       "land_value            NaN     NaN  2.708492e+08  \n",
       "property_value        NaN     NaN  6.970640e+07  "
      ]
     },
     "execution_count": 251,
     "metadata": {},
     "output_type": "execute_result"
    }
   ],
   "source": [
    "assess.describe().T"
   ]
  },
  {
   "cell_type": "code",
   "execution_count": 370,
   "metadata": {
    "collapsed": false
   },
   "outputs": [
    {
     "data": {
      "text/plain": [
       "array([  0,  29,   4,   3,   1,   2,  11,  51, 250,   6,   5, 252, 343,\n",
       "        12,   8,   7,  26, 240, 164, 180, 170,  96,  39, 105,  18,  25,\n",
       "        84,  35,  13,  46,  15, 136,  10,  32,   9,  14,  36,  17,  24,\n",
       "        23,  16,  27,  20,  31,  90,  44,  62,  37,  34,  21,  87,  72,\n",
       "        22,  42,  81,  33,  52,  40,  47,  56,  19,  48,  82,  43,  38,\n",
       "        30,  28, 360, 362, 185,  60,  85, 130, 402, 392,  69,  92,  58,\n",
       "        66, 126, 118,  45,  41,  61, 190,  88,  73,  55,  63, 172,  50,\n",
       "       100, 102,  59,  49,  99,  93,  70,  75,  78, 108, 149,  53, 146,\n",
       "       445,  57,  54,  79,  95, 114,  68,  80, 111, 137,  97,  98,  67,\n",
       "       109, 156, 133, 201,  89,  64, 154, 101, 119, 151, 198, 110,  65,\n",
       "        83,  86, 120, 134, 197, 124,  77, 175, 231, 217, 241, 140, 221,\n",
       "       260,  74, 499, 117, 155, 145, 138, 169, 300, 122, 103, 183, 144,\n",
       "       142, 115, 106, 107, 131, 168, 158, 244, 132, 397, 440, 204, 423,\n",
       "       265,  76, 104,  91, 206, 112, 405, 411, 189, 330, 161, 258, 257,\n",
       "       301, 281, 282, 417, 148])"
      ]
     },
     "execution_count": 370,
     "metadata": {},
     "output_type": "execute_result"
    }
   ],
   "source": [
    "assess['num_units'].unique()"
   ]
  },
  {
   "cell_type": "code",
   "execution_count": 30,
   "metadata": {
    "collapsed": false
   },
   "outputs": [],
   "source": [
    "assess.dropna()"
   ]
  },
  {
   "cell_type": "code",
   "execution_count": 31,
   "metadata": {
    "collapsed": false
   },
   "outputs": [],
   "source": [
    "# exclude unreasonable dates (22 rows)\n",
    "year_outlier = ((assess['year_built'] > 1700) & (assess['year_built'] <= 2015))\n",
    "assess = assess[year_outlier]\n"
   ]
  },
  {
   "cell_type": "code",
   "execution_count": 32,
   "metadata": {
    "collapsed": false
   },
   "outputs": [],
   "source": [
    "# there are a lot of extreme sq_ft and lot_area numbers (5 mill), I decided to subset and a lower extreme number.\n",
    "sqft_outlier = ((assess['sq_ft'] > 100) & (assess['sq_ft'] < 50000))\n",
    "assess = assess[sqft_outlier]"
   ]
  },
  {
   "cell_type": "code",
   "execution_count": 33,
   "metadata": {
    "collapsed": false
   },
   "outputs": [],
   "source": [
    "lot_outlier = ((assess['lot_area'] > 100) & (assess['lot_area'] < 50000))\n",
    "assess = assess[lot_outlier]"
   ]
  },
  {
   "cell_type": "code",
   "execution_count": 257,
   "metadata": {
    "collapsed": false
   },
   "outputs": [
    {
     "data": {
      "text/plain": [
       "<matplotlib.axes._subplots.AxesSubplot at 0x177404050>"
      ]
     },
     "execution_count": 257,
     "metadata": {},
     "output_type": "execute_result"
    },
    {
     "data": {
      "image/png": "[encoded data removed]",
      "text/plain": [
       "<matplotlib.figure.Figure at 0x1384f41d0>"
      ]
     },
     "metadata": {},
     "output_type": "display_data"
    }
   ],
   "source": [
    "assess.plot(kind='scatter', x='sq_ft', y='lot_area')"
   ]
  },
  {
   "cell_type": "code",
   "execution_count": 377,
   "metadata": {
    "collapsed": false
   },
   "outputs": [
    {
     "data": {
      "text/plain": [
       "Index([u'year_built', u'num_baths', u'num_bdrms', u'num_rooms', u'num_stories',\n",
       "       u'num_units', u'char_change_date', u'lot_depth', u'lot_frontage',\n",
       "       u'sq_ft', u'basement_area', u'lot_area', u'roll_year', u'fixture_value',\n",
       "       u'improvement_value', u'land_value', u'property_value'],\n",
       "      dtype='object')"
      ]
     },
     "execution_count": 377,
     "metadata": {},
     "output_type": "execute_result"
    }
   ],
   "source": [
    "assess.columns"
   ]
  },
  {
   "cell_type": "code",
   "execution_count": 34,
   "metadata": {
    "collapsed": false
   },
   "outputs": [
    {
     "data": {
      "text/html": [
       "<div>\n",
       "<table border=\"1\" class=\"dataframe\">\n",
       "  <thead>\n",
       "    <tr style=\"text-align: right;\">\n",
       "      <th></th>\n",
       "      <th>year_built</th>\n",
       "      <th>num_baths</th>\n",
       "      <th>num_bdrms</th>\n",
       "      <th>num_rooms</th>\n",
       "      <th>num_stories</th>\n",
       "      <th>num_units</th>\n",
       "      <th>char_change_date</th>\n",
       "      <th>lot_depth</th>\n",
       "      <th>lot_frontage</th>\n",
       "      <th>sq_ft</th>\n",
       "      <th>basement_area</th>\n",
       "      <th>lot_area</th>\n",
       "      <th>roll_year</th>\n",
       "      <th>fixture_value</th>\n",
       "      <th>improvement_value</th>\n",
       "      <th>land_value</th>\n",
       "      <th>pers_prop_value</th>\n",
       "      <th>total_value</th>\n",
       "    </tr>\n",
       "  </thead>\n",
       "  <tbody>\n",
       "    <tr>\n",
       "      <th>10</th>\n",
       "      <td>1953</td>\n",
       "      <td>12</td>\n",
       "      <td>0</td>\n",
       "      <td>19</td>\n",
       "      <td>2</td>\n",
       "      <td>4</td>\n",
       "      <td>811</td>\n",
       "      <td>37.5</td>\n",
       "      <td>0.0</td>\n",
       "      <td>24627</td>\n",
       "      <td>0.0</td>\n",
       "      <td>18906.25</td>\n",
       "      <td>11.0</td>\n",
       "      <td>0.0</td>\n",
       "      <td>5397256.0</td>\n",
       "      <td>11318327.0</td>\n",
       "      <td>0.0</td>\n",
       "      <td>16715583.0</td>\n",
       "    </tr>\n",
       "    <tr>\n",
       "      <th>12</th>\n",
       "      <td>1948</td>\n",
       "      <td>2</td>\n",
       "      <td>0</td>\n",
       "      <td>5</td>\n",
       "      <td>1</td>\n",
       "      <td>1</td>\n",
       "      <td>9908</td>\n",
       "      <td>36.0</td>\n",
       "      <td>0.0</td>\n",
       "      <td>6800</td>\n",
       "      <td>0.0</td>\n",
       "      <td>6800.00</td>\n",
       "      <td>11.0</td>\n",
       "      <td>0.0</td>\n",
       "      <td>758966.0</td>\n",
       "      <td>1346026.0</td>\n",
       "      <td>0.0</td>\n",
       "      <td>2104992.0</td>\n",
       "    </tr>\n",
       "    <tr>\n",
       "      <th>13</th>\n",
       "      <td>1993</td>\n",
       "      <td>0</td>\n",
       "      <td>0</td>\n",
       "      <td>0</td>\n",
       "      <td>2</td>\n",
       "      <td>1</td>\n",
       "      <td>9906</td>\n",
       "      <td>0.0</td>\n",
       "      <td>0.0</td>\n",
       "      <td>6100</td>\n",
       "      <td>0.0</td>\n",
       "      <td>43480.00</td>\n",
       "      <td>11.0</td>\n",
       "      <td>0.0</td>\n",
       "      <td>67831.0</td>\n",
       "      <td>1795627.0</td>\n",
       "      <td>0.0</td>\n",
       "      <td>1863458.0</td>\n",
       "    </tr>\n",
       "    <tr>\n",
       "      <th>14</th>\n",
       "      <td>1948</td>\n",
       "      <td>8</td>\n",
       "      <td>0</td>\n",
       "      <td>2</td>\n",
       "      <td>1</td>\n",
       "      <td>1</td>\n",
       "      <td>9908</td>\n",
       "      <td>80.0</td>\n",
       "      <td>0.0</td>\n",
       "      <td>4000</td>\n",
       "      <td>0.0</td>\n",
       "      <td>11000.00</td>\n",
       "      <td>11.0</td>\n",
       "      <td>0.0</td>\n",
       "      <td>192147.0</td>\n",
       "      <td>1268397.0</td>\n",
       "      <td>0.0</td>\n",
       "      <td>1460544.0</td>\n",
       "    </tr>\n",
       "    <tr>\n",
       "      <th>15</th>\n",
       "      <td>1948</td>\n",
       "      <td>5</td>\n",
       "      <td>0</td>\n",
       "      <td>1</td>\n",
       "      <td>1</td>\n",
       "      <td>1</td>\n",
       "      <td>9908</td>\n",
       "      <td>70.0</td>\n",
       "      <td>0.0</td>\n",
       "      <td>3500</td>\n",
       "      <td>0.0</td>\n",
       "      <td>9625.00</td>\n",
       "      <td>11.0</td>\n",
       "      <td>0.0</td>\n",
       "      <td>168046.0</td>\n",
       "      <td>1109846.0</td>\n",
       "      <td>0.0</td>\n",
       "      <td>1277892.0</td>\n",
       "    </tr>\n",
       "  </tbody>\n",
       "</table>\n",
       "</div>"
      ],
      "text/plain": [
       "    year_built  num_baths  num_bdrms  num_rooms  num_stories  num_units  \\\n",
       "10        1953         12          0         19            2          4   \n",
       "12        1948          2          0          5            1          1   \n",
       "13        1993          0          0          0            2          1   \n",
       "14        1948          8          0          2            1          1   \n",
       "15        1948          5          0          1            1          1   \n",
       "\n",
       "    char_change_date  lot_depth  lot_frontage  sq_ft  basement_area  lot_area  \\\n",
       "10               811       37.5           0.0  24627            0.0  18906.25   \n",
       "12              9908       36.0           0.0   6800            0.0   6800.00   \n",
       "13              9906        0.0           0.0   6100            0.0  43480.00   \n",
       "14              9908       80.0           0.0   4000            0.0  11000.00   \n",
       "15              9908       70.0           0.0   3500            0.0   9625.00   \n",
       "\n",
       "    roll_year  fixture_value  improvement_value  land_value  pers_prop_value  \\\n",
       "10       11.0            0.0          5397256.0  11318327.0              0.0   \n",
       "12       11.0            0.0           758966.0   1346026.0              0.0   \n",
       "13       11.0            0.0            67831.0   1795627.0              0.0   \n",
       "14       11.0            0.0           192147.0   1268397.0              0.0   \n",
       "15       11.0            0.0           168046.0   1109846.0              0.0   \n",
       "\n",
       "    total_value  \n",
       "10   16715583.0  \n",
       "12    2104992.0  \n",
       "13    1863458.0  \n",
       "14    1460544.0  \n",
       "15    1277892.0  "
      ]
     },
     "execution_count": 34,
     "metadata": {},
     "output_type": "execute_result"
    }
   ],
   "source": [
    "#assess[['fixture_value','improvement_value','land_value','property_value']].head(20)\n",
    "assess.rename(columns = {'property_value': 'pers_prop_value'}, inplace=True)\n",
    "assess['total_value'] = assess['fixture_value']+ assess['improvement_value'] + assess['land_value']+ assess['pers_prop_value']\n",
    "assess.head()"
   ]
  },
  {
   "cell_type": "code",
   "execution_count": 35,
   "metadata": {
    "collapsed": false
   },
   "outputs": [],
   "source": [
    "formula = 'total_value ~ sq_ft + lot_depth + lot_area + num_baths + num_bdrms + -1'\n",
    "y, X = patsy.dmatrices(formula, data=assess, return_type='dataframe')\n",
    "y = y.values.ravel()\n",
    "ss = StandardScaler()\n",
    "Xn = ss.fit_transform(X)\n"
   ]
  },
  {
   "cell_type": "code",
   "execution_count": 36,
   "metadata": {
    "collapsed": false
   },
   "outputs": [
    {
     "name": "stdout",
     "output_type": "stream",
     "text": [
      "LR best Score:  -0.129266500094\n",
      "LR Params:  {'normalize': False, 'fit_intercept': True}\n",
      "LR score:  [ 0.16393069  0.15732114 -1.24966924  0.14323448  0.13886069]\n",
      "LR mean score:  -0.129264446895\n"
     ]
    }
   ],
   "source": [
    "# linear regression\n",
    "lm = linear_model.LinearRegression()\n",
    "\n",
    "lm_params = {\n",
    "    'fit_intercept':  [True, False], \n",
    "    'normalize':      [False, True]\n",
    "}\n",
    "\n",
    "lm = LinearRegression()\n",
    "best_lm = grid_search.GridSearchCV(lm, lm_params, cv=5)\n",
    "lm_results = best_lm.fit(Xn, y)\n",
    "\n",
    "lm_scores = cross_val_score(best_lm, Xn, y, cv=5)\n",
    "print \"LR best Score: \", lm_results.best_score_\n",
    "print \"LR Params: \", lm_results.best_params_\n",
    "\n",
    "print 'LR score: ', lm_scores\n",
    "print 'LR mean score: ',np.mean(lm_scores)\n"
   ]
  },
  {
   "cell_type": "code",
   "execution_count": 39,
   "metadata": {
    "collapsed": false
   },
   "outputs": [
    {
     "name": "stdout",
     "output_type": "stream",
     "text": [
      "Lasso best Score:  0.177613442582\n",
      "Lasso Params:  {'normalize': False, 'alpha': 29763.514416313192, 'fit_intercept': True}\n",
      "lasso score:  [ 0.15128543  0.14917379  0.18204405  0.22876463  0.12810729]\n",
      "lasso mean score:  0.167875039767\n"
     ]
    }
   ],
   "source": [
    "# lasso\n",
    "alphas = np.logspace(0,5,20)\n",
    "lasso_params = {\n",
    "    'fit_intercept':  [True, False], \n",
    "    'normalize':      [False, True],\n",
    "    'alpha': alphas\n",
    "}\n",
    "\n",
    "lasso = Lasso()\n",
    "best_lasso = grid_search.GridSearchCV(lasso, lasso_params, cv=5)\n",
    "l_results = best_lasso.fit(Xn, y)\n",
    "\n",
    "lasso_scores = cross_val_score(best_lasso, Xn, y, cv=5)\n",
    "print \"Lasso best Score: \", l_results.best_score_\n",
    "print \"Lasso Params: \", l_results.best_params_\n",
    "\n",
    "print 'lasso score: ', lasso_scores\n",
    "print 'lasso mean score: ',np.mean(lasso_scores)\n",
    "\n"
   ]
  },
  {
   "cell_type": "code",
   "execution_count": 40,
   "metadata": {
    "collapsed": false
   },
   "outputs": [
    {
     "name": "stdout",
     "output_type": "stream",
     "text": [
      "Ridge best Score:  0.15687807514\n",
      "Ridge Params:  {'normalize': False, 'alpha': 29763.514416313192, 'fit_intercept': True}\n",
      "Ridge score:  [ 0.1016218   0.15264224 -0.28725148  0.24767753  0.07741514]\n",
      "Ridge mean score:  0.0584210452247\n"
     ]
    }
   ],
   "source": [
    "# ridge\n",
    "alphas = np.logspace(0,5,20)\n",
    "ridge_params = {\n",
    "    'fit_intercept':  [True, False], \n",
    "    'normalize':      [False, True],\n",
    "    'alpha': alphas\n",
    "}\n",
    "\n",
    "ridge = Ridge()\n",
    "best_ridge = grid_search.GridSearchCV(ridge, ridge_params, cv=5)\n",
    "r_results = best_ridge.fit(Xn, y)\n",
    "\n",
    "ridge_scores = cross_val_score(best_ridge, Xn, y, cv=5)\n",
    "print \"Ridge best Score: \", r_results.best_score_\n",
    "print \"Ridge Params: \", r_results.best_params_\n",
    "\n",
    "print 'Ridge score: ', ridge_scores\n",
    "print 'Ridge mean score: ',np.mean(ridge_scores)\n",
    "\n"
   ]
  },
  {
   "cell_type": "code",
   "execution_count": 41,
   "metadata": {
    "collapsed": false
   },
   "outputs": [
    {
     "name": "stdout",
     "output_type": "stream",
     "text": [
      "ElasticNet best Score:  0.151274005832\n",
      "ElasticNet Params:  {'normalize': False, 'alpha': 1.0, 'fit_intercept': True}\n",
      "ElasticNet score:  [ 0.07154782  0.1416007   0.21583314  0.24742553  0.07996011]\n",
      "ElasticNet mean score:  0.151273459742\n"
     ]
    }
   ],
   "source": [
    "# elasticnet\n",
    "alphas = np.logspace(0,5,20)\n",
    "elast_params = {\n",
    "    'fit_intercept':  [True, False], \n",
    "    'normalize':      [False, True],\n",
    "    'alpha': alphas\n",
    "}\n",
    "\n",
    "elast = ElasticNet()\n",
    "best_elast = grid_search.GridSearchCV(elast, elast_params, cv=5)\n",
    "e_results = best_elast.fit(Xn, y)\n",
    "\n",
    "elast_scores = cross_val_score(best_elast, Xn, y, cv=5)\n",
    "print \"ElasticNet best Score: \", e_results.best_score_\n",
    "print \"ElasticNet Params: \", e_results.best_params_\n",
    "\n",
    "print 'ElasticNet score: ', elast_scores\n",
    "print 'ElasticNet mean score: ',np.mean(elast_scores)\n"
   ]
  },
  {
   "cell_type": "code",
   "execution_count": 42,
   "metadata": {
    "collapsed": false
   },
   "outputs": [
    {
     "name": "stdout",
     "output_type": "stream",
     "text": [
      "LR best Score:  -0.129266500094\n",
      "Lasso best Score:  0.177613442582\n",
      "Ridge best Score:  0.15687807514\n",
      "ElasticNet best Score:  0.151274005832\n"
     ]
    }
   ],
   "source": [
    "print \"LR best Score: \", lm_results.best_score_\n",
    "print \"Lasso best Score: \", l_results.best_score_\n",
    "print \"Ridge best Score: \", r_results.best_score_\n",
    "print \"ElasticNet best Score: \", e_results.best_score_"
   ]
  },
  {
   "cell_type": "code",
   "execution_count": null,
   "metadata": {
    "collapsed": true
   },
   "outputs": [],
   "source": [
    "# Lasso performs the best. I believe this is due to irrelevant variables."
   ]
  },
  {
   "cell_type": "code",
   "execution_count": 48,
   "metadata": {
    "collapsed": false
   },
   "outputs": [],
   "source": [
    "y_ = np.array(y).ravel()\n",
    "\n",
    "ridge_resid = y_ - best_ridge.predict(Xn).ravel()\n",
    "lasso_resid = y_ - best_lasso.predict(Xn).ravel()\n",
    "elast_resid = y_ - best_elast.predict(Xn).ravel()\n"
   ]
  },
  {
   "cell_type": "code",
   "execution_count": 59,
   "metadata": {
    "collapsed": false
   },
   "outputs": [
    {
     "data": {
      "image/png": "[encoded data removed]",
      "text/plain": [
       "<matplotlib.figure.Figure at 0x11a3c3c10>"
      ]
     },
     "metadata": {},
     "output_type": "display_data"
    }
   ],
   "source": [
    "fig, axarr = plt.subplots(1, 3, figsize=(18, 6))\n",
    "\n",
    "sns.distplot(lasso_resid, bins=100, hist=True, kde=False, \n",
    "             color='darkred', ax=axarr[1], label='Lasso residuals')\n",
    "\n",
    "sns.distplot(ridge_resid, bins=100, hist=True, kde=False, \n",
    "             color='steelblue', ax=axarr[0], label='Ridge residuals')\n",
    "\n",
    "sns.distplot(elast_resid, bins=100, hist=True, kde=False, \n",
    "             color='darkgreen', ax=axarr[2], label='ElasticNet residuals')\n",
    "\n",
    "plt.show()"
   ]
  },
  {
   "cell_type": "markdown",
   "metadata": {},
   "source": [
    "<img src=\"http://imgur.com/l5NasQj.png\" style=\"float: left; margin: 25px 15px 0px 0px; height: 25px\">\n",
    "\n",
    "### 4. Conduct another, different analysis and report on it\n",
    "\n",
    "---\n",
    "\n",
    "1. Combining multiple sources of data (csv files) is required.\n",
    "- Perform EDA and cleaning on relevant data.\n",
    "- Construct and compare different regression models with cross-validation.\n",
    "- Plot descriptive visuals you think are useful for understanding the data.\n",
    "- Report on your findings.\n",
    "\n",
    "This section is just another analysis like the first sections, but is more open-ended in what models you decide to build and why. Don't feel obligated to try every out every regularized regression model (though it doesn't hurt). \n"
   ]
  },
  {
   "cell_type": "code",
   "execution_count": 60,
   "metadata": {
    "collapsed": false
   },
   "outputs": [],
   "source": [
    "f_name = '/Users/katbishop/Desktop/DSI-SF2-bishopkd/datasets/san_francisco/san_francisco/parks/park_donations_w_id.csv'\n",
    "f_name2 =  '/Users/katbishop/Desktop/DSI-SF2-bishopkd/datasets/san_francisco/san_francisco/parks/park_scores.csv'\n",
    "\n",
    "pddf = pd.read_csv(f_name)\n",
    "pidf = pd.read_csv(f_name2)\n"
   ]
  },
  {
   "cell_type": "code",
   "execution_count": 200,
   "metadata": {
    "collapsed": false
   },
   "outputs": [
    {
     "data": {
      "text/html": [
       "<div>\n",
       "<table border=\"1\" class=\"dataframe\">\n",
       "  <thead>\n",
       "    <tr style=\"text-align: right;\">\n",
       "      <th></th>\n",
       "      <th>Description</th>\n",
       "      <th>DonationID</th>\n",
       "      <th>ParkID</th>\n",
       "      <th>Close Date</th>\n",
       "      <th>Account Name</th>\n",
       "      <th>Amount</th>\n",
       "      <th>Type</th>\n",
       "    </tr>\n",
       "  </thead>\n",
       "  <tbody>\n",
       "    <tr>\n",
       "      <th>0</th>\n",
       "      <td>To improve the baseball diamond at Herz Playgr...</td>\n",
       "      <td>163</td>\n",
       "      <td>137671.0</td>\n",
       "      <td>3/28/2014 0:00:00</td>\n",
       "      <td>O.C. Jones &amp; Sons, Inc.</td>\n",
       "      <td>$248,000.00</td>\n",
       "      <td>In-kind</td>\n",
       "    </tr>\n",
       "    <tr>\n",
       "      <th>1</th>\n",
       "      <td>To support renovations at Herz Playground.</td>\n",
       "      <td>175</td>\n",
       "      <td>137671.0</td>\n",
       "      <td>5/31/2014 0:00:00</td>\n",
       "      <td>A. Ruiz Construction Co. &amp; Associates Inc.</td>\n",
       "      <td>$117,000.00</td>\n",
       "      <td>In-kind</td>\n",
       "    </tr>\n",
       "    <tr>\n",
       "      <th>2</th>\n",
       "      <td>To provide interpretive and historical display...</td>\n",
       "      <td>157</td>\n",
       "      <td>10379.0</td>\n",
       "      <td>2/20/2014 0:00:00</td>\n",
       "      <td>Senator Milton Marks Memorial Philanthropic Fund</td>\n",
       "      <td>$7,500.00</td>\n",
       "      <td>Cash</td>\n",
       "    </tr>\n",
       "    <tr>\n",
       "      <th>3</th>\n",
       "      <td>To support Camp Mather.</td>\n",
       "      <td>195</td>\n",
       "      <td>10379.0</td>\n",
       "      <td>9/27/2012 0:00:00</td>\n",
       "      <td>Phil Ginsburg</td>\n",
       "      <td>$500.00</td>\n",
       "      <td>Cash</td>\n",
       "    </tr>\n",
       "    <tr>\n",
       "      <th>4</th>\n",
       "      <td>To support Camp MAther operations</td>\n",
       "      <td>223</td>\n",
       "      <td>10379.0</td>\n",
       "      <td>2/11/2013 0:00:00</td>\n",
       "      <td>Lisbet &amp; Stuart Sunshine</td>\n",
       "      <td>$200.00</td>\n",
       "      <td>Cash</td>\n",
       "    </tr>\n",
       "  </tbody>\n",
       "</table>\n",
       "</div>"
      ],
      "text/plain": [
       "                                         Description  DonationID    ParkID  \\\n",
       "0  To improve the baseball diamond at Herz Playgr...         163  137671.0   \n",
       "1         To support renovations at Herz Playground.         175  137671.0   \n",
       "2  To provide interpretive and historical display...         157   10379.0   \n",
       "3                            To support Camp Mather.         195   10379.0   \n",
       "4                  To support Camp MAther operations         223   10379.0   \n",
       "\n",
       "          Close Date                                      Account Name  \\\n",
       "0  3/28/2014 0:00:00                           O.C. Jones & Sons, Inc.   \n",
       "1  5/31/2014 0:00:00        A. Ruiz Construction Co. & Associates Inc.   \n",
       "2  2/20/2014 0:00:00  Senator Milton Marks Memorial Philanthropic Fund   \n",
       "3  9/27/2012 0:00:00                                     Phil Ginsburg   \n",
       "4  2/11/2013 0:00:00                          Lisbet & Stuart Sunshine   \n",
       "\n",
       "        Amount     Type  \n",
       "0  $248,000.00  In-kind  \n",
       "1  $117,000.00  In-kind  \n",
       "2    $7,500.00     Cash  \n",
       "3      $500.00     Cash  \n",
       "4      $200.00     Cash  "
      ]
     },
     "execution_count": 200,
     "metadata": {},
     "output_type": "execute_result"
    }
   ],
   "source": [
    "pddf.head()"
   ]
  },
  {
   "cell_type": "code",
   "execution_count": 62,
   "metadata": {
    "collapsed": false
   },
   "outputs": [],
   "source": [
    "pddf.dropna()\n",
    "pidf.dropna()"
   ]
  },
  {
   "cell_type": "code",
   "execution_count": 64,
   "metadata": {
    "collapsed": false
   },
   "outputs": [
    {
     "data": {
      "text/html": [
       "<div>\n",
       "<table border=\"1\" class=\"dataframe\">\n",
       "  <thead>\n",
       "    <tr style=\"text-align: right;\">\n",
       "      <th></th>\n",
       "      <th>Description</th>\n",
       "      <th>DonationID</th>\n",
       "      <th>ParkID</th>\n",
       "      <th>Close Date</th>\n",
       "      <th>Account Name</th>\n",
       "      <th>Amount</th>\n",
       "      <th>Type</th>\n",
       "      <th>PSA</th>\n",
       "      <th>Park</th>\n",
       "      <th>FQ</th>\n",
       "      <th>Score</th>\n",
       "    </tr>\n",
       "  </thead>\n",
       "  <tbody>\n",
       "    <tr>\n",
       "      <th>0</th>\n",
       "      <td>To improve the baseball diamond at Herz Playgr...</td>\n",
       "      <td>163</td>\n",
       "      <td>137671.0</td>\n",
       "      <td>3/28/2014 0:00:00</td>\n",
       "      <td>O.C. Jones &amp; Sons, Inc.</td>\n",
       "      <td>$248,000.00</td>\n",
       "      <td>In-kind</td>\n",
       "      <td>PSA3</td>\n",
       "      <td>Herz Playground</td>\n",
       "      <td>FY07Q3</td>\n",
       "      <td>0.931</td>\n",
       "    </tr>\n",
       "    <tr>\n",
       "      <th>1</th>\n",
       "      <td>To support renovations at Herz Playground.</td>\n",
       "      <td>175</td>\n",
       "      <td>137671.0</td>\n",
       "      <td>5/31/2014 0:00:00</td>\n",
       "      <td>A. Ruiz Construction Co. &amp; Associates Inc.</td>\n",
       "      <td>$117,000.00</td>\n",
       "      <td>In-kind</td>\n",
       "      <td>PSA3</td>\n",
       "      <td>Herz Playground</td>\n",
       "      <td>FY07Q3</td>\n",
       "      <td>0.931</td>\n",
       "    </tr>\n",
       "    <tr>\n",
       "      <th>2</th>\n",
       "      <td>To provide interpretive and historical display...</td>\n",
       "      <td>157</td>\n",
       "      <td>10379.0</td>\n",
       "      <td>2/20/2014 0:00:00</td>\n",
       "      <td>Senator Milton Marks Memorial Philanthropic Fund</td>\n",
       "      <td>$7,500.00</td>\n",
       "      <td>Cash</td>\n",
       "      <td>NaN</td>\n",
       "      <td>NaN</td>\n",
       "      <td>NaN</td>\n",
       "      <td>NaN</td>\n",
       "    </tr>\n",
       "    <tr>\n",
       "      <th>3</th>\n",
       "      <td>To support Camp Mather.</td>\n",
       "      <td>195</td>\n",
       "      <td>10379.0</td>\n",
       "      <td>9/27/2012 0:00:00</td>\n",
       "      <td>Phil Ginsburg</td>\n",
       "      <td>$500.00</td>\n",
       "      <td>Cash</td>\n",
       "      <td>NaN</td>\n",
       "      <td>NaN</td>\n",
       "      <td>NaN</td>\n",
       "      <td>NaN</td>\n",
       "    </tr>\n",
       "    <tr>\n",
       "      <th>4</th>\n",
       "      <td>To support Camp MAther operations</td>\n",
       "      <td>223</td>\n",
       "      <td>10379.0</td>\n",
       "      <td>2/11/2013 0:00:00</td>\n",
       "      <td>Lisbet &amp; Stuart Sunshine</td>\n",
       "      <td>$200.00</td>\n",
       "      <td>Cash</td>\n",
       "      <td>NaN</td>\n",
       "      <td>NaN</td>\n",
       "      <td>NaN</td>\n",
       "      <td>NaN</td>\n",
       "    </tr>\n",
       "  </tbody>\n",
       "</table>\n",
       "</div>"
      ],
      "text/plain": [
       "                                         Description  DonationID    ParkID  \\\n",
       "0  To improve the baseball diamond at Herz Playgr...         163  137671.0   \n",
       "1         To support renovations at Herz Playground.         175  137671.0   \n",
       "2  To provide interpretive and historical display...         157   10379.0   \n",
       "3                            To support Camp Mather.         195   10379.0   \n",
       "4                  To support Camp MAther operations         223   10379.0   \n",
       "\n",
       "          Close Date                                      Account Name  \\\n",
       "0  3/28/2014 0:00:00                           O.C. Jones & Sons, Inc.   \n",
       "1  5/31/2014 0:00:00        A. Ruiz Construction Co. & Associates Inc.   \n",
       "2  2/20/2014 0:00:00  Senator Milton Marks Memorial Philanthropic Fund   \n",
       "3  9/27/2012 0:00:00                                     Phil Ginsburg   \n",
       "4  2/11/2013 0:00:00                          Lisbet & Stuart Sunshine   \n",
       "\n",
       "        Amount     Type   PSA             Park      FQ  Score  \n",
       "0  $248,000.00  In-kind  PSA3  Herz Playground  FY07Q3  0.931  \n",
       "1  $117,000.00  In-kind  PSA3  Herz Playground  FY07Q3  0.931  \n",
       "2    $7,500.00     Cash   NaN              NaN     NaN    NaN  \n",
       "3      $500.00     Cash   NaN              NaN     NaN    NaN  \n",
       "4      $200.00     Cash   NaN              NaN     NaN    NaN  "
      ]
     },
     "execution_count": 64,
     "metadata": {},
     "output_type": "execute_result"
    }
   ],
   "source": [
    "park = pddf.merge(pidf.drop_duplicates(subset=['ParkID']), how='left')\n",
    "park.head()"
   ]
  },
  {
   "cell_type": "code",
   "execution_count": 65,
   "metadata": {
    "collapsed": false
   },
   "outputs": [],
   "source": [
    "def clean_cash(col):\n",
    "    try:\n",
    "        new_col = float(col.replace('$',''))\n",
    "    except:\n",
    "        new_col = np.nan\n",
    "    return new_col\n",
    "\n",
    "park['Amount'] = park['Amount'].apply(clean_cash)"
   ]
  },
  {
   "cell_type": "code",
   "execution_count": 66,
   "metadata": {
    "collapsed": false
   },
   "outputs": [],
   "source": [
    "formula = 'Score ~ Amount + C(Type)  -1'\n",
    "y, X = patsy.dmatrices(formula, data=park, return_type='dataframe')\n",
    "ss = StandardScaler()\n",
    "Xn = ss.fit_transform(X)    "
   ]
  },
  {
   "cell_type": "code",
   "execution_count": 67,
   "metadata": {
    "collapsed": false
   },
   "outputs": [
    {
     "name": "stdout",
     "output_type": "stream",
     "text": [
      "LR score:  [ -6.20079997e-02  -3.25181630e-01  -1.46680267e+02   6.55684119e-02\n",
      "  -1.34358717e+01]\n",
      "LR mean score:  -32.0875519236\n"
     ]
    }
   ],
   "source": [
    "# linear regression\n",
    "lm = linear_model.LinearRegression()\n",
    "\n",
    "p_params = {\n",
    "    'fit_intercept':  [True, False], \n",
    "    'normalize':      [False, True]\n",
    "}\n",
    "\n",
    "lm = LinearRegression()\n",
    "best_lm = grid_search.GridSearchCV(lm, p_params, cv=5)\n",
    "lm_results = best_lm.fit(Xn, y)\n",
    "\n",
    "lm_scores = cross_val_score(best_lm, Xn, y, cv=5)\n",
    "\n",
    "print 'LR score: ', lm_scores\n",
    "print 'LR mean score: ',np.mean(lm_scores)"
   ]
  },
  {
   "cell_type": "code",
   "execution_count": 80,
   "metadata": {
    "collapsed": false
   },
   "outputs": [
    {
     "data": {
      "text/plain": [
       "<matplotlib.collections.PathCollection at 0x11b47f2d0>"
      ]
     },
     "execution_count": 80,
     "metadata": {},
     "output_type": "execute_result"
    },
    {
     "data": {
      "image/png": "[encoded data removed]",
      "text/plain": [
       "<matplotlib.figure.Figure at 0x11909c6d0>"
      ]
     },
     "metadata": {},
     "output_type": "display_data"
    }
   ],
   "source": [
    "a = park.groupby(['ParkID'])[['Amount']].sum().reset_index()\n",
    "b = park.groupby(['ParkID'])[['Score']].mean().reset_index()\n",
    "c = pd.merge(a,b, on='ParkID', how='left')\n",
    "\n",
    "plt.scatter(data=c,x='Score',y='Amount')"
   ]
  },
  {
   "cell_type": "code",
   "execution_count": null,
   "metadata": {
    "collapsed": false
   },
   "outputs": [],
   "source": [
    "# after spending way too much time digging through datasets and then trying\n",
    "# to force this one to be meaningful ... I'm going with \"a terrible answer is still an answer\".\n",
    "# There is no correlation between park donations and park ratings. "
   ]
  },
  {
   "cell_type": "markdown",
   "metadata": {},
   "source": [
    "<img src=\"http://imgur.com/xDpSobf.png\" style=\"float: left; margin: 25px 15px 0px 0px; height: 25px\">\n",
    "\n",
    "### 4.2 Ploting GridSearch with Lasso, Ridge, or Elasticnet\n",
    "---\n",
    "1. Using the gridsearch results, plot your score in relation to your parameters.\n",
    "1. Plot the effect on your coefficients given alpha.\n",
    "1. Plot any other parameter change to visualize the impact of any other hyperparameter.\n",
    "\n",
    "It's helpful to understand the impact of parameters used in Gridsearch, and that you are comfortable working with the data that is generated for reporting to explore the results visually."
   ]
  },
  {
   "cell_type": "code",
   "execution_count": null,
   "metadata": {
    "collapsed": true
   },
   "outputs": [],
   "source": []
  },
  {
   "cell_type": "markdown",
   "metadata": {},
   "source": [
    "<img src=\"http://imgur.com/GCAf1UX.png\" style=\"float: left; margin: 25px 15px 0px 0px; height: 25px\">\n",
    "\n",
    "## 5. Bias-variance tradeoff\n",
    "\n",
    "---\n",
    "\n",
    "1. Select San Francisco data of your choice and construct a regularized regression model (this can be data from an earlier analysis if you like). Ideally the model should actually improve across regularization strengths...\n",
    "- Gridsearch the regularization parameters to find the optimal.\n",
    "- Plot the regularization parameter against the cross-validated $R^2$.\n",
    "- Explain how regularization and regularization strength is related to the bias-variance tradeoff.\n"
   ]
  },
  {
   "cell_type": "code",
   "execution_count": null,
   "metadata": {
    "collapsed": true
   },
   "outputs": [],
   "source": []
  },
  {
   "cell_type": "markdown",
   "metadata": {},
   "source": [
    "<img src=\"http://imgur.com/xDpSobf.png\" style=\"float: left; margin: 25px 15px 0px 0px; height: 25px\">\n",
    "\n",
    "### 5.1 Calculate the approximated $\\text{bias}^2$ and variance across regularization strengths.\n",
    "\n",
    "---\n",
    "\n",
    "You can obviously use my code from the bias-variance lab to do this. \n",
    "\n",
    "Plot the bias and variance change _with_ the cross-validated $R^2$. \n",
    "\n",
    "You'll need to scale these values somehow to put them on the same chart (I recommend (MinMaxScaler)[http://scikit-learn.org/stable/modules/generated/sklearn.preprocessing.MinMaxScaler.html] to put $\\text{bias}^2$ and variance on the same scale as cross-validated $R^2$."
   ]
  },
  {
   "cell_type": "code",
   "execution_count": null,
   "metadata": {
    "collapsed": true
   },
   "outputs": [],
   "source": []
  },
  {
   "cell_type": "markdown",
   "metadata": {},
   "source": [
    "<img src=\"http://imgur.com/HNPKfE8.png\" style=\"float: left; margin: 25px 15px 0px 0px; height: 25px\">\n",
    "\n",
    "## 6. Custom regularized regression penalties\n",
    "\n",
    "---\n",
    "\n",
    "The $\\lambda1$ and $\\lambda2$ norm regularization penalties (Lasso and Ridge) are the most commonly used regularization penalties. They have a solid foundation in statistics and evidence of effectiveness. However, these are not the only possible penalties for regression – sometimes new, customized penalties give additional performance and predictive power to models depending on the context.\n",
    "\n",
    "For example, when I worked in neuroscience [we created an effective penalized regression dubbed \"GraphNet\"](http://arxiv.org/abs/1110.4139) that combined the Lasso and Ridge penalties like in Elastic net with a third penalty that rewarded clustering of coefficients according to physical distance in FMRI brain activation data.\n",
    "\n",
    "**Devise of and implement a penalized regression for San Francisco data.** What is your rationale – why would this be useful? How does it perform compared to the standard Ridge, Lasso, and Elastic Net penalties?"
   ]
  },
  {
   "cell_type": "code",
   "execution_count": null,
   "metadata": {
    "collapsed": true
   },
   "outputs": [],
   "source": []
  }
 ],
 "metadata": {
  "anaconda-cloud": {},
  "kernelspec": {
   "display_name": "Python [dsi]",
   "language": "python",
   "name": "Python [dsi]"
  },
  "language_info": {
   "codemirror_mode": {
    "name": "ipython",
    "version": 2
   },
   "file_extension": ".py",
   "mimetype": "text/x-python",
   "name": "python",
   "nbconvert_exporter": "python",
   "pygments_lexer": "ipython2",
   "version": "2.7.12"
  }
 },
 "nbformat": 4,
 "nbformat_minor": 0
}
