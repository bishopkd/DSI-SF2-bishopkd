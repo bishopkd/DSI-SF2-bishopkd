{
 "cells": [
  {
   "cell_type": "markdown",
   "metadata": {},
   "source": [
    "<img src=\"http://imgur.com/1ZcRyrc.png\" style=\"float: left; margin: 15px; height: 80px\">\n",
    "\n",
    "# Project 7\n",
    "\n",
    "## NLP and Machine Learning on [travel.statsexchange.com](http://travel.stackexchange.com/) data\n",
    "\n",
    "---\n",
    "\n",
    "In Project 7 you'll be doing NLP and machine learning on post data from stackexchange's travel subdomain. \n",
    "\n",
    "This project is setup like a mini Kaggle competition. You are given the training data and when projects are submitted your model will be tested on the held-out testing data. There will be prizes for the people who build models that perform best on the held out test set!\n",
    "\n",
    "---\n",
    "\n",
    "## Notes on the data\n",
    "\n",
    "The data is again compressed into the `.7z` file format to save space. There are 6 .csv files and one readme file that contains some information on the fields.\n",
    "\n",
    "    posts_train.csv\n",
    "    comments_train.csv\n",
    "    users.csv\n",
    "    badges.csv\n",
    "    votes_train.csv\n",
    "    tags.csv\n",
    "    readme.txt\n",
    "    \n",
    "The data is located in your datasets folder:\n",
    "\n",
    "    DSI-SF-2/datasets/stack_exchange_travel.7z\n",
    "    \n",
    "If you're interested in where this data came from and where to get more data from other stackexchange subdomains, see here:\n",
    "\n",
    "https://ia800500.us.archive.org/22/items/stackexchange/readme.txt\n",
    "\n",
    "\n",
    "### Recommended Utilities for .7z\n",
    "\n",
    "- For OSX [Keka](http://www.kekaosx.com/en/) or [The Unarchiver](http://wakaba.c3.cx/s/apps/unarchiver.html). \n",
    "- For Windows [7-zip](http://www.7-zip.org/) is the standard. \n",
    "- For Linux try the `p7zip` utility.  `sudo apt-get install p7zip`.\n",
    "\n"
   ]
  },
  {
   "cell_type": "markdown",
   "metadata": {},
   "source": [
    "<img src=\"http://imgur.com/l5NasQj.png\" style=\"float: left; margin: 25px 15px 0px 0px; height: 25px\">\n",
    "\n",
    "### 1. Use LDA to find what topics are discussed on travel.stackexchange.com.\n",
    "\n",
    "---\n",
    "\n",
    "Text can be found in the posts and the comments datasets. The `ParentId` column in the posts dataset indicates what the \"question\" post was for a given post. Comment text can be merged onto the post they are part of with the `PostId` field.\n",
    "\n",
    "The text may have some HTML tags. BeautifulSoup has convenient ways to get rid of markup or extract text if you need to. You can also parse the strings yourself if you like.\n",
    "\n",
    "The tags dataset has the \"tags\" that the users have officially given the post.\n",
    "\n",
    "**1.1 Implement LDA against the text features of the dataset(s).**\n",
    "\n",
    "- This can be posts or a combination of posts and comments if you want more power.\n",
    "- Find optimal **K/num_topics**.\n",
    "\n",
    "**1.2 Compare your topics to the tags. Do the LDA topics make sense? How do they compare to the tags?**\n"
   ]
  },
  {
   "cell_type": "code",
   "execution_count": 331,
   "metadata": {
    "collapsed": false
   },
   "outputs": [],
   "source": [
    "from gensim import corpora, models, matutils\n",
    "from sklearn.feature_extraction.text import CountVectorizer\n",
    "from sklearn.feature_extraction.text import TfidfVectorizer\n",
    "from collections import defaultdict\n",
    "import pandas as pd\n",
    "import numpy as np\n",
    "import matplotlib as plt\n",
    "import seaborn as sns\n",
    "from bs4 import BeautifulSoup\n",
    "from sklearn.grid_search import GridSearchCV\n",
    "from sklearn.tree import DecisionTreeRegressor, DecisionTreeClassifier\n",
    "from sklearn.ensemble import RandomForestRegressor,GradientBoostingRegressor, AdaBoostRegressor,ExtraTreesRegressor\n",
    "from sklearn.cross_validation import cross_val_score\n",
    "from sklearn.cross_validation import train_test_split\n",
    "plt.style.use('fivethirtyeight')\n",
    "from ipywidgets import *\n",
    "from IPython.display import display\n",
    "%matplotlib inline"
   ]
  },
  {
   "cell_type": "code",
   "execution_count": 273,
   "metadata": {
    "collapsed": false
   },
   "outputs": [
    {
     "data": {
      "text/html": [
       "<div>\n",
       "<table border=\"1\" class=\"dataframe\">\n",
       "  <thead>\n",
       "    <tr style=\"text-align: right;\">\n",
       "      <th></th>\n",
       "      <th>AcceptedAnswerId</th>\n",
       "      <th>AnswerCount</th>\n",
       "      <th>Body</th>\n",
       "      <th>ClosedDate</th>\n",
       "      <th>CommentCount</th>\n",
       "      <th>CommunityOwnedDate</th>\n",
       "      <th>CreationDate</th>\n",
       "      <th>FavoriteCount</th>\n",
       "      <th>Id</th>\n",
       "      <th>LastActivityDate</th>\n",
       "      <th>...</th>\n",
       "      <th>LastEditorDisplayName</th>\n",
       "      <th>LastEditorUserId</th>\n",
       "      <th>OwnerDisplayName</th>\n",
       "      <th>OwnerUserId</th>\n",
       "      <th>ParentId</th>\n",
       "      <th>PostTypeId</th>\n",
       "      <th>Score</th>\n",
       "      <th>Tags</th>\n",
       "      <th>Title</th>\n",
       "      <th>ViewCount</th>\n",
       "    </tr>\n",
       "  </thead>\n",
       "  <tbody>\n",
       "    <tr>\n",
       "      <th>0</th>\n",
       "      <td>393.0</td>\n",
       "      <td>4.0</td>\n",
       "      <td>&lt;p&gt;My fiancée and I are looking for a good Car...</td>\n",
       "      <td>2013-02-25T23:52:47.953</td>\n",
       "      <td>4</td>\n",
       "      <td>NaN</td>\n",
       "      <td>2011-06-21T20:19:34.730</td>\n",
       "      <td>NaN</td>\n",
       "      <td>1</td>\n",
       "      <td>2012-05-24T14:52:14.760</td>\n",
       "      <td>...</td>\n",
       "      <td>NaN</td>\n",
       "      <td>101.0</td>\n",
       "      <td>NaN</td>\n",
       "      <td>9.0</td>\n",
       "      <td>NaN</td>\n",
       "      <td>1</td>\n",
       "      <td>8</td>\n",
       "      <td>&lt;caribbean&gt;&lt;cruising&gt;&lt;vacations&gt;</td>\n",
       "      <td>What are some Caribbean cruises for October?</td>\n",
       "      <td>361.0</td>\n",
       "    </tr>\n",
       "    <tr>\n",
       "      <th>1</th>\n",
       "      <td>NaN</td>\n",
       "      <td>1.0</td>\n",
       "      <td>&lt;p&gt;Singapore Airlines has an all-business clas...</td>\n",
       "      <td>NaN</td>\n",
       "      <td>1</td>\n",
       "      <td>NaN</td>\n",
       "      <td>2011-06-21T20:24:57.160</td>\n",
       "      <td>NaN</td>\n",
       "      <td>4</td>\n",
       "      <td>2013-01-09T09:55:22.743</td>\n",
       "      <td>...</td>\n",
       "      <td>NaN</td>\n",
       "      <td>693.0</td>\n",
       "      <td>NaN</td>\n",
       "      <td>24.0</td>\n",
       "      <td>NaN</td>\n",
       "      <td>1</td>\n",
       "      <td>8</td>\n",
       "      <td>&lt;loyalty-programs&gt;&lt;routes&gt;&lt;ewr&gt;&lt;singapore-airl...</td>\n",
       "      <td>Does Singapore Airlines offer any reward seats...</td>\n",
       "      <td>219.0</td>\n",
       "    </tr>\n",
       "  </tbody>\n",
       "</table>\n",
       "<p>2 rows × 21 columns</p>\n",
       "</div>"
      ],
      "text/plain": [
       "   AcceptedAnswerId  AnswerCount  \\\n",
       "0             393.0          4.0   \n",
       "1               NaN          1.0   \n",
       "\n",
       "                                                Body               ClosedDate  \\\n",
       "0  <p>My fiancée and I are looking for a good Car...  2013-02-25T23:52:47.953   \n",
       "1  <p>Singapore Airlines has an all-business clas...                      NaN   \n",
       "\n",
       "   CommentCount CommunityOwnedDate             CreationDate  FavoriteCount  \\\n",
       "0             4                NaN  2011-06-21T20:19:34.730            NaN   \n",
       "1             1                NaN  2011-06-21T20:24:57.160            NaN   \n",
       "\n",
       "   Id         LastActivityDate    ...    LastEditorDisplayName  \\\n",
       "0   1  2012-05-24T14:52:14.760    ...                      NaN   \n",
       "1   4  2013-01-09T09:55:22.743    ...                      NaN   \n",
       "\n",
       "  LastEditorUserId  OwnerDisplayName OwnerUserId  ParentId  PostTypeId  Score  \\\n",
       "0            101.0               NaN         9.0       NaN           1      8   \n",
       "1            693.0               NaN        24.0       NaN           1      8   \n",
       "\n",
       "                                                Tags  \\\n",
       "0                   <caribbean><cruising><vacations>   \n",
       "1  <loyalty-programs><routes><ewr><singapore-airl...   \n",
       "\n",
       "                                               Title ViewCount  \n",
       "0       What are some Caribbean cruises for October?     361.0  \n",
       "1  Does Singapore Airlines offer any reward seats...     219.0  \n",
       "\n",
       "[2 rows x 21 columns]"
      ]
     },
     "execution_count": 273,
     "metadata": {},
     "output_type": "execute_result"
    }
   ],
   "source": [
    "filename = '/Users/katbishop/Desktop/DSI-SF2-bishopkd/datasets/stack_exchange_travel/posts_train.csv'\n",
    "df = pd.read_csv(filename)\n",
    "df.head(2)"
   ]
  },
  {
   "cell_type": "code",
   "execution_count": 4,
   "metadata": {
    "collapsed": false
   },
   "outputs": [
    {
     "data": {
      "text/html": [
       "<div>\n",
       "<table border=\"1\" class=\"dataframe\">\n",
       "  <thead>\n",
       "    <tr style=\"text-align: right;\">\n",
       "      <th></th>\n",
       "      <th>CreationDate</th>\n",
       "      <th>Id</th>\n",
       "      <th>PostId</th>\n",
       "      <th>Score</th>\n",
       "      <th>Text</th>\n",
       "      <th>UserDisplayName</th>\n",
       "      <th>UserId</th>\n",
       "    </tr>\n",
       "  </thead>\n",
       "  <tbody>\n",
       "    <tr>\n",
       "      <th>0</th>\n",
       "      <td>2011-06-21T20:25:14.257</td>\n",
       "      <td>1</td>\n",
       "      <td>1</td>\n",
       "      <td>0</td>\n",
       "      <td>To help with the cruise line question: Where a...</td>\n",
       "      <td>NaN</td>\n",
       "      <td>12.0</td>\n",
       "    </tr>\n",
       "    <tr>\n",
       "      <th>1</th>\n",
       "      <td>2011-06-21T20:27:35.300</td>\n",
       "      <td>2</td>\n",
       "      <td>1</td>\n",
       "      <td>0</td>\n",
       "      <td>Toronto, Ontario. We can fly out of anywhere t...</td>\n",
       "      <td>NaN</td>\n",
       "      <td>9.0</td>\n",
       "    </tr>\n",
       "  </tbody>\n",
       "</table>\n",
       "</div>"
      ],
      "text/plain": [
       "              CreationDate  Id  PostId  Score  \\\n",
       "0  2011-06-21T20:25:14.257   1       1      0   \n",
       "1  2011-06-21T20:27:35.300   2       1      0   \n",
       "\n",
       "                                                Text UserDisplayName  UserId  \n",
       "0  To help with the cruise line question: Where a...             NaN    12.0  \n",
       "1  Toronto, Ontario. We can fly out of anywhere t...             NaN     9.0  "
      ]
     },
     "execution_count": 4,
     "metadata": {},
     "output_type": "execute_result"
    }
   ],
   "source": [
    "filename = '/Users/katbishop/Desktop/DSI-SF2-bishopkd/datasets/stack_exchange_travel/comments_train.csv'\n",
    "df2 = pd.read_csv(filename)\n",
    "df2.head(2)"
   ]
  },
  {
   "cell_type": "code",
   "execution_count": 13,
   "metadata": {
    "collapsed": false
   },
   "outputs": [],
   "source": [
    "coms = df2.groupby(['PostId'])[['Text']].agg(lambda x: x.tolist()).reset_index()\n",
    "coms.rename(columns={'PostId':'post_id','Text': 'message_text'}, inplace=True)"
   ]
  },
  {
   "cell_type": "code",
   "execution_count": 6,
   "metadata": {
    "collapsed": false
   },
   "outputs": [
    {
     "data": {
      "text/plain": [
       "['I take pictures of signs. Many, many pictures of signs. They are super helpful for identifying the subjects of the surrounding pictures when I get home. Some of them have value of their own as well, but most are just notes to myself. For example the Venice churches all had standard nameplates on the outside and I took pictures of them knowing the churches would start to blur together for me.',\n",
       " \"I normally do but was hunting for a hostel at the time and didn't think to do it.  Def the best way to remember - can't always rely on the mind ;)\"]"
      ]
     },
     "execution_count": 6,
     "metadata": {},
     "output_type": "execute_result"
    }
   ],
   "source": [
    "coms.iloc[530,1]"
   ]
  },
  {
   "cell_type": "code",
   "execution_count": 7,
   "metadata": {
    "collapsed": false
   },
   "outputs": [
    {
     "data": {
      "text/plain": [
       "array(['AcceptedAnswerId', 'AnswerCount', 'Body', 'ClosedDate',\n",
       "       'CommentCount', 'CommunityOwnedDate', 'CreationDate',\n",
       "       'FavoriteCount', 'Id', 'LastActivityDate', 'LastEditDate',\n",
       "       'LastEditorDisplayName', 'LastEditorUserId', 'OwnerDisplayName',\n",
       "       'OwnerUserId', 'ParentId', 'PostTypeId', 'Score', 'Tags', 'Title',\n",
       "       'ViewCount'], dtype=object)"
      ]
     },
     "execution_count": 7,
     "metadata": {},
     "output_type": "execute_result"
    }
   ],
   "source": [
    "df.columns.values"
   ]
  },
  {
   "cell_type": "code",
   "execution_count": 274,
   "metadata": {
    "collapsed": false
   },
   "outputs": [],
   "source": [
    "df.rename(columns={'ParentId':'parent_id', 'Id': 'post_id','Body':'body','Tags':'tags','Title':'title'}, inplace=True)"
   ]
  },
  {
   "cell_type": "code",
   "execution_count": 275,
   "metadata": {
    "collapsed": true
   },
   "outputs": [],
   "source": [
    "def tags_to_list(text):\n",
    "    return str(text).replace('><',', ').replace('<','').replace('>','')\n",
    "\n",
    "def serve_soup(row):\n",
    "    soup = BeautifulSoup(str(row),'html.parser')\n",
    "    new_row = soup.get_text()\n",
    "    return new_row\n",
    "\n",
    "def is_ascii(text):\n",
    "    # death to weird chars\n",
    "    new_text =  ''.join([i if ord(i) < 128 and ord(i) != 91 else '' for i in text])\n",
    "    \n",
    "    # throwing some additional attempts at clean up here\n",
    "    new_text = \" \".join(filter(lambda x:x[0]!='@', new_text.split()))\n",
    "    new_text = \" \".join(filter(lambda x:x[0:4]!='http', new_text.split()))\n",
    "    \n",
    "    # what is all this number junk? I'm pulling 'em\n",
    "    return ''.join(['' if ord(i) > 46 and ord(i) < 58 else i for i in new_text])\n",
    "\n"
   ]
  },
  {
   "cell_type": "code",
   "execution_count": 276,
   "metadata": {
    "collapsed": false
   },
   "outputs": [],
   "source": [
    "df['tags_list'] = df['tags'].apply(tags_to_list) \n",
    "df['body_text'] = df['body'].apply(serve_soup)\n",
    "df['body_text'] = df['body_text'].apply(is_ascii) \n"
   ]
  },
  {
   "cell_type": "code",
   "execution_count": 157,
   "metadata": {
    "collapsed": false
   },
   "outputs": [],
   "source": [
    "\n",
    "posts = df[['post_id','body_text','tags_list','title']]"
   ]
  },
  {
   "cell_type": "code",
   "execution_count": 158,
   "metadata": {
    "collapsed": false
   },
   "outputs": [
    {
     "data": {
      "text/html": [
       "<div>\n",
       "<table border=\"1\" class=\"dataframe\">\n",
       "  <thead>\n",
       "    <tr style=\"text-align: right;\">\n",
       "      <th></th>\n",
       "      <th>post_id</th>\n",
       "      <th>body_text</th>\n",
       "      <th>tags_list</th>\n",
       "      <th>title</th>\n",
       "      <th>message_text</th>\n",
       "    </tr>\n",
       "  </thead>\n",
       "  <tbody>\n",
       "    <tr>\n",
       "      <th>0</th>\n",
       "      <td>1</td>\n",
       "      <td>My fiance and I are looking for a good Caribbe...</td>\n",
       "      <td>caribbean, cruising, vacations</td>\n",
       "      <td>What are some Caribbean cruises for October?</td>\n",
       "      <td>[To help with the cruise line question: Where ...</td>\n",
       "    </tr>\n",
       "    <tr>\n",
       "      <th>1</th>\n",
       "      <td>4</td>\n",
       "      <td>Singapore Airlines has an all-business class f...</td>\n",
       "      <td>loyalty-programs, routes, ewr, singapore-airli...</td>\n",
       "      <td>Does Singapore Airlines offer any reward seats...</td>\n",
       "      <td>[This route (as well as LAX-SIN) is being canc...</td>\n",
       "    </tr>\n",
       "    <tr>\n",
       "      <th>2</th>\n",
       "      <td>8</td>\n",
       "      <td>Can anyone suggest the best way to get from Se...</td>\n",
       "      <td>usa, airport-transfer, taxis, seattle</td>\n",
       "      <td>Best way to get from SeaTac airport to Redmond?</td>\n",
       "      <td>[To those voting down, please explain why with...</td>\n",
       "    </tr>\n",
       "    <tr>\n",
       "      <th>3</th>\n",
       "      <td>9</td>\n",
       "      <td>We are considering visiting Argentina for up t...</td>\n",
       "      <td>sightseeing, public-transport, transportation,...</td>\n",
       "      <td>What are must-visit destinations for the first...</td>\n",
       "      <td>[I agree with @user27478, you need to specify ...</td>\n",
       "    </tr>\n",
       "    <tr>\n",
       "      <th>4</th>\n",
       "      <td>11</td>\n",
       "      <td>I'm planning on taking the trans-Siberian  tra...</td>\n",
       "      <td>russia, visas, china, mongolia, trans-siberian</td>\n",
       "      <td>What is the best way to obtain visas for the T...</td>\n",
       "      <td>[If at all possible, save yourself the hassle ...</td>\n",
       "    </tr>\n",
       "  </tbody>\n",
       "</table>\n",
       "</div>"
      ],
      "text/plain": [
       "   post_id                                          body_text  \\\n",
       "0        1  My fiance and I are looking for a good Caribbe...   \n",
       "1        4  Singapore Airlines has an all-business class f...   \n",
       "2        8  Can anyone suggest the best way to get from Se...   \n",
       "3        9  We are considering visiting Argentina for up t...   \n",
       "4       11  I'm planning on taking the trans-Siberian  tra...   \n",
       "\n",
       "                                           tags_list  \\\n",
       "0                     caribbean, cruising, vacations   \n",
       "1  loyalty-programs, routes, ewr, singapore-airli...   \n",
       "2              usa, airport-transfer, taxis, seattle   \n",
       "3  sightseeing, public-transport, transportation,...   \n",
       "4     russia, visas, china, mongolia, trans-siberian   \n",
       "\n",
       "                                               title  \\\n",
       "0       What are some Caribbean cruises for October?   \n",
       "1  Does Singapore Airlines offer any reward seats...   \n",
       "2    Best way to get from SeaTac airport to Redmond?   \n",
       "3  What are must-visit destinations for the first...   \n",
       "4  What is the best way to obtain visas for the T...   \n",
       "\n",
       "                                        message_text  \n",
       "0  [To help with the cruise line question: Where ...  \n",
       "1  [This route (as well as LAX-SIN) is being canc...  \n",
       "2  [To those voting down, please explain why with...  \n",
       "3  [I agree with @user27478, you need to specify ...  \n",
       "4  [If at all possible, save yourself the hassle ...  "
      ]
     },
     "execution_count": 158,
     "metadata": {},
     "output_type": "execute_result"
    }
   ],
   "source": [
    "doc = pd.merge(posts,coms, on='post_id', how='inner')\n",
    "doc['body_message_text'] = doc['body_text'] + doc['message_text'].map(str)\n",
    "doc.head()"
   ]
  },
  {
   "cell_type": "code",
   "execution_count": 91,
   "metadata": {
    "collapsed": false
   },
   "outputs": [],
   "source": [
    "documents = doc['body_message_text']\n",
    "#documents.values\n",
    "vectorizer = CountVectorizer(stop_words='english', max_features = 200)\n",
    "X = vectorizer.fit_transform(documents)"
   ]
  },
  {
   "cell_type": "code",
   "execution_count": 98,
   "metadata": {
    "collapsed": false
   },
   "outputs": [],
   "source": [
    "vectorizer.vocabulary_"
   ]
  },
  {
   "cell_type": "code",
   "execution_count": 92,
   "metadata": {
    "collapsed": false
   },
   "outputs": [],
   "source": [
    "words = pd.DataFrame(X.toarray(), columns=vectorizer.get_feature_names())"
   ]
  },
  {
   "cell_type": "code",
   "execution_count": 93,
   "metadata": {
    "collapsed": false
   },
   "outputs": [
    {
     "data": {
      "text/plain": [
       "{0: u'able',\n",
       " 1: u'actually',\n",
       " 2: u'air',\n",
       " 3: u'airline',\n",
       " 4: u'airlines',\n",
       " 5: u'airport',\n",
       " 6: u'allowed',\n",
       " 7: u'answer',\n",
       " 8: u'application',\n",
       " 9: u'apply',\n",
       " 10: u'area',\n",
       " 11: u'ask',\n",
       " 12: u'asked',\n",
       " 13: u'asking',\n",
       " 14: u'available',\n",
       " 15: u'best',\n",
       " 16: u'better',\n",
       " 17: u'bit',\n",
       " 18: u'book',\n",
       " 19: u'booking',\n",
       " 20: u'border',\n",
       " 21: u'bus',\n",
       " 22: u'business',\n",
       " 23: u'buy',\n",
       " 24: u'canada',\n",
       " 25: u'car',\n",
       " 26: u'card',\n",
       " 27: u'carry',\n",
       " 28: u'case',\n",
       " 29: u'change',\n",
       " 30: u'check',\n",
       " 31: u'checked',\n",
       " 32: u'citizen',\n",
       " 33: u'city',\n",
       " 34: u'come',\n",
       " 35: u'company',\n",
       " 36: u'cost',\n",
       " 37: u'countries',\n",
       " 38: u'country',\n",
       " 39: u'course',\n",
       " 40: u'credit',\n",
       " 41: u'customs',\n",
       " 42: u'date',\n",
       " 43: u'day',\n",
       " 44: u'days',\n",
       " 45: u'did',\n",
       " 46: u'didn',\n",
       " 47: u'different',\n",
       " 48: u'does',\n",
       " 49: u'doesn',\n",
       " 50: u'don',\n",
       " 51: u'end',\n",
       " 52: u'english',\n",
       " 53: u'enter',\n",
       " 54: u'entry',\n",
       " 55: u'eu',\n",
       " 56: u'europe',\n",
       " 57: u'example',\n",
       " 58: u'expensive',\n",
       " 59: u'experience',\n",
       " 60: u'far',\n",
       " 61: u'fine',\n",
       " 62: u'flight',\n",
       " 63: u'flights',\n",
       " 64: u'fly',\n",
       " 65: u'flying',\n",
       " 66: u'food',\n",
       " 67: u'france',\n",
       " 68: u'free',\n",
       " 69: u'general',\n",
       " 70: u'germany',\n",
       " 71: u'getting',\n",
       " 72: u'given',\n",
       " 73: u'going',\n",
       " 74: u'good',\n",
       " 75: u'got',\n",
       " 76: u'great',\n",
       " 77: u'having',\n",
       " 78: u'help',\n",
       " 79: u'home',\n",
       " 80: u'hotel',\n",
       " 81: u'hours',\n",
       " 82: u'http',\n",
       " 83: u'immigration',\n",
       " 84: u'india',\n",
       " 85: u'information',\n",
       " 86: u'international',\n",
       " 87: u'isn',\n",
       " 88: u'issue',\n",
       " 89: u'just',\n",
       " 90: u'know',\n",
       " 91: u'leave',\n",
       " 92: u'let',\n",
       " 93: u'like',\n",
       " 94: u'likely',\n",
       " 95: u'link',\n",
       " 96: u'list',\n",
       " 97: u'll',\n",
       " 98: u'local',\n",
       " 99: u'london',\n",
       " 100: u'long',\n",
       " 101: u'look',\n",
       " 102: u'looking',\n",
       " 103: u'lot',\n",
       " 104: u'luggage',\n",
       " 105: u'make',\n",
       " 106: u'maybe',\n",
       " 107: u'mean',\n",
       " 108: u'means',\n",
       " 109: u'money',\n",
       " 110: u'months',\n",
       " 111: u'need',\n",
       " 112: u'new',\n",
       " 113: u'non',\n",
       " 114: u'note',\n",
       " 115: u'number',\n",
       " 116: u'online',\n",
       " 117: u'option',\n",
       " 118: u'page',\n",
       " 119: u'pass',\n",
       " 120: u'passport',\n",
       " 121: u'pay',\n",
       " 122: u'people',\n",
       " 123: u'person',\n",
       " 124: u'place',\n",
       " 125: u'places',\n",
       " 126: u'plan',\n",
       " 127: u'plane',\n",
       " 128: u'point',\n",
       " 129: u'possible',\n",
       " 130: u'pretty',\n",
       " 131: u'price',\n",
       " 132: u'probably',\n",
       " 133: u'problem',\n",
       " 134: u'question',\n",
       " 135: u'questions',\n",
       " 136: u'quite',\n",
       " 137: u'read',\n",
       " 138: u'really',\n",
       " 139: u'reason',\n",
       " 140: u'required',\n",
       " 141: u'return',\n",
       " 142: u'right',\n",
       " 143: u'route',\n",
       " 144: u'rules',\n",
       " 145: u'said',\n",
       " 146: u'say',\n",
       " 147: u'schengen',\n",
       " 148: u'seat',\n",
       " 149: u'security',\n",
       " 150: u'service',\n",
       " 151: u'short',\n",
       " 152: u'similar',\n",
       " 153: u'site',\n",
       " 154: u'small',\n",
       " 155: u'specific',\n",
       " 156: u'state',\n",
       " 157: u'states',\n",
       " 158: u'station',\n",
       " 159: u'stay',\n",
       " 160: u'sure',\n",
       " 161: u'thanks',\n",
       " 162: u'thing',\n",
       " 163: u'things',\n",
       " 164: u'think',\n",
       " 165: u'ticket',\n",
       " 166: u'tickets',\n",
       " 167: u'time',\n",
       " 168: u'times',\n",
       " 169: u'tourist',\n",
       " 170: u'train',\n",
       " 171: u'trains',\n",
       " 172: u'transit',\n",
       " 173: u'travel',\n",
       " 174: u'traveling',\n",
       " 175: u'travelling',\n",
       " 176: u'trip',\n",
       " 177: u'try',\n",
       " 178: u'uk',\n",
       " 179: u'usa',\n",
       " 180: u'use',\n",
       " 181: u'used',\n",
       " 182: u'using',\n",
       " 183: u'usually',\n",
       " 184: u'valid',\n",
       " 185: u've',\n",
       " 186: u'visa',\n",
       " 187: u'visas',\n",
       " 188: u'visit',\n",
       " 189: u'want',\n",
       " 190: u'way',\n",
       " 191: u'website',\n",
       " 192: u'won',\n",
       " 193: u'work',\n",
       " 194: u'www',\n",
       " 195: u'xd',\n",
       " 196: u'xe',\n",
       " 197: u'year',\n",
       " 198: u'years',\n",
       " 199: u'yes'}"
      ]
     },
     "execution_count": 93,
     "metadata": {},
     "output_type": "execute_result"
    }
   ],
   "source": [
    "vocab = {v: k for k, v in vectorizer.vocabulary_.iteritems()}\n",
    "vocab"
   ]
  },
  {
   "cell_type": "code",
   "execution_count": 94,
   "metadata": {
    "collapsed": true
   },
   "outputs": [],
   "source": [
    "frequency = defaultdict(int)\n",
    "\n",
    "for text in documents:\n",
    "    for t in text:\n",
    "        frequency[t] += 1\n",
    "\n",
    "texts = [[t for t in text if frequency[t] > 1] for text in documents]\n",
    "\n",
    "dictionary = corpora.Dictionary(texts)\n",
    "corpus = [dictionary.doc2bow(text) for text in texts]"
   ]
  },
  {
   "cell_type": "code",
   "execution_count": 100,
   "metadata": {
    "collapsed": false
   },
   "outputs": [],
   "source": [
    "lda = models.LdaModel(\n",
    "    matutils.Sparse2Corpus(X, documents_columns=False),\n",
    "    num_topics  =  5,\n",
    "    passes      =  10,\n",
    "    id2word     =  vocab\n",
    ")"
   ]
  },
  {
   "cell_type": "code",
   "execution_count": 101,
   "metadata": {
    "collapsed": false
   },
   "outputs": [
    {
     "data": {
      "text/plain": [
       "[(0, u'0.068*train + 0.049*xe + 0.043*bus + 0.035*london + 0.032*station'),\n",
       " (1, u'0.060*card + 0.037*car + 0.036*luggage + 0.029*check + 0.028*airport'),\n",
       " (2, u'0.029*like + 0.029*just + 0.029*question + 0.025*don + 0.024*people'),\n",
       " (3,\n",
       "  u'0.111*visa + 0.049*passport + 0.032*uk + 0.031*schengen + 0.029*country'),\n",
       " (4,\n",
       "  u'0.088*flight + 0.045*ticket + 0.041*airline + 0.037*flights + 0.033*airlines')]"
      ]
     },
     "execution_count": 101,
     "metadata": {},
     "output_type": "execute_result"
    }
   ],
   "source": [
    "lda.print_topics(num_topics=5, num_words=5)"
   ]
  },
  {
   "cell_type": "code",
   "execution_count": 103,
   "metadata": {
    "collapsed": false
   },
   "outputs": [
    {
     "data": {
      "text/plain": [
       "[(0, 0.080760596283730585),\n",
       " (1, 0.42224113026123195),\n",
       " (3, 0.43091559633670784),\n",
       " (4, 0.06589502389647646)]"
      ]
     },
     "execution_count": 103,
     "metadata": {},
     "output_type": "execute_result"
    }
   ],
   "source": [
    "lda.get_document_topics(corpus[0])"
   ]
  },
  {
   "cell_type": "code",
   "execution_count": 108,
   "metadata": {
    "collapsed": true
   },
   "outputs": [],
   "source": [
    "# just for comparison\n",
    "documents_t = doc['tags_list']\n",
    "vectorizer_t = CountVectorizer(stop_words='english', max_features = 200)\n",
    "X_t = vectorizer_t.fit_transform(documents_t)\n",
    "\n",
    "vocab_t = {v: k for k, v in vectorizer_t.vocabulary_.iteritems()}\n",
    "\n",
    "frequency_t = defaultdict(int)\n",
    "\n",
    "for text in documents_t:\n",
    "    for t in text:\n",
    "        frequency_t[t] += 1\n",
    "\n",
    "texts_t = [[t for t in text if frequency_t[t] > 1] for text in documents_t]\n",
    "\n",
    "dictionary_t = corpora.Dictionary(texts_t)\n",
    "corpus_t = [dictionary_t.doc2bow(text) for text in texts_t]\n",
    "\n",
    "lda_t = models.LdaModel(\n",
    "    matutils.Sparse2Corpus(X_t, documents_columns=False),\n",
    "    num_topics  =  5,\n",
    "    passes      =  10,\n",
    "    id2word     =  vocab\n",
    ")"
   ]
  },
  {
   "cell_type": "code",
   "execution_count": 109,
   "metadata": {
    "collapsed": false
   },
   "outputs": [
    {
     "data": {
      "text/plain": [
       "[(0, u'0.215*way + 0.136*service + 0.094*date + 0.090*visa + 0.057*pretty'),\n",
       " (1, u'0.986*pass + 0.008*make + 0.003*booking + 0.000*card + 0.000*luggage'),\n",
       " (2,\n",
       "  u'0.174*using + 0.126*airline + 0.061*note + 0.034*airport + 0.027*answer'),\n",
       " (3, u'0.108*way + 0.106*visas + 0.074*end + 0.067*know + 0.065*want'),\n",
       " (4, u'0.058*try + 0.052*use + 0.050*reason + 0.042*fly + 0.033*looking')]"
      ]
     },
     "execution_count": 109,
     "metadata": {},
     "output_type": "execute_result"
    }
   ],
   "source": [
    "lda_t.print_topics(num_topics=5, num_words=5)\n"
   ]
  },
  {
   "cell_type": "code",
   "execution_count": null,
   "metadata": {
    "collapsed": true
   },
   "outputs": [],
   "source": [
    "# not so dissimilar"
   ]
  },
  {
   "cell_type": "markdown",
   "metadata": {},
   "source": []
  },
  {
   "cell_type": "markdown",
   "metadata": {},
   "source": [
    "<img src=\"http://imgur.com/l5NasQj.png\" style=\"float: left; margin: 25px 15px 0px 0px; height: 25px\">\n",
    "\n",
    "### 2. What makes an answer likely to be \"accepted\"?\n",
    "\n",
    "---\n",
    "\n",
    "**2.1 Build a model to predict whether a post will be marked as the answer.**\n",
    "\n",
    "- This is a classification problem.\n",
    "- You're free to use any of the machine learning algorithms or techniques we have learned in class to build the best model you can.\n",
    "- NLP will be very useful here for pulling out useful and relevant features from the data. \n",
    "- Though not required, using bagging and boosting models like Random Forests and Gradient Boosted Trees will _probably_ get you the highest performance on the test data (but who knows!).\n",
    "\n",
    "\n",
    "**2.2 Evaluate the performance of your classifier with a confusion matrix and accuracy. Explain how your model is performing.**\n",
    "\n",
    "**2.3 Plot either a ROC curve or precision-recall curve (or both!) and explain what they tell you about your model.**\n",
    "\n",
    "NOTE: You should only be predicting this for `PostTypeID=2` posts, which are the \"answer\" posts. This doesn't mean, however, that you can't or shouldn't use the parent questions as predictors!\n"
   ]
  },
  {
   "cell_type": "code",
   "execution_count": 161,
   "metadata": {
    "collapsed": false
   },
   "outputs": [
    {
     "data": {
      "text/plain": [
       "Index([u'AcceptedAnswerId', u'AnswerCount', u'body', u'ClosedDate',\n",
       "       u'CommentCount', u'CommunityOwnedDate', u'CreationDate',\n",
       "       u'FavoriteCount', u'post_id', u'LastActivityDate', u'LastEditDate',\n",
       "       u'LastEditorDisplayName', u'LastEditorUserId', u'OwnerDisplayName',\n",
       "       u'OwnerUserId', u'parent_id', u'PostTypeId', u'Score', u'tags',\n",
       "       u'title', u'ViewCount', u'tags_list', u'body_text'],\n",
       "      dtype='object')"
      ]
     },
     "execution_count": 161,
     "metadata": {},
     "output_type": "execute_result"
    }
   ],
   "source": [
    "df.columns"
   ]
  },
  {
   "cell_type": "code",
   "execution_count": 182,
   "metadata": {
    "collapsed": false
   },
   "outputs": [],
   "source": [
    "dfA = df[df['PostTypeId']==2]\n",
    "dfAID = df[df['AcceptedAnswerId']>0]\n",
    "ans_id = dfAID['AcceptedAnswerId'].tolist()"
   ]
  },
  {
   "cell_type": "code",
   "execution_count": 180,
   "metadata": {
    "collapsed": false
   },
   "outputs": [
    {
     "name": "stderr",
     "output_type": "stream",
     "text": [
      "/Users/katbishop/anaconda/envs/dsi/lib/python2.7/site-packages/ipykernel/__main__.py:1: SettingWithCopyWarning: \n",
      "A value is trying to be set on a copy of a slice from a DataFrame.\n",
      "Try using .loc[row_indexer,col_indexer] = value instead\n",
      "\n",
      "See the caveats in the documentation: http://pandas.pydata.org/pandas-docs/stable/indexing.html#indexing-view-versus-copy\n",
      "  if __name__ == '__main__':\n"
     ]
    }
   ],
   "source": [
    "dfA['is_ans'] = dfA['post_id'].apply(lambda x: 1 if x in ans_id else 0)"
   ]
  },
  {
   "cell_type": "code",
   "execution_count": 188,
   "metadata": {
    "collapsed": false
   },
   "outputs": [],
   "source": [
    "ans = dfA[dfA['is_ans']==1]\n",
    "not_ans = dfA[dfA['is_ans']==0]"
   ]
  },
  {
   "cell_type": "code",
   "execution_count": 241,
   "metadata": {
    "collapsed": false
   },
   "outputs": [],
   "source": [
    "ans_text2 = ans['body_text']\n",
    "\n",
    "ans_text=''\n",
    "for i in ans_text2:\n",
    "    ans_text += i"
   ]
  },
  {
   "cell_type": "code",
   "execution_count": 246,
   "metadata": {
    "collapsed": false
   },
   "outputs": [],
   "source": [
    "not_ans_text2 = not_ans['body_text']\n",
    "not_ans_text=''\n",
    "for i in not_ans_text2:\n",
    "    not_ans_text += i"
   ]
  },
  {
   "cell_type": "code",
   "execution_count": 248,
   "metadata": {
    "collapsed": false
   },
   "outputs": [
    {
     "data": {
      "text/html": [
       "<div>\n",
       "<table border=\"1\" class=\"dataframe\">\n",
       "  <thead>\n",
       "    <tr style=\"text-align: right;\">\n",
       "      <th></th>\n",
       "      <th>visa</th>\n",
       "      <th>time</th>\n",
       "      <th>need</th>\n",
       "      <th>travel</th>\n",
       "      <th>just</th>\n",
       "      <th>don</th>\n",
       "      <th>like</th>\n",
       "      <th>ticket</th>\n",
       "      <th>airport</th>\n",
       "      <th>day</th>\n",
       "    </tr>\n",
       "  </thead>\n",
       "  <tbody>\n",
       "    <tr>\n",
       "      <th>ans_text</th>\n",
       "      <td>0.208882</td>\n",
       "      <td>0.180509</td>\n",
       "      <td>0.165078</td>\n",
       "      <td>0.150349</td>\n",
       "      <td>0.146269</td>\n",
       "      <td>0.138554</td>\n",
       "      <td>0.137916</td>\n",
       "      <td>0.129244</td>\n",
       "      <td>0.126949</td>\n",
       "      <td>0.121848</td>\n",
       "    </tr>\n",
       "    <tr>\n",
       "      <th>not_ans_text</th>\n",
       "      <td>0.302806</td>\n",
       "      <td>0.180475</td>\n",
       "      <td>0.181502</td>\n",
       "      <td>0.150270</td>\n",
       "      <td>0.158939</td>\n",
       "      <td>0.150754</td>\n",
       "      <td>0.136376</td>\n",
       "      <td>0.100251</td>\n",
       "      <td>0.108255</td>\n",
       "      <td>0.098166</td>\n",
       "    </tr>\n",
       "  </tbody>\n",
       "</table>\n",
       "</div>"
      ],
      "text/plain": [
       "                  visa      time      need    travel      just       don  \\\n",
       "ans_text      0.208882  0.180509  0.165078  0.150349  0.146269  0.138554   \n",
       "not_ans_text  0.302806  0.180475  0.181502  0.150270  0.158939  0.150754   \n",
       "\n",
       "                  like    ticket   airport       day  \n",
       "ans_text      0.137916  0.129244  0.126949  0.121848  \n",
       "not_ans_text  0.136376  0.100251  0.108255  0.098166  "
      ]
     },
     "execution_count": 248,
     "metadata": {},
     "output_type": "execute_result"
    }
   ],
   "source": [
    "tvec = TfidfVectorizer(stop_words='english')\n",
    "tvec.fit([ans_text,not_ans_text])\n",
    "\n",
    "df  = pd.DataFrame(tvec.transform([ans_text,not_ans_text]).todense(), \n",
    "                   columns=tvec.get_feature_names(), index=['ans_text','not_ans_text'])\n",
    "\n",
    "df.transpose().sort_values('ans_text', ascending=False).head(10).transpose()"
   ]
  },
  {
   "cell_type": "code",
   "execution_count": 249,
   "metadata": {
    "collapsed": false
   },
   "outputs": [
    {
     "data": {
      "text/html": [
       "<div>\n",
       "<table border=\"1\" class=\"dataframe\">\n",
       "  <thead>\n",
       "    <tr style=\"text-align: right;\">\n",
       "      <th></th>\n",
       "      <th>visa</th>\n",
       "      <th>need</th>\n",
       "      <th>time</th>\n",
       "      <th>just</th>\n",
       "      <th>don</th>\n",
       "      <th>travel</th>\n",
       "      <th>country</th>\n",
       "      <th>like</th>\n",
       "      <th>passport</th>\n",
       "      <th>people</th>\n",
       "    </tr>\n",
       "  </thead>\n",
       "  <tbody>\n",
       "    <tr>\n",
       "      <th>ans_text</th>\n",
       "      <td>0.208882</td>\n",
       "      <td>0.165078</td>\n",
       "      <td>0.180509</td>\n",
       "      <td>0.146269</td>\n",
       "      <td>0.138554</td>\n",
       "      <td>0.150349</td>\n",
       "      <td>0.121274</td>\n",
       "      <td>0.137916</td>\n",
       "      <td>0.089967</td>\n",
       "      <td>0.121338</td>\n",
       "    </tr>\n",
       "    <tr>\n",
       "      <th>not_ans_text</th>\n",
       "      <td>0.302806</td>\n",
       "      <td>0.181502</td>\n",
       "      <td>0.180475</td>\n",
       "      <td>0.158939</td>\n",
       "      <td>0.150754</td>\n",
       "      <td>0.150270</td>\n",
       "      <td>0.144410</td>\n",
       "      <td>0.136376</td>\n",
       "      <td>0.130154</td>\n",
       "      <td>0.123509</td>\n",
       "    </tr>\n",
       "  </tbody>\n",
       "</table>\n",
       "</div>"
      ],
      "text/plain": [
       "                  visa      need      time      just       don    travel  \\\n",
       "ans_text      0.208882  0.165078  0.180509  0.146269  0.138554  0.150349   \n",
       "not_ans_text  0.302806  0.181502  0.180475  0.158939  0.150754  0.150270   \n",
       "\n",
       "               country      like  passport    people  \n",
       "ans_text      0.121274  0.137916  0.089967  0.121338  \n",
       "not_ans_text  0.144410  0.136376  0.130154  0.123509  "
      ]
     },
     "execution_count": 249,
     "metadata": {},
     "output_type": "execute_result"
    }
   ],
   "source": [
    "df.transpose().sort_values('not_ans_text', ascending=False).head(10).transpose()"
   ]
  },
  {
   "cell_type": "code",
   "execution_count": 251,
   "metadata": {
    "collapsed": false
   },
   "outputs": [
    {
     "data": {
      "text/plain": [
       "Index([u'AcceptedAnswerId', u'AnswerCount', u'body', u'ClosedDate',\n",
       "       u'CommentCount', u'CommunityOwnedDate', u'CreationDate',\n",
       "       u'FavoriteCount', u'post_id', u'LastActivityDate', u'LastEditDate',\n",
       "       u'LastEditorDisplayName', u'LastEditorUserId', u'OwnerDisplayName',\n",
       "       u'OwnerUserId', u'parent_id', u'PostTypeId', u'Score', u'tags',\n",
       "       u'title', u'ViewCount', u'tags_list', u'body_text', u'is_ans'],\n",
       "      dtype='object')"
      ]
     },
     "execution_count": 251,
     "metadata": {},
     "output_type": "execute_result"
    }
   ],
   "source": [
    "dfA.columns"
   ]
  },
  {
   "cell_type": "code",
   "execution_count": 266,
   "metadata": {
    "collapsed": false
   },
   "outputs": [
    {
     "data": {
      "text/plain": [
       "AnswerCount      23967\n",
       "CommentCount         0\n",
       "FavoriteCount    23967\n",
       "PostTypeId           0\n",
       "Score                0\n",
       "ViewCount        23967\n",
       "dtype: int64"
      ]
     },
     "execution_count": 266,
     "metadata": {},
     "output_type": "execute_result"
    }
   ],
   "source": [
    "X.isnull().sum()"
   ]
  },
  {
   "cell_type": "code",
   "execution_count": 325,
   "metadata": {
    "collapsed": false
   },
   "outputs": [
    {
     "name": "stdout",
     "output_type": "stream",
     "text": [
      "(23967,) (23967, 3)\n"
     ]
    }
   ],
   "source": [
    "y = dfA['is_ans']\n",
    "X = dfA[['CommentCount','PostTypeId', 'Score']]\n",
    "\n",
    "print y.shape, X.shape"
   ]
  },
  {
   "cell_type": "code",
   "execution_count": 326,
   "metadata": {
    "collapsed": false
   },
   "outputs": [
    {
     "name": "stdout",
     "output_type": "stream",
     "text": [
      "Fitting 5 folds for each of 4 candidates, totalling 20 fits\n",
      "{'max_depth': 4}\n",
      "0.734203624225\n"
     ]
    },
    {
     "name": "stderr",
     "output_type": "stream",
     "text": [
      "[Parallel(n_jobs=1)]: Done  20 out of  20 | elapsed:    0.4s finished\n"
     ]
    }
   ],
   "source": [
    "dtc_params = {\n",
    "    'max_depth':[1,2,3,4]\n",
    "}\n",
    "\n",
    "dtc_gs = GridSearchCV(DecisionTreeClassifier(), dtc_params, cv=5, verbose=1)\n",
    "\n",
    "X_train, X_test, y_train, y_test = train_test_split(X, y, test_size=0.3) \n",
    "\n",
    "dtc_gs.fit(X_train, y_train)\n",
    "pred = dtc_gs.predict(X_test)\n",
    "\n",
    "dtc_best = dtc_gs.best_estimator_\n",
    "print dtc_gs.best_params_\n",
    "print dtc_gs.best_score_\n"
   ]
  },
  {
   "cell_type": "code",
   "execution_count": 327,
   "metadata": {
    "collapsed": false
   },
   "outputs": [
    {
     "data": {
      "text/html": [
       "<div>\n",
       "<table border=\"1\" class=\"dataframe\">\n",
       "  <thead>\n",
       "    <tr style=\"text-align: right;\">\n",
       "      <th></th>\n",
       "      <th>feature</th>\n",
       "      <th>importance</th>\n",
       "    </tr>\n",
       "  </thead>\n",
       "  <tbody>\n",
       "    <tr>\n",
       "      <th>2</th>\n",
       "      <td>Score</td>\n",
       "      <td>0.901329</td>\n",
       "    </tr>\n",
       "    <tr>\n",
       "      <th>0</th>\n",
       "      <td>CommentCount</td>\n",
       "      <td>0.098671</td>\n",
       "    </tr>\n",
       "    <tr>\n",
       "      <th>1</th>\n",
       "      <td>PostTypeId</td>\n",
       "      <td>0.000000</td>\n",
       "    </tr>\n",
       "  </tbody>\n",
       "</table>\n",
       "</div>"
      ],
      "text/plain": [
       "        feature  importance\n",
       "2         Score    0.901329\n",
       "0  CommentCount    0.098671\n",
       "1    PostTypeId    0.000000"
      ]
     },
     "execution_count": 327,
     "metadata": {},
     "output_type": "execute_result"
    }
   ],
   "source": [
    "fi = pd.DataFrame({\n",
    "        'feature': X.columns,\n",
    "        'importance': dtc_best.feature_importances_\n",
    "    })\n",
    "\n",
    "fi.sort_values('importance', ascending=False, inplace=True)\n",
    "fi"
   ]
  },
  {
   "cell_type": "code",
   "execution_count": 330,
   "metadata": {
    "collapsed": false
   },
   "outputs": [
    {
     "name": "stdout",
     "output_type": "stream",
     "text": [
      "            predicted_is_not_ans  predicted_is_ans\n",
      "is_not_ans                  5070               115\n",
      "is_ans                      1876               130\n"
     ]
    }
   ],
   "source": [
    "from sklearn.metrics import confusion_matrix, accuracy_score, precision_score, recall_score\n",
    "\n",
    "confmat = confusion_matrix(y_true=y_test, y_pred=pred)\n",
    "\n",
    "confusion = pd.DataFrame(confmat, index=['is_not_ans', 'is_ans'],\n",
    "                         columns=['predicted_is_not_ans','predicted_is_ans'])\n",
    "#confusion = pd.DataFrame(confmat)\n",
    "print(confusion)"
   ]
  },
  {
   "cell_type": "code",
   "execution_count": 335,
   "metadata": {
    "collapsed": false
   },
   "outputs": [
    {
     "data": {
      "image/png": "[encoded data removed]",
      "text/plain": [
       "<matplotlib.figure.Figure at 0x51c21a590>"
      ]
     },
     "metadata": {},
     "output_type": "display_data"
    }
   ],
   "source": [
    "from sklearn.metrics import roc_curve, auc\n",
    "import matplotlib.pyplot as plt\n",
    "\n",
    "def plot_roc_curve(target=False, predict_proba=False, title='Your prediction'):\n",
    "\n",
    "    FPR = dict()\n",
    "    TPR = dict()\n",
    "    ROC_AUC = dict()\n",
    "\n",
    "    FPR[1], TPR[1], _ = roc_curve(target,predict_proba)\n",
    "    ROC_AUC[1] = auc(FPR[1], TPR[1])\n",
    "\n",
    "    plt.figure(figsize=[11,9])\n",
    "    plt.plot(FPR[1], TPR[1], label='ROC curve (area = %0.2f)' % ROC_AUC[1], linewidth=4)\n",
    "    plt.plot([0, 1], [0, 1], 'k--', linewidth=4)\n",
    "    plt.xlim([0.0, 1.0])\n",
    "    plt.ylim([0.0, 1.05])\n",
    "    plt.xlabel('False Positive Rate', fontsize=18)\n",
    "    plt.ylabel('True Positive Rate', fontsize=18)\n",
    "    plt.title('Receiver operating characteristic for %s' % title, fontsize=18)\n",
    "    plt.legend(loc=\"lower right\")\n",
    "    plt.show()\n",
    "    \n",
    "plot_roc_curve(target=y_test, predict_proba=pred, title='')"
   ]
  },
  {
   "cell_type": "markdown",
   "metadata": {
    "collapsed": true
   },
   "source": [
    "<img src=\"http://imgur.com/l5NasQj.png\" style=\"float: left; margin: 25px 15px 0px 0px; height: 25px\">\n",
    "\n",
    "### 3. What is the score of a post?\n",
    "\n",
    "---\n",
    "\n",
    "**3.1 Build a model that predicts the score of a post.**\n",
    "\n",
    "- This is a regression problem now. \n",
    "- You can and should be predicting score for both \"question\" and \"answer\" posts, so keep them both in your dataset.\n",
    "- Again, use any techniques that you think will get you the best model.\n",
    "\n",
    "**3.2 Evaluate the performance of your model with cross-validation and report the results.**\n",
    "\n",
    "**3.3 What is important for determining the score of a post, if anything?**\n"
   ]
  },
  {
   "cell_type": "code",
   "execution_count": 278,
   "metadata": {
    "collapsed": false
   },
   "outputs": [
    {
     "data": {
      "text/plain": [
       "Index([u'AcceptedAnswerId', u'AnswerCount', u'body', u'ClosedDate',\n",
       "       u'CommentCount', u'CommunityOwnedDate', u'CreationDate',\n",
       "       u'FavoriteCount', u'post_id', u'LastActivityDate', u'LastEditDate',\n",
       "       u'LastEditorDisplayName', u'LastEditorUserId', u'OwnerDisplayName',\n",
       "       u'OwnerUserId', u'parent_id', u'PostTypeId', u'Score', u'tags',\n",
       "       u'title', u'ViewCount', u'tags_list', u'body_text'],\n",
       "      dtype='object')"
      ]
     },
     "execution_count": 278,
     "metadata": {},
     "output_type": "execute_result"
    }
   ],
   "source": [
    "df.columns"
   ]
  },
  {
   "cell_type": "code",
   "execution_count": 301,
   "metadata": {
    "collapsed": false
   },
   "outputs": [],
   "source": [
    "df_nan_free = df[((df['AnswerCount']>0) & (df['OwnerUserId']>0))]"
   ]
  },
  {
   "cell_type": "code",
   "execution_count": 302,
   "metadata": {
    "collapsed": false
   },
   "outputs": [
    {
     "name": "stdout",
     "output_type": "stream",
     "text": [
      "(12345,) (12345, 5)\n"
     ]
    }
   ],
   "source": [
    "y = df_nan_free['Score']\n",
    "X = df_nan_free[['AnswerCount','CommentCount',  'OwnerUserId',  'PostTypeId', 'ViewCount']]\n",
    "\n",
    "print y.shape, X.shape"
   ]
  },
  {
   "cell_type": "code",
   "execution_count": 303,
   "metadata": {
    "collapsed": false
   },
   "outputs": [
    {
     "data": {
      "text/plain": [
       "AnswerCount     0\n",
       "CommentCount    0\n",
       "OwnerUserId     0\n",
       "PostTypeId      0\n",
       "ViewCount       0\n",
       "dtype: int64"
      ]
     },
     "execution_count": 303,
     "metadata": {},
     "output_type": "execute_result"
    }
   ],
   "source": [
    "X.isnull().sum()"
   ]
  },
  {
   "cell_type": "code",
   "execution_count": 306,
   "metadata": {
    "collapsed": false
   },
   "outputs": [
    {
     "name": "stdout",
     "output_type": "stream",
     "text": [
      "rfr Reg:  [ 0.30603955  0.24275356  0.32573961  0.50088973  0.43528666]\n",
      "rfr Mean:  0.362141821509\n"
     ]
    }
   ],
   "source": [
    "rfr = RandomForestRegressor(max_depth=3, n_estimators=1000, criterion='mse', random_state=1, n_jobs=-1)\n",
    "rfr.fit(X,y)\n",
    "rfr_scores = cross_val_score(rfr, X, y, cv=5)\n",
    "\n",
    "print 'rfr Reg: ', rfr_scores \n",
    "print 'rfr Mean: ', np.mean(rfr_scores)"
   ]
  },
  {
   "cell_type": "code",
   "execution_count": 308,
   "metadata": {
    "collapsed": false
   },
   "outputs": [
    {
     "name": "stdout",
     "output_type": "stream",
     "text": [
      "adc Reg:  [ 0.25866601  0.12553363 -0.00744089  0.3468278   0.39900998]\n",
      "adc Mean:  0.224519305713\n"
     ]
    }
   ],
   "source": [
    "adc = AdaBoostRegressor()\n",
    "adc.fit(X,y)\n",
    "adc_scores = cross_val_score(adc, X, y, cv=5)\n",
    "\n",
    "print 'adc Reg: ', adc_scores \n",
    "print 'adc Mean: ', np.mean(adc_scores)"
   ]
  },
  {
   "cell_type": "markdown",
   "metadata": {},
   "source": [
    "<img src=\"http://imgur.com/l5NasQj.png\" style=\"float: left; margin: 25px 15px 0px 0px; height: 25px\">\n",
    "\n",
    "### 4. How many views does a post have?\n",
    "\n",
    "---\n",
    "\n",
    "**4.1 Build a model that predicts the number of views a post has.**\n",
    "\n",
    "- This is another regression problem. \n",
    "- Predict the views for all posts, not just the \"answer\" posts.\n",
    "\n",
    "**4.2 Evaluate the performance of your model with cross-validation and report the results.**\n",
    "\n",
    "**4.3 What is important for the number of views a post has, if anything?**"
   ]
  },
  {
   "cell_type": "code",
   "execution_count": 312,
   "metadata": {
    "collapsed": false
   },
   "outputs": [
    {
     "name": "stdout",
     "output_type": "stream",
     "text": [
      "(12345,) (12345, 5)\n"
     ]
    }
   ],
   "source": [
    "y = df_nan_free['ViewCount']\n",
    "X = df_nan_free[['AnswerCount','CommentCount',  'OwnerUserId',  'PostTypeId', 'Score']]\n",
    "\n",
    "print y.shape, X.shape"
   ]
  },
  {
   "cell_type": "code",
   "execution_count": 311,
   "metadata": {
    "collapsed": false
   },
   "outputs": [
    {
     "data": {
      "text/plain": [
       "AnswerCount     27301\n",
       "CommentCount        0\n",
       "OwnerUserId       737\n",
       "PostTypeId          0\n",
       "Score               0\n",
       "dtype: int64"
      ]
     },
     "execution_count": 311,
     "metadata": {},
     "output_type": "execute_result"
    }
   ],
   "source": [
    "X.isnull().sum()"
   ]
  },
  {
   "cell_type": "code",
   "execution_count": 319,
   "metadata": {
    "collapsed": false
   },
   "outputs": [
    {
     "name": "stdout",
     "output_type": "stream",
     "text": [
      "etr Reg:  [ 0.05158709  0.09970374  0.08770317  0.18526133  0.07365493]\n",
      "etr Mean:  0.0995820523025\n"
     ]
    }
   ],
   "source": [
    "etr = ExtraTreesRegressor(max_depth=3, n_estimators=1000, criterion='mse', random_state=1, n_jobs=-1)\n",
    "etr.fit(X,y)\n",
    "etr_scores = cross_val_score(etr, X, y, cv=5)\n",
    "\n",
    "print 'etr Reg: ', etr_scores \n",
    "print 'etr Mean: ', np.mean(etr_scores)"
   ]
  },
  {
   "cell_type": "markdown",
   "metadata": {},
   "source": [
    "<img src=\"http://imgur.com/l5NasQj.png\" style=\"float: left; margin: 25px 15px 0px 0px; height: 25px\">\n",
    "\n",
    "### 5. Build a pipeline or other code to automate evaluation of your models on the test data.\n",
    "\n",
    "---\n",
    "\n",
    "Now that you've constructed your three predictive models, build a pipeline or code that can easily load up the raw testing data and evaluate your models on it.\n",
    "\n",
    "The testing data that is held out is in the same raw format as the training data you have. _Any cleaning and preprocessing that you did on the training data will need to be done on the testing data as well!_\n",
    "\n",
    "This is a good opportunity to practice building pipelines, but you're not required to. Custom functions and classes are fine as long as they are able to process and test the new data.\n"
   ]
  },
  {
   "cell_type": "code",
   "execution_count": null,
   "metadata": {
    "collapsed": true
   },
   "outputs": [],
   "source": []
  }
 ],
 "metadata": {
  "anaconda-cloud": {},
  "kernelspec": {
   "display_name": "Python [dsi]",
   "language": "python",
   "name": "Python [dsi]"
  },
  "language_info": {
   "codemirror_mode": {
    "name": "ipython",
    "version": 2
   },
   "file_extension": ".py",
   "mimetype": "text/x-python",
   "name": "python",
   "nbconvert_exporter": "python",
   "pygments_lexer": "ipython2",
   "version": "2.7.12"
  }
 },
 "nbformat": 4,
 "nbformat_minor": 0
}
