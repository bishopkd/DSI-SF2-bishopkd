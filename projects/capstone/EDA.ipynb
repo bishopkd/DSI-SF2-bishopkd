{
 "cells": [
  {
   "cell_type": "raw",
   "metadata": {
    "collapsed": false
   },
   "source": [
    "# function to convert .epub to .txt\n",
    "#from epub_conversion.utils import open_book\n"
   ]
  },
  {
   "cell_type": "code",
   "execution_count": null,
   "metadata": {
    "collapsed": false
   },
   "outputs": [],
   "source": []
  },
  {
   "cell_type": "code",
   "execution_count": 16,
   "metadata": {
    "collapsed": false
   },
   "outputs": [],
   "source": [
    "import textract\n",
    "from ebooklib import epub\n",
    "#from epub_conversion.utils import open_book\n",
    "from ebooklib import epub, ITEM_DOCUMENT\n",
    "from bs4 import BeautifulSoup\n",
    "#from .utils import BaseParser"
   ]
  },
  {
   "cell_type": "code",
   "execution_count": 43,
   "metadata": {
    "collapsed": true
   },
   "outputs": [],
   "source": [
    "import epub\n",
    "test = path + 'Rogue Lawyer - John Grisham.epub'\n",
    "\n",
    "book = epub.open_epub(test)\n",
    "\n",
    "for item in book.opf.manifest.values():\n",
    "    # read the content\n",
    "    data = book.read_item(item)"
   ]
  },
  {
   "cell_type": "code",
   "execution_count": 51,
   "metadata": {
    "collapsed": false
   },
   "outputs": [
    {
     "ename": "AttributeError",
     "evalue": "'module' object has no attribute 'read_epub'",
     "output_type": "error",
     "traceback": [
      "\u001b[0;31m---------------------------------------------------------------------------\u001b[0m",
      "\u001b[0;31mAttributeError\u001b[0m                            Traceback (most recent call last)",
      "\u001b[0;32m<ipython-input-51-6ba386ef8e58>\u001b[0m in \u001b[0;36m<module>\u001b[0;34m()\u001b[0m\n\u001b[0;32m----> 1\u001b[0;31m \u001b[0mbook\u001b[0m \u001b[0;34m=\u001b[0m \u001b[0mepub\u001b[0m\u001b[0;34m.\u001b[0m\u001b[0mread_epub\u001b[0m\u001b[0;34m(\u001b[0m\u001b[0mtest\u001b[0m\u001b[0;34m)\u001b[0m\u001b[0;34m\u001b[0m\u001b[0m\n\u001b[0m\u001b[1;32m      2\u001b[0m \u001b[0msoup\u001b[0m \u001b[0;34m=\u001b[0m \u001b[0mBeautifulSoup\u001b[0m\u001b[0;34m(\u001b[0m\u001b[0mbook\u001b[0m\u001b[0;34m,\u001b[0m \u001b[0;34m'lxml'\u001b[0m\u001b[0;34m)\u001b[0m\u001b[0;34m\u001b[0m\u001b[0m\n\u001b[1;32m      3\u001b[0m \u001b[0;31m#result = result + soup.text\u001b[0m\u001b[0;34m\u001b[0m\u001b[0;34m\u001b[0m\u001b[0m\n\u001b[1;32m      4\u001b[0m \u001b[0msoup\u001b[0m\u001b[0;34m\u001b[0m\u001b[0m\n",
      "\u001b[0;31mAttributeError\u001b[0m: 'module' object has no attribute 'read_epub'"
     ]
    }
   ],
   "source": [
    "book = epub.read_epub(test)\n",
    "soup = BeautifulSoup(book, 'lxml')\n",
    "#result = result + soup.text\n",
    "soup"
   ]
  },
  {
   "cell_type": "code",
   "execution_count": 56,
   "metadata": {
    "collapsed": false
   },
   "outputs": [
    {
     "data": {
      "text/plain": [
       "'\\n\\nRogue Lawyer\\n\\n\\n\\n\\n\\n\\nALSO BY JOHN GRISHAM\\nA Time to Kill\\nThe Firm\\nThe Pelican Brief\\nThe Client\\nThe Chamber\\nThe Rainmaker\\nThe Runaway Jury\\nThe Partner\\nThe Street Lawyer\\nThe Testament\\nThe Brethren\\nA Painted House\\nSkipping Christmas\\nThe Summons\\nThe King of Torts\\nBleachers\\nThe Last Juror\\nThe Broker\\nThe Innocent Man\\nPlaying for Pizza\\nThe Appeal\\nThe Associate\\nFord County\\nThe Confession\\nThe Litigators\\nCalico Joe\\nThe Racketeer\\nSycamore Row\\nGray Mountain\\n\\n\\n\\nRogue Lawyer\\n\\n\\n\\n\\n\\n\\nThe Theodore Boone Books\\nTheodore Boone: Kid Lawyer\\nTheodore Boone: The Abduction\\nTheodore Boone: The Accused\\nTheodore Boone: The Activist\\nTheodore Boone: The Fugitive\\n\\n\\nRogue Lawyer\\n\\n\\n\\n\\n\\n\\n\\n\\nRogue Lawyer\\n\\n\\n\\n\\n\\nThis is a work of fiction. Names, characters, places, and incidents either are the product of the author\\xe2\\x80\\x99s imagination or are used fictitiously. Any resemblance to actual persons, living or dead, events, or locales is entirely coincidental.\\nCopyright \\xc2\\xa9 2015 by Belfry Holdings, Inc.\\nAll rights reserved. Published in the United States by Doubleday, a division of Penguin Random House LLC, New York, and distributed in Canada by Random House of Canada, a division of Penguin Random House Ltd., Toronto.\\nwww.doubleday.com\\nDOUBLEDAY and the portrayal of an anchor with a dolphin are registered trademarks of Penguin Random House LLC.\\nCover design by John Fontana\\nCover photograph \\xc2\\xa9 Cityscape Digital/Gallerystock\\nISBN\\xe2\\x80\\x839780385539432 (hardcover)\\nISBN\\xe2\\x80\\x839780385539449 (eBook)\\nv4.1\\nep\\n\\n\\nRogue Lawyer\\n\\n\\n\\n\\nContents\\nCover\\nAlso by John Grisham\\nTitle Page\\nCopyright\\nPart One: Contempt\\nChapter 1\\nChapter 2\\nChapter 3\\nChapter 4\\nChapter 5\\nChapter 6\\nChapter 7\\nChapter 8\\nChapter 9\\nChapter 10\\nChapter 11\\nChapter 12\\nChapter 13\\nChapter 14\\nChapter 15\\nPart Two: The Boom Boom Room\\nChapter 1\\nChapter 2\\nChapter 3\\nChapter 4\\nChapter 5\\nChapter 6\\nChapter 7\\nChapter 8\\nChapter 9\\nChapter 10\\nChapter 11\\nChapter 12\\nPart Three: Warrior Cops\\nChapter 1\\nChapter 2\\nChapter 3\\nChapter 4\\nChapter 5\\nChapter 6\\nChapter 7\\nChapter 8\\nChapter 9\\nChapter 10\\nChapter 11\\nChapter 12\\nChapter 13\\nChapter 14\\nChapter 15\\nChapter 16\\nChapter 17\\nChapter 18\\nChapter 19\\nChapter 20\\nChapter 21\\nChapter 22\\nChapter 23\\nChapter 24\\nChapter 25\\nPart Four: The Exchange\\nChapter 1\\nChapter 2\\nChapter 3\\nChapter 4\\nChapter 5\\nChapter 6\\nChapter 7\\nChapter 8\\nChapter 9\\nChapter 10\\nChapter 11\\nChapter 12\\nChapter 13\\nChapter 14\\nChapter 15\\nChapter 16\\nChapter 17\\nChapter 18\\nChapter 19\\nPart Five: U-Haul Law\\nChapter 1\\nChapter 2\\nChapter 3\\nChapter 4\\nChapter 5\\nChapter 6\\nChapter 7\\nChapter 8\\nChapter 9\\nChapter 10\\nChapter 11\\nChapter 12\\nChapter 13\\nChapter 14\\nChapter 15\\nChapter 16\\nChapter 17\\nChapter 18\\nChapter 19\\nChapter 20\\nPart Six: The Plea\\nChapter 1\\nChapter 2\\nChapter 3\\nChapter 4\\nChapter 5\\nChapter 6\\nChapter 7\\nChapter 8\\nChapter 9\\nChapter 10\\nChapter 11\\nChapter 12\\nChapter 13\\nChapter 14\\nChapter 15\\nChapter 16\\nChapter 17\\nChapter 18\\nChapter 19\\nChapter 20\\nChapter 21\\nChapter 22\\nChapter 23\\nChapter 24\\nChapter 25\\nChapter 26\\nChapter 27\\nChapter 28\\nChapter 29\\nChapter 30\\nChapter 31\\nChapter 32\\nChapter 33\\n\\n\\n\\nRogue Lawyer\\n\\n\\n\\n\\n\\n\\nPART ONE\\nCONTEMPT\\n\\n\\nRogue Lawyer\\n\\n\\n\\n\\n\\n1.\\nMy name is Sebastian Rudd, and though I am a well-known street lawyer, you will not see my name on billboards, on bus benches, or screaming at you from the yellow pages. I don\\xe2\\x80\\x99t pay to be seen on television, though I am often there. My name is not listed in any phone book. I do not maintain a traditional office. I carry a gun, legally, because my name and face tend to attract attention from the type of people who also carry guns and don\\xe2\\x80\\x99t mind using them. I live alone, usually sleep alone, and do not possess the patience and understanding necessary to maintain friendships. The law is my life, always consuming and occasionally fulfilling. I wouldn\\xe2\\x80\\x99t call it a \\xe2\\x80\\x9cjealous mistress\\xe2\\x80\\x9d as some forgotten person once so famously did. It\\xe2\\x80\\x99s more like an overbearing wife who controls the checkbook. There\\xe2\\x80\\x99s no way out.\\nThese nights I find myself sleeping in cheap motel rooms that change each week. I\\xe2\\x80\\x99m not trying to save money; rather'"
      ]
     },
     "execution_count": 56,
     "metadata": {},
     "output_type": "execute_result"
    }
   ],
   "source": [
    "import textract\n",
    "text = textract.process(test,encoding='utf_8')\n",
    "text[:4000]"
   ]
  },
  {
   "cell_type": "code",
   "execution_count": 5,
   "metadata": {
    "collapsed": true
   },
   "outputs": [],
   "source": [
    "path = \"/Users/katbishop/Desktop/DSI-SF2-bishopkd/projects/capstone/book_data/\""
   ]
  },
  {
   "cell_type": "code",
   "execution_count": 37,
   "metadata": {
    "collapsed": false
   },
   "outputs": [
    {
     "ename": "AttributeError",
     "evalue": "'module' object has no attribute 'read_epub'",
     "output_type": "error",
     "traceback": [
      "\u001b[0;31m---------------------------------------------------------------------------\u001b[0m",
      "\u001b[0;31mAttributeError\u001b[0m                            Traceback (most recent call last)",
      "\u001b[0;32m<ipython-input-37-8515280bb5f9>\u001b[0m in \u001b[0;36m<module>\u001b[0;34m()\u001b[0m\n\u001b[1;32m      6\u001b[0m \u001b[0;32mfor\u001b[0m \u001b[0me\u001b[0m \u001b[0;32min\u001b[0m \u001b[0mos\u001b[0m\u001b[0;34m.\u001b[0m\u001b[0mlistdir\u001b[0m\u001b[0;34m(\u001b[0m\u001b[0mpath\u001b[0m\u001b[0;34m)\u001b[0m\u001b[0;34m:\u001b[0m\u001b[0;34m\u001b[0m\u001b[0m\n\u001b[1;32m      7\u001b[0m     \u001b[0;31m#book = epub.open_epub\u001b[0m\u001b[0;34m\u001b[0m\u001b[0;34m\u001b[0m\u001b[0m\n\u001b[0;32m----> 8\u001b[0;31m     \u001b[0mbook\u001b[0m \u001b[0;34m=\u001b[0m \u001b[0mepub\u001b[0m\u001b[0;34m.\u001b[0m\u001b[0mread_epub\u001b[0m\u001b[0;34m(\u001b[0m\u001b[0me\u001b[0m\u001b[0;34m)\u001b[0m\u001b[0;34m\u001b[0m\u001b[0m\n\u001b[0m\u001b[1;32m      9\u001b[0m \u001b[0;34m\u001b[0m\u001b[0m\n\u001b[1;32m     10\u001b[0m     \u001b[0;31m#book = open_book(epub)\u001b[0m\u001b[0;34m\u001b[0m\u001b[0;34m\u001b[0m\u001b[0m\n",
      "\u001b[0;31mAttributeError\u001b[0m: 'module' object has no attribute 'read_epub'"
     ]
    }
   ],
   "source": [
    "import os  \n",
    "from textract.parsers import epub_parser\n",
    "import ebooklib.utils\n",
    "import textract\n",
    "\n",
    "for e in os.listdir(path):\n",
    "    #book = epub.open_epub\n",
    "    book = epub.read_epub(e)\n",
    "    \n",
    "    #book = open_book(epub)\n",
    "    #lines = convert_epub_to_lines(book)\n",
    "    result = \"\"\n",
    "    for item in book.get_items():\n",
    "        type = item.get_type()\n",
    "        if type == ITEM_DOCUMENT:\n",
    "            soup = BeautifulSoup(item.content, 'lxml')\n",
    "            result = result + soup.text\n",
    "    print result[:30]\n",
    "    "
   ]
  },
  {
   "cell_type": "code",
   "execution_count": 26,
   "metadata": {
    "collapsed": false
   },
   "outputs": [
    {
     "ename": "NameError",
     "evalue": "name 'BaseParser' is not defined",
     "output_type": "error",
     "traceback": [
      "\u001b[0;31m---------------------------------------------------------------------------\u001b[0m",
      "\u001b[0;31mNameError\u001b[0m                                 Traceback (most recent call last)",
      "\u001b[0;32m<ipython-input-26-9183178e71de>\u001b[0m in \u001b[0;36m<module>\u001b[0;34m()\u001b[0m\n\u001b[1;32m      6\u001b[0m \u001b[0;34m\u001b[0m\u001b[0m\n\u001b[1;32m      7\u001b[0m \u001b[0;34m\u001b[0m\u001b[0m\n\u001b[0;32m----> 8\u001b[0;31m \u001b[0;32mclass\u001b[0m \u001b[0mParser\u001b[0m\u001b[0;34m(\u001b[0m\u001b[0mBaseParser\u001b[0m\u001b[0;34m)\u001b[0m\u001b[0;34m:\u001b[0m\u001b[0;34m\u001b[0m\u001b[0m\n\u001b[0m\u001b[1;32m      9\u001b[0m     \"\"\"Extract text from epub using python epub library\n\u001b[1;32m     10\u001b[0m     \"\"\"\n",
      "\u001b[0;31mNameError\u001b[0m: name 'BaseParser' is not defined"
     ]
    }
   ],
   "source": [
    "from textract.parsers import epub_parser\n",
    "from ebooklib import epub, ITEM_DOCUMENT\n",
    "from bs4 import BeautifulSoup\n",
    "from textract.utils import BaseParser\n",
    "#textract.parsers.epub_parser\n",
    "\n",
    "\n",
    "class Parser(BaseParser):\n",
    "    \"\"\"Extract text from epub using python epub library\n",
    "    \"\"\"\n",
    "\n",
    "def extract(self, filename, **kwargs):\n",
    "        book = epub.read_epub(filename)\n",
    "        result = \"\"\n",
    "        for item in book.get_items():\n",
    "            type = item.get_type()\n",
    "            if type == ITEM_DOCUMENT:\n",
    "                soup = BeautifulSoup(item.content, 'lxml')\n",
    "                result = result + soup.text\n",
    "        return result"
   ]
  },
  {
   "cell_type": "code",
   "execution_count": null,
   "metadata": {
    "collapsed": true
   },
   "outputs": [],
   "source": []
  }
 ],
 "metadata": {
  "kernelspec": {
   "display_name": "Python [dsi]",
   "language": "python",
   "name": "Python [dsi]"
  },
  "language_info": {
   "codemirror_mode": {
    "name": "ipython",
    "version": 2
   },
   "file_extension": ".py",
   "mimetype": "text/x-python",
   "name": "python",
   "nbconvert_exporter": "python",
   "pygments_lexer": "ipython2",
   "version": "2.7.12"
  }
 },
 "nbformat": 4,
 "nbformat_minor": 0
}
