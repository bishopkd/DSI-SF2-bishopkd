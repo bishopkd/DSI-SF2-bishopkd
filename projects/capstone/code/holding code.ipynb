{
 "cells": [
  {
   "cell_type": "code",
   "execution_count": null,
   "metadata": {
    "collapsed": true
   },
   "outputs": [],
   "source": [
    "def avg_sentence_len(text):\n",
    "    word_counts = []\n",
    "    sentences = re.split(r'[.|!|?]', text)\n",
    "    for sentence in sentences[:-1]:\n",
    "        words = sentence.split()\n",
    "        word_counts.append(len(words))\n",
    "    avg_word_count = sum(word_counts)/len(word_counts)  \n",
    "    return avg_word_count"
   ]
  },
  {
   "cell_type": "code",
   "execution_count": null,
   "metadata": {
    "collapsed": true
   },
   "outputs": [],
   "source": [
    "blob = \"Frozen, bruised, and bloody as she was, I knew her. Her name was Seivarden Vendaai! And a long time ago she had been one of my officers? a young lieutenant, eventually promoted to her own command, another ship. I had thought her a thousand years dead, but she was, undeniably, here. I crouched down and felt for a pulse, for the faintest stir of breath.\""
   ]
  }
 ],
 "metadata": {
  "kernelspec": {
   "display_name": "Python [dsi]",
   "language": "python",
   "name": "Python [dsi]"
  },
  "language_info": {
   "codemirror_mode": {
    "name": "ipython",
    "version": 2
   },
   "file_extension": ".py",
   "mimetype": "text/x-python",
   "name": "python",
   "nbconvert_exporter": "python",
   "pygments_lexer": "ipython2",
   "version": "2.7.12"
  }
 },
 "nbformat": 4,
 "nbformat_minor": 0
}
