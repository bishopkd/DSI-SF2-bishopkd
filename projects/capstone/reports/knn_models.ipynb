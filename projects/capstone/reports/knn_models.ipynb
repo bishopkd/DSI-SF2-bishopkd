{
 "cells": [
  {
   "cell_type": "markdown",
   "metadata": {},
   "source": [
    "## kNN classifiers"
   ]
  },
  {
   "cell_type": "markdown",
   "metadata": {},
   "source": [
    "### Imports and global variables"
   ]
  },
  {
   "cell_type": "code",
   "execution_count": 86,
   "metadata": {
    "collapsed": false
   },
   "outputs": [],
   "source": [
    "import numpy as np\n",
    "import pandas as pd\n",
    "import seaborn as sns\n",
    "import matplotlib.pyplot as plt\n",
    "from ipywidgets import *\n",
    "from IPython.display import display\n",
    "\n",
    "import imp\n",
    "plotter = imp.load_source('plotter', '/Users/katbishop/Desktop/DSI-SF2-bishopkd/utils/plotting/knn_plotter.py')\n",
    "from plotter import KNNBoundaryPlotter\n",
    "\n",
    "from sklearn.neighbors import KNeighborsClassifier\n",
    "from sklearn.cross_validation import StratifiedKFold\n",
    "from sklearn.grid_search import GridSearchCV\n",
    "\n",
    "plt.style.use('fivethirtyeight')\n",
    "%matplotlib inline\n",
    "\n",
    "path = '/Users/katbishop/Desktop/DSI-SF2-bishopkd/projects/capstone/data/'"
   ]
  },
  {
   "cell_type": "markdown",
   "metadata": {},
   "source": [
    "#### Load the data"
   ]
  },
  {
   "cell_type": "code",
   "execution_count": 5,
   "metadata": {
    "collapsed": false
   },
   "outputs": [
    {
     "name": "stdout",
     "output_type": "stream",
     "text": [
      "(77, 48)\n",
      "(11, 48)\n"
     ]
    }
   ],
   "source": [
    "# load training data\n",
    "df = pd.read_csv(path + 'df.csv')\n",
    "del df['Unnamed: 0']\n",
    "#del df['Unnamed: 0.1']\n",
    "\n",
    "# load held-out testing data\n",
    "df_test = pd.read_csv(path + 'df_test.csv')\n",
    "del df_test['Unnamed: 0']\n",
    "print df.shape\n",
    "print df_test.shape"
   ]
  },
  {
   "cell_type": "code",
   "execution_count": 33,
   "metadata": {
    "collapsed": true
   },
   "outputs": [],
   "source": [
    "# subset the data\n",
    "sf = df[df['sci_fi']==1]\n",
    "rm = df[df['sci_fi']==0]\n",
    "sfbs = df[((df['best_seller']==1) & (df['sci_fi']==1))]\n",
    "rmbs = df[((df['best_seller']==1) & (df['sci_fi']==0))]\n",
    "sff = df[((df['best_seller']==0) & (df['sci_fi']==1))]\n",
    "rmf = df[((df['best_seller']==0) & (df['sci_fi']==0))]\n",
    "\n",
    "\n",
    "sf_test= df_test[df_test['sci_fi']==1]\n",
    "rm_test= df_test[df_test['sci_fi']==0]\n",
    "sfbs_test = df_test[((df_test['best_seller']==1) & (df_test['sci_fi']==1))]\n",
    "rmbs_test= df_test[((df_test['best_seller']==1) & (df_test['sci_fi']==0))]\n",
    "sff_test= df_test[((df_test['best_seller']==0) & (df_test['sci_fi']==1))]\n",
    "rmf_test= df_test[((df_test['best_seller']==0) & (df_test['sci_fi']==0))]"
   ]
  },
  {
   "cell_type": "markdown",
   "metadata": {},
   "source": [
    "#### Science-fiction"
   ]
  },
  {
   "cell_type": "code",
   "execution_count": 77,
   "metadata": {
    "collapsed": false
   },
   "outputs": [
    {
     "name": "stdout",
     "output_type": "stream",
     "text": [
      "(39,) (39, 6)\n",
      "(8,) (8, 6)\n"
     ]
    }
   ],
   "source": [
    "y_sf = sf['best_seller'].values\n",
    "X_sf = sf[['avg_sent_len', 'avg_word_len', 'lex_diversity', 'polarity','subjectivity', 'profane']].values\n",
    "\n",
    "y_sf_test = sf_test['best_seller']\n",
    "X_sf_test = sf_test[['avg_sent_len','avg_word_len', 'lex_diversity', 'polarity','subjectivity', 'profane']]\n",
    "\n",
    "print y_sf.shape, X_sf.shape\n",
    "print y_sf_test.shape, X_sf_test.shape"
   ]
  },
  {
   "cell_type": "code",
   "execution_count": 79,
   "metadata": {
    "collapsed": true
   },
   "outputs": [],
   "source": [
    "def accuracy_crossvalidator(X, y, knn, cv_indices):\n",
    "    scores = []\n",
    "    for train_i, test_i in cv_indices:\n",
    "        \n",
    "        X_train = X[train_i, :]\n",
    "        X_test = X[test_i, :]\n",
    "        y_train = y[train_i]\n",
    "        y_test = y[test_i]\n",
    "\n",
    "        knn.fit(X_train, y_train)\n",
    "        acc = knn.score(X_test, y_test)\n",
    "        scores.append(acc)\n",
    "        \n",
    "        print('Fold accuracy:', acc)    \n",
    "    print('Mean CV accuracy:', np.mean(scores))"
   ]
  },
  {
   "cell_type": "code",
   "execution_count": 91,
   "metadata": {
    "collapsed": false
   },
   "outputs": [
    {
     "name": "stdout",
     "output_type": "stream",
     "text": [
      "('Fold accuracy:', 0.75)\n",
      "('Fold accuracy:', 0.75)\n",
      "('Fold accuracy:', 0.75)\n",
      "('Fold accuracy:', 0.0)\n",
      "('Fold accuracy:', 0.75)\n",
      "('Fold accuracy:', 0.25)\n",
      "('Fold accuracy:', 0.5)\n",
      "('Fold accuracy:', 0.75)\n",
      "('Fold accuracy:', 0.0)\n",
      "('Fold accuracy:', 0.66666666666666663)\n",
      "('Mean CV accuracy:', 0.51666666666666672)\n"
     ]
    }
   ],
   "source": [
    "cv = StratifiedKFold(y_sf, n_folds=10)\n",
    "knn_sf = KNeighborsClassifier(n_neighbors=3, weights='distance')\n",
    "accuracy_crossvalidator(X_sf, y_sf, knn_sf, cv)"
   ]
  },
  {
   "cell_type": "code",
   "execution_count": 88,
   "metadata": {
    "collapsed": false
   },
   "outputs": [
    {
     "name": "stdout",
     "output_type": "stream",
     "text": [
      "Fitting 10 folds for each of 22 candidates, totalling 220 fits\n"
     ]
    },
    {
     "name": "stderr",
     "output_type": "stream",
     "text": [
      "[Parallel(n_jobs=1)]: Done  49 tasks       | elapsed:    0.2s\n"
     ]
    },
    {
     "name": "stdout",
     "output_type": "stream",
     "text": [
      "{'n_neighbors': 5, 'weights': 'uniform'}\n",
      "KNeighborsClassifier(algorithm='auto', leaf_size=30, metric='minkowski',\n",
      "           metric_params=None, n_jobs=1, n_neighbors=5, p=2,\n",
      "           weights='uniform')\n",
      "('Fold accuracy:', 0.83333333333333337)\n",
      "('Fold accuracy:', 0.80000000000000004)\n",
      "('Fold accuracy:', 0.5)\n",
      "('Fold accuracy:', 0.5)\n",
      "('Fold accuracy:', 0.5)\n",
      "('Fold accuracy:', 0.5)\n",
      "('Fold accuracy:', 0.75)\n",
      "('Fold accuracy:', 0.5)\n",
      "('Fold accuracy:', 0.5)\n",
      "('Mean CV accuracy:', 0.5981481481481481)\n"
     ]
    },
    {
     "name": "stderr",
     "output_type": "stream",
     "text": [
      "[Parallel(n_jobs=1)]: Done 199 tasks       | elapsed:    0.6s\n",
      "[Parallel(n_jobs=1)]: Done 220 out of 220 | elapsed:    0.6s finished\n"
     ]
    }
   ],
   "source": [
    "search_parameters = {\n",
    "    'n_neighbors': range(1,12), \n",
    "    'weights':      ['uniform','distance']\n",
    "}\n",
    "\n",
    "knn = KNeighborsClassifier() \n",
    "knn_gs = GridSearchCV(knn, search_parameters, cv=10, verbose=1)\n",
    "\n",
    "knn_gs.fit(X_sf, y_sf)\n",
    "print knn_gs.best_params_\n",
    "best_knn = knn_gs.best_estimator_\n",
    "print best_knn\n",
    "accuracy_crossvalidator(X_sf, y_sf, best_knn, cv)"
   ]
  },
  {
   "cell_type": "code",
   "execution_count": null,
   "metadata": {
    "collapsed": true
   },
   "outputs": [],
   "source": []
  },
  {
   "cell_type": "code",
   "execution_count": 61,
   "metadata": {
    "collapsed": false
   },
   "outputs": [
    {
     "data": {
      "image/png": "[encoded data removed]",
      "text/plain": [
       "<matplotlib.figure.Figure at 0x11fdcb750>"
      ]
     },
     "metadata": {},
     "output_type": "display_data"
    }
   ],
   "source": [
    "kbp = KNNBoundaryPlotter(sf, 'lex_diversity', 'profane', 'best_seller', nn_range=range(1,38))\n",
    "kbp.knn_mesh_runner()\n",
    "kbp.knn_interact()"
   ]
  },
  {
   "cell_type": "code",
   "execution_count": null,
   "metadata": {
    "collapsed": false
   },
   "outputs": [],
   "source": []
  },
  {
   "cell_type": "code",
   "execution_count": null,
   "metadata": {
    "collapsed": true
   },
   "outputs": [],
   "source": []
  },
  {
   "cell_type": "code",
   "execution_count": null,
   "metadata": {
    "collapsed": true
   },
   "outputs": [],
   "source": []
  },
  {
   "cell_type": "markdown",
   "metadata": {},
   "source": [
    "#### Romance"
   ]
  },
  {
   "cell_type": "code",
   "execution_count": 75,
   "metadata": {
    "collapsed": false
   },
   "outputs": [
    {
     "name": "stdout",
     "output_type": "stream",
     "text": [
      "(38,) (38, 6)\n",
      "(3,) (3, 6)\n"
     ]
    }
   ],
   "source": [
    "y_rm = rm['best_seller'].values\n",
    "X_rm = rm[['avg_sent_len', 'avg_word_len', 'lex_diversity', 'polarity','subjectivity', 'profane']].values\n",
    "\n",
    "y_rm_test = rm_test['best_seller']\n",
    "X_rm_test = rm_test[['avg_sent_len','avg_word_len', 'lex_diversity', 'polarity','subjectivity', 'profane']]\n",
    "\n",
    "print y_rm.shape, X_rm.shape\n",
    "print y_rm_test.shape, X_rm_test.shape"
   ]
  },
  {
   "cell_type": "code",
   "execution_count": 89,
   "metadata": {
    "collapsed": false
   },
   "outputs": [
    {
     "name": "stdout",
     "output_type": "stream",
     "text": [
      "('Fold accuracy:', 0.25)\n",
      "('Fold accuracy:', 0.25)\n",
      "('Fold accuracy:', 1.0)\n",
      "('Fold accuracy:', 0.25)\n",
      "('Fold accuracy:', 0.75)\n",
      "('Fold accuracy:', 0.25)\n",
      "('Fold accuracy:', 0.25)\n",
      "('Fold accuracy:', 0.5)\n",
      "('Fold accuracy:', 0.66666666666666663)\n",
      "('Fold accuracy:', 1.0)\n",
      "('Mean CV accuracy:', 0.51666666666666672)\n"
     ]
    }
   ],
   "source": [
    "cv_rm = StratifiedKFold(y_rm, n_folds=10)\n",
    "knn_rm = KNeighborsClassifier(n_neighbors=3, weights='uniform')\n",
    "accuracy_crossvalidator(X_rm, y_rm, knn_rm, cv_rm)"
   ]
  },
  {
   "cell_type": "code",
   "execution_count": 90,
   "metadata": {
    "collapsed": false
   },
   "outputs": [
    {
     "name": "stdout",
     "output_type": "stream",
     "text": [
      "Fitting 10 folds for each of 22 candidates, totalling 220 fits\n"
     ]
    },
    {
     "name": "stderr",
     "output_type": "stream",
     "text": [
      "[Parallel(n_jobs=1)]: Done  49 tasks       | elapsed:    0.2s\n"
     ]
    },
    {
     "name": "stdout",
     "output_type": "stream",
     "text": [
      "{'n_neighbors': 3, 'weights': 'distance'}\n",
      "KNeighborsClassifier(algorithm='auto', leaf_size=30, metric='minkowski',\n",
      "           metric_params=None, n_jobs=1, n_neighbors=3, p=2,\n",
      "           weights='distance')\n",
      "('Fold accuracy:', 0.75)\n",
      "('Fold accuracy:', 0.25)\n",
      "('Fold accuracy:', 1.0)\n",
      "('Fold accuracy:', 0.25)\n",
      "('Fold accuracy:', 0.75)\n",
      "('Fold accuracy:', 0.5)\n",
      "('Fold accuracy:', 0.25)\n",
      "('Fold accuracy:', 0.5)\n",
      "('Fold accuracy:', 1.0)\n",
      "('Fold accuracy:', 1.0)\n",
      "('Mean CV accuracy:', 0.625)\n"
     ]
    },
    {
     "name": "stderr",
     "output_type": "stream",
     "text": [
      "[Parallel(n_jobs=1)]: Done 199 tasks       | elapsed:    0.6s\n",
      "[Parallel(n_jobs=1)]: Done 220 out of 220 | elapsed:    0.7s finished\n"
     ]
    }
   ],
   "source": [
    "search_parameters = {\n",
    "    'n_neighbors': range(1,12), \n",
    "    'weights':      ['uniform','distance']\n",
    "}\n",
    "\n",
    "knn_rm = KNeighborsClassifier() \n",
    "knn_rm_gs = GridSearchCV(knn_rm, search_parameters, cv=10, verbose=1)\n",
    "\n",
    "knn_rm_gs.fit(X_rm, y_rm)\n",
    "print knn_rm_gs.best_params_\n",
    "best_knn_rm = knn_rm_gs.best_estimator_\n",
    "print best_knn_rm\n",
    "accuracy_crossvalidator(X_rm, y_rm, best_knn_rm, cv_rm)"
   ]
  },
  {
   "cell_type": "code",
   "execution_count": null,
   "metadata": {
    "collapsed": true
   },
   "outputs": [],
   "source": []
  }
 ],
 "metadata": {
  "anaconda-cloud": {},
  "kernelspec": {
   "display_name": "Python [dsi]",
   "language": "python",
   "name": "Python [dsi]"
  },
  "language_info": {
   "codemirror_mode": {
    "name": "ipython",
    "version": 2
   },
   "file_extension": ".py",
   "mimetype": "text/x-python",
   "name": "python",
   "nbconvert_exporter": "python",
   "pygments_lexer": "ipython2",
   "version": "2.7.12"
  },
  "widgets": {
   "state": {
    "c259be852dd5409f86d29bdb2752d402": {
     "views": [
      {
       "cell_index": 11
      }
     ]
    }
   },
   "version": "1.2.0"
  }
 },
 "nbformat": 4,
 "nbformat_minor": 0
}
