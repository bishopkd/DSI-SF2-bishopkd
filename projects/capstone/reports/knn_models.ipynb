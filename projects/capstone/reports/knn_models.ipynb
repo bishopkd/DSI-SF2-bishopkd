{
 "cells": [
  {
   "cell_type": "markdown",
   "metadata": {},
   "source": [
    "## kNN classifiers"
   ]
  },
  {
   "cell_type": "markdown",
   "metadata": {},
   "source": [
    "### Imports and global variables"
   ]
  },
  {
   "cell_type": "code",
   "execution_count": 90,
   "metadata": {
    "collapsed": false
   },
   "outputs": [],
   "source": [
    "import numpy as np\n",
    "import pandas as pd\n",
    "import seaborn as sns\n",
    "import matplotlib.pyplot as plt\n",
    "from ipywidgets import *\n",
    "from IPython.display import display\n",
    "\n",
    "import imp\n",
    "plotter = imp.load_source('plotter', '/Users/katbishop/Desktop/DSI-SF2-bishopkd/utils/plotting/knn_plotter.py')\n",
    "from sklearn.metrics import roc_curve, auc\n",
    "from plotter import KNNBoundaryPlotter\n",
    "from sklearn.cross_validation import train_test_split\n",
    "from sklearn.neighbors import KNeighborsClassifier\n",
    "from sklearn.cross_validation import StratifiedKFold\n",
    "from sklearn.grid_search import GridSearchCV\n",
    "\n",
    "plt.style.use('fivethirtyeight')\n",
    "%matplotlib inline\n",
    "\n",
    "path = '/Users/katbishop/Desktop/DSI-SF2-bishopkd/projects/capstone/data/'"
   ]
  },
  {
   "cell_type": "markdown",
   "metadata": {},
   "source": [
    "#### Load the data"
   ]
  },
  {
   "cell_type": "code",
   "execution_count": 74,
   "metadata": {
    "collapsed": false
   },
   "outputs": [
    {
     "name": "stdout",
     "output_type": "stream",
     "text": [
      "(78, 64)\n",
      "(14, 64)\n",
      "(92, 64)\n"
     ]
    },
    {
     "data": {
      "text/html": [
       "<div>\n",
       "<table border=\"1\" class=\"dataframe\">\n",
       "  <thead>\n",
       "    <tr style=\"text-align: right;\">\n",
       "      <th></th>\n",
       "      <th>adj</th>\n",
       "      <th>adj_compare</th>\n",
       "      <th>adj_sup</th>\n",
       "      <th>adv</th>\n",
       "      <th>adv_compare</th>\n",
       "      <th>adv_part</th>\n",
       "      <th>adv_sup</th>\n",
       "      <th>avg_sent_len</th>\n",
       "      <th>avg_word_len</th>\n",
       "      <th>best_seller</th>\n",
       "      <th>...</th>\n",
       "      <th>verb_count</th>\n",
       "      <th>verb_ger</th>\n",
       "      <th>verb_past</th>\n",
       "      <th>verb_pp</th>\n",
       "      <th>verb_sing_pres</th>\n",
       "      <th>wh_adv</th>\n",
       "      <th>wh_determ</th>\n",
       "      <th>wh_poss</th>\n",
       "      <th>wh_pronoun</th>\n",
       "      <th>word_count</th>\n",
       "    </tr>\n",
       "  </thead>\n",
       "  <tbody>\n",
       "    <tr>\n",
       "      <th>0</th>\n",
       "      <td>0.069588</td>\n",
       "      <td>0.003314</td>\n",
       "      <td>0.002129</td>\n",
       "      <td>0.063591</td>\n",
       "      <td>0.001534</td>\n",
       "      <td>0.006965</td>\n",
       "      <td>0.000265</td>\n",
       "      <td>14</td>\n",
       "      <td>4</td>\n",
       "      <td>1</td>\n",
       "      <td>...</td>\n",
       "      <td>29612.0</td>\n",
       "      <td>0.023553</td>\n",
       "      <td>0.070598</td>\n",
       "      <td>0.023559</td>\n",
       "      <td>0.019427</td>\n",
       "      <td>0.005545</td>\n",
       "      <td>0.004228</td>\n",
       "      <td>0.000024</td>\n",
       "      <td>0.004685</td>\n",
       "      <td>166265</td>\n",
       "    </tr>\n",
       "    <tr>\n",
       "      <th>1</th>\n",
       "      <td>0.065146</td>\n",
       "      <td>0.004336</td>\n",
       "      <td>0.003233</td>\n",
       "      <td>0.067069</td>\n",
       "      <td>0.002154</td>\n",
       "      <td>0.005526</td>\n",
       "      <td>0.000405</td>\n",
       "      <td>11</td>\n",
       "      <td>4</td>\n",
       "      <td>1</td>\n",
       "      <td>...</td>\n",
       "      <td>36339.0</td>\n",
       "      <td>0.019928</td>\n",
       "      <td>0.078151</td>\n",
       "      <td>0.024544</td>\n",
       "      <td>0.015360</td>\n",
       "      <td>0.004794</td>\n",
       "      <td>0.003826</td>\n",
       "      <td>0.000043</td>\n",
       "      <td>0.004250</td>\n",
       "      <td>207548</td>\n",
       "    </tr>\n",
       "  </tbody>\n",
       "</table>\n",
       "<p>2 rows × 64 columns</p>\n",
       "</div>"
      ],
      "text/plain": [
       "        adj  adj_compare   adj_sup       adv  adv_compare  adv_part   adv_sup  \\\n",
       "0  0.069588     0.003314  0.002129  0.063591     0.001534  0.006965  0.000265   \n",
       "1  0.065146     0.004336  0.003233  0.067069     0.002154  0.005526  0.000405   \n",
       "\n",
       "   avg_sent_len  avg_word_len  best_seller     ...     verb_count  verb_ger  \\\n",
       "0            14             4            1     ...        29612.0  0.023553   \n",
       "1            11             4            1     ...        36339.0  0.019928   \n",
       "\n",
       "   verb_past   verb_pp  verb_sing_pres    wh_adv  wh_determ   wh_poss  \\\n",
       "0   0.070598  0.023559        0.019427  0.005545   0.004228  0.000024   \n",
       "1   0.078151  0.024544        0.015360  0.004794   0.003826  0.000043   \n",
       "\n",
       "   wh_pronoun  word_count  \n",
       "0    0.004685      166265  \n",
       "1    0.004250      207548  \n",
       "\n",
       "[2 rows x 64 columns]"
      ]
     },
     "execution_count": 74,
     "metadata": {},
     "output_type": "execute_result"
    }
   ],
   "source": [
    "# load training data\n",
    "df = pd.read_csv(path + 'df.csv')\n",
    "del df['Unnamed: 0']\n",
    "#del df['Unnamed: 0.1']\n",
    "\n",
    "# load held-out testing data\n",
    "df_test = pd.read_csv(path + 'df_test.csv')\n",
    "del df_test['Unnamed: 0']\n",
    "\n",
    "df_all = pd.concat([df,df_test], axis=0).reset_index()\n",
    "del df_all['index']\n",
    "\n",
    "print df.shape\n",
    "print df_test.shape\n",
    "print df_all.shape\n",
    "df_all.head(2)"
   ]
  },
  {
   "cell_type": "code",
   "execution_count": 75,
   "metadata": {
    "collapsed": false
   },
   "outputs": [
    {
     "name": "stdout",
     "output_type": "stream",
     "text": [
      "(47, 64)\n",
      "(45, 64)\n"
     ]
    }
   ],
   "source": [
    "# subset the data\n",
    "sf = df_all[df_all['sci_fi']==1]\n",
    "rm = df_all[df_all['sci_fi']==0]\n",
    "print sf.shape\n",
    "print rm.shape"
   ]
  },
  {
   "cell_type": "markdown",
   "metadata": {},
   "source": [
    "#### Science-fiction"
   ]
  },
  {
   "cell_type": "code",
   "execution_count": 81,
   "metadata": {
    "collapsed": false
   },
   "outputs": [
    {
     "name": "stdout",
     "output_type": "stream",
     "text": [
      "(47,) (47, 54)\n",
      "(32, 54) (32,)\n",
      "(15, 54) (15,)\n"
     ]
    }
   ],
   "source": [
    "y_sf = sf['best_seller'].values\n",
    "#X_sf = sf[['avg_sent_len', 'avg_word_len', 'lex_diversity', 'polarity','subjectivity', 'profane']].values\n",
    "X_sf = sf[['avg_sent_len', 'avg_word_len', 'lex_diversity', 'polarity','subjectivity', 'profane','conj_coord',\n",
    "            'determiner', 'exist_there', 'foreign_word','conj_sub_prep', 'adj', 'adj_compare','adj_sup', \n",
    "           'verb_aux','noun', 'noun_prop', 'noun_prop_pural', 'noun_plural', 'predeterm','poss_ending','pronoun_pers',\n",
    "           'pronoun_poss', 'adv', 'adv_compare','adv_sup', 'adv_part', 'inf_to', 'interject', 'verb_base','verb_past',\n",
    "           'verb_ger', 'verb_pp', 'verb_sing_pres','verb_3rd_sing_pres', 'wh_determ', 'wh_pronoun', 'wh_poss','wh_adv',\n",
    "           'verb.body', 'verb.change', 'verb.cognition','verb.communication', 'verb.competition', 'verb.consumption',\n",
    "           'verb.contact', 'verb.creation', 'verb.emotion', 'verb.motion','verb.perception', 'verb.possession', \n",
    "           'verb.social', 'verb.stative','verb.weather']].values\n",
    "print y_sf.shape, X_sf.shape\n",
    "\n",
    "X_sf, X_sf_test, y_sf, y_sf_test = train_test_split(X_sf, y_sf, test_size=0.3)\n",
    "\n",
    "print X_sf.shape, y_sf.shape\n",
    "print X_sf_test.shape, y_sf_test.shape"
   ]
  },
  {
   "cell_type": "code",
   "execution_count": 79,
   "metadata": {
    "collapsed": true
   },
   "outputs": [],
   "source": [
    "def accuracy_crossvalidator(X, y, knn, cv_indices):\n",
    "    scores = []\n",
    "    for train_i, test_i in cv_indices:\n",
    "        \n",
    "        X_train = X[train_i, :]\n",
    "        X_test = X[test_i, :]\n",
    "        y_train = y[train_i]\n",
    "        y_test = y[test_i]\n",
    "\n",
    "        knn.fit(X_train, y_train)\n",
    "        acc = knn.score(X_test, y_test)\n",
    "        scores.append(acc)\n",
    "        \n",
    "        print('Fold accuracy:', acc)    \n",
    "    print('Mean CV accuracy:', np.mean(scores))"
   ]
  },
  {
   "cell_type": "code",
   "execution_count": 82,
   "metadata": {
    "collapsed": false
   },
   "outputs": [
    {
     "name": "stdout",
     "output_type": "stream",
     "text": [
      "('Fold accuracy:', 1.0)\n",
      "('Fold accuracy:', 0.5)\n",
      "('Fold accuracy:', 0.75)\n",
      "('Fold accuracy:', 0.75)\n",
      "('Fold accuracy:', 0.25)\n",
      "('Fold accuracy:', 0.66666666666666663)\n",
      "('Fold accuracy:', 1.0)\n",
      "('Fold accuracy:', 1.0)\n",
      "('Fold accuracy:', 0.0)\n",
      "('Fold accuracy:', 0.5)\n",
      "('Mean CV accuracy:', 0.64166666666666661)\n"
     ]
    }
   ],
   "source": [
    "cv = StratifiedKFold(y_sf, n_folds=10)\n",
    "knn_sf = KNeighborsClassifier(n_neighbors=3, weights='distance')\n",
    "accuracy_crossvalidator(X_sf, y_sf, knn_sf, cv)"
   ]
  },
  {
   "cell_type": "code",
   "execution_count": 87,
   "metadata": {
    "collapsed": false
   },
   "outputs": [
    {
     "name": "stdout",
     "output_type": "stream",
     "text": [
      "Fitting 10 folds for each of 22 candidates, totalling 220 fits\n"
     ]
    },
    {
     "name": "stderr",
     "output_type": "stream",
     "text": [
      "[Parallel(n_jobs=1)]: Done  49 tasks       | elapsed:    0.1s\n"
     ]
    },
    {
     "name": "stdout",
     "output_type": "stream",
     "text": [
      "{'n_neighbors': 3, 'weights': 'uniform'}\n",
      "KNeighborsClassifier(algorithm='auto', leaf_size=30, metric='minkowski',\n",
      "           metric_params=None, n_jobs=1, n_neighbors=3, p=2,\n",
      "           weights='uniform')\n",
      "('Fold accuracy:', 1.0)\n",
      "('Fold accuracy:', 0.5)\n",
      "('Fold accuracy:', 0.5)\n",
      "('Fold accuracy:', 0.75)\n",
      "('Fold accuracy:', 0.25)\n",
      "('Fold accuracy:', 1.0)\n",
      "('Fold accuracy:', 1.0)\n",
      "('Fold accuracy:', 1.0)\n",
      "('Fold accuracy:', 0.5)\n",
      "('Fold accuracy:', 0.5)\n",
      "('Mean CV accuracy:', 0.69999999999999996)\n"
     ]
    },
    {
     "name": "stderr",
     "output_type": "stream",
     "text": [
      "[Parallel(n_jobs=1)]: Done 199 tasks       | elapsed:    0.6s\n",
      "[Parallel(n_jobs=1)]: Done 220 out of 220 | elapsed:    0.6s finished\n"
     ]
    }
   ],
   "source": [
    "search_parameters = {\n",
    "    'n_neighbors': range(1,12), \n",
    "    'weights':      ['uniform','distance']\n",
    "}\n",
    "\n",
    "knn = KNeighborsClassifier() \n",
    "knn_gs = GridSearchCV(knn, search_parameters, cv=10, verbose=1)\n",
    "\n",
    "knn_sf = knn_gs.fit(X_sf, y_sf)\n",
    "knn_proba_sf = knn_sf.predict_proba(X_sf_test)\n",
    "\n",
    "print knn_sf.best_params_\n",
    "best_knn_sf = knn_sf.best_estimator_\n",
    "print best_knn_sf\n",
    "accuracy_crossvalidator(X_sf, y_sf, best_knn_sf, cv)"
   ]
  },
  {
   "cell_type": "markdown",
   "metadata": {},
   "source": [
    "#### Romance"
   ]
  },
  {
   "cell_type": "code",
   "execution_count": 98,
   "metadata": {
    "collapsed": false
   },
   "outputs": [
    {
     "name": "stdout",
     "output_type": "stream",
     "text": [
      "(45, 54) (45,)\n",
      "(31, 54) (31,)\n",
      "(14, 54) (14,)\n"
     ]
    }
   ],
   "source": [
    "y_rm = rm['best_seller'].values\n",
    "X_rm = rm[['avg_sent_len', 'avg_word_len', 'lex_diversity', 'polarity','subjectivity', 'profane','conj_coord',\n",
    "            'determiner', 'exist_there', 'foreign_word','conj_sub_prep', 'adj', 'adj_compare','adj_sup', \n",
    "           'verb_aux','noun', 'noun_prop', 'noun_prop_pural', 'noun_plural', 'predeterm','poss_ending','pronoun_pers',\n",
    "           'pronoun_poss', 'adv', 'adv_compare','adv_sup', 'adv_part', 'inf_to', 'interject', 'verb_base','verb_past',\n",
    "           'verb_ger', 'verb_pp', 'verb_sing_pres','verb_3rd_sing_pres', 'wh_determ', 'wh_pronoun', 'wh_poss','wh_adv',\n",
    "           'verb.body', 'verb.change', 'verb.cognition','verb.communication', 'verb.competition', 'verb.consumption',\n",
    "           'verb.contact', 'verb.creation', 'verb.emotion', 'verb.motion','verb.perception', 'verb.possession', \n",
    "           'verb.social', 'verb.stative','verb.weather']].values\n",
    "\n",
    "print  X_rm.shape,y_rm.shape\n",
    "\n",
    "X_rm, X_rm_test, y_rm, y_rm_test = train_test_split(X_rm, y_rm, test_size=0.3)\n",
    "\n",
    "print X_rm.shape, y_rm.shape\n",
    "print X_rm_test.shape, y_rm_test.shape"
   ]
  },
  {
   "cell_type": "code",
   "execution_count": 99,
   "metadata": {
    "collapsed": false
   },
   "outputs": [
    {
     "name": "stdout",
     "output_type": "stream",
     "text": [
      "('Fold accuracy:', 0.75)\n",
      "('Fold accuracy:', 0.75)\n",
      "('Fold accuracy:', 1.0)\n",
      "('Fold accuracy:', 0.33333333333333331)\n",
      "('Fold accuracy:', 1.0)\n",
      "('Fold accuracy:', 1.0)\n",
      "('Fold accuracy:', 0.66666666666666663)\n",
      "('Fold accuracy:', 0.33333333333333331)\n",
      "('Fold accuracy:', 0.66666666666666663)\n",
      "('Fold accuracy:', 1.0)\n",
      "('Mean CV accuracy:', 0.75)\n"
     ]
    }
   ],
   "source": [
    "cv_rm = StratifiedKFold(y_rm, n_folds=10)\n",
    "knn_rm = KNeighborsClassifier(n_neighbors=3, weights='uniform')\n",
    "accuracy_crossvalidator(X_rm, y_rm, knn_rm, cv_rm)"
   ]
  },
  {
   "cell_type": "code",
   "execution_count": 101,
   "metadata": {
    "collapsed": false
   },
   "outputs": [
    {
     "name": "stdout",
     "output_type": "stream",
     "text": [
      "Fitting 10 folds for each of 22 candidates, totalling 220 fits\n"
     ]
    },
    {
     "name": "stderr",
     "output_type": "stream",
     "text": [
      "[Parallel(n_jobs=1)]: Done  49 tasks       | elapsed:    0.2s\n"
     ]
    },
    {
     "name": "stdout",
     "output_type": "stream",
     "text": [
      "{'n_neighbors': 3, 'weights': 'uniform'}\n",
      "KNeighborsClassifier(algorithm='auto', leaf_size=30, metric='minkowski',\n",
      "           metric_params=None, n_jobs=1, n_neighbors=3, p=2,\n",
      "           weights='uniform')\n",
      "('Fold accuracy:', 0.75)\n",
      "('Fold accuracy:', 0.75)\n",
      "('Fold accuracy:', 1.0)\n",
      "('Fold accuracy:', 0.33333333333333331)\n",
      "('Fold accuracy:', 1.0)\n",
      "('Fold accuracy:', 1.0)\n",
      "('Fold accuracy:', 0.66666666666666663)\n",
      "('Fold accuracy:', 0.33333333333333331)\n",
      "('Fold accuracy:', 0.66666666666666663)\n",
      "('Fold accuracy:', 1.0)\n",
      "('Mean CV accuracy:', 0.75)\n"
     ]
    },
    {
     "name": "stderr",
     "output_type": "stream",
     "text": [
      "[Parallel(n_jobs=1)]: Done 199 tasks       | elapsed:    0.6s\n",
      "[Parallel(n_jobs=1)]: Done 220 out of 220 | elapsed:    0.6s finished\n"
     ]
    }
   ],
   "source": [
    "search_parameters = {\n",
    "    'n_neighbors': range(1,12), \n",
    "    'weights':      ['uniform','distance']\n",
    "}\n",
    "\n",
    "knn_rm = KNeighborsClassifier() \n",
    "knn_rm_gs = GridSearchCV(knn_rm, search_parameters, cv=10, verbose=1)\n",
    "\n",
    "knn_rm = knn_rm_gs.fit(X_rm, y_rm)\n",
    "knn_proba_rm = knn_rm.predict_proba(X_rm_test)\n",
    "\n",
    "print knn_rm_gs.best_params_\n",
    "best_knn_rm = knn_rm_gs.best_estimator_\n",
    "print best_knn_rm\n",
    "accuracy_crossvalidator(X_rm, y_rm, best_knn_rm, cv_rm)"
   ]
  },
  {
   "cell_type": "markdown",
   "metadata": {},
   "source": [
    "#### All together now"
   ]
  },
  {
   "cell_type": "code",
   "execution_count": 109,
   "metadata": {
    "collapsed": false
   },
   "outputs": [
    {
     "name": "stdout",
     "output_type": "stream",
     "text": [
      "(78,) (78, 54)\n",
      "(54, 54) (54,)\n",
      "(24, 54) (24,)\n"
     ]
    }
   ],
   "source": [
    "y = df['best_seller'].values\n",
    "X = df[['avg_sent_len', 'avg_word_len', 'lex_diversity', 'polarity','subjectivity', 'profane','conj_coord',\n",
    "            'determiner', 'exist_there', 'foreign_word','conj_sub_prep', 'adj', 'adj_compare','adj_sup', \n",
    "           'verb_aux','noun', 'noun_prop', 'noun_prop_pural', 'noun_plural', 'predeterm','poss_ending','pronoun_pers',\n",
    "           'pronoun_poss', 'adv', 'adv_compare','adv_sup', 'adv_part', 'inf_to', 'interject', 'verb_base','verb_past',\n",
    "           'verb_ger', 'verb_pp', 'verb_sing_pres','verb_3rd_sing_pres', 'wh_determ', 'wh_pronoun', 'wh_poss','wh_adv',\n",
    "           'verb.body', 'verb.change', 'verb.cognition','verb.communication', 'verb.competition', 'verb.consumption',\n",
    "           'verb.contact', 'verb.creation', 'verb.emotion', 'verb.motion','verb.perception', 'verb.possession', \n",
    "           'verb.social', 'verb.stative','verb.weather']].values\n",
    "\n",
    "print y.shape, X.shape\n",
    "\n",
    "X, X_test, y, y_test = train_test_split(X, y, test_size=0.3)\n",
    "\n",
    "print X.shape, y.shape\n",
    "print X_test.shape, y_test.shape\n"
   ]
  },
  {
   "cell_type": "code",
   "execution_count": 114,
   "metadata": {
    "collapsed": false
   },
   "outputs": [
    {
     "name": "stdout",
     "output_type": "stream",
     "text": [
      "Fitting 10 folds for each of 22 candidates, totalling 220 fits\n"
     ]
    },
    {
     "name": "stderr",
     "output_type": "stream",
     "text": [
      "[Parallel(n_jobs=1)]: Done  49 tasks       | elapsed:    0.2s\n"
     ]
    },
    {
     "name": "stdout",
     "output_type": "stream",
     "text": [
      "{'n_neighbors': 3, 'weights': 'uniform'}\n",
      "KNeighborsClassifier(algorithm='auto', leaf_size=30, metric='minkowski',\n",
      "           metric_params=None, n_jobs=1, n_neighbors=3, p=2,\n",
      "           weights='uniform')\n",
      "('Fold accuracy:', 0.5)\n",
      "('Fold accuracy:', 0.5)\n",
      "('Fold accuracy:', 0.66666666666666663)\n",
      "('Fold accuracy:', 0.83333333333333337)\n",
      "('Fold accuracy:', 0.66666666666666663)\n",
      "('Fold accuracy:', 0.5)\n",
      "('Fold accuracy:', 0.59999999999999998)\n",
      "('Fold accuracy:', 0.80000000000000004)\n",
      "('Fold accuracy:', 0.0)\n",
      "('Fold accuracy:', 1.0)\n",
      "('Mean CV accuracy:', 0.60666666666666669)\n"
     ]
    },
    {
     "name": "stderr",
     "output_type": "stream",
     "text": [
      "[Parallel(n_jobs=1)]: Done 199 tasks       | elapsed:    0.6s\n",
      "[Parallel(n_jobs=1)]: Done 220 out of 220 | elapsed:    0.7s finished\n"
     ]
    }
   ],
   "source": [
    "cv_all = StratifiedKFold(y, n_folds=10)\n",
    "search_parameters = {\n",
    "    'n_neighbors': range(1,12), \n",
    "    'weights':      ['uniform','distance']\n",
    "}\n",
    "\n",
    "knn = KNeighborsClassifier() \n",
    "knn_gs = GridSearchCV(knn, search_parameters, cv=10, verbose=1)\n",
    "\n",
    "knn_all = knn_gs.fit(X, y)\n",
    "knn_proba_all = knn_all.predict_proba(X_test)\n",
    "print knn_gs.best_params_\n",
    "best_knn = knn_gs.best_estimator_\n",
    "print best_knn\n",
    "accuracy_crossvalidator(X, y, best_knn, cv_all)"
   ]
  },
  {
   "cell_type": "code",
   "execution_count": null,
   "metadata": {
    "collapsed": true
   },
   "outputs": [],
   "source": []
  }
 ],
 "metadata": {
  "anaconda-cloud": {},
  "kernelspec": {
   "display_name": "Python [dsi]",
   "language": "python",
   "name": "Python [dsi]"
  },
  "language_info": {
   "codemirror_mode": {
    "name": "ipython",
    "version": 2
   },
   "file_extension": ".py",
   "mimetype": "text/x-python",
   "name": "python",
   "nbconvert_exporter": "python",
   "pygments_lexer": "ipython2",
   "version": "2.7.12"
  }
 },
 "nbformat": 4,
 "nbformat_minor": 0
}
