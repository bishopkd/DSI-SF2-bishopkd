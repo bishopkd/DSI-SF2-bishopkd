{
 "cells": [
  {
   "cell_type": "markdown",
   "metadata": {},
   "source": [
    "## Random forest classification"
   ]
  },
  {
   "cell_type": "markdown",
   "metadata": {},
   "source": [
    "### Imports and global variables"
   ]
  },
  {
   "cell_type": "code",
   "execution_count": 1,
   "metadata": {
    "collapsed": false
   },
   "outputs": [],
   "source": [
    "import numpy as np\n",
    "import pandas as pd\n",
    "import seaborn as sns\n",
    "import matplotlib.pyplot as plt\n",
    "from ipywidgets import *\n",
    "from IPython.display import display\n",
    "from sklearn.metrics import roc_curve, auc\n",
    "\n",
    "from sklearn.tree import DecisionTreeClassifier\n",
    "from sklearn.ensemble import RandomForestClassifier\n",
    "from sklearn.metrics import classification_report\n",
    "from sklearn.cross_validation import cross_val_score\n",
    "from sklearn.cross_validation import train_test_split\n",
    "from sklearn.grid_search import GridSearchCV\n",
    "from sklearn.externals.six import StringIO  \n",
    "from IPython.display import Image  \n",
    "from sklearn.tree import export_graphviz\n",
    "import pydotplus\n",
    "\n",
    "plt.style.use('fivethirtyeight')\n",
    "%matplotlib inline\n",
    "\n",
    "path = '/Users/katbishop/Desktop/DSI-SF2-bishopkd/projects/capstone/data/'"
   ]
  },
  {
   "cell_type": "markdown",
   "metadata": {},
   "source": [
    "#### Load the data"
   ]
  },
  {
   "cell_type": "code",
   "execution_count": 19,
   "metadata": {
    "collapsed": false
   },
   "outputs": [
    {
     "name": "stdout",
     "output_type": "stream",
     "text": [
      "(78, 64)\n",
      "(14, 64)\n",
      "(92, 64)\n"
     ]
    },
    {
     "data": {
      "text/html": [
       "<div>\n",
       "<table border=\"1\" class=\"dataframe\">\n",
       "  <thead>\n",
       "    <tr style=\"text-align: right;\">\n",
       "      <th></th>\n",
       "      <th>adj</th>\n",
       "      <th>adj_compare</th>\n",
       "      <th>adj_sup</th>\n",
       "      <th>adv</th>\n",
       "      <th>adv_compare</th>\n",
       "      <th>adv_part</th>\n",
       "      <th>adv_sup</th>\n",
       "      <th>avg_sent_len</th>\n",
       "      <th>avg_word_len</th>\n",
       "      <th>best_seller</th>\n",
       "      <th>...</th>\n",
       "      <th>verb_count</th>\n",
       "      <th>verb_ger</th>\n",
       "      <th>verb_past</th>\n",
       "      <th>verb_pp</th>\n",
       "      <th>verb_sing_pres</th>\n",
       "      <th>wh_adv</th>\n",
       "      <th>wh_determ</th>\n",
       "      <th>wh_poss</th>\n",
       "      <th>wh_pronoun</th>\n",
       "      <th>word_count</th>\n",
       "    </tr>\n",
       "  </thead>\n",
       "  <tbody>\n",
       "    <tr>\n",
       "      <th>0</th>\n",
       "      <td>0.069588</td>\n",
       "      <td>0.003314</td>\n",
       "      <td>0.002129</td>\n",
       "      <td>0.063591</td>\n",
       "      <td>0.001534</td>\n",
       "      <td>0.006965</td>\n",
       "      <td>0.000265</td>\n",
       "      <td>14</td>\n",
       "      <td>4</td>\n",
       "      <td>1</td>\n",
       "      <td>...</td>\n",
       "      <td>29612.0</td>\n",
       "      <td>0.023553</td>\n",
       "      <td>0.070598</td>\n",
       "      <td>0.023559</td>\n",
       "      <td>0.019427</td>\n",
       "      <td>0.005545</td>\n",
       "      <td>0.004228</td>\n",
       "      <td>0.000024</td>\n",
       "      <td>0.004685</td>\n",
       "      <td>166265</td>\n",
       "    </tr>\n",
       "    <tr>\n",
       "      <th>1</th>\n",
       "      <td>0.065146</td>\n",
       "      <td>0.004336</td>\n",
       "      <td>0.003233</td>\n",
       "      <td>0.067069</td>\n",
       "      <td>0.002154</td>\n",
       "      <td>0.005526</td>\n",
       "      <td>0.000405</td>\n",
       "      <td>11</td>\n",
       "      <td>4</td>\n",
       "      <td>1</td>\n",
       "      <td>...</td>\n",
       "      <td>36339.0</td>\n",
       "      <td>0.019928</td>\n",
       "      <td>0.078151</td>\n",
       "      <td>0.024544</td>\n",
       "      <td>0.015360</td>\n",
       "      <td>0.004794</td>\n",
       "      <td>0.003826</td>\n",
       "      <td>0.000043</td>\n",
       "      <td>0.004250</td>\n",
       "      <td>207548</td>\n",
       "    </tr>\n",
       "  </tbody>\n",
       "</table>\n",
       "<p>2 rows × 64 columns</p>\n",
       "</div>"
      ],
      "text/plain": [
       "        adj  adj_compare   adj_sup       adv  adv_compare  adv_part   adv_sup  \\\n",
       "0  0.069588     0.003314  0.002129  0.063591     0.001534  0.006965  0.000265   \n",
       "1  0.065146     0.004336  0.003233  0.067069     0.002154  0.005526  0.000405   \n",
       "\n",
       "   avg_sent_len  avg_word_len  best_seller     ...     verb_count  verb_ger  \\\n",
       "0            14             4            1     ...        29612.0  0.023553   \n",
       "1            11             4            1     ...        36339.0  0.019928   \n",
       "\n",
       "   verb_past   verb_pp  verb_sing_pres    wh_adv  wh_determ   wh_poss  \\\n",
       "0   0.070598  0.023559        0.019427  0.005545   0.004228  0.000024   \n",
       "1   0.078151  0.024544        0.015360  0.004794   0.003826  0.000043   \n",
       "\n",
       "   wh_pronoun  word_count  \n",
       "0    0.004685      166265  \n",
       "1    0.004250      207548  \n",
       "\n",
       "[2 rows x 64 columns]"
      ]
     },
     "execution_count": 19,
     "metadata": {},
     "output_type": "execute_result"
    }
   ],
   "source": [
    "# load training data\n",
    "df = pd.read_csv(path + 'df.csv')\n",
    "del df['Unnamed: 0']\n",
    "#del df['Unnamed: 0.1']\n",
    "\n",
    "# load held-out testing data\n",
    "df_test = pd.read_csv(path + 'df_test.csv')\n",
    "del df_test['Unnamed: 0']\n",
    "\n",
    "df_all = pd.concat([df,df_test], axis=0).reset_index()\n",
    "del df_all['index']\n",
    "\n",
    "print df.shape\n",
    "print df_test.shape\n",
    "print df_all.shape\n",
    "df_all.head(2)"
   ]
  },
  {
   "cell_type": "code",
   "execution_count": 20,
   "metadata": {
    "collapsed": false
   },
   "outputs": [
    {
     "name": "stdout",
     "output_type": "stream",
     "text": [
      "(47, 64)\n",
      "(45, 64)\n"
     ]
    }
   ],
   "source": [
    "# subset the data\n",
    "sf = df_all[df_all['sci_fi']==1]\n",
    "rm = df_all[df_all['sci_fi']==0]\n",
    "print sf.shape\n",
    "print rm.shape"
   ]
  },
  {
   "cell_type": "code",
   "execution_count": 52,
   "metadata": {
    "collapsed": false
   },
   "outputs": [
    {
     "data": {
      "text/plain": [
       "0.4888888888888889"
      ]
     },
     "execution_count": 52,
     "metadata": {},
     "output_type": "execute_result"
    }
   ],
   "source": [
    "rm.best_seller.mean()"
   ]
  },
  {
   "cell_type": "markdown",
   "metadata": {},
   "source": [
    "#### Science-fiction"
   ]
  },
  {
   "cell_type": "code",
   "execution_count": 18,
   "metadata": {
    "collapsed": false
   },
   "outputs": [
    {
     "name": "stdout",
     "output_type": "stream",
     "text": [
      "(47,) (47, 54)\n"
     ]
    }
   ],
   "source": [
    "y_sf = sf['best_seller']\n",
    "X_sf = sf[['avg_sent_len', 'avg_word_len', 'lex_diversity', 'polarity','subjectivity', 'profane','conj_coord',\n",
    "            'determiner', 'exist_there', 'foreign_word','conj_sub_prep', 'adj', 'adj_compare','adj_sup', \n",
    "           'verb_aux','noun', 'noun_prop', 'noun_prop_pural', 'noun_plural', 'predeterm','poss_ending','pronoun_pers',\n",
    "           'pronoun_poss', 'adv', 'adv_compare','adv_sup', 'adv_part', 'inf_to', 'interject', 'verb_base','verb_past',\n",
    "           'verb_ger', 'verb_pp', 'verb_sing_pres','verb_3rd_sing_pres', 'wh_determ', 'wh_pronoun', 'wh_poss','wh_adv',\n",
    "           'verb.body', 'verb.change', 'verb.cognition','verb.communication', 'verb.competition', 'verb.consumption',\n",
    "           'verb.contact', 'verb.creation', 'verb.emotion', 'verb.motion','verb.perception', 'verb.possession', \n",
    "           'verb.social', 'verb.stative','verb.weather']]\n",
    "\n",
    "print y_sf.shape, X_sf.shape"
   ]
  },
  {
   "cell_type": "code",
   "execution_count": 22,
   "metadata": {
    "collapsed": false
   },
   "outputs": [
    {
     "name": "stdout",
     "output_type": "stream",
     "text": [
      "(32, 54) (32,)\n",
      "(15, 54) (15,)\n"
     ]
    }
   ],
   "source": [
    "X_sf, X_sf_test, y_sf, y_sf_test = train_test_split(X_sf, y_sf, test_size=0.3)\n",
    "\n",
    "print X_sf.shape, y_sf.shape\n",
    "print X_sf_test.shape, y_sf_test.shape"
   ]
  },
  {
   "cell_type": "markdown",
   "metadata": {},
   "source": [
    "#### Random Forest Classifier"
   ]
  },
  {
   "cell_type": "code",
   "execution_count": 32,
   "metadata": {
    "collapsed": false
   },
   "outputs": [
    {
     "name": "stdout",
     "output_type": "stream",
     "text": [
      "Fitting 5 folds for each of 480 candidates, totalling 2400 fits\n"
     ]
    },
    {
     "name": "stderr",
     "output_type": "stream",
     "text": [
      "[Parallel(n_jobs=-1)]: Done  42 tasks      | elapsed:    3.2s\n",
      "[Parallel(n_jobs=-1)]: Done 192 tasks      | elapsed:   17.2s\n",
      "[Parallel(n_jobs=-1)]: Done 442 tasks      | elapsed:   38.9s\n",
      "[Parallel(n_jobs=-1)]: Done 792 tasks      | elapsed:  1.1min\n",
      "[Parallel(n_jobs=-1)]: Done 1242 tasks      | elapsed:  1.7min\n",
      "[Parallel(n_jobs=-1)]: Done 1792 tasks      | elapsed:  2.4min\n",
      "[Parallel(n_jobs=-1)]: Done 2400 out of 2400 | elapsed:  3.2min finished\n"
     ]
    },
    {
     "name": "stdout",
     "output_type": "stream",
     "text": [
      "best estimator RandomForestClassifier(bootstrap=True, class_weight=None, criterion='gini',\n",
      "            max_depth=2, max_features=2, max_leaf_nodes=None,\n",
      "            min_samples_leaf=5.5789473684210531, min_samples_split=2,\n",
      "            min_weight_fraction_leaf=0.0, n_estimators=50, n_jobs=1,\n",
      "            oob_score=False, random_state=None, verbose=0,\n",
      "            warm_start=False)\n",
      "\n",
      "best parameters {'max_features': 2, 'n_estimators': 50, 'max_depth': 2, 'min_samples_leaf': 5.5789473684210531}\n",
      "\n",
      "best score 0.84375\n"
     ]
    }
   ],
   "source": [
    "rfc = RandomForestClassifier()\n",
    "rf_params = {\n",
    "    'max_features':['log2','sqrt', 2,3,4,5],\n",
    "    'max_depth':[1,2,3,4],\n",
    "    'min_samples_leaf':np.linspace(1,30,20),\n",
    "    'n_estimators':[50]\n",
    "}\n",
    "\n",
    "rf_gs_sf = GridSearchCV(rfc, rf_params, cv=5, verbose=1, n_jobs=-1)\n",
    "rf_model_sf = rf_gs_sf.fit(X_sf, y_sf) \n",
    "\n",
    "rf_proba_sf = rf_model_sf.predict_log_proba(X_sf_test)\n",
    "y_sf_pp = rf_model_sf.predict_log_proba(X_sf_test)[:,1]\n",
    "\n",
    "rfc_best_sf = rf_gs_sf.best_estimator_\n",
    "print \"best estimator\", rfc_best_sf\n",
    "print \n",
    "print \"best parameters\",  rf_gs_sf.best_params_\n",
    "print \n",
    "print \"best score\", rf_gs_sf.best_score_"
   ]
  },
  {
   "cell_type": "code",
   "execution_count": 34,
   "metadata": {
    "collapsed": false
   },
   "outputs": [
    {
     "data": {
      "text/html": [
       "<div>\n",
       "<table border=\"1\" class=\"dataframe\">\n",
       "  <thead>\n",
       "    <tr style=\"text-align: right;\">\n",
       "      <th></th>\n",
       "      <th>feature</th>\n",
       "      <th>importance</th>\n",
       "    </tr>\n",
       "  </thead>\n",
       "  <tbody>\n",
       "    <tr>\n",
       "      <th>9</th>\n",
       "      <td>foreign_word</td>\n",
       "      <td>0.064378</td>\n",
       "    </tr>\n",
       "    <tr>\n",
       "      <th>17</th>\n",
       "      <td>noun_prop_pural</td>\n",
       "      <td>0.059482</td>\n",
       "    </tr>\n",
       "    <tr>\n",
       "      <th>39</th>\n",
       "      <td>verb.body</td>\n",
       "      <td>0.058690</td>\n",
       "    </tr>\n",
       "    <tr>\n",
       "      <th>2</th>\n",
       "      <td>lex_diversity</td>\n",
       "      <td>0.056238</td>\n",
       "    </tr>\n",
       "    <tr>\n",
       "      <th>29</th>\n",
       "      <td>verb_base</td>\n",
       "      <td>0.047133</td>\n",
       "    </tr>\n",
       "    <tr>\n",
       "      <th>37</th>\n",
       "      <td>wh_poss</td>\n",
       "      <td>0.046401</td>\n",
       "    </tr>\n",
       "    <tr>\n",
       "      <th>16</th>\n",
       "      <td>noun_prop</td>\n",
       "      <td>0.045821</td>\n",
       "    </tr>\n",
       "    <tr>\n",
       "      <th>15</th>\n",
       "      <td>noun</td>\n",
       "      <td>0.041803</td>\n",
       "    </tr>\n",
       "    <tr>\n",
       "      <th>20</th>\n",
       "      <td>poss_ending</td>\n",
       "      <td>0.037967</td>\n",
       "    </tr>\n",
       "    <tr>\n",
       "      <th>4</th>\n",
       "      <td>subjectivity</td>\n",
       "      <td>0.036167</td>\n",
       "    </tr>\n",
       "  </tbody>\n",
       "</table>\n",
       "</div>"
      ],
      "text/plain": [
       "            feature  importance\n",
       "9      foreign_word    0.064378\n",
       "17  noun_prop_pural    0.059482\n",
       "39        verb.body    0.058690\n",
       "2     lex_diversity    0.056238\n",
       "29        verb_base    0.047133\n",
       "37          wh_poss    0.046401\n",
       "16        noun_prop    0.045821\n",
       "15             noun    0.041803\n",
       "20      poss_ending    0.037967\n",
       "4      subjectivity    0.036167"
      ]
     },
     "execution_count": 34,
     "metadata": {},
     "output_type": "execute_result"
    }
   ],
   "source": [
    "## Print Feature importances\n",
    "feature_importance = pd.DataFrame({ 'feature':X_sf.columns, \n",
    "                                   'importance':rfc_best_sf.feature_importances_\n",
    "                                  })\n",
    "\n",
    "feature_importance.sort_values('importance', ascending=False, inplace=True)\n",
    "feature_importance.head(10)"
   ]
  },
  {
   "cell_type": "code",
   "execution_count": 30,
   "metadata": {
    "collapsed": false
   },
   "outputs": [
    {
     "data": {
      "text/html": [
       "<div>\n",
       "<table border=\"1\" class=\"dataframe\">\n",
       "  <thead>\n",
       "    <tr style=\"text-align: right;\">\n",
       "      <th></th>\n",
       "      <th>feature</th>\n",
       "      <th>importance</th>\n",
       "    </tr>\n",
       "  </thead>\n",
       "  <tbody>\n",
       "    <tr>\n",
       "      <th>5</th>\n",
       "      <td>profane</td>\n",
       "      <td>0.0</td>\n",
       "    </tr>\n",
       "    <tr>\n",
       "      <th>53</th>\n",
       "      <td>verb.weather</td>\n",
       "      <td>0.0</td>\n",
       "    </tr>\n",
       "  </tbody>\n",
       "</table>\n",
       "</div>"
      ],
      "text/plain": [
       "         feature  importance\n",
       "5        profane         0.0\n",
       "53  verb.weather         0.0"
      ]
     },
     "execution_count": 30,
     "metadata": {},
     "output_type": "execute_result"
    }
   ],
   "source": [
    "feature_importance.tail(2)"
   ]
  },
  {
   "cell_type": "code",
   "execution_count": 35,
   "metadata": {
    "collapsed": false
   },
   "outputs": [
    {
     "name": "stdout",
     "output_type": "stream",
     "text": [
      "(15,) (15,)\n",
      "             precision    recall  f1-score   support\n",
      "\n",
      "          0       0.62      0.83      0.71         6\n",
      "          1       0.86      0.67      0.75         9\n",
      "\n",
      "avg / total       0.76      0.73      0.74        15\n",
      "\n"
     ]
    }
   ],
   "source": [
    "y_sf_pred_rfc= rfc_best.predict(X_sf_test)\n",
    "\n",
    "print y_sf_pred_rfc.shape, y_sf_test.shape\n",
    "\n",
    "cls_rep = classification_report(y_sf_test, y_sf_pred_rfc)\n",
    "print cls_rep "
   ]
  },
  {
   "cell_type": "code",
   "execution_count": 65,
   "metadata": {
    "collapsed": false
   },
   "outputs": [
    {
     "data": {
      "image/png": "[encoded data removed]",
      "text/plain": [
       "<matplotlib.figure.Figure at 0x123525990>"
      ]
     },
     "metadata": {},
     "output_type": "display_data"
    }
   ],
   "source": [
    "plot_roc_curve(target=y_sf_test, predict_proba=rf_proba_sf[:,1], title='Science-fiction best-seller prediction')"
   ]
  },
  {
   "cell_type": "markdown",
   "metadata": {},
   "source": [
    "#### Romance"
   ]
  },
  {
   "cell_type": "code",
   "execution_count": 66,
   "metadata": {
    "collapsed": false
   },
   "outputs": [
    {
     "name": "stdout",
     "output_type": "stream",
     "text": [
      "(45,) (45, 54)\n"
     ]
    }
   ],
   "source": [
    "y_rm = rm['best_seller']\n",
    "X_rm = rm[['avg_sent_len', 'avg_word_len', 'lex_diversity', 'polarity','subjectivity', 'profane','conj_coord',\n",
    "            'determiner', 'exist_there', 'foreign_word','conj_sub_prep', 'adj', 'adj_compare','adj_sup', \n",
    "           'verb_aux','noun', 'noun_prop', 'noun_prop_pural', 'noun_plural', 'predeterm','poss_ending','pronoun_pers',\n",
    "           'pronoun_poss', 'adv', 'adv_compare','adv_sup', 'adv_part', 'inf_to', 'interject', 'verb_base','verb_past',\n",
    "           'verb_ger', 'verb_pp', 'verb_sing_pres','verb_3rd_sing_pres', 'wh_determ', 'wh_pronoun', 'wh_poss','wh_adv',\n",
    "           'verb.body', 'verb.change', 'verb.cognition','verb.communication', 'verb.competition', 'verb.consumption',\n",
    "           'verb.contact', 'verb.creation', 'verb.emotion', 'verb.motion','verb.perception', 'verb.possession', \n",
    "           'verb.social', 'verb.stative','verb.weather']]\n",
    "\n",
    "\n",
    "print y_rm.shape, X_rm.shape"
   ]
  },
  {
   "cell_type": "code",
   "execution_count": 67,
   "metadata": {
    "collapsed": false
   },
   "outputs": [
    {
     "name": "stdout",
     "output_type": "stream",
     "text": [
      "(31, 54) (31,)\n",
      "(14, 54) (14,)\n"
     ]
    }
   ],
   "source": [
    "X_rm, X_rm_test, y_rm, y_rm_test = train_test_split(X_rm, y_rm, test_size=0.3)\n",
    "\n",
    "print X_rm.shape, y_rm.shape\n",
    "print X_rm_test.shape, y_rm_test.shape"
   ]
  },
  {
   "cell_type": "code",
   "execution_count": 73,
   "metadata": {
    "collapsed": false
   },
   "outputs": [
    {
     "name": "stdout",
     "output_type": "stream",
     "text": [
      "Fitting 5 folds for each of 240 candidates, totalling 1200 fits\n"
     ]
    },
    {
     "name": "stderr",
     "output_type": "stream",
     "text": [
      "[Parallel(n_jobs=-1)]: Done  42 tasks      | elapsed:    5.7s\n",
      "[Parallel(n_jobs=-1)]: Done 192 tasks      | elapsed:   24.3s\n",
      "[Parallel(n_jobs=-1)]: Done 442 tasks      | elapsed:   53.7s\n",
      "[Parallel(n_jobs=-1)]: Done 792 tasks      | elapsed:  1.6min\n",
      "[Parallel(n_jobs=-1)]: Done 1200 out of 1200 | elapsed:  2.5min finished\n"
     ]
    },
    {
     "name": "stdout",
     "output_type": "stream",
     "text": [
      "best estimator RandomForestClassifier(bootstrap=True, class_weight=None, criterion='gini',\n",
      "            max_depth=2, max_features='log2', max_leaf_nodes=None,\n",
      "            min_samples_leaf=7.3333333333333339, min_samples_split=2,\n",
      "            min_weight_fraction_leaf=0.0, n_estimators=80, n_jobs=1,\n",
      "            oob_score=False, random_state=None, verbose=0,\n",
      "            warm_start=False)\n",
      "\n",
      "best parameters {'max_features': 'log2', 'n_estimators': 80, 'max_depth': 2, 'min_samples_leaf': 7.3333333333333339}\n",
      "\n",
      "best score 0.741935483871\n"
     ]
    }
   ],
   "source": [
    "rfc = RandomForestClassifier()\n",
    "rf_params = {\n",
    "    'max_features':['log2','sqrt', 2,3,4,5],\n",
    "    'max_depth':[1,2,3,4],\n",
    "    'min_samples_leaf':np.linspace(1,20,10),\n",
    "    'n_estimators':[80]\n",
    "}\n",
    "\n",
    "rf_gs_rm = GridSearchCV(rfc, rf_params, cv=5, verbose=1, n_jobs=-1)\n",
    "rf_model_rm = rf_gs_rm.fit(X_rm, y_rm) \n",
    "\n",
    "rf_proba_rm = rf_model_rm.predict_log_proba(X_rm_test)\n",
    "\n",
    "rfc_best_rm = rf_gs_rm.best_estimator_\n",
    "print \"best estimator\", rfc_best_rm\n",
    "print \n",
    "print \"best parameters\",  rf_gs_rm.best_params_\n",
    "print \n",
    "print \"best score\", rf_gs_rm.best_score_"
   ]
  },
  {
   "cell_type": "code",
   "execution_count": 75,
   "metadata": {
    "collapsed": false
   },
   "outputs": [
    {
     "data": {
      "text/html": [
       "<div>\n",
       "<table border=\"1\" class=\"dataframe\">\n",
       "  <thead>\n",
       "    <tr style=\"text-align: right;\">\n",
       "      <th></th>\n",
       "      <th>feature</th>\n",
       "      <th>importance</th>\n",
       "    </tr>\n",
       "  </thead>\n",
       "  <tbody>\n",
       "    <tr>\n",
       "      <th>39</th>\n",
       "      <td>verb.body</td>\n",
       "      <td>0.062500</td>\n",
       "    </tr>\n",
       "    <tr>\n",
       "      <th>14</th>\n",
       "      <td>verb_aux</td>\n",
       "      <td>0.062500</td>\n",
       "    </tr>\n",
       "    <tr>\n",
       "      <th>12</th>\n",
       "      <td>adj_compare</td>\n",
       "      <td>0.062500</td>\n",
       "    </tr>\n",
       "    <tr>\n",
       "      <th>24</th>\n",
       "      <td>adv_compare</td>\n",
       "      <td>0.051399</td>\n",
       "    </tr>\n",
       "    <tr>\n",
       "      <th>23</th>\n",
       "      <td>adv</td>\n",
       "      <td>0.050000</td>\n",
       "    </tr>\n",
       "    <tr>\n",
       "      <th>25</th>\n",
       "      <td>adv_sup</td>\n",
       "      <td>0.047981</td>\n",
       "    </tr>\n",
       "    <tr>\n",
       "      <th>26</th>\n",
       "      <td>adv_part</td>\n",
       "      <td>0.044374</td>\n",
       "    </tr>\n",
       "    <tr>\n",
       "      <th>13</th>\n",
       "      <td>adj_sup</td>\n",
       "      <td>0.037500</td>\n",
       "    </tr>\n",
       "    <tr>\n",
       "      <th>30</th>\n",
       "      <td>verb_past</td>\n",
       "      <td>0.037500</td>\n",
       "    </tr>\n",
       "    <tr>\n",
       "      <th>2</th>\n",
       "      <td>lex_diversity</td>\n",
       "      <td>0.037500</td>\n",
       "    </tr>\n",
       "  </tbody>\n",
       "</table>\n",
       "</div>"
      ],
      "text/plain": [
       "          feature  importance\n",
       "39      verb.body    0.062500\n",
       "14       verb_aux    0.062500\n",
       "12    adj_compare    0.062500\n",
       "24    adv_compare    0.051399\n",
       "23            adv    0.050000\n",
       "25        adv_sup    0.047981\n",
       "26       adv_part    0.044374\n",
       "13        adj_sup    0.037500\n",
       "30      verb_past    0.037500\n",
       "2   lex_diversity    0.037500"
      ]
     },
     "execution_count": 75,
     "metadata": {},
     "output_type": "execute_result"
    }
   ],
   "source": [
    "## Print Feature importances\n",
    "feature_importance = pd.DataFrame({ 'feature':X_rm.columns, \n",
    "                                   'importance':rfc_best_rm.feature_importances_\n",
    "                                  })\n",
    "\n",
    "feature_importance.sort_values('importance', ascending=False, inplace=True)\n",
    "feature_importance.head(10)"
   ]
  },
  {
   "cell_type": "code",
   "execution_count": 77,
   "metadata": {
    "collapsed": false
   },
   "outputs": [
    {
     "data": {
      "text/html": [
       "<div>\n",
       "<table border=\"1\" class=\"dataframe\">\n",
       "  <thead>\n",
       "    <tr style=\"text-align: right;\">\n",
       "      <th></th>\n",
       "      <th>feature</th>\n",
       "      <th>importance</th>\n",
       "    </tr>\n",
       "  </thead>\n",
       "  <tbody>\n",
       "    <tr>\n",
       "      <th>1</th>\n",
       "      <td>avg_word_len</td>\n",
       "      <td>0.0</td>\n",
       "    </tr>\n",
       "    <tr>\n",
       "      <th>0</th>\n",
       "      <td>avg_sent_len</td>\n",
       "      <td>0.0</td>\n",
       "    </tr>\n",
       "  </tbody>\n",
       "</table>\n",
       "</div>"
      ],
      "text/plain": [
       "        feature  importance\n",
       "1  avg_word_len         0.0\n",
       "0  avg_sent_len         0.0"
      ]
     },
     "execution_count": 77,
     "metadata": {},
     "output_type": "execute_result"
    }
   ],
   "source": [
    "feature_importance.tail(2)"
   ]
  },
  {
   "cell_type": "code",
   "execution_count": 79,
   "metadata": {
    "collapsed": false
   },
   "outputs": [
    {
     "data": {
      "image/png": "[encoded data removed]",
      "text/plain": [
       "<matplotlib.figure.Figure at 0x1237d6f50>"
      ]
     },
     "metadata": {},
     "output_type": "display_data"
    }
   ],
   "source": [
    "plot_roc_curve(target=y_rm_test, predict_proba=rf_proba_rm[:,1], title='Romance best-seller prediction')"
   ]
  },
  {
   "cell_type": "code",
   "execution_count": 86,
   "metadata": {
    "collapsed": false
   },
   "outputs": [
    {
     "name": "stdout",
     "output_type": "stream",
     "text": [
      "Fitting 5 folds for each of 240 candidates, totalling 1200 fits\n"
     ]
    },
    {
     "name": "stderr",
     "output_type": "stream",
     "text": [
      "[Parallel(n_jobs=-1)]: Done  42 tasks      | elapsed:    5.5s\n",
      "[Parallel(n_jobs=-1)]: Done 192 tasks      | elapsed:   24.7s\n",
      "[Parallel(n_jobs=-1)]: Done 442 tasks      | elapsed:   57.3s\n",
      "[Parallel(n_jobs=-1)]: Done 792 tasks      | elapsed:  1.8min\n",
      "[Parallel(n_jobs=-1)]: Done 1200 out of 1200 | elapsed:  2.7min finished\n"
     ]
    },
    {
     "data": {
      "image/png": "[encoded data removed]",
      "text/plain": [
       "<matplotlib.figure.Figure at 0x124016290>"
      ]
     },
     "metadata": {},
     "output_type": "display_data"
    }
   ],
   "source": [
    "plot_roc(rf_model_rm, X_rm, X_rm_test,y_rm,y_rm_test,'Romance best-seller prediction')"
   ]
  },
  {
   "cell_type": "code",
   "execution_count": 64,
   "metadata": {
    "collapsed": false
   },
   "outputs": [],
   "source": [
    "def plot_roc_curve(target=False, predict_proba=False, title='Your prediction'):\n",
    "\n",
    "    FPR = dict()\n",
    "    TPR = dict()\n",
    "    ROC_AUC = dict()\n",
    "\n",
    "    FPR[1], TPR[1], _ = roc_curve(target,predict_proba)\n",
    "    ROC_AUC[1] = auc(FPR[1], TPR[1])\n",
    "    acc_ = np.abs(0.5 - np.mean(target)) + 0.5\n",
    "\n",
    "    plt.figure(figsize=[11,9])\n",
    "    plt.plot(FPR[1], TPR[1], label='ROC curve (area = %0.2f)' % ROC_AUC[1], linewidth=4)\n",
    "    #plt.plot([0, 1], [0, 1], 'k--', linewidth=4)\n",
    "    plt.plot([0, 1], [0, 1], color='grey', ls='dashed',\n",
    "             alpha=0.9, linewidth=4, label='baseline accuracy = %0.2f' % acc_)\n",
    "    plt.xlim([0.0, 1.0])\n",
    "    plt.ylim([0.0, 1.05])\n",
    "    plt.xlabel('False Positive Rate', fontsize=18)\n",
    "    plt.ylabel('True Positive Rate', fontsize=18)\n",
    "    plt.title(' %s' % title, fontsize=18)\n",
    "    plt.legend(loc=\"lower right\")\n",
    "    plt.show()"
   ]
  },
  {
   "cell_type": "code",
   "execution_count": 85,
   "metadata": {
    "collapsed": true
   },
   "outputs": [],
   "source": [
    "def plot_roc(mod, X, X_test,y,y_test, varname):\n",
    "    mod.fit(X, y)\n",
    "    y_pp = mod.predict_log_proba(X_test)[:, 1]\n",
    "    fpr_, tpr_, _ = roc_curve(y_test, y_pp)\n",
    "    auc_ = auc(fpr_, tpr_)\n",
    "    acc_ = np.abs(0.5 - np.mean(y)) + 0.5\n",
    "    \n",
    "    fig, axr = plt.subplots(figsize=(10,10))\n",
    "\n",
    "    axr.plot(fpr_, tpr_, label='ROC (area = %0.2f)' % auc_,\n",
    "             color='darkred', linewidth=4,\n",
    "             alpha=0.7)\n",
    "    axr.plot([0, 1], [0, 1], color='grey', ls='dashed',\n",
    "             alpha=0.9, linewidth=4, label='baseline accuracy = %0.2f' % acc_)\n",
    "    axr.set_xlim([-0.05, 1.05])\n",
    "    axr.set_ylim([0.0, 1.05])\n",
    "    axr.set_xlabel('false positive rate', fontsize=16)\n",
    "    axr.set_ylabel('true positive rate', fontsize=16)\n",
    "    axr.set_title(varname+' vs. not ROC curve\\n', fontsize=20)\n",
    "    \n",
    "    axr.legend(loc=\"lower right\", fontsize=12)\n",
    "    plt.show()"
   ]
  },
  {
   "cell_type": "code",
   "execution_count": null,
   "metadata": {
    "collapsed": true
   },
   "outputs": [],
   "source": []
  }
 ],
 "metadata": {
  "anaconda-cloud": {},
  "kernelspec": {
   "display_name": "Python [dsi]",
   "language": "python",
   "name": "Python [dsi]"
  },
  "language_info": {
   "codemirror_mode": {
    "name": "ipython",
    "version": 2
   },
   "file_extension": ".py",
   "mimetype": "text/x-python",
   "name": "python",
   "nbconvert_exporter": "python",
   "pygments_lexer": "ipython2",
   "version": "2.7.12"
  }
 },
 "nbformat": 4,
 "nbformat_minor": 0
}
