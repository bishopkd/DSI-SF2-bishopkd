{
 "cells": [
  {
   "cell_type": "markdown",
   "metadata": {},
   "source": [
    "# EDA"
   ]
  },
  {
   "cell_type": "markdown",
   "metadata": {},
   "source": [
    "### Import libraries and declare global variables"
   ]
  },
  {
   "cell_type": "code",
   "execution_count": 135,
   "metadata": {
    "collapsed": false
   },
   "outputs": [],
   "source": [
    "import os\n",
    "import re\n",
    "import nltk\n",
    "import textract\n",
    "import pandas as pd\n",
    "import numpy as np\n",
    "import seaborn as sns\n",
    "from collections import Counter\n",
    "import matplotlib.pyplot as plt\n",
    "plt.style.use('fivethirtyeight')\n",
    "%matplotlib inline\n",
    "from collections import Counter, defaultdict\n",
    "from gensim import corpora, models, matutils\n",
    "from sklearn.feature_extraction import text\n",
    "from nltk.tokenize import RegexpTokenizer\n",
    "from nltk.tokenize import PunktSentenceTokenizer\n",
    "from sklearn.feature_extraction.text import CountVectorizer"
   ]
  },
  {
   "cell_type": "code",
   "execution_count": 17,
   "metadata": {
    "collapsed": false
   },
   "outputs": [],
   "source": [
    "path = '/Users/katbishop/Desktop/DSI-SF2-bishopkd/projects/capstone/data/'\n",
    "folders = ['sci-fi_top','sci-fi_flop','romance_top','romance_flop']"
   ]
  },
  {
   "cell_type": "markdown",
   "metadata": {},
   "source": [
    "### Load the data\n",
    "See the data creation details [here](https://github.com/bishopkd/DSI-SF2-bishopkd/blob/master/projects/capstone/reports/data_creation.ipynb)"
   ]
  },
  {
   "cell_type": "code",
   "execution_count": 480,
   "metadata": {
    "collapsed": false
   },
   "outputs": [],
   "source": [
    "df = pd.read_csv(path + 'df.csv')\n",
    "del df['Unnamed: 0']\n",
    "#del df['Unnamed: 0.1']"
   ]
  },
  {
   "cell_type": "code",
   "execution_count": 481,
   "metadata": {
    "collapsed": false
   },
   "outputs": [
    {
     "data": {
      "text/html": [
       "<div>\n",
       "<table border=\"1\" class=\"dataframe\">\n",
       "  <thead>\n",
       "    <tr style=\"text-align: right;\">\n",
       "      <th></th>\n",
       "      <th>best_seller</th>\n",
       "      <th>body</th>\n",
       "      <th>sci_fi</th>\n",
       "      <th>title</th>\n",
       "      <th>avg_sent_len</th>\n",
       "      <th>word_count</th>\n",
       "      <th>avg_word_len</th>\n",
       "      <th>lex_diversity</th>\n",
       "      <th>polarity</th>\n",
       "      <th>subjectivity</th>\n",
       "      <th>...</th>\n",
       "      <th>verb_pp</th>\n",
       "      <th>verb_sing_pres</th>\n",
       "      <th>verb_3rd_sing_pres</th>\n",
       "      <th>wh_determ</th>\n",
       "      <th>wh_pronoun</th>\n",
       "      <th>wh_poss</th>\n",
       "      <th>wh_adv</th>\n",
       "      <th>poss_ending</th>\n",
       "      <th>symbol</th>\n",
       "      <th>list_marker</th>\n",
       "    </tr>\n",
       "  </thead>\n",
       "  <tbody>\n",
       "    <tr>\n",
       "      <th>0</th>\n",
       "      <td>1</td>\n",
       "      <td>Prologue  The sun is always just about to ris...</td>\n",
       "      <td>1</td>\n",
       "      <td>2312 - kim stanley robinson</td>\n",
       "      <td>14</td>\n",
       "      <td>166265</td>\n",
       "      <td>4</td>\n",
       "      <td>0.090717</td>\n",
       "      <td>0.076000</td>\n",
       "      <td>0.465868</td>\n",
       "      <td>...</td>\n",
       "      <td>3916.0</td>\n",
       "      <td>3230.0</td>\n",
       "      <td>1780.0</td>\n",
       "      <td>703.0</td>\n",
       "      <td>779.0</td>\n",
       "      <td>4.0</td>\n",
       "      <td>922.0</td>\n",
       "      <td>0.0</td>\n",
       "      <td>0.0</td>\n",
       "      <td>0.0</td>\n",
       "    </tr>\n",
       "    <tr>\n",
       "      <th>1</th>\n",
       "      <td>1</td>\n",
       "      <td>How to explain? How to describe? Even the omni...</td>\n",
       "      <td>1</td>\n",
       "      <td>a fire upon the deep - vernor vinge</td>\n",
       "      <td>11</td>\n",
       "      <td>207548</td>\n",
       "      <td>4</td>\n",
       "      <td>0.064477</td>\n",
       "      <td>0.067722</td>\n",
       "      <td>0.459148</td>\n",
       "      <td>...</td>\n",
       "      <td>5106.0</td>\n",
       "      <td>3117.0</td>\n",
       "      <td>2363.0</td>\n",
       "      <td>818.0</td>\n",
       "      <td>880.0</td>\n",
       "      <td>9.0</td>\n",
       "      <td>998.0</td>\n",
       "      <td>1809.0</td>\n",
       "      <td>1.0</td>\n",
       "      <td>0.0</td>\n",
       "    </tr>\n",
       "  </tbody>\n",
       "</table>\n",
       "<p>2 rows × 48 columns</p>\n",
       "</div>"
      ],
      "text/plain": [
       "   best_seller                                               body  sci_fi  \\\n",
       "0            1   Prologue  The sun is always just about to ris...       1   \n",
       "1            1  How to explain? How to describe? Even the omni...       1   \n",
       "\n",
       "                                 title  avg_sent_len  word_count  \\\n",
       "0          2312 - kim stanley robinson            14      166265   \n",
       "1  a fire upon the deep - vernor vinge            11      207548   \n",
       "\n",
       "   avg_word_len  lex_diversity  polarity  subjectivity     ...       verb_pp  \\\n",
       "0             4       0.090717  0.076000      0.465868     ...        3916.0   \n",
       "1             4       0.064477  0.067722      0.459148     ...        5106.0   \n",
       "\n",
       "   verb_sing_pres  verb_3rd_sing_pres  wh_determ  wh_pronoun  wh_poss  wh_adv  \\\n",
       "0          3230.0              1780.0      703.0       779.0      4.0   922.0   \n",
       "1          3117.0              2363.0      818.0       880.0      9.0   998.0   \n",
       "\n",
       "   poss_ending  symbol  list_marker  \n",
       "0          0.0     0.0          0.0  \n",
       "1       1809.0     1.0          0.0  \n",
       "\n",
       "[2 rows x 48 columns]"
      ]
     },
     "execution_count": 481,
     "metadata": {},
     "output_type": "execute_result"
    }
   ],
   "source": [
    "df.head(2)"
   ]
  },
  {
   "cell_type": "code",
   "execution_count": 77,
   "metadata": {
    "collapsed": false
   },
   "outputs": [],
   "source": [
    "df.dtypes"
   ]
  },
  {
   "cell_type": "code",
   "execution_count": 78,
   "metadata": {
    "collapsed": false
   },
   "outputs": [
    {
     "data": {
      "text/plain": [
       "(77, 50)"
      ]
     },
     "execution_count": 78,
     "metadata": {},
     "output_type": "execute_result"
    }
   ],
   "source": [
    "df.shape"
   ]
  },
  {
   "cell_type": "code",
   "execution_count": 482,
   "metadata": {
    "collapsed": true
   },
   "outputs": [],
   "source": [
    "# subset the data\n",
    "sf = df[df['sci_fi']==1]\n",
    "rm = df[df['sci_fi']==0]\n",
    "bs = df[(df['best_seller']==1)]\n",
    "f = df[(df['best_seller']==0)]\n",
    "sfbs = df[((df['best_seller']==1) & (df['sci_fi']==1))]\n",
    "rmbs = df[((df['best_seller']==1) & (df['sci_fi']==0))]\n",
    "sff = df[((df['best_seller']==0) & (df['sci_fi']==1))]\n",
    "rmf = df[((df['best_seller']==0) & (df['sci_fi']==0))]"
   ]
  },
  {
   "cell_type": "code",
   "execution_count": 1,
   "metadata": {
    "collapsed": false
   },
   "outputs": [],
   "source": [
    "df.describe().T"
   ]
  },
  {
   "cell_type": "code",
   "execution_count": 2,
   "metadata": {
    "collapsed": false
   },
   "outputs": [],
   "source": [
    "sfbs.describe().T"
   ]
  },
  {
   "cell_type": "code",
   "execution_count": 3,
   "metadata": {
    "collapsed": false
   },
   "outputs": [],
   "source": [
    "sff.describe().T"
   ]
  },
  {
   "cell_type": "code",
   "execution_count": 4,
   "metadata": {
    "collapsed": false
   },
   "outputs": [],
   "source": [
    "rmbs.describe().T"
   ]
  },
  {
   "cell_type": "code",
   "execution_count": 5,
   "metadata": {
    "collapsed": false
   },
   "outputs": [],
   "source": [
    "rmf.describe().T"
   ]
  },
  {
   "cell_type": "markdown",
   "metadata": {},
   "source": [
    "### Correlation\n",
    "There is not strong correlation among the initial metrics, though there is some.\n",
    "   * For science-fiction, best-sellers seem to favor a longer sentence and word length yet a less complex lexicon. There also appears to be a preference for an objective writing style that goes a bit negative.\n",
    "   * Romance best-sellers favors a shorter sentence length of longer words and an even less complex lexicon. Also, a neutral sentiment and more personal point of view.\n",
    "   * Both genres keep it pretty clean in the profanity department with a slight positive correlation"
   ]
  },
  {
   "cell_type": "code",
   "execution_count": 483,
   "metadata": {
    "collapsed": false
   },
   "outputs": [
    {
     "data": {
      "text/html": [
       "<div>\n",
       "<table border=\"1\" class=\"dataframe\">\n",
       "  <thead>\n",
       "    <tr style=\"text-align: right;\">\n",
       "      <th></th>\n",
       "      <th>best_seller</th>\n",
       "      <th>avg_sent_len</th>\n",
       "      <th>avg_word_len</th>\n",
       "      <th>lex_diversity</th>\n",
       "      <th>polarity</th>\n",
       "      <th>subjectivity</th>\n",
       "      <th>profane</th>\n",
       "    </tr>\n",
       "  </thead>\n",
       "  <tbody>\n",
       "    <tr>\n",
       "      <th>best_seller</th>\n",
       "      <td>1.000000</td>\n",
       "      <td>0.221919</td>\n",
       "      <td>0.166436</td>\n",
       "      <td>-0.328243</td>\n",
       "      <td>-0.162629</td>\n",
       "      <td>-0.342017</td>\n",
       "      <td>0.014348</td>\n",
       "    </tr>\n",
       "    <tr>\n",
       "      <th>avg_sent_len</th>\n",
       "      <td>0.221919</td>\n",
       "      <td>1.000000</td>\n",
       "      <td>0.225568</td>\n",
       "      <td>-0.128631</td>\n",
       "      <td>0.116856</td>\n",
       "      <td>-0.021222</td>\n",
       "      <td>-0.094808</td>\n",
       "    </tr>\n",
       "    <tr>\n",
       "      <th>avg_word_len</th>\n",
       "      <td>0.166436</td>\n",
       "      <td>0.225568</td>\n",
       "      <td>1.000000</td>\n",
       "      <td>0.115167</td>\n",
       "      <td>-0.070664</td>\n",
       "      <td>0.006419</td>\n",
       "      <td>-0.121238</td>\n",
       "    </tr>\n",
       "    <tr>\n",
       "      <th>lex_diversity</th>\n",
       "      <td>-0.328243</td>\n",
       "      <td>-0.128631</td>\n",
       "      <td>0.115167</td>\n",
       "      <td>1.000000</td>\n",
       "      <td>-0.021629</td>\n",
       "      <td>0.187978</td>\n",
       "      <td>0.055819</td>\n",
       "    </tr>\n",
       "    <tr>\n",
       "      <th>polarity</th>\n",
       "      <td>-0.162629</td>\n",
       "      <td>0.116856</td>\n",
       "      <td>-0.070664</td>\n",
       "      <td>-0.021629</td>\n",
       "      <td>1.000000</td>\n",
       "      <td>0.230583</td>\n",
       "      <td>-0.151097</td>\n",
       "    </tr>\n",
       "    <tr>\n",
       "      <th>subjectivity</th>\n",
       "      <td>-0.342017</td>\n",
       "      <td>-0.021222</td>\n",
       "      <td>0.006419</td>\n",
       "      <td>0.187978</td>\n",
       "      <td>0.230583</td>\n",
       "      <td>1.000000</td>\n",
       "      <td>-0.044606</td>\n",
       "    </tr>\n",
       "    <tr>\n",
       "      <th>profane</th>\n",
       "      <td>0.014348</td>\n",
       "      <td>-0.094808</td>\n",
       "      <td>-0.121238</td>\n",
       "      <td>0.055819</td>\n",
       "      <td>-0.151097</td>\n",
       "      <td>-0.044606</td>\n",
       "      <td>1.000000</td>\n",
       "    </tr>\n",
       "  </tbody>\n",
       "</table>\n",
       "</div>"
      ],
      "text/plain": [
       "               best_seller  avg_sent_len  avg_word_len  lex_diversity  \\\n",
       "best_seller       1.000000      0.221919      0.166436      -0.328243   \n",
       "avg_sent_len      0.221919      1.000000      0.225568      -0.128631   \n",
       "avg_word_len      0.166436      0.225568      1.000000       0.115167   \n",
       "lex_diversity    -0.328243     -0.128631      0.115167       1.000000   \n",
       "polarity         -0.162629      0.116856     -0.070664      -0.021629   \n",
       "subjectivity     -0.342017     -0.021222      0.006419       0.187978   \n",
       "profane           0.014348     -0.094808     -0.121238       0.055819   \n",
       "\n",
       "               polarity  subjectivity   profane  \n",
       "best_seller   -0.162629     -0.342017  0.014348  \n",
       "avg_sent_len   0.116856     -0.021222 -0.094808  \n",
       "avg_word_len  -0.070664      0.006419 -0.121238  \n",
       "lex_diversity -0.021629      0.187978  0.055819  \n",
       "polarity       1.000000      0.230583 -0.151097  \n",
       "subjectivity   0.230583      1.000000 -0.044606  \n",
       "profane       -0.151097     -0.044606  1.000000  "
      ]
     },
     "execution_count": 483,
     "metadata": {},
     "output_type": "execute_result"
    }
   ],
   "source": [
    "sf[['best_seller','avg_sent_len','avg_word_len','lex_diversity','polarity','subjectivity','profane']].corr()"
   ]
  },
  {
   "cell_type": "code",
   "execution_count": 484,
   "metadata": {
    "collapsed": false
   },
   "outputs": [
    {
     "data": {
      "text/html": [
       "<div>\n",
       "<table border=\"1\" class=\"dataframe\">\n",
       "  <thead>\n",
       "    <tr style=\"text-align: right;\">\n",
       "      <th></th>\n",
       "      <th>best_seller</th>\n",
       "      <th>avg_sent_len</th>\n",
       "      <th>avg_word_len</th>\n",
       "      <th>lex_diversity</th>\n",
       "      <th>polarity</th>\n",
       "      <th>subjectivity</th>\n",
       "      <th>profane</th>\n",
       "    </tr>\n",
       "  </thead>\n",
       "  <tbody>\n",
       "    <tr>\n",
       "      <th>best_seller</th>\n",
       "      <td>1.000000</td>\n",
       "      <td>-0.018123</td>\n",
       "      <td>0.266254</td>\n",
       "      <td>-0.372257</td>\n",
       "      <td>-0.032143</td>\n",
       "      <td>0.183337</td>\n",
       "      <td>0.011984</td>\n",
       "    </tr>\n",
       "    <tr>\n",
       "      <th>avg_sent_len</th>\n",
       "      <td>-0.018123</td>\n",
       "      <td>1.000000</td>\n",
       "      <td>0.102570</td>\n",
       "      <td>-0.109240</td>\n",
       "      <td>-0.059017</td>\n",
       "      <td>0.041212</td>\n",
       "      <td>-0.238654</td>\n",
       "    </tr>\n",
       "    <tr>\n",
       "      <th>avg_word_len</th>\n",
       "      <td>0.266254</td>\n",
       "      <td>0.102570</td>\n",
       "      <td>1.000000</td>\n",
       "      <td>-0.137504</td>\n",
       "      <td>0.011303</td>\n",
       "      <td>0.306577</td>\n",
       "      <td>-0.089993</td>\n",
       "    </tr>\n",
       "    <tr>\n",
       "      <th>lex_diversity</th>\n",
       "      <td>-0.372257</td>\n",
       "      <td>-0.109240</td>\n",
       "      <td>-0.137504</td>\n",
       "      <td>1.000000</td>\n",
       "      <td>0.258690</td>\n",
       "      <td>-0.374381</td>\n",
       "      <td>-0.116054</td>\n",
       "    </tr>\n",
       "    <tr>\n",
       "      <th>polarity</th>\n",
       "      <td>-0.032143</td>\n",
       "      <td>-0.059017</td>\n",
       "      <td>0.011303</td>\n",
       "      <td>0.258690</td>\n",
       "      <td>1.000000</td>\n",
       "      <td>-0.146386</td>\n",
       "      <td>-0.507220</td>\n",
       "    </tr>\n",
       "    <tr>\n",
       "      <th>subjectivity</th>\n",
       "      <td>0.183337</td>\n",
       "      <td>0.041212</td>\n",
       "      <td>0.306577</td>\n",
       "      <td>-0.374381</td>\n",
       "      <td>-0.146386</td>\n",
       "      <td>1.000000</td>\n",
       "      <td>0.154842</td>\n",
       "    </tr>\n",
       "    <tr>\n",
       "      <th>profane</th>\n",
       "      <td>0.011984</td>\n",
       "      <td>-0.238654</td>\n",
       "      <td>-0.089993</td>\n",
       "      <td>-0.116054</td>\n",
       "      <td>-0.507220</td>\n",
       "      <td>0.154842</td>\n",
       "      <td>1.000000</td>\n",
       "    </tr>\n",
       "  </tbody>\n",
       "</table>\n",
       "</div>"
      ],
      "text/plain": [
       "               best_seller  avg_sent_len  avg_word_len  lex_diversity  \\\n",
       "best_seller       1.000000     -0.018123      0.266254      -0.372257   \n",
       "avg_sent_len     -0.018123      1.000000      0.102570      -0.109240   \n",
       "avg_word_len      0.266254      0.102570      1.000000      -0.137504   \n",
       "lex_diversity    -0.372257     -0.109240     -0.137504       1.000000   \n",
       "polarity         -0.032143     -0.059017      0.011303       0.258690   \n",
       "subjectivity      0.183337      0.041212      0.306577      -0.374381   \n",
       "profane           0.011984     -0.238654     -0.089993      -0.116054   \n",
       "\n",
       "               polarity  subjectivity   profane  \n",
       "best_seller   -0.032143      0.183337  0.011984  \n",
       "avg_sent_len  -0.059017      0.041212 -0.238654  \n",
       "avg_word_len   0.011303      0.306577 -0.089993  \n",
       "lex_diversity  0.258690     -0.374381 -0.116054  \n",
       "polarity       1.000000     -0.146386 -0.507220  \n",
       "subjectivity  -0.146386      1.000000  0.154842  \n",
       "profane       -0.507220      0.154842  1.000000  "
      ]
     },
     "execution_count": 484,
     "metadata": {},
     "output_type": "execute_result"
    }
   ],
   "source": [
    "rm[['best_seller','avg_sent_len','avg_word_len','lex_diversity','polarity','subjectivity','profane']].corr()"
   ]
  },
  {
   "cell_type": "code",
   "execution_count": 485,
   "metadata": {
    "collapsed": false
   },
   "outputs": [
    {
     "data": {
      "text/plain": [
       "<matplotlib.axes._subplots.AxesSubplot at 0x18a7a3050>"
      ]
     },
     "execution_count": 485,
     "metadata": {},
     "output_type": "execute_result"
    },
    {
     "data": {
      "image/png": "[encoded data removed]",
      "text/plain": [
       "<matplotlib.figure.Figure at 0x130dd3b50>"
      ]
     },
     "metadata": {},
     "output_type": "display_data"
    }
   ],
   "source": [
    "sns.heatmap(sf[['best_seller','avg_sent_len','avg_word_len','lex_diversity','polarity','subjectivity','profane']].corr())"
   ]
  },
  {
   "cell_type": "code",
   "execution_count": 486,
   "metadata": {
    "collapsed": false
   },
   "outputs": [
    {
     "data": {
      "text/plain": [
       "<matplotlib.axes._subplots.AxesSubplot at 0x139bf1550>"
      ]
     },
     "execution_count": 486,
     "metadata": {},
     "output_type": "execute_result"
    },
    {
     "data": {
      "image/png": "[encoded data removed]",
      "text/plain": [
       "<matplotlib.figure.Figure at 0x131e75350>"
      ]
     },
     "metadata": {},
     "output_type": "display_data"
    }
   ],
   "source": [
    "sns.heatmap(rm[['best_seller','avg_sent_len','avg_word_len','lex_diversity','polarity','subjectivity','profane']].corr())"
   ]
  },
  {
   "cell_type": "markdown",
   "metadata": {},
   "source": [
    "### The metrics"
   ]
  },
  {
   "cell_type": "code",
   "execution_count": 494,
   "metadata": {
    "collapsed": false
   },
   "outputs": [
    {
     "data": {
      "image/png": "[encoded data removed]",
      "text/plain": [
       "<matplotlib.figure.Figure at 0x139e2ffd0>"
      ]
     },
     "metadata": {},
     "output_type": "display_data"
    }
   ],
   "source": [
    "fig = plt.figure(figsize=(12,5))\n",
    "sns.set_style(\"whitegrid\")\n",
    "sns.boxplot(x='profane', y=\"sci_fi\", hue=\"best_seller\", data=df, palette=\"Set1\", orient='h',saturation=.9,linewidth=1.3)\n",
    "sns.despine(offset=10, trim=True)\n",
    "plt.xlabel('Profanity percentage of total work', fontsize = 16)\n",
    "plt.ylabel('Genre\\n1=Sci-Fi,  0=Romance', fontsize = 16)\n",
    "plt.title('Profanity by genre\\n', fontsize = 20)\n",
    "l=plt.legend(loc='upper right')\n",
    "l.get_texts()[0].set_text('Flop')\n",
    "l.get_texts()[1].set_text('Best seller')\n",
    "plt.show()"
   ]
  },
  {
   "cell_type": "code",
   "execution_count": 495,
   "metadata": {
    "collapsed": false
   },
   "outputs": [
    {
     "data": {
      "image/png": "[encoded data removed]",
      "text/plain": [
       "<matplotlib.figure.Figure at 0x1557628d0>"
      ]
     },
     "metadata": {},
     "output_type": "display_data"
    }
   ],
   "source": [
    "fig = plt.figure(figsize=(12,5))\n",
    "sns.set_style(\"whitegrid\")\n",
    "sns.boxplot(x='lex_diversity', y=\"sci_fi\", hue=\"best_seller\", data=df, palette=\"Set1\", orient='h',saturation=0.9,linewidth=1.3)\n",
    "sns.despine(offset=10, trim=True)\n",
    "plt.xlabel('Lexical diversity', fontsize = 16)\n",
    "plt.ylabel('Genre\\n1=Sci-Fi,  0=Romance', fontsize = 16)\n",
    "plt.title('Lexical diversity by genre\\n', fontsize = 20)\n",
    "l=plt.legend(loc='upper right')\n",
    "l.get_texts()[0].set_text('Flop')\n",
    "l.get_texts()[1].set_text('Best seller')\n",
    "plt.show()"
   ]
  },
  {
   "cell_type": "code",
   "execution_count": 469,
   "metadata": {
    "collapsed": false
   },
   "outputs": [
    {
     "data": {
      "image/png": "[encoded data removed]",
      "text/plain": [
       "<matplotlib.figure.Figure at 0x19f31a110>"
      ]
     },
     "metadata": {},
     "output_type": "display_data"
    }
   ],
   "source": [
    "fig = plt.figure(figsize=(12,5))\n",
    "sns.set_style(\"whitegrid\")\n",
    "sns.boxplot(x='polarity', y=\"sci_fi\", hue=\"best_seller\", data=df, palette=\"Set1\", orient='h',saturation=0.9,linewidth=1.3)\n",
    "sns.despine(offset=10, trim=True)\n",
    "plt.xlabel('Polarity', fontsize = 16)\n",
    "plt.ylabel('Genre\\n1=Sci-Fi,  0=Romance', fontsize = 16)\n",
    "plt.title('Negative to positive polarity\\nby genre\\n', fontsize = 20)\n",
    "l=plt.legend(loc='upper right')\n",
    "l.get_texts()[0].set_text('Flop')\n",
    "l.get_texts()[1].set_text('Best seller')\n",
    "plt.show()"
   ]
  },
  {
   "cell_type": "code",
   "execution_count": 493,
   "metadata": {
    "collapsed": false
   },
   "outputs": [
    {
     "data": {
      "image/png": "[encoded data removed]",
      "text/plain": [
       "<matplotlib.figure.Figure at 0x18a118410>"
      ]
     },
     "metadata": {},
     "output_type": "display_data"
    }
   ],
   "source": [
    "fig = plt.figure(figsize=(14,5))\n",
    "sns.set_style(\"whitegrid\")\n",
    "sns.boxplot(x='subjectivity', y=\"sci_fi\", hue=\"best_seller\", data=df, palette=\"Set1\", orient='h',saturation=0.9,linewidth=1.3)\n",
    "sns.despine(offset=10, trim=True)\n",
    "plt.xlabel('Subjectivity', fontsize = 16)\n",
    "plt.ylabel('Genre\\n1=Sci-Fi,  0=Romance ', fontsize = 16)\n",
    "plt.title('Subjectivity by genre\\n', fontsize = 20)\n",
    "l=plt.legend(loc='upper right')\n",
    "l.get_texts()[0].set_text('Flop')\n",
    "l.get_texts()[1].set_text('Best seller')\n",
    "plt.show()"
   ]
  },
  {
   "cell_type": "code",
   "execution_count": 501,
   "metadata": {
    "collapsed": false
   },
   "outputs": [
    {
     "data": {
      "image/png": "[encoded data removed]",
      "text/plain": [
       "<matplotlib.figure.Figure at 0x179999d50>"
      ]
     },
     "metadata": {},
     "output_type": "display_data"
    }
   ],
   "source": [
    "fig,ax = plt.subplots(figsize=(14,8))\n",
    "ax = sns.violinplot(x=\"sci_fi\", y=\"subjectivity\", hue=\"best_seller\",\n",
    "                    data=df, palette=\"Set1\", split=True,scale=\"count\", ax=ax)\n",
    "plt.show()"
   ]
  },
  {
   "cell_type": "markdown",
   "metadata": {},
   "source": [
    "### Important words and bi_/tri_grams"
   ]
  },
  {
   "cell_type": "code",
   "execution_count": 478,
   "metadata": {
    "collapsed": false
   },
   "outputs": [],
   "source": [
    "stop_words = text.ENGLISH_STOP_WORDS.union(['232'])\n",
    "# remove character names\n",
    "char_name_stop = stop_words.union(['awn','muad','dib','hock','seng','nell','pham','nuwen', 'enzo','anaander','mianaai',\n",
    "                                   'rautha','feyd','willoughby','brandon','john','dashwood','jessica','fang','hiro',\n",
    "                                  'steele','anastasia','rochester','jennings','ian','middleton','tara','jean','fairfax',\n",
    "                                  'mcgraw','finkle', 'dearborne','dearbornes','peterby','anne','alice','henry','simon',\n",
    "                                  'gavin','marco','bruce','catherine','nicky','brent','reverend','bene','gesserit','clef',\n",
    "                                  'radch','kei',\"sjandra\",'goodbody','paul','robert','horza','ender','ruby','travis','dar',\n",
    "                                  'miller','holden','travis','leto','mike','anna','justus','swan','jeff','onor','stilgar',\n",
    "                                  'sam','jamie','sasha','riley','nerezza','christian','grey','ceo', 'enterprises','caroline',\n",
    "                                  'grace','ivy','baron','rick','naomi','case','dinah','fassin','duke','yalson','closp','cliff',\n",
    "                                  'michael','amos','jerry','slug','sai','hackworth','nelson','said','just','like','alec',\n",
    "                                  'rosie','anderson','kanya','jaidee','isidore','sally','chuck','irene','jack','marcus','callie',\n",
    "                                  'georgia','oliver','jenny','robinson','roderick','clubor','ellie','james','gideon','connor','matt',\n",
    "                                  'alia','ghanima','balveda','kraiklyn','farad','hawat','ravna','ariekei','wahram','johanna','jefri',\n",
    "                                  'seivarden','miri','emiko','dllenahkh','sadiri','ingrid','mandal','simone','yvonne','ajax','sara',\n",
    "                                  'phipps','sharrock','miri','yvonne','allie','ginger','molly','bran','sawyer','ethan','whitey','ruban',\n",
    "                                  'ferranti','lian','emiko','nasiha','joel','naveen','livia','roscoe','delphi','lex','armand'])"
   ]
  },
  {
   "cell_type": "code",
   "execution_count": 118,
   "metadata": {
    "collapsed": false
   },
   "outputs": [],
   "source": [
    "# initial feature review to see anything interesting\n",
    "\n",
    "from sklearn.feature_extraction.text import TfidfVectorizer\n",
    "from collections import Counter\n",
    "from sklearn.feature_extraction import text \n",
    "\n",
    "vect = TfidfVectorizer(ngram_range=(1,1), stop_words=char_name_stop)\n",
    "\n",
    "summaries_sfbs = \"\".join(sfbs['body'])\n",
    "summaries_rmbs = \"\".join(rmbs['body'])\n",
    "summaries_sff = \"\".join(sff['body'])\n",
    "summaries_rmf = \"\".join(rmf['body'])\n",
    "summaries_bs = \"\".join(bs['body'])\n",
    "summaries_f = \"\".join(f['body'])\n",
    "\n",
    "ngrams_summaries_sfbs = vect.build_analyzer()(summaries_sfbs)\n",
    "ngrams_summaries_rmbs = vect.build_analyzer()(summaries_rmbs)\n",
    "ngrams_summaries_sff = vect.build_analyzer()(summaries_sff)\n",
    "ngrams_summaries_rmf = vect.build_analyzer()(summaries_rmf)\n",
    "ngrams_summaries_bs = vect.build_analyzer()(summaries_bs)\n",
    "ngrams_summaries_f = vect.build_analyzer()(summaries_f)"
   ]
  },
  {
   "cell_type": "code",
   "execution_count": 43,
   "metadata": {
    "collapsed": false
   },
   "outputs": [],
   "source": [
    "#Counter(ngrams_summaries_bs).most_common(50)"
   ]
  },
  {
   "cell_type": "code",
   "execution_count": 42,
   "metadata": {
    "collapsed": false
   },
   "outputs": [],
   "source": [
    "#Counter(ngrams_summaries_f).most_common(50)"
   ]
  },
  {
   "cell_type": "code",
   "execution_count": 121,
   "metadata": {
    "collapsed": false
   },
   "outputs": [
    {
     "data": {
      "text/plain": [
       "[(u'said', 16618),\n",
       " (u'like', 8113),\n",
       " (u'just', 6633),\n",
       " (u'time', 5624),\n",
       " (u'know', 4966),\n",
       " (u'way', 4626),\n",
       " (u'people', 4198),\n",
       " (u'did', 3921),\n",
       " (u'looked', 3706),\n",
       " (u'little', 3406),\n",
       " (u'thought', 3386),\n",
       " (u'man', 3173),\n",
       " (u'think', 3159),\n",
       " (u'long', 3156),\n",
       " (u'away', 3147),\n",
       " (u'right', 3125),\n",
       " (u'going', 2930),\n",
       " (u'old', 2783),\n",
       " (u'got', 2766),\n",
       " (u'head', 2757),\n",
       " (u'came', 2643),\n",
       " (u'make', 2602),\n",
       " (u'good', 2564),\n",
       " (u'hand', 2540),\n",
       " (u'come', 2536),\n",
       " (u'look', 2490),\n",
       " (u'eyes', 2484),\n",
       " (u'new', 2477),\n",
       " (u'thing', 2454),\n",
       " (u'face', 2440),\n",
       " (u'asked', 2400),\n",
       " (u'things', 2275),\n",
       " (u'knew', 2218),\n",
       " (u'voice', 2194),\n",
       " (u'don', 2165),\n",
       " (u'place', 2112),\n",
       " (u'turned', 2102),\n",
       " (u'yes', 2015),\n",
       " (u'years', 2008),\n",
       " (u'saw', 2006)]"
      ]
     },
     "execution_count": 121,
     "metadata": {},
     "output_type": "execute_result"
    }
   ],
   "source": [
    "# sci-fi books over-use character names\n",
    "# also a long time ago, far far away\n",
    "Counter(ngrams_summaries_sfbs).most_common(40)"
   ]
  },
  {
   "cell_type": "code",
   "execution_count": 122,
   "metadata": {
    "collapsed": false
   },
   "outputs": [
    {
     "data": {
      "text/plain": [
       "[(u'said', 7688),\n",
       " (u'like', 4969),\n",
       " (u'just', 4137),\n",
       " (u'know', 3515),\n",
       " (u'time', 3271),\n",
       " (u'way', 2876),\n",
       " (u'dont', 2827),\n",
       " (u'did', 2484),\n",
       " (u'looked', 2433),\n",
       " (u'people', 2316),\n",
       " (u'im', 2309),\n",
       " (u'think', 2190),\n",
       " (u'didnt', 2174),\n",
       " (u'going', 2060),\n",
       " (u'right', 2029),\n",
       " (u'eyes', 2018),\n",
       " (u'head', 1989),\n",
       " (u'away', 1946),\n",
       " (u'little', 1850),\n",
       " (u'asked', 1818),\n",
       " (u'hand', 1784),\n",
       " (u'long', 1780),\n",
       " (u'ship', 1748),\n",
       " (u'look', 1745),\n",
       " (u'thought', 1679),\n",
       " (u'face', 1629),\n",
       " (u'good', 1619),\n",
       " (u'got', 1568),\n",
       " (u'say', 1551),\n",
       " (u'took', 1519),\n",
       " (u'came', 1506),\n",
       " (u'come', 1488),\n",
       " (u'man', 1483),\n",
       " (u'make', 1471),\n",
       " (u'want', 1455),\n",
       " (u'turned', 1454),\n",
       " (u'need', 1406),\n",
       " (u'knew', 1404),\n",
       " (u'moment', 1358),\n",
       " (u'tell', 1338)]"
      ]
     },
     "execution_count": 122,
     "metadata": {},
     "output_type": "execute_result"
    }
   ],
   "source": [
    "Counter(ngrams_summaries_sff).most_common(40)"
   ]
  },
  {
   "cell_type": "code",
   "execution_count": 123,
   "metadata": {
    "collapsed": false
   },
   "outputs": [
    {
     "data": {
      "text/plain": [
       "[(u'said', 11155),\n",
       " (u'like', 6119),\n",
       " (u'im', 5455),\n",
       " (u'know', 4830),\n",
       " (u'just', 4669),\n",
       " (u'dont', 4507),\n",
       " (u'time', 4320),\n",
       " (u'eyes', 4170),\n",
       " (u'hand', 3890),\n",
       " (u'didnt', 3754),\n",
       " (u'head', 3583),\n",
       " (u'want', 3551),\n",
       " (u'think', 3396),\n",
       " (u'did', 3230),\n",
       " (u'going', 3160),\n",
       " (u'face', 3118),\n",
       " (u'good', 3006),\n",
       " (u'way', 2982),\n",
       " (u'youre', 2914),\n",
       " (u'thought', 2852),\n",
       " (u'ye', 2789),\n",
       " (u'right', 2783),\n",
       " (u'asked', 2583),\n",
       " (u'away', 2530),\n",
       " (u'man', 2452),\n",
       " (u'looked', 2309),\n",
       " (u'little', 2266),\n",
       " (u'hands', 2228),\n",
       " (u'come', 2225),\n",
       " (u'ill', 2222),\n",
       " (u'long', 2179),\n",
       " (u'look', 2150),\n",
       " (u'wasnt', 2008),\n",
       " (u'door', 1999),\n",
       " (u'oh', 1998),\n",
       " (u'make', 1983),\n",
       " (u'say', 1971),\n",
       " (u'took', 1956),\n",
       " (u'thats', 1900),\n",
       " (u'need', 1875)]"
      ]
     },
     "execution_count": 123,
     "metadata": {},
     "output_type": "execute_result"
    }
   ],
   "source": [
    "# romance titles have some classics --> deep breath, closed eyes, emotional gestures\n",
    "Counter(ngrams_summaries_rmbs).most_common(40)"
   ]
  },
  {
   "cell_type": "code",
   "execution_count": 124,
   "metadata": {
    "collapsed": false
   },
   "outputs": [
    {
     "data": {
      "text/plain": [
       "[(u'like', 4187),\n",
       " (u'im', 3945),\n",
       " (u'just', 3394),\n",
       " (u'said', 3290),\n",
       " (u'know', 3181),\n",
       " (u'dont', 3177),\n",
       " (u'didnt', 2388),\n",
       " (u'want', 2349),\n",
       " (u'time', 2323),\n",
       " (u'eyes', 2231),\n",
       " (u'head', 2040),\n",
       " (u'right', 1896),\n",
       " (u'hand', 1882),\n",
       " (u'think', 1877),\n",
       " (u'did', 1818),\n",
       " (u'going', 1810),\n",
       " (u'way', 1747),\n",
       " (u'good', 1653),\n",
       " (u'face', 1622),\n",
       " (u'shed', 1589),\n",
       " (u'away', 1584),\n",
       " (u'look', 1551),\n",
       " (u'door', 1494),\n",
       " (u'youre', 1474),\n",
       " (u'hed', 1453),\n",
       " (u'say', 1438),\n",
       " (u'looked', 1402),\n",
       " (u'little', 1330),\n",
       " (u'come', 1320),\n",
       " (u'make', 1311),\n",
       " (u'got', 1259),\n",
       " (u'need', 1257),\n",
       " (u'thought', 1229),\n",
       " (u'night', 1221),\n",
       " (u'hands', 1192),\n",
       " (u'let', 1188),\n",
       " (u'wasnt', 1167),\n",
       " (u'tell', 1167),\n",
       " (u'room', 1152),\n",
       " (u'sure', 1132)]"
      ]
     },
     "execution_count": 124,
     "metadata": {},
     "output_type": "execute_result"
    }
   ],
   "source": [
    "Counter(ngrams_summaries_rmf).most_common(40)"
   ]
  },
  {
   "cell_type": "code",
   "execution_count": 153,
   "metadata": {
    "collapsed": true
   },
   "outputs": [],
   "source": [
    "vect = TfidfVectorizer(ngram_range=(2,3), stop_words=char_name_stop)\n",
    "\n",
    "summaries_sfbs = \"\".join(sfbs['body'])\n",
    "summaries_rmbs = \"\".join(rmbs['body'])\n",
    "summaries_sff = \"\".join(sff['body'])\n",
    "summaries_rmf = \"\".join(rmf['body'])\n",
    "summaries_bs = \"\".join(bs['body'])\n",
    "summaries_f = \"\".join(f['body'])\n",
    "\n",
    "ngrams_summaries_sfbs = vect.build_analyzer()(summaries_sfbs)\n",
    "ngrams_summaries_rmbs = vect.build_analyzer()(summaries_rmbs)\n",
    "ngrams_summaries_sff = vect.build_analyzer()(summaries_sff)\n",
    "ngrams_summaries_rmf = vect.build_analyzer()(summaries_rmf)\n",
    "ngrams_summaries_bs = vect.build_analyzer()(summaries_bs)\n",
    "ngrams_summaries_f = vect.build_analyzer()(summaries_f)"
   ]
  },
  {
   "cell_type": "code",
   "execution_count": 58,
   "metadata": {
    "collapsed": false
   },
   "outputs": [],
   "source": [
    "#Counter(ngrams_summaries_bs).most_common(40)"
   ]
  },
  {
   "cell_type": "code",
   "execution_count": 57,
   "metadata": {
    "collapsed": false
   },
   "outputs": [],
   "source": [
    "#Counter(ngrams_summaries_f).most_common(40)"
   ]
  },
  {
   "cell_type": "code",
   "execution_count": 154,
   "metadata": {
    "collapsed": false
   },
   "outputs": [
    {
     "data": {
      "text/plain": [
       "[(u'shook head', 456),\n",
       " (u'dont know', 393),\n",
       " (u'don know', 346),\n",
       " (u'long time', 314),\n",
       " (u'old man', 311),\n",
       " (u'years ago', 276),\n",
       " (u'white shirts', 241),\n",
       " (u'didnt know', 228),\n",
       " (u'thousand years', 206),\n",
       " (u'far away', 184),\n",
       " (u'cloud ark', 183),\n",
       " (u've got', 178),\n",
       " (u'dont think', 159),\n",
       " (u'didn know', 156),\n",
       " (u'did know', 151),\n",
       " (u'hong kong', 140),\n",
       " (u'don think', 137),\n",
       " (u'im sure', 137),\n",
       " (u'half hour', 132),\n",
       " (u'im going', 131),\n",
       " (u'don want', 130),\n",
       " (u'make sure', 126),\n",
       " (u'long ago', 126),\n",
       " (u'years old', 124),\n",
       " (u'shakes head', 124),\n",
       " (u'right hand', 122),\n",
       " (u'closed eyes', 122),\n",
       " (u'time time', 117),\n",
       " (u'half dozen', 116),\n",
       " (u'dont want', 104),\n",
       " (u'turned away', 103),\n",
       " (u'light years', 103),\n",
       " (u'little bit', 103),\n",
       " (u'year old', 102),\n",
       " (u'young man', 102),\n",
       " (u'deep breath', 101),\n",
       " (u'sort thing', 100),\n",
       " (u'left hand', 99),\n",
       " (u'fwi song', 97),\n",
       " (u'didnt want', 97),\n",
       " (u'quercer janath', 96),\n",
       " (u'inspector supervisor', 96),\n",
       " (u'yes sir', 90),\n",
       " (u'men women', 90),\n",
       " (u'voice came', 90),\n",
       " (u'phil resch', 88),\n",
       " (u'old woman', 88),\n",
       " (u'leaned forward', 88),\n",
       " (u'little girl', 87),\n",
       " (u'make sense', 86)]"
      ]
     },
     "execution_count": 154,
     "metadata": {},
     "output_type": "execute_result"
    }
   ],
   "source": [
    "Counter(ngrams_summaries_sfbs).most_common(50)"
   ]
  },
  {
   "cell_type": "code",
   "execution_count": 155,
   "metadata": {
    "collapsed": false
   },
   "outputs": [
    {
     "data": {
      "text/plain": [
       "[(u'dont know', 572),\n",
       " (u'shook head', 344),\n",
       " (u'dont think', 248),\n",
       " (u'didnt know', 236),\n",
       " (u'im sorry', 205),\n",
       " (u'im sure', 192),\n",
       " (u'dont want', 179),\n",
       " (u'im going', 168),\n",
       " (u'long time', 150),\n",
       " (u'make sure', 142),\n",
       " (u'didnt want', 132),\n",
       " (u'deep breath', 122),\n",
       " (u'hell ship', 114),\n",
       " (u'years ago', 113),\n",
       " (u'old man', 110),\n",
       " (u'closed eyes', 108),\n",
       " (u'took deep', 104),\n",
       " (u'youre going', 104),\n",
       " (u'purple man', 100),\n",
       " (u'far away', 98),\n",
       " (u'explorer 410', 96),\n",
       " (u'took deep breath', 95),\n",
       " (u'want know', 87),\n",
       " (u'did know', 85),\n",
       " (u'diamond deep', 83),\n",
       " (u'purple men', 80),\n",
       " (u'ive got', 78),\n",
       " (u'dont worry', 75),\n",
       " (u'didnt think', 73),\n",
       " (u'young man', 69),\n",
       " (u'opened eyes', 68),\n",
       " (u'cheddite projector', 68),\n",
       " (u'leaned forward', 66),\n",
       " (u'dont need', 65),\n",
       " (u'ive seen', 65),\n",
       " (u'whats going', 65),\n",
       " (u'im glad', 65),\n",
       " (u'wasnt sure', 64),\n",
       " (u'know know', 64),\n",
       " (u'little bit', 64),\n",
       " (u'im afraid', 64),\n",
       " (u'weve got', 63),\n",
       " (u'time time', 63),\n",
       " (u'youre right', 62),\n",
       " (u'shakes head', 62),\n",
       " (u'turned away', 61),\n",
       " (u'make sense', 61),\n",
       " (u'big guy', 60),\n",
       " (u'dont care', 60),\n",
       " (u'door opened', 59)]"
      ]
     },
     "execution_count": 155,
     "metadata": {},
     "output_type": "execute_result"
    }
   ],
   "source": [
    "Counter(ngrams_summaries_sff).most_common(50)"
   ]
  },
  {
   "cell_type": "code",
   "execution_count": 158,
   "metadata": {
    "collapsed": false
   },
   "outputs": [
    {
     "data": {
      "text/plain": [
       "[(u'dont know', 748),\n",
       " (u'shook head', 694),\n",
       " (u'im going', 617),\n",
       " (u'dont want', 570),\n",
       " (u'didnt know', 378),\n",
       " (u'dont think', 364),\n",
       " (u'im sorry', 355),\n",
       " (u'didnt want', 327),\n",
       " (u'im sure', 298),\n",
       " (u'deep breath', 276),\n",
       " (u'youre going', 247),\n",
       " (u'long time', 240),\n",
       " (u'closed eyes', 218),\n",
       " (u'blue eyes', 185),\n",
       " (u'new york', 177),\n",
       " (u'took deep', 174),\n",
       " (u'wasnt sure', 162),\n",
       " (u'living room', 161),\n",
       " (u'want know', 157),\n",
       " (u'took deep breath', 155),\n",
       " (u'shaking head', 145),\n",
       " (u'ive got', 144),\n",
       " (u'know youre', 132),\n",
       " (u'open door', 132),\n",
       " (u'im glad', 127),\n",
       " (u'oh god', 123),\n",
       " (u'little bit', 123),\n",
       " (u'ive seen', 120),\n",
       " (u'years ago', 115),\n",
       " (u'young man', 114),\n",
       " (u'make sure', 114),\n",
       " (u'didnt think', 113),\n",
       " (u'eyes closed', 113),\n",
       " (u'wasnt going', 113),\n",
       " (u'oh aye', 112),\n",
       " (u'dont need', 110),\n",
       " (u'youve got', 110),\n",
       " (u'know im', 109),\n",
       " (u'did know', 109),\n",
       " (u'oh yes', 108),\n",
       " (u'turned away', 107),\n",
       " (u'cell phone', 106),\n",
       " (u'think youre', 104),\n",
       " (u'dont worry', 103),\n",
       " (u'youre right', 100),\n",
       " (u'didnt say', 99),\n",
       " (u'great deal', 98),\n",
       " (u'yes sir', 97),\n",
       " (u'jo marie', 97),\n",
       " (u'let know', 97)]"
      ]
     },
     "execution_count": 158,
     "metadata": {},
     "output_type": "execute_result"
    }
   ],
   "source": [
    "# this is funnier\n",
    "Counter(ngrams_summaries_rmbs).most_common(50)"
   ]
  },
  {
   "cell_type": "code",
   "execution_count": 159,
   "metadata": {
    "collapsed": false
   },
   "outputs": [
    {
     "data": {
      "text/plain": [
       "[(u'dont know', 630),\n",
       " (u'dont want', 379),\n",
       " (u'shook head', 325),\n",
       " (u'im sorry', 303),\n",
       " (u'im going', 294),\n",
       " (u'didnt want', 288),\n",
       " (u'im sure', 250),\n",
       " (u'dont think', 243),\n",
       " (u'didnt know', 217),\n",
       " (u'living room', 147),\n",
       " (u'ive got', 144),\n",
       " (u'closed eyes', 138),\n",
       " (u'new york', 137),\n",
       " (u'parking lot', 133),\n",
       " (u'high school', 125),\n",
       " (u'make sure', 112),\n",
       " (u'wasnt sure', 110),\n",
       " (u'long time', 107),\n",
       " (u'opened door', 102),\n",
       " (u'know im', 101),\n",
       " (u'years ago', 100),\n",
       " (u'youre going', 100),\n",
       " (u'oh god', 98),\n",
       " (u'dont worry', 93),\n",
       " (u'deep breath', 92),\n",
       " (u'shakes head', 92),\n",
       " (u'im glad', 90),\n",
       " (u'youve got', 88),\n",
       " (u'think im', 86),\n",
       " (u'want know', 84),\n",
       " (u'rolled eyes', 81),\n",
       " (u'didnt think', 81),\n",
       " (u'youre right', 76),\n",
       " (u'im trying', 76),\n",
       " (u'held hand', 75),\n",
       " (u'dont need', 73),\n",
       " (u'let know', 73),\n",
       " (u'pulled away', 73),\n",
       " (u'know youre', 72),\n",
       " (u'ive seen', 71)]"
      ]
     },
     "execution_count": 159,
     "metadata": {},
     "output_type": "execute_result"
    }
   ],
   "source": [
    "Counter(ngrams_summaries_rmf).most_common(40)"
   ]
  },
  {
   "cell_type": "markdown",
   "metadata": {},
   "source": [
    "## Topic modeling"
   ]
  },
  {
   "cell_type": "markdown",
   "metadata": {},
   "source": [
    "### Topic modeling and n_grams\n",
    "\n",
    "I chose **TfidfVectorizer** for the 1_gram generation intending to identifying significant words common across best_sellers and flops. **LDA** for topic modeling was chosen for the same reason -- are there similar or repeated topics within each grouping?\n",
    "\n",
    "It was my hope that n_grams and topic modeling would unveil a beautiful truth that best sellers present themes of exploration and journeying to the stars while flops are about alien-hate and interglactic corporate greed. But alas, it seems texts as varied as these are not well-suited for this stye of modeling.\n",
    "\n",
    "Character names and dialogue \"he said, she said, zorg said\" were by far the most prevalent appearances. After adding these to the stop words, what was left was not significant -- as evidenced by the feature weights that all fell in the 100th percents.\n",
    "\n",
    "Though if one were to make generalizations, \n",
    "- Romance best sellers have a high theme of body parts and I-statements: \n",
    "    - hand ~ know ~ i'm \n",
    "    - ye ~ hand ~   face\n",
    "    - hand ~ didn't ~ don't\n",
    "    - ye ~ hand ~ eyes\n",
    "    - know ~ eyes ~ going\n",
    "    - don't ~ hand ~ im\n",
    "    - i'm ~ eyes ~ know\n",
    "    - i'm ~ hand ~ eyes\n",
    "\n",
    "\n",
    "- While their flop counterparts do not at all. I don't quite know what to make of this dominant topic: \n",
    "    - electricity ~ clucked ~ fallout\n",
    "\n",
    "\n",
    "- Sci-Fi best sellers' topics revolve around time, people, and seem thoughtful \n",
    "  - steel ~ time ~ woodcarver\n",
    "  - says ~ time ~ way\n",
    "  - time ~ people ~ way\n",
    "  - thought ~ fremen ~ man\n",
    "  - know ~ time ~ people\n",
    "  - time ~ people ~ way\n",
    "  - dweller ~ time ~ looked\n",
    "\n",
    "\n",
    "- The flops are quite similar but more \"knowing\" and less people focused:\n",
    "  - great ~ know ~ time\n",
    "  - know ~ time ~ way\n",
    "  - way ~ don't ~ know\n",
    "  - time ~ didn't ~ way\n",
    "  - know ~ time ~ i'm\n"
   ]
  },
  {
   "cell_type": "code",
   "execution_count": 190,
   "metadata": {
    "collapsed": false
   },
   "outputs": [
    {
     "data": {
      "text/plain": [
       "[(0, u'0.006*steel + 0.004*time + 0.004*woodcarver'),\n",
       " (1, u'0.006*don + 0.006*know + 0.006*did'),\n",
       " (2, u'0.008*says + 0.004*time + 0.004*way'),\n",
       " (3, u'0.005*time + 0.004*people + 0.004*way'),\n",
       " (4, u'0.006*thought + 0.005*fremen + 0.005*man'),\n",
       " (5, u'0.003*time + 0.002*did + 0.002*know'),\n",
       " (6, u'0.002*time + 0.002*know + 0.002*little'),\n",
       " (7, u'0.002*know + 0.002*time + 0.002*people'),\n",
       " (8, u'0.005*looked + 0.004*know + 0.004*time'),\n",
       " (9, u'0.003*time + 0.003*people + 0.002*way'),\n",
       " (10, u'0.005*time + 0.004*little + 0.004*way'),\n",
       " (11, u'0.003*way + 0.002*time + 0.002*know'),\n",
       " (12, u'0.004*time + 0.003*looked + 0.003*way'),\n",
       " (13, u'0.003*know + 0.002*way + 0.002*time'),\n",
       " (14, u'0.003*time + 0.002*know + 0.002*way'),\n",
       " (15, u'0.005*know + 0.004*im + 0.004*time'),\n",
       " (16, u'0.005*dweller + 0.005*time + 0.005*looked'),\n",
       " (17, u'0.007*man + 0.005*white + 0.004*emiko'),\n",
       " (18, u'0.003*time + 0.003*know + 0.003*thought'),\n",
       " (19, u'0.006*molly + 0.004*know + 0.004*armitage')]"
      ]
     },
     "execution_count": 190,
     "metadata": {},
     "output_type": "execute_result"
    }
   ],
   "source": [
    "vect_sf1 = CountVectorizer(stop_words=char_name_stop)\n",
    "X_sf1 = vect_sf1.fit_transform(sfbs['body'])\n",
    "vocab_sf1 = {v: k for k, v in vect_sf1.vocabulary_.iteritems()}\n",
    "\n",
    "lda_sf1 = models.LdaModel(\n",
    "    matutils.Sparse2Corpus(X_sf1, documents_columns=False),\n",
    "    num_topics  =  20,\n",
    "    passes      =  5,\n",
    "    id2word     =  vocab_sf1\n",
    ")\n",
    "lda_sf1.print_topics(num_topics=20, num_words=3)"
   ]
  },
  {
   "cell_type": "code",
   "execution_count": 211,
   "metadata": {
    "collapsed": false
   },
   "outputs": [
    {
     "data": {
      "text/plain": [
       "[(0, u'0.010*men + 0.008*ship + 0.006*wes'),\n",
       " (1, u'0.002*dont + 0.002*know + 0.002*time'),\n",
       " (2, u'0.007*know + 0.007*people + 0.006*dont'),\n",
       " (3, u'0.005*great + 0.004*know + 0.004*time'),\n",
       " (4, u'0.005*know + 0.005*time + 0.004*way'),\n",
       " (5, u'0.002*way + 0.002*dont + 0.002*know'),\n",
       " (6, u'0.005*time + 0.005*didnt + 0.005*way'),\n",
       " (7, u'0.003*know + 0.003*time + 0.002*im'),\n",
       " (8, u'0.005*space + 0.004*time + 0.004*looked'),\n",
       " (9, u'0.005*ship + 0.004*know + 0.004*did'),\n",
       " (10, u'0.003*know + 0.003*way + 0.002*time'),\n",
       " (11, u'0.004*time + 0.003*dont + 0.003*way'),\n",
       " (12, u'0.002*looked + 0.002*did + 0.002*time'),\n",
       " (13, u'0.003*know + 0.003*looked + 0.002*time'),\n",
       " (14, u'0.003*time + 0.002*know + 0.002*way'),\n",
       " (15, u'0.003*know + 0.003*time + 0.002*dont'),\n",
       " (16, u'0.002*know + 0.002*looked + 0.002*way'),\n",
       " (17, u'0.009*whispr + 0.005*did + 0.004*time'),\n",
       " (18, u'0.002*know + 0.002*time + 0.002*way'),\n",
       " (19, u'0.003*did + 0.002*way + 0.002*know')]"
      ]
     },
     "execution_count": 211,
     "metadata": {},
     "output_type": "execute_result"
    }
   ],
   "source": [
    "vect_sf0 = CountVectorizer(stop_words=char_name_stop)\n",
    "X_sf0 = vect_sf0.fit_transform(sff['body'])\n",
    "vocab_sf0 = {v: k for k, v in vect_sf0.vocabulary_.iteritems()}\n",
    "\n",
    "lda_sf0 = models.LdaModel(\n",
    "    matutils.Sparse2Corpus(X_sf0, documents_columns=False),\n",
    "    num_topics  =  20,\n",
    "    passes      =  5,\n",
    "    id2word     =  vocab_sf0\n",
    ")\n",
    "lda_sf0.print_topics(num_topics=20, num_words=3)"
   ]
  },
  {
   "cell_type": "code",
   "execution_count": 201,
   "metadata": {
    "collapsed": false
   },
   "outputs": [
    {
     "data": {
      "text/plain": [
       "[(0, u'0.009*im + 0.007*dont + 0.006*know'),\n",
       " (1, u'0.012*luc + 0.006*didnt + 0.006*shed'),\n",
       " (2, u'0.004*hand + 0.004*know + 0.004*im'),\n",
       " (3, u'0.009*liss + 0.007*know + 0.006*knew'),\n",
       " (4, u'0.010*im + 0.009*america + 0.009*eyes'),\n",
       " (5, u'0.003*im + 0.003*know + 0.003*didnt'),\n",
       " (6, u'0.012*im + 0.008*want + 0.008*dont'),\n",
       " (7, u'0.009*ye + 0.004*hand + 0.004*face'),\n",
       " (8, u'0.008*know + 0.008*didnt + 0.007*time'),\n",
       " (9, u'0.004*hand + 0.003*didnt + 0.003*dont'),\n",
       " (10, u'0.007*ye + 0.006*hand + 0.005*eyes'),\n",
       " (11, u'0.010*didnt + 0.008*im + 0.008*going'),\n",
       " (12, u'0.007*time + 0.006*gene + 0.006*did'),\n",
       " (13, u'0.003*know + 0.003*eyes + 0.003*going'),\n",
       " (14, u'0.003*time + 0.003*did + 0.003*im'),\n",
       " (15, u'0.003*dont + 0.003*hand + 0.003*im'),\n",
       " (16, u'0.003*know + 0.002*hand + 0.002*going'),\n",
       " (17, u'0.004*im + 0.004*eyes + 0.003*know'),\n",
       " (18, u'0.008*bran + 0.007*sawyer + 0.006*know'),\n",
       " (19, u'0.003*im + 0.003*hand + 0.003*eyes')]"
      ]
     },
     "execution_count": 201,
     "metadata": {},
     "output_type": "execute_result"
    }
   ],
   "source": [
    "vect_rm1 = CountVectorizer(stop_words=char_name_stop)\n",
    "X_rm1 = vect_rm1.fit_transform(rmbs['body'])\n",
    "vocab_rm1 = {v: k for k, v in vect_rm1.vocabulary_.iteritems()}\n",
    "\n",
    "lda_rm1 = models.LdaModel(\n",
    "    matutils.Sparse2Corpus(X_rm1, documents_columns=False),\n",
    "    num_topics  =  20,\n",
    "    passes      =  5,\n",
    "    id2word     =  vocab_rm1\n",
    ")\n",
    "lda_rm1.print_topics(num_topics=20, num_words=3)"
   ]
  },
  {
   "cell_type": "code",
   "execution_count": 199,
   "metadata": {
    "collapsed": false
   },
   "outputs": [
    {
     "data": {
      "text/plain": [
       "[(0, u'0.003*electricity + 0.003*clucked + 0.003*fallout'),\n",
       " (1, u'0.003*electricity + 0.003*clucked + 0.002*participated'),\n",
       " (2, u'0.018*electricity + 0.010*clucked + 0.009*participated'),\n",
       " (3, u'0.003*electricity + 0.003*clucked + 0.002*choral'),\n",
       " (4, u'0.007*choral + 0.006*fallout + 0.006*counterpoint'),\n",
       " (5, u'0.004*electricity + 0.003*fallout + 0.003*clucked'),\n",
       " (6, u'0.013*flirtations + 0.011*concerned + 0.008*fallout'),\n",
       " (7, u'0.003*clucked + 0.003*electricity + 0.002*fallout'),\n",
       " (8, u'0.010*electricity + 0.007*guidance + 0.006*clucked'),\n",
       " (9, u'0.010*fluke + 0.009*bain + 0.007*learns'),\n",
       " (10, u'0.025*forgone + 0.011*exhibiting + 0.011*anymorenor'),\n",
       " (11, u'0.004*electricity + 0.004*clucked + 0.003*fallout'),\n",
       " (12, u'0.008*electricity + 0.007*clucked + 0.006*fallout'),\n",
       " (13, u'0.005*electricity + 0.004*fallout + 0.003*choral'),\n",
       " (14, u'0.013*laces + 0.012*feat + 0.007*learns'),\n",
       " (15, u'0.004*clucked + 0.004*electricity + 0.003*fallout'),\n",
       " (16, u'0.003*clucked + 0.003*electricity + 0.003*fallout'),\n",
       " (17, u'0.008*expedite + 0.006*counterpoint + 0.005*nephew'),\n",
       " (18, u'0.003*electricity + 0.002*clucked + 0.002*fallout'),\n",
       " (19, u'0.003*fallout + 0.003*electricity + 0.003*clucked')]"
      ]
     },
     "execution_count": 199,
     "metadata": {},
     "output_type": "execute_result"
    }
   ],
   "source": [
    "vect_rm0 = CountVectorizer(stop_words=char_name_stop)\n",
    "X_rm0 = vect_rm0.fit_transform(rmf['body'])\n",
    "vocab_rm0 = {v: k for k, v in vect_rm1.vocabulary_.iteritems()}\n",
    "\n",
    "lda_rm0 = models.LdaModel(\n",
    "    matutils.Sparse2Corpus(X_rm0, documents_columns=False),\n",
    "    num_topics  =  20,\n",
    "    passes      =  5,\n",
    "    id2word     =  vocab_rm0\n",
    ")\n",
    "lda_rm0.print_topics(num_topics=20, num_words=3)"
   ]
  },
  {
   "cell_type": "code",
   "execution_count": 277,
   "metadata": {
    "collapsed": false
   },
   "outputs": [],
   "source": [
    "pos = df.groupby(['best_seller','sci_fi'])[['conj_coord', 'number', 'determiner', 'exist_there', 'foreign_word',\n",
    "       'conj_sub_prep', 'adj', 'adj_compare', 'adj_sup', 'verb_aux',\n",
    "       'noun', 'noun_prop', 'noun_prop_pural', 'noun_plural', 'predeterm',\n",
    "       'pronoun_pers', 'pronoun_poss', 'adv', 'adv_compare', 'adv_sup',\n",
    "       'adv_part', 'inf_to', 'interject', 'verb_base', 'verb_past',\n",
    "       'verb_ger', 'verb_pp', 'verb_sing_pres', 'verb_3rd_sing_pres',\n",
    "       'wh_determ', 'wh_pronoun', 'wh_poss', 'wh_adv', 'poss_ending',\n",
    "       'symbol']].apply(np.mean).reset_index()"
   ]
  },
  {
   "cell_type": "code",
   "execution_count": 275,
   "metadata": {
    "collapsed": false
   },
   "outputs": [],
   "source": [
    "pos_diff = pd.DataFrame(columns=['conj_coord', 'number', 'determiner', 'exist_there', 'foreign_word',\n",
    "       'conj_sub_prep', 'adj', 'adj_compare', 'adj_sup', 'verb_aux',\n",
    "       'noun', 'noun_prop', 'noun_prop_pural', 'noun_plural', 'predeterm',\n",
    "       'pronoun_pers', 'pronoun_poss', 'adv', 'adv_compare', 'adv_sup',\n",
    "       'adv_part', 'inf_to', 'interject', 'verb_base', 'verb_past',\n",
    "       'verb_ger', 'verb_pp', 'verb_sing_pres', 'verb_3rd_sing_pres',\n",
    "       'wh_determ', 'wh_pronoun', 'wh_poss', 'wh_adv', 'poss_ending',\n",
    "       'symbol'])\n",
    "\n"
   ]
  },
  {
   "cell_type": "code",
   "execution_count": 274,
   "metadata": {
    "collapsed": false
   },
   "outputs": [
    {
     "data": {
      "text/html": [
       "<div>\n",
       "<table border=\"1\" class=\"dataframe\">\n",
       "  <thead>\n",
       "    <tr style=\"text-align: right;\">\n",
       "      <th></th>\n",
       "      <th>conj_coord</th>\n",
       "      <th>number</th>\n",
       "      <th>determiner</th>\n",
       "      <th>exist_there</th>\n",
       "      <th>foreign_word</th>\n",
       "      <th>conj_sub_prep</th>\n",
       "      <th>adj</th>\n",
       "      <th>adj_compare</th>\n",
       "      <th>adj_sup</th>\n",
       "      <th>verb_aux</th>\n",
       "      <th>...</th>\n",
       "      <th>26</th>\n",
       "      <th>27</th>\n",
       "      <th>28</th>\n",
       "      <th>29</th>\n",
       "      <th>30</th>\n",
       "      <th>31</th>\n",
       "      <th>32</th>\n",
       "      <th>33</th>\n",
       "      <th>34</th>\n",
       "      <th>35</th>\n",
       "    </tr>\n",
       "  </thead>\n",
       "  <tbody>\n",
       "    <tr>\n",
       "      <th>1</th>\n",
       "      <td>NaN</td>\n",
       "      <td>NaN</td>\n",
       "      <td>NaN</td>\n",
       "      <td>NaN</td>\n",
       "      <td>NaN</td>\n",
       "      <td>NaN</td>\n",
       "      <td>NaN</td>\n",
       "      <td>NaN</td>\n",
       "      <td>NaN</td>\n",
       "      <td>NaN</td>\n",
       "      <td>...</td>\n",
       "      <td>0.000349</td>\n",
       "      <td>0.001573</td>\n",
       "      <td>-0.003259</td>\n",
       "      <td>0.000171</td>\n",
       "      <td>0.000187</td>\n",
       "      <td>-0.000018</td>\n",
       "      <td>0.000025</td>\n",
       "      <td>-0.000234</td>\n",
       "      <td>0.00167</td>\n",
       "      <td>0.000001</td>\n",
       "    </tr>\n",
       "  </tbody>\n",
       "</table>\n",
       "<p>1 rows × 70 columns</p>\n",
       "</div>"
      ],
      "text/plain": [
       "  conj_coord number determiner exist_there foreign_word conj_sub_prep  adj  \\\n",
       "1        NaN    NaN        NaN         NaN          NaN           NaN  NaN   \n",
       "\n",
       "  adj_compare adj_sup verb_aux    ...           26        27        28  \\\n",
       "1         NaN     NaN      NaN    ...     0.000349  0.001573 -0.003259   \n",
       "\n",
       "         29        30        31        32        33       34        35  \n",
       "1  0.000171  0.000187 -0.000018  0.000025 -0.000234  0.00167  0.000001  \n",
       "\n",
       "[1 rows x 70 columns]"
      ]
     },
     "execution_count": 274,
     "metadata": {},
     "output_type": "execute_result"
    }
   ],
   "source": [
    "for col in range(1,len(pos.columns)):\n",
    "    pos.loc[1,col] = (pos.iloc[1,col] - pos.iloc[0,col])\n",
    "pos_diff.head()"
   ]
  },
  {
   "cell_type": "code",
   "execution_count": 268,
   "metadata": {
    "collapsed": false
   },
   "outputs": [],
   "source": [
    "pos_diff['conj_coord'] = 0"
   ]
  },
  {
   "cell_type": "code",
   "execution_count": 278,
   "metadata": {
    "collapsed": false
   },
   "outputs": [
    {
     "data": {
      "text/html": [
       "<div>\n",
       "<table border=\"1\" class=\"dataframe\">\n",
       "  <thead>\n",
       "    <tr style=\"text-align: right;\">\n",
       "      <th></th>\n",
       "      <th>best_seller</th>\n",
       "      <th>sci_fi</th>\n",
       "      <th>conj_coord</th>\n",
       "      <th>number</th>\n",
       "      <th>determiner</th>\n",
       "      <th>exist_there</th>\n",
       "      <th>foreign_word</th>\n",
       "      <th>conj_sub_prep</th>\n",
       "      <th>adj</th>\n",
       "      <th>adj_compare</th>\n",
       "      <th>...</th>\n",
       "      <th>verb_ger</th>\n",
       "      <th>verb_pp</th>\n",
       "      <th>verb_sing_pres</th>\n",
       "      <th>verb_3rd_sing_pres</th>\n",
       "      <th>wh_determ</th>\n",
       "      <th>wh_pronoun</th>\n",
       "      <th>wh_poss</th>\n",
       "      <th>wh_adv</th>\n",
       "      <th>poss_ending</th>\n",
       "      <th>symbol</th>\n",
       "    </tr>\n",
       "  </thead>\n",
       "  <tbody>\n",
       "    <tr>\n",
       "      <th>0</th>\n",
       "      <td>0</td>\n",
       "      <td>0</td>\n",
       "      <td>0.034082</td>\n",
       "      <td>0.005180</td>\n",
       "      <td>0.080646</td>\n",
       "      <td>0.001251</td>\n",
       "      <td>0.000084</td>\n",
       "      <td>0.105390</td>\n",
       "      <td>0.052324</td>\n",
       "      <td>0.002201</td>\n",
       "      <td>...</td>\n",
       "      <td>0.023675</td>\n",
       "      <td>0.017599</td>\n",
       "      <td>0.028854</td>\n",
       "      <td>0.016468</td>\n",
       "      <td>0.002470</td>\n",
       "      <td>0.005481</td>\n",
       "      <td>0.000061</td>\n",
       "      <td>0.007035</td>\n",
       "      <td>0.000666</td>\n",
       "      <td>0.000000e+00</td>\n",
       "    </tr>\n",
       "    <tr>\n",
       "      <th>1</th>\n",
       "      <td>0</td>\n",
       "      <td>1</td>\n",
       "      <td>0.035925</td>\n",
       "      <td>0.006107</td>\n",
       "      <td>0.099968</td>\n",
       "      <td>0.002262</td>\n",
       "      <td>0.000072</td>\n",
       "      <td>0.109104</td>\n",
       "      <td>0.059757</td>\n",
       "      <td>0.003002</td>\n",
       "      <td>...</td>\n",
       "      <td>0.023674</td>\n",
       "      <td>0.020703</td>\n",
       "      <td>0.023068</td>\n",
       "      <td>0.013017</td>\n",
       "      <td>0.003557</td>\n",
       "      <td>0.005563</td>\n",
       "      <td>0.000067</td>\n",
       "      <td>0.005889</td>\n",
       "      <td>0.000394</td>\n",
       "      <td>0.000000e+00</td>\n",
       "    </tr>\n",
       "    <tr>\n",
       "      <th>2</th>\n",
       "      <td>1</td>\n",
       "      <td>0</td>\n",
       "      <td>0.035774</td>\n",
       "      <td>0.005833</td>\n",
       "      <td>0.081977</td>\n",
       "      <td>0.001664</td>\n",
       "      <td>0.000106</td>\n",
       "      <td>0.105748</td>\n",
       "      <td>0.053471</td>\n",
       "      <td>0.002546</td>\n",
       "      <td>...</td>\n",
       "      <td>0.026286</td>\n",
       "      <td>0.018071</td>\n",
       "      <td>0.026519</td>\n",
       "      <td>0.013923</td>\n",
       "      <td>0.002468</td>\n",
       "      <td>0.005668</td>\n",
       "      <td>0.000070</td>\n",
       "      <td>0.006726</td>\n",
       "      <td>0.000730</td>\n",
       "      <td>7.351536e-07</td>\n",
       "    </tr>\n",
       "    <tr>\n",
       "      <th>3</th>\n",
       "      <td>1</td>\n",
       "      <td>1</td>\n",
       "      <td>0.034273</td>\n",
       "      <td>0.007670</td>\n",
       "      <td>0.101088</td>\n",
       "      <td>0.002412</td>\n",
       "      <td>0.000138</td>\n",
       "      <td>0.111860</td>\n",
       "      <td>0.063224</td>\n",
       "      <td>0.002836</td>\n",
       "      <td>...</td>\n",
       "      <td>0.021988</td>\n",
       "      <td>0.023037</td>\n",
       "      <td>0.019407</td>\n",
       "      <td>0.015889</td>\n",
       "      <td>0.003832</td>\n",
       "      <td>0.005356</td>\n",
       "      <td>0.000105</td>\n",
       "      <td>0.005808</td>\n",
       "      <td>0.003530</td>\n",
       "      <td>1.892687e-06</td>\n",
       "    </tr>\n",
       "  </tbody>\n",
       "</table>\n",
       "<p>4 rows × 37 columns</p>\n",
       "</div>"
      ],
      "text/plain": [
       "   best_seller  sci_fi  conj_coord    number  determiner  exist_there  \\\n",
       "0            0       0    0.034082  0.005180    0.080646     0.001251   \n",
       "1            0       1    0.035925  0.006107    0.099968     0.002262   \n",
       "2            1       0    0.035774  0.005833    0.081977     0.001664   \n",
       "3            1       1    0.034273  0.007670    0.101088     0.002412   \n",
       "\n",
       "   foreign_word  conj_sub_prep       adj  adj_compare      ...       verb_ger  \\\n",
       "0      0.000084       0.105390  0.052324     0.002201      ...       0.023675   \n",
       "1      0.000072       0.109104  0.059757     0.003002      ...       0.023674   \n",
       "2      0.000106       0.105748  0.053471     0.002546      ...       0.026286   \n",
       "3      0.000138       0.111860  0.063224     0.002836      ...       0.021988   \n",
       "\n",
       "    verb_pp  verb_sing_pres  verb_3rd_sing_pres  wh_determ  wh_pronoun  \\\n",
       "0  0.017599        0.028854            0.016468   0.002470    0.005481   \n",
       "1  0.020703        0.023068            0.013017   0.003557    0.005563   \n",
       "2  0.018071        0.026519            0.013923   0.002468    0.005668   \n",
       "3  0.023037        0.019407            0.015889   0.003832    0.005356   \n",
       "\n",
       "    wh_poss    wh_adv  poss_ending        symbol  \n",
       "0  0.000061  0.007035     0.000666  0.000000e+00  \n",
       "1  0.000067  0.005889     0.000394  0.000000e+00  \n",
       "2  0.000070  0.006726     0.000730  7.351536e-07  \n",
       "3  0.000105  0.005808     0.003530  1.892687e-06  \n",
       "\n",
       "[4 rows x 37 columns]"
      ]
     },
     "execution_count": 278,
     "metadata": {},
     "output_type": "execute_result"
    }
   ],
   "source": [
    "pos"
   ]
  },
  {
   "cell_type": "code",
   "execution_count": 292,
   "metadata": {
    "collapsed": false
   },
   "outputs": [
    {
     "data": {
      "text/html": [
       "<div>\n",
       "<table border=\"1\" class=\"dataframe\">\n",
       "  <thead>\n",
       "    <tr style=\"text-align: right;\">\n",
       "      <th></th>\n",
       "      <th>best_seller</th>\n",
       "      <th>body</th>\n",
       "      <th>sci_fi</th>\n",
       "      <th>title</th>\n",
       "      <th>avg_sent_len</th>\n",
       "      <th>word_count</th>\n",
       "      <th>avg_word_len</th>\n",
       "      <th>lex_diversity</th>\n",
       "      <th>polarity</th>\n",
       "      <th>subjectivity</th>\n",
       "      <th>...</th>\n",
       "      <th>verb_pp</th>\n",
       "      <th>verb_sing_pres</th>\n",
       "      <th>verb_3rd_sing_pres</th>\n",
       "      <th>wh_determ</th>\n",
       "      <th>wh_pronoun</th>\n",
       "      <th>wh_poss</th>\n",
       "      <th>wh_adv</th>\n",
       "      <th>poss_ending</th>\n",
       "      <th>symbol</th>\n",
       "      <th>list_marker</th>\n",
       "    </tr>\n",
       "  </thead>\n",
       "  <tbody>\n",
       "    <tr>\n",
       "      <th>0</th>\n",
       "      <td>1</td>\n",
       "      <td>Prologue  The sun is always just about to ris...</td>\n",
       "      <td>1</td>\n",
       "      <td>2312 - kim stanley robinson</td>\n",
       "      <td>14</td>\n",
       "      <td>166265</td>\n",
       "      <td>4</td>\n",
       "      <td>0.090717</td>\n",
       "      <td>0.076000</td>\n",
       "      <td>0.000003</td>\n",
       "      <td>...</td>\n",
       "      <td>0.023553</td>\n",
       "      <td>0.019427</td>\n",
       "      <td>0.010706</td>\n",
       "      <td>0.004228</td>\n",
       "      <td>0.004685</td>\n",
       "      <td>0.000024</td>\n",
       "      <td>0.005545</td>\n",
       "      <td>0.000000</td>\n",
       "      <td>0.000000</td>\n",
       "      <td>0.0</td>\n",
       "    </tr>\n",
       "    <tr>\n",
       "      <th>1</th>\n",
       "      <td>1</td>\n",
       "      <td>How to explain? How to describe? Even the omni...</td>\n",
       "      <td>1</td>\n",
       "      <td>a fire upon the deep - vernor vinge</td>\n",
       "      <td>11</td>\n",
       "      <td>207548</td>\n",
       "      <td>4</td>\n",
       "      <td>0.064477</td>\n",
       "      <td>0.067722</td>\n",
       "      <td>0.000002</td>\n",
       "      <td>...</td>\n",
       "      <td>0.024602</td>\n",
       "      <td>0.015018</td>\n",
       "      <td>0.011385</td>\n",
       "      <td>0.003941</td>\n",
       "      <td>0.004240</td>\n",
       "      <td>0.000043</td>\n",
       "      <td>0.004809</td>\n",
       "      <td>0.008716</td>\n",
       "      <td>0.000005</td>\n",
       "      <td>0.0</td>\n",
       "    </tr>\n",
       "    <tr>\n",
       "      <th>2</th>\n",
       "      <td>1</td>\n",
       "      <td>The body lay naked and facedown, a deathly gr...</td>\n",
       "      <td>1</td>\n",
       "      <td>ancillary justice - ann leckie</td>\n",
       "      <td>11</td>\n",
       "      <td>108263</td>\n",
       "      <td>4</td>\n",
       "      <td>0.079815</td>\n",
       "      <td>0.035025</td>\n",
       "      <td>0.000004</td>\n",
       "      <td>...</td>\n",
       "      <td>0.027618</td>\n",
       "      <td>0.021937</td>\n",
       "      <td>0.008729</td>\n",
       "      <td>0.003510</td>\n",
       "      <td>0.007011</td>\n",
       "      <td>0.000083</td>\n",
       "      <td>0.007001</td>\n",
       "      <td>0.000000</td>\n",
       "      <td>0.000000</td>\n",
       "      <td>0.0</td>\n",
       "    </tr>\n",
       "    <tr>\n",
       "      <th>3</th>\n",
       "      <td>1</td>\n",
       "      <td>Children of Dune     Frank Herbert   Muad'D...</td>\n",
       "      <td>1</td>\n",
       "      <td>children of dune - frank herbert</td>\n",
       "      <td>11</td>\n",
       "      <td>151352</td>\n",
       "      <td>4</td>\n",
       "      <td>0.076094</td>\n",
       "      <td>0.057704</td>\n",
       "      <td>0.000003</td>\n",
       "      <td>...</td>\n",
       "      <td>0.024863</td>\n",
       "      <td>0.019650</td>\n",
       "      <td>0.014014</td>\n",
       "      <td>0.005781</td>\n",
       "      <td>0.005821</td>\n",
       "      <td>0.000231</td>\n",
       "      <td>0.006878</td>\n",
       "      <td>0.006548</td>\n",
       "      <td>0.000033</td>\n",
       "      <td>0.0</td>\n",
       "    </tr>\n",
       "    <tr>\n",
       "      <th>4</th>\n",
       "      <td>1</td>\n",
       "      <td>Consider Phlebas  Iain Banks  Idolatry is wor...</td>\n",
       "      <td>1</td>\n",
       "      <td>consider phlebas - iain m banks</td>\n",
       "      <td>14</td>\n",
       "      <td>176337</td>\n",
       "      <td>4</td>\n",
       "      <td>0.064042</td>\n",
       "      <td>0.035018</td>\n",
       "      <td>0.000003</td>\n",
       "      <td>...</td>\n",
       "      <td>0.022083</td>\n",
       "      <td>0.013259</td>\n",
       "      <td>0.006987</td>\n",
       "      <td>0.002943</td>\n",
       "      <td>0.004798</td>\n",
       "      <td>0.000051</td>\n",
       "      <td>0.005036</td>\n",
       "      <td>0.006805</td>\n",
       "      <td>0.000000</td>\n",
       "      <td>0.0</td>\n",
       "    </tr>\n",
       "  </tbody>\n",
       "</table>\n",
       "<p>5 rows × 48 columns</p>\n",
       "</div>"
      ],
      "text/plain": [
       "   best_seller                                               body  sci_fi  \\\n",
       "0            1   Prologue  The sun is always just about to ris...       1   \n",
       "1            1  How to explain? How to describe? Even the omni...       1   \n",
       "2            1   The body lay naked and facedown, a deathly gr...       1   \n",
       "3            1     Children of Dune     Frank Herbert   Muad'D...       1   \n",
       "4            1   Consider Phlebas  Iain Banks  Idolatry is wor...       1   \n",
       "\n",
       "                                 title  avg_sent_len  word_count  \\\n",
       "0          2312 - kim stanley robinson            14      166265   \n",
       "1  a fire upon the deep - vernor vinge            11      207548   \n",
       "2       ancillary justice - ann leckie            11      108263   \n",
       "3     children of dune - frank herbert            11      151352   \n",
       "4      consider phlebas - iain m banks            14      176337   \n",
       "\n",
       "   avg_word_len  lex_diversity  polarity  subjectivity     ...        verb_pp  \\\n",
       "0             4       0.090717  0.076000      0.000003     ...       0.023553   \n",
       "1             4       0.064477  0.067722      0.000002     ...       0.024602   \n",
       "2             4       0.079815  0.035025      0.000004     ...       0.027618   \n",
       "3             4       0.076094  0.057704      0.000003     ...       0.024863   \n",
       "4             4       0.064042  0.035018      0.000003     ...       0.022083   \n",
       "\n",
       "   verb_sing_pres  verb_3rd_sing_pres  wh_determ  wh_pronoun   wh_poss  \\\n",
       "0        0.019427            0.010706   0.004228    0.004685  0.000024   \n",
       "1        0.015018            0.011385   0.003941    0.004240  0.000043   \n",
       "2        0.021937            0.008729   0.003510    0.007011  0.000083   \n",
       "3        0.019650            0.014014   0.005781    0.005821  0.000231   \n",
       "4        0.013259            0.006987   0.002943    0.004798  0.000051   \n",
       "\n",
       "     wh_adv  poss_ending    symbol  list_marker  \n",
       "0  0.005545     0.000000  0.000000          0.0  \n",
       "1  0.004809     0.008716  0.000005          0.0  \n",
       "2  0.007001     0.000000  0.000000          0.0  \n",
       "3  0.006878     0.006548  0.000033          0.0  \n",
       "4  0.005036     0.006805  0.000000          0.0  \n",
       "\n",
       "[5 rows x 48 columns]"
      ]
     },
     "execution_count": 292,
     "metadata": {},
     "output_type": "execute_result"
    }
   ],
   "source": [
    "df.head()"
   ]
  },
  {
   "cell_type": "code",
   "execution_count": null,
   "metadata": {
    "collapsed": true
   },
   "outputs": [],
   "source": []
  }
 ],
 "metadata": {
  "anaconda-cloud": {},
  "kernelspec": {
   "display_name": "Python [dsi]",
   "language": "python",
   "name": "Python [dsi]"
  },
  "language_info": {
   "codemirror_mode": {
    "name": "ipython",
    "version": 2
   },
   "file_extension": ".py",
   "mimetype": "text/x-python",
   "name": "python",
   "nbconvert_exporter": "python",
   "pygments_lexer": "ipython2",
   "version": "2.7.12"
  }
 },
 "nbformat": 4,
 "nbformat_minor": 0
}
