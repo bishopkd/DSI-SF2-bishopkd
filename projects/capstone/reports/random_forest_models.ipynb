{
 "cells": [
  {
   "cell_type": "markdown",
   "metadata": {},
   "source": [
    "## Random forest classification"
   ]
  },
  {
   "cell_type": "markdown",
   "metadata": {},
   "source": [
    "### Imports and global variables"
   ]
  },
  {
   "cell_type": "code",
   "execution_count": 1,
   "metadata": {
    "collapsed": false
   },
   "outputs": [],
   "source": [
    "import numpy as np\n",
    "import pandas as pd\n",
    "import seaborn as sns\n",
    "import matplotlib.pyplot as plt\n",
    "from ipywidgets import *\n",
    "from IPython.display import display\n",
    "from sklearn.metrics import roc_curve, auc\n",
    "\n",
    "from sklearn.tree import DecisionTreeClassifier\n",
    "from sklearn.ensemble import RandomForestClassifier\n",
    "from sklearn.metrics import classification_report\n",
    "from sklearn.cross_validation import cross_val_score\n",
    "from sklearn.cross_validation import train_test_split\n",
    "from sklearn.grid_search import GridSearchCV\n",
    "from sklearn.externals.six import StringIO  \n",
    "from IPython.display import Image  \n",
    "from sklearn.tree import export_graphviz\n",
    "import pydotplus\n",
    "\n",
    "plt.style.use('fivethirtyeight')\n",
    "%matplotlib inline\n",
    "\n",
    "path = '/Users/katbishop/Desktop/DSI-SF2-bishopkd/projects/capstone/data/'"
   ]
  },
  {
   "cell_type": "markdown",
   "metadata": {},
   "source": [
    "#### Load the data"
   ]
  },
  {
   "cell_type": "code",
   "execution_count": 19,
   "metadata": {
    "collapsed": false
   },
   "outputs": [
    {
     "name": "stdout",
     "output_type": "stream",
     "text": [
      "(78, 64)\n",
      "(14, 64)\n",
      "(92, 64)\n"
     ]
    },
    {
     "data": {
      "text/html": [
       "<div>\n",
       "<table border=\"1\" class=\"dataframe\">\n",
       "  <thead>\n",
       "    <tr style=\"text-align: right;\">\n",
       "      <th></th>\n",
       "      <th>adj</th>\n",
       "      <th>adj_compare</th>\n",
       "      <th>adj_sup</th>\n",
       "      <th>adv</th>\n",
       "      <th>adv_compare</th>\n",
       "      <th>adv_part</th>\n",
       "      <th>adv_sup</th>\n",
       "      <th>avg_sent_len</th>\n",
       "      <th>avg_word_len</th>\n",
       "      <th>best_seller</th>\n",
       "      <th>...</th>\n",
       "      <th>verb_count</th>\n",
       "      <th>verb_ger</th>\n",
       "      <th>verb_past</th>\n",
       "      <th>verb_pp</th>\n",
       "      <th>verb_sing_pres</th>\n",
       "      <th>wh_adv</th>\n",
       "      <th>wh_determ</th>\n",
       "      <th>wh_poss</th>\n",
       "      <th>wh_pronoun</th>\n",
       "      <th>word_count</th>\n",
       "    </tr>\n",
       "  </thead>\n",
       "  <tbody>\n",
       "    <tr>\n",
       "      <th>0</th>\n",
       "      <td>0.069588</td>\n",
       "      <td>0.003314</td>\n",
       "      <td>0.002129</td>\n",
       "      <td>0.063591</td>\n",
       "      <td>0.001534</td>\n",
       "      <td>0.006965</td>\n",
       "      <td>0.000265</td>\n",
       "      <td>14</td>\n",
       "      <td>4</td>\n",
       "      <td>1</td>\n",
       "      <td>...</td>\n",
       "      <td>29612.0</td>\n",
       "      <td>0.023553</td>\n",
       "      <td>0.070598</td>\n",
       "      <td>0.023559</td>\n",
       "      <td>0.019427</td>\n",
       "      <td>0.005545</td>\n",
       "      <td>0.004228</td>\n",
       "      <td>0.000024</td>\n",
       "      <td>0.004685</td>\n",
       "      <td>166265</td>\n",
       "    </tr>\n",
       "    <tr>\n",
       "      <th>1</th>\n",
       "      <td>0.065146</td>\n",
       "      <td>0.004336</td>\n",
       "      <td>0.003233</td>\n",
       "      <td>0.067069</td>\n",
       "      <td>0.002154</td>\n",
       "      <td>0.005526</td>\n",
       "      <td>0.000405</td>\n",
       "      <td>11</td>\n",
       "      <td>4</td>\n",
       "      <td>1</td>\n",
       "      <td>...</td>\n",
       "      <td>36339.0</td>\n",
       "      <td>0.019928</td>\n",
       "      <td>0.078151</td>\n",
       "      <td>0.024544</td>\n",
       "      <td>0.015360</td>\n",
       "      <td>0.004794</td>\n",
       "      <td>0.003826</td>\n",
       "      <td>0.000043</td>\n",
       "      <td>0.004250</td>\n",
       "      <td>207548</td>\n",
       "    </tr>\n",
       "  </tbody>\n",
       "</table>\n",
       "<p>2 rows × 64 columns</p>\n",
       "</div>"
      ],
      "text/plain": [
       "        adj  adj_compare   adj_sup       adv  adv_compare  adv_part   adv_sup  \\\n",
       "0  0.069588     0.003314  0.002129  0.063591     0.001534  0.006965  0.000265   \n",
       "1  0.065146     0.004336  0.003233  0.067069     0.002154  0.005526  0.000405   \n",
       "\n",
       "   avg_sent_len  avg_word_len  best_seller     ...     verb_count  verb_ger  \\\n",
       "0            14             4            1     ...        29612.0  0.023553   \n",
       "1            11             4            1     ...        36339.0  0.019928   \n",
       "\n",
       "   verb_past   verb_pp  verb_sing_pres    wh_adv  wh_determ   wh_poss  \\\n",
       "0   0.070598  0.023559        0.019427  0.005545   0.004228  0.000024   \n",
       "1   0.078151  0.024544        0.015360  0.004794   0.003826  0.000043   \n",
       "\n",
       "   wh_pronoun  word_count  \n",
       "0    0.004685      166265  \n",
       "1    0.004250      207548  \n",
       "\n",
       "[2 rows x 64 columns]"
      ]
     },
     "execution_count": 19,
     "metadata": {},
     "output_type": "execute_result"
    }
   ],
   "source": [
    "# load training data\n",
    "df = pd.read_csv(path + 'df.csv')\n",
    "del df['Unnamed: 0']\n",
    "#del df['Unnamed: 0.1']\n",
    "\n",
    "# load held-out testing data\n",
    "df_test = pd.read_csv(path + 'df_test.csv')\n",
    "del df_test['Unnamed: 0']\n",
    "\n",
    "df_all = pd.concat([df,df_test], axis=0).reset_index()\n",
    "del df_all['index']\n",
    "\n",
    "print df.shape\n",
    "print df_test.shape\n",
    "print df_all.shape\n",
    "df_all.head(2)"
   ]
  },
  {
   "cell_type": "code",
   "execution_count": 20,
   "metadata": {
    "collapsed": false
   },
   "outputs": [
    {
     "name": "stdout",
     "output_type": "stream",
     "text": [
      "(47, 64)\n",
      "(45, 64)\n"
     ]
    }
   ],
   "source": [
    "# subset the data\n",
    "sf = df_all[df_all['sci_fi']==1]\n",
    "rm = df_all[df_all['sci_fi']==0]\n",
    "print sf.shape\n",
    "print rm.shape"
   ]
  },
  {
   "cell_type": "code",
   "execution_count": 52,
   "metadata": {
    "collapsed": false
   },
   "outputs": [
    {
     "data": {
      "text/plain": [
       "0.4888888888888889"
      ]
     },
     "execution_count": 52,
     "metadata": {},
     "output_type": "execute_result"
    }
   ],
   "source": [
    "rm.best_seller.mean()"
   ]
  },
  {
   "cell_type": "markdown",
   "metadata": {},
   "source": [
    "#### Science-fiction"
   ]
  },
  {
   "cell_type": "code",
   "execution_count": 18,
   "metadata": {
    "collapsed": false
   },
   "outputs": [
    {
     "name": "stdout",
     "output_type": "stream",
     "text": [
      "(47,) (47, 54)\n"
     ]
    }
   ],
   "source": [
    "y_sf = sf['best_seller']\n",
    "X_sf = sf[['avg_sent_len', 'avg_word_len', 'lex_diversity', 'polarity','subjectivity', 'profane','conj_coord',\n",
    "            'determiner', 'exist_there', 'foreign_word','conj_sub_prep', 'adj', 'adj_compare','adj_sup', \n",
    "           'verb_aux','noun', 'noun_prop', 'noun_prop_pural', 'noun_plural', 'predeterm','poss_ending','pronoun_pers',\n",
    "           'pronoun_poss', 'adv', 'adv_compare','adv_sup', 'adv_part', 'inf_to', 'interject', 'verb_base','verb_past',\n",
    "           'verb_ger', 'verb_pp', 'verb_sing_pres','verb_3rd_sing_pres', 'wh_determ', 'wh_pronoun', 'wh_poss','wh_adv',\n",
    "           'verb.body', 'verb.change', 'verb.cognition','verb.communication', 'verb.competition', 'verb.consumption',\n",
    "           'verb.contact', 'verb.creation', 'verb.emotion', 'verb.motion','verb.perception', 'verb.possession', \n",
    "           'verb.social', 'verb.stative','verb.weather']]\n",
    "\n",
    "print y_sf.shape, X_sf.shape"
   ]
  },
  {
   "cell_type": "code",
   "execution_count": 22,
   "metadata": {
    "collapsed": false
   },
   "outputs": [
    {
     "name": "stdout",
     "output_type": "stream",
     "text": [
      "(32, 54) (32,)\n",
      "(15, 54) (15,)\n"
     ]
    }
   ],
   "source": [
    "X_sf, X_sf_test, y_sf, y_sf_test = train_test_split(X_sf, y_sf, test_size=0.3)\n",
    "\n",
    "print X_sf.shape, y_sf.shape\n",
    "print X_sf_test.shape, y_sf_test.shape"
   ]
  },
  {
   "cell_type": "markdown",
   "metadata": {},
   "source": [
    "#### Random Forest Classifier"
   ]
  },
  {
   "cell_type": "code",
   "execution_count": 439,
   "metadata": {
    "collapsed": false
   },
   "outputs": [
    {
     "name": "stdout",
     "output_type": "stream",
     "text": [
      "Fitting 5 folds for each of 480 candidates, totalling 2400 fits\n"
     ]
    },
    {
     "name": "stderr",
     "output_type": "stream",
     "text": [
      "[Parallel(n_jobs=-1)]: Done  42 tasks      | elapsed:    3.2s\n",
      "[Parallel(n_jobs=-1)]: Done 192 tasks      | elapsed:   16.2s\n",
      "[Parallel(n_jobs=-1)]: Done 442 tasks      | elapsed:   36.9s\n",
      "[Parallel(n_jobs=-1)]: Done 792 tasks      | elapsed:  1.1min\n",
      "[Parallel(n_jobs=-1)]: Done 1242 tasks      | elapsed:  1.7min\n",
      "[Parallel(n_jobs=-1)]: Done 1792 tasks      | elapsed:  2.5min\n",
      "[Parallel(n_jobs=-1)]: Done 2400 out of 2400 | elapsed:  3.3min finished\n"
     ]
    },
    {
     "name": "stdout",
     "output_type": "stream",
     "text": [
      "best estimator RandomForestClassifier(bootstrap=True, class_weight=None, criterion='gini',\n",
      "            max_depth=4, max_features='sqrt', max_leaf_nodes=None,\n",
      "            min_samples_leaf=1.0, min_samples_split=2,\n",
      "            min_weight_fraction_leaf=0.0, n_estimators=50, n_jobs=1,\n",
      "            oob_score=False, random_state=None, verbose=0,\n",
      "            warm_start=False)\n",
      "\n",
      "best parameters {'max_features': 'sqrt', 'n_estimators': 50, 'max_depth': 4, 'min_samples_leaf': 1.0}\n",
      "\n",
      "best score 0.875\n"
     ]
    }
   ],
   "source": [
    "rfc = RandomForestClassifier()\n",
    "rf_params = {\n",
    "    'max_features':['log2','sqrt', 2,3,4,5],\n",
    "    'max_depth':[1,2,3,4],\n",
    "    'min_samples_leaf':np.linspace(1,30,20),\n",
    "    'n_estimators':[50]\n",
    "}\n",
    "\n",
    "rf_gs_sf = GridSearchCV(rfc, rf_params, cv=5, verbose=1, n_jobs=-1)\n",
    "rf_model_sf = rf_gs_sf.fit(X_sf, y_sf) \n",
    "\n",
    "rf_proba_sf = rf_model_sf.predict_log_proba(X_sf_test)\n",
    "y_sf_pp = rf_model_sf.predict_log_proba(X_sf_test)[:,1]\n",
    "\n",
    "rfc_best_sf = rf_gs_sf.best_estimator_\n",
    "print \"best estimator\", rfc_best_sf\n",
    "print \n",
    "print \"best parameters\",  rf_gs_sf.best_params_\n",
    "print \n",
    "print \"best score\", rf_gs_sf.best_score_"
   ]
  },
  {
   "cell_type": "code",
   "execution_count": 437,
   "metadata": {
    "collapsed": false
   },
   "outputs": [
    {
     "data": {
      "text/html": [
       "<div>\n",
       "<table border=\"1\" class=\"dataframe\">\n",
       "  <thead>\n",
       "    <tr style=\"text-align: right;\">\n",
       "      <th></th>\n",
       "      <th>feature</th>\n",
       "      <th>importance</th>\n",
       "    </tr>\n",
       "  </thead>\n",
       "  <tbody>\n",
       "    <tr>\n",
       "      <th>9</th>\n",
       "      <td>foreign_word</td>\n",
       "      <td>0.571816</td>\n",
       "    </tr>\n",
       "    <tr>\n",
       "      <th>2</th>\n",
       "      <td>lex_diversity</td>\n",
       "      <td>0.247360</td>\n",
       "    </tr>\n",
       "    <tr>\n",
       "      <th>29</th>\n",
       "      <td>verb_base</td>\n",
       "      <td>0.115490</td>\n",
       "    </tr>\n",
       "    <tr>\n",
       "      <th>15</th>\n",
       "      <td>noun</td>\n",
       "      <td>0.065334</td>\n",
       "    </tr>\n",
       "    <tr>\n",
       "      <th>0</th>\n",
       "      <td>avg_sent_len</td>\n",
       "      <td>0.000000</td>\n",
       "    </tr>\n",
       "    <tr>\n",
       "      <th>41</th>\n",
       "      <td>verb.cognition</td>\n",
       "      <td>0.000000</td>\n",
       "    </tr>\n",
       "    <tr>\n",
       "      <th>31</th>\n",
       "      <td>verb_ger</td>\n",
       "      <td>0.000000</td>\n",
       "    </tr>\n",
       "    <tr>\n",
       "      <th>32</th>\n",
       "      <td>verb_pp</td>\n",
       "      <td>0.000000</td>\n",
       "    </tr>\n",
       "    <tr>\n",
       "      <th>33</th>\n",
       "      <td>verb_sing_pres</td>\n",
       "      <td>0.000000</td>\n",
       "    </tr>\n",
       "    <tr>\n",
       "      <th>34</th>\n",
       "      <td>verb_3rd_sing_pres</td>\n",
       "      <td>0.000000</td>\n",
       "    </tr>\n",
       "  </tbody>\n",
       "</table>\n",
       "</div>"
      ],
      "text/plain": [
       "               feature  importance\n",
       "9         foreign_word    0.571816\n",
       "2        lex_diversity    0.247360\n",
       "29           verb_base    0.115490\n",
       "15                noun    0.065334\n",
       "0         avg_sent_len    0.000000\n",
       "41      verb.cognition    0.000000\n",
       "31            verb_ger    0.000000\n",
       "32             verb_pp    0.000000\n",
       "33      verb_sing_pres    0.000000\n",
       "34  verb_3rd_sing_pres    0.000000"
      ]
     },
     "execution_count": 437,
     "metadata": {},
     "output_type": "execute_result"
    }
   ],
   "source": [
    "## Print Feature importances\n",
    "feature_importance = pd.DataFrame({ 'feature':X_sf.columns, \n",
    "                                   'importance':rfc_best_sf.feature_importances_\n",
    "                                  })\n",
    "\n",
    "feature_importance.sort_values('importance', ascending=False, inplace=True)\n",
    "feature_importance.head(10)"
   ]
  },
  {
   "cell_type": "code",
   "execution_count": 30,
   "metadata": {
    "collapsed": false
   },
   "outputs": [
    {
     "data": {
      "text/html": [
       "<div>\n",
       "<table border=\"1\" class=\"dataframe\">\n",
       "  <thead>\n",
       "    <tr style=\"text-align: right;\">\n",
       "      <th></th>\n",
       "      <th>feature</th>\n",
       "      <th>importance</th>\n",
       "    </tr>\n",
       "  </thead>\n",
       "  <tbody>\n",
       "    <tr>\n",
       "      <th>5</th>\n",
       "      <td>profane</td>\n",
       "      <td>0.0</td>\n",
       "    </tr>\n",
       "    <tr>\n",
       "      <th>53</th>\n",
       "      <td>verb.weather</td>\n",
       "      <td>0.0</td>\n",
       "    </tr>\n",
       "  </tbody>\n",
       "</table>\n",
       "</div>"
      ],
      "text/plain": [
       "         feature  importance\n",
       "5        profane         0.0\n",
       "53  verb.weather         0.0"
      ]
     },
     "execution_count": 30,
     "metadata": {},
     "output_type": "execute_result"
    }
   ],
   "source": [
    "feature_importance.tail(2)"
   ]
  },
  {
   "cell_type": "code",
   "execution_count": 483,
   "metadata": {
    "collapsed": false
   },
   "outputs": [
    {
     "data": {
      "text/plain": [
       "<matplotlib.figure.Figure at 0x133710610>"
      ]
     },
     "metadata": {},
     "output_type": "display_data"
    },
    {
     "data": {
      "image/png": "[encoded data removed]",
      "text/plain": [
       "<matplotlib.figure.Figure at 0x1327a5cd0>"
      ]
     },
     "metadata": {},
     "output_type": "display_data"
    }
   ],
   "source": [
    "feat = feature_importance.set_index('feature')\n",
    "sns.set_style(\"whitegrid\")\n",
    "plt.figure(figsize=(12, 6))\n",
    "bar_width = 0.35\n",
    "feat.sort_values('importance', ascending=0).head(6).plot(kind='barh', figsize=(14,5),fontsize=12)\n",
    "plt.xlabel('Weight',fontsize=14)\n",
    "plt.ylabel('Features',fontsize=14)\n",
    "plt.title('Science-fiction feature importance: Random Forest',fontsize=18)\n",
    "plt.tight_layout()\n",
    "plt.show()"
   ]
  },
  {
   "cell_type": "code",
   "execution_count": 484,
   "metadata": {
    "collapsed": false
   },
   "outputs": [
    {
     "name": "stdout",
     "output_type": "stream",
     "text": [
      "(15,) (15,)\n",
      "             precision    recall  f1-score   support\n",
      "\n",
      "          0       0.62      0.83      0.71         6\n",
      "          1       0.86      0.67      0.75         9\n",
      "\n",
      "avg / total       0.76      0.73      0.74        15\n",
      "\n"
     ]
    }
   ],
   "source": [
    "y_sf_pred_rfc= rfc_best.predict(X_sf_test)\n",
    "\n",
    "print y_sf_pred_rfc.shape, y_sf_test.shape\n",
    "\n",
    "cls_rep = classification_report(y_sf_test, y_sf_pred_rfc)\n",
    "print cls_rep "
   ]
  },
  {
   "cell_type": "code",
   "execution_count": 487,
   "metadata": {
    "collapsed": false
   },
   "outputs": [
    {
     "data": {
      "image/png": "[encoded data removed]",
      "text/plain": [
       "<matplotlib.figure.Figure at 0x1327936d0>"
      ]
     },
     "metadata": {},
     "output_type": "display_data"
    }
   ],
   "source": [
    "plot_roc_curve(target=y_sf_test, predict_proba=rf_proba_sf[:,1], title='Science-fiction best-seller prediction')"
   ]
  },
  {
   "cell_type": "markdown",
   "metadata": {},
   "source": [
    "#### Romance"
   ]
  },
  {
   "cell_type": "code",
   "execution_count": 515,
   "metadata": {
    "collapsed": false
   },
   "outputs": [
    {
     "name": "stdout",
     "output_type": "stream",
     "text": [
      "(45,) (45, 54)\n"
     ]
    }
   ],
   "source": [
    "y_rm = rm['best_seller']\n",
    "X_rm = rm[['avg_sent_len', 'avg_word_len', 'lex_diversity', 'polarity','subjectivity', 'profane','conj_coord',\n",
    "            'determiner', 'exist_there', 'foreign_word','conj_sub_prep', 'adj', 'adj_compare','adj_sup', \n",
    "           'verb_aux','noun', 'noun_prop', 'noun_prop_pural', 'noun_plural', 'predeterm','poss_ending','pronoun_pers',\n",
    "           'pronoun_poss', 'adv', 'adv_compare','adv_sup', 'adv_part', 'inf_to', 'interject', 'verb_base','verb_past',\n",
    "           'verb_ger', 'verb_pp', 'verb_sing_pres','verb_3rd_sing_pres', 'wh_determ', 'wh_pronoun', 'wh_poss','wh_adv',\n",
    "           'verb.body', 'verb.change', 'verb.cognition','verb.communication', 'verb.competition', 'verb.consumption',\n",
    "           'verb.contact', 'verb.creation', 'verb.emotion', 'verb.motion','verb.perception', 'verb.possession', \n",
    "           'verb.social', 'verb.stative','verb.weather']]\n",
    "\n",
    "\n",
    "print y_rm.shape, X_rm.shape"
   ]
  },
  {
   "cell_type": "code",
   "execution_count": 516,
   "metadata": {
    "collapsed": false
   },
   "outputs": [
    {
     "name": "stdout",
     "output_type": "stream",
     "text": [
      "(31, 54) (31,)\n",
      "(14, 54) (14,)\n"
     ]
    }
   ],
   "source": [
    "X_rm, X_rm_test, y_rm, y_rm_test = train_test_split(X_rm, y_rm, test_size=0.3)\n",
    "\n",
    "print X_rm.shape, y_rm.shape\n",
    "print X_rm_test.shape, y_rm_test.shape"
   ]
  },
  {
   "cell_type": "code",
   "execution_count": 517,
   "metadata": {
    "collapsed": false
   },
   "outputs": [
    {
     "name": "stdout",
     "output_type": "stream",
     "text": [
      "Fitting 5 folds for each of 240 candidates, totalling 1200 fits\n"
     ]
    },
    {
     "name": "stderr",
     "output_type": "stream",
     "text": [
      "[Parallel(n_jobs=-1)]: Done  42 tasks      | elapsed:    6.0s\n",
      "[Parallel(n_jobs=-1)]: Done 192 tasks      | elapsed:   27.4s\n",
      "[Parallel(n_jobs=-1)]: Done 442 tasks      | elapsed:  1.0min\n",
      "[Parallel(n_jobs=-1)]: Done 792 tasks      | elapsed:  1.8min\n",
      "[Parallel(n_jobs=-1)]: Done 1200 out of 1200 | elapsed:  2.8min finished\n"
     ]
    },
    {
     "name": "stdout",
     "output_type": "stream",
     "text": [
      "best estimator RandomForestClassifier(bootstrap=True, class_weight=None, criterion='gini',\n",
      "            max_depth=4, max_features='log2', max_leaf_nodes=None,\n",
      "            min_samples_leaf=1.0, min_samples_split=2,\n",
      "            min_weight_fraction_leaf=0.0, n_estimators=100, n_jobs=1,\n",
      "            oob_score=False, random_state=None, verbose=0,\n",
      "            warm_start=False)\n",
      "\n",
      "best parameters {'max_features': 'log2', 'n_estimators': 100, 'max_depth': 4, 'min_samples_leaf': 1.0}\n",
      "\n",
      "best score 0.806451612903\n"
     ]
    }
   ],
   "source": [
    "rfc = RandomForestClassifier()\n",
    "rf_params = {\n",
    "    'max_features':['log2','sqrt', 2,3,4,5],\n",
    "    'max_depth':[1,2,3,4],\n",
    "    'min_samples_leaf':np.linspace(1,20,10),\n",
    "    'n_estimators':[100]\n",
    "}\n",
    "\n",
    "rf_gs_rm = GridSearchCV(rfc, rf_params, cv=5, verbose=1, n_jobs=-1)\n",
    "rf_model_rm = rf_gs_rm.fit(X_rm, y_rm) \n",
    "\n",
    "rf_proba_rm = rf_model_rm.predict_log_proba(X_rm_test)\n",
    "\n",
    "rfc_best_rm = rf_gs_rm.best_estimator_\n",
    "\n",
    "print \"best estimator\", rfc_best_rm\n",
    "print \n",
    "print \"best parameters\",  rf_gs_rm.best_params_\n",
    "print \n",
    "print \"best score\", rf_gs_rm.best_score_"
   ]
  },
  {
   "cell_type": "code",
   "execution_count": 518,
   "metadata": {
    "collapsed": false
   },
   "outputs": [
    {
     "data": {
      "text/html": [
       "<div>\n",
       "<table border=\"1\" class=\"dataframe\">\n",
       "  <thead>\n",
       "    <tr style=\"text-align: right;\">\n",
       "      <th></th>\n",
       "      <th>feature</th>\n",
       "      <th>importance</th>\n",
       "    </tr>\n",
       "  </thead>\n",
       "  <tbody>\n",
       "    <tr>\n",
       "      <th>15</th>\n",
       "      <td>noun</td>\n",
       "      <td>0.043884</td>\n",
       "    </tr>\n",
       "    <tr>\n",
       "      <th>30</th>\n",
       "      <td>verb_past</td>\n",
       "      <td>0.043176</td>\n",
       "    </tr>\n",
       "    <tr>\n",
       "      <th>31</th>\n",
       "      <td>verb_ger</td>\n",
       "      <td>0.041578</td>\n",
       "    </tr>\n",
       "    <tr>\n",
       "      <th>2</th>\n",
       "      <td>lex_diversity</td>\n",
       "      <td>0.040854</td>\n",
       "    </tr>\n",
       "    <tr>\n",
       "      <th>23</th>\n",
       "      <td>adv</td>\n",
       "      <td>0.034814</td>\n",
       "    </tr>\n",
       "    <tr>\n",
       "      <th>49</th>\n",
       "      <td>verb.perception</td>\n",
       "      <td>0.034254</td>\n",
       "    </tr>\n",
       "    <tr>\n",
       "      <th>35</th>\n",
       "      <td>wh_determ</td>\n",
       "      <td>0.033237</td>\n",
       "    </tr>\n",
       "    <tr>\n",
       "      <th>46</th>\n",
       "      <td>verb.creation</td>\n",
       "      <td>0.030085</td>\n",
       "    </tr>\n",
       "    <tr>\n",
       "      <th>7</th>\n",
       "      <td>determiner</td>\n",
       "      <td>0.029910</td>\n",
       "    </tr>\n",
       "    <tr>\n",
       "      <th>14</th>\n",
       "      <td>verb_aux</td>\n",
       "      <td>0.028765</td>\n",
       "    </tr>\n",
       "  </tbody>\n",
       "</table>\n",
       "</div>"
      ],
      "text/plain": [
       "            feature  importance\n",
       "15             noun    0.043884\n",
       "30        verb_past    0.043176\n",
       "31         verb_ger    0.041578\n",
       "2     lex_diversity    0.040854\n",
       "23              adv    0.034814\n",
       "49  verb.perception    0.034254\n",
       "35        wh_determ    0.033237\n",
       "46    verb.creation    0.030085\n",
       "7        determiner    0.029910\n",
       "14         verb_aux    0.028765"
      ]
     },
     "execution_count": 518,
     "metadata": {},
     "output_type": "execute_result"
    }
   ],
   "source": [
    "## Print Feature importances\n",
    "feature_importance = pd.DataFrame({ 'feature':X_rm.columns, \n",
    "                                   'importance':rfc_best_rm.feature_importances_\n",
    "                                  })\n",
    "\n",
    "feature_importance.sort_values('importance', ascending=False, inplace=True)\n",
    "feature_importance.head(10)"
   ]
  },
  {
   "cell_type": "code",
   "execution_count": 496,
   "metadata": {
    "collapsed": false
   },
   "outputs": [
    {
     "data": {
      "text/html": [
       "<div>\n",
       "<table border=\"1\" class=\"dataframe\">\n",
       "  <thead>\n",
       "    <tr style=\"text-align: right;\">\n",
       "      <th></th>\n",
       "      <th>feature</th>\n",
       "      <th>importance</th>\n",
       "    </tr>\n",
       "  </thead>\n",
       "  <tbody>\n",
       "    <tr>\n",
       "      <th>5</th>\n",
       "      <td>profane</td>\n",
       "      <td>0.0</td>\n",
       "    </tr>\n",
       "    <tr>\n",
       "      <th>53</th>\n",
       "      <td>verb.weather</td>\n",
       "      <td>0.0</td>\n",
       "    </tr>\n",
       "  </tbody>\n",
       "</table>\n",
       "</div>"
      ],
      "text/plain": [
       "         feature  importance\n",
       "5        profane         0.0\n",
       "53  verb.weather         0.0"
      ]
     },
     "execution_count": 496,
     "metadata": {},
     "output_type": "execute_result"
    }
   ],
   "source": [
    "feature_importance.tail(2)"
   ]
  },
  {
   "cell_type": "code",
   "execution_count": 519,
   "metadata": {
    "collapsed": false
   },
   "outputs": [
    {
     "data": {
      "text/plain": [
       "<matplotlib.figure.Figure at 0x134befc50>"
      ]
     },
     "metadata": {},
     "output_type": "display_data"
    },
    {
     "data": {
      "image/png": "[encoded data removed]",
      "text/plain": [
       "<matplotlib.figure.Figure at 0x1337d4b50>"
      ]
     },
     "metadata": {},
     "output_type": "display_data"
    }
   ],
   "source": [
    "feat_rm = feature_importance.set_index('feature')\n",
    "sns.set_style(\"whitegrid\")\n",
    "plt.figure(figsize=(12, 6))\n",
    "bar_width = 0.35\n",
    "feat_rm.sort_values('importance', ascending=0).head(15).plot(kind='barh', figsize=(14,5),fontsize=12)\n",
    "plt.xlabel('Weight',fontsize=14)\n",
    "plt.ylabel('Features',fontsize=14)\n",
    "plt.title('Romance feature importance: Random Forest',fontsize=18)\n",
    "plt.tight_layout()\n",
    "plt.show()"
   ]
  },
  {
   "cell_type": "code",
   "execution_count": 522,
   "metadata": {
    "collapsed": false
   },
   "outputs": [
    {
     "data": {
      "image/png": "[encoded data removed]",
      "text/plain": [
       "<matplotlib.figure.Figure at 0x132e63cd0>"
      ]
     },
     "metadata": {},
     "output_type": "display_data"
    }
   ],
   "source": [
    "plot_roc_curve(target=y_rm_test, predict_proba=rf_proba_rm[:,1], title='Romance best-seller prediction')"
   ]
  },
  {
   "cell_type": "markdown",
   "metadata": {},
   "source": [
    "## Best-seller predictor"
   ]
  },
  {
   "cell_type": "code",
   "execution_count": 176,
   "metadata": {
    "collapsed": false
   },
   "outputs": [],
   "source": [
    "def predict_8ball(mod, X_test, title):\n",
    "    df = pd.DataFrame(['best_seller','probability','title'])\n",
    "    i=0\n",
    "    y_other_pred = mod.predict(X_test)\n",
    "    proba_other = mod.predict_proba(X_test)\n",
    "    for y, p, t in zip(y_other_pred, proba_other, title):\n",
    "        if y==1:\n",
    "            df.ix[i,'best_seller'] = 'best seller'\n",
    "            df.ix[i,'probability'] = p[1]\n",
    "        else:\n",
    "            df.ix[i,'best_seller'] = 'flop'\n",
    "            df.ix[i,'probability'] = p[0]\n",
    "        df.ix[i,'title'] = t\n",
    "        i+=1\n",
    "    del df[0]\n",
    "    return df.sort_values(['best_seller','probability'],ascending=[True,False])\n"
   ]
  },
  {
   "cell_type": "code",
   "execution_count": 422,
   "metadata": {
    "collapsed": false
   },
   "outputs": [],
   "source": [
    "df_other = pd.read_csv(path + 'df_other.csv')\n",
    "del df_other['Unnamed: 0']\n",
    "\n",
    "y_other = df_other['best_seller']\n",
    "X_other = df_other[['avg_sent_len', 'avg_word_len', 'lex_diversity', 'polarity','subjectivity', 'profane','conj_coord',\n",
    "            'determiner', 'exist_there', 'foreign_word','conj_sub_prep', 'adj', 'adj_compare','adj_sup', \n",
    "           'verb_aux','noun', 'noun_prop', 'noun_prop_pural', 'noun_plural', 'predeterm','poss_ending','pronoun_pers',\n",
    "           'pronoun_poss', 'adv', 'adv_compare','adv_sup', 'adv_part', 'inf_to', 'interject', 'verb_base','verb_past',\n",
    "           'verb_ger', 'verb_pp', 'verb_sing_pres','verb_3rd_sing_pres', 'wh_determ', 'wh_pronoun', 'wh_poss','wh_adv',\n",
    "           'verb.body', 'verb.change', 'verb.cognition','verb.communication', 'verb.competition', 'verb.consumption',\n",
    "           'verb.contact', 'verb.creation', 'verb.emotion', 'verb.motion','verb.perception', 'verb.possession', \n",
    "           'verb.social', 'verb.stative','verb.weather']]\n"
   ]
  },
  {
   "cell_type": "code",
   "execution_count": 423,
   "metadata": {
    "collapsed": false
   },
   "outputs": [
    {
     "data": {
      "text/html": [
       "<div>\n",
       "<table border=\"1\" class=\"dataframe\">\n",
       "  <thead>\n",
       "    <tr style=\"text-align: right;\">\n",
       "      <th></th>\n",
       "      <th>best_seller</th>\n",
       "      <th>probability</th>\n",
       "      <th>title</th>\n",
       "    </tr>\n",
       "  </thead>\n",
       "  <tbody>\n",
       "    <tr>\n",
       "      <th>0</th>\n",
       "      <td>best seller</td>\n",
       "      <td>0.630054</td>\n",
       "      <td>a plate of wheat for three blind tigers - jane...</td>\n",
       "    </tr>\n",
       "    <tr>\n",
       "      <th>1</th>\n",
       "      <td>best seller</td>\n",
       "      <td>0.525166</td>\n",
       "      <td>amish vampires in space - kerry nietz</td>\n",
       "    </tr>\n",
       "    <tr>\n",
       "      <th>3</th>\n",
       "      <td>flop</td>\n",
       "      <td>0.579429</td>\n",
       "      <td>stark pleasure - cathryn cade</td>\n",
       "    </tr>\n",
       "    <tr>\n",
       "      <th>2</th>\n",
       "      <td>flop</td>\n",
       "      <td>0.543657</td>\n",
       "      <td>aquarian awakenings - lisa shea</td>\n",
       "    </tr>\n",
       "  </tbody>\n",
       "</table>\n",
       "</div>"
      ],
      "text/plain": [
       "   best_seller  probability                                              title\n",
       "0  best seller     0.630054  a plate of wheat for three blind tigers - jane...\n",
       "1  best seller     0.525166              amish vampires in space - kerry nietz\n",
       "3         flop     0.579429                      stark pleasure - cathryn cade\n",
       "2         flop     0.543657                    aquarian awakenings - lisa shea"
      ]
     },
     "execution_count": 423,
     "metadata": {},
     "output_type": "execute_result"
    }
   ],
   "source": [
    "predict_8ball(rf_model_rm, X_other,df_other['title'])"
   ]
  },
  {
   "cell_type": "code",
   "execution_count": 177,
   "metadata": {
    "collapsed": false
   },
   "outputs": [
    {
     "name": "stdout",
     "output_type": "stream",
     "text": [
      "(47, 64)\n"
     ]
    },
    {
     "data": {
      "text/html": [
       "<div>\n",
       "<table border=\"1\" class=\"dataframe\">\n",
       "  <thead>\n",
       "    <tr style=\"text-align: right;\">\n",
       "      <th></th>\n",
       "      <th>best_seller</th>\n",
       "      <th>probability</th>\n",
       "      <th>title</th>\n",
       "    </tr>\n",
       "  </thead>\n",
       "  <tbody>\n",
       "    <tr>\n",
       "      <th>12</th>\n",
       "      <td>best seller</td>\n",
       "      <td>0.859846</td>\n",
       "      <td>rainbows end - vernor vinge</td>\n",
       "    </tr>\n",
       "    <tr>\n",
       "      <th>14</th>\n",
       "      <td>best seller</td>\n",
       "      <td>0.846921</td>\n",
       "      <td>snow crash - neal stephenson</td>\n",
       "    </tr>\n",
       "    <tr>\n",
       "      <th>17</th>\n",
       "      <td>best seller</td>\n",
       "      <td>0.835634</td>\n",
       "      <td>the left hand of darkness - ursula leguin</td>\n",
       "    </tr>\n",
       "    <tr>\n",
       "      <th>40</th>\n",
       "      <td>best seller</td>\n",
       "      <td>0.785081</td>\n",
       "      <td>dune messiah - frank herbert</td>\n",
       "    </tr>\n",
       "    <tr>\n",
       "      <th>11</th>\n",
       "      <td>best seller</td>\n",
       "      <td>0.756748</td>\n",
       "      <td>neuromancer - gibson william</td>\n",
       "    </tr>\n",
       "    <tr>\n",
       "      <th>0</th>\n",
       "      <td>best seller</td>\n",
       "      <td>0.753611</td>\n",
       "      <td>2312 - kim stanley robinson</td>\n",
       "    </tr>\n",
       "    <tr>\n",
       "      <th>16</th>\n",
       "      <td>best seller</td>\n",
       "      <td>0.734042</td>\n",
       "      <td>the forever war - joe haldeman</td>\n",
       "    </tr>\n",
       "    <tr>\n",
       "      <th>15</th>\n",
       "      <td>best seller</td>\n",
       "      <td>0.728911</td>\n",
       "      <td>the algebraist - iain m banks</td>\n",
       "    </tr>\n",
       "    <tr>\n",
       "      <th>5</th>\n",
       "      <td>best seller</td>\n",
       "      <td>0.723228</td>\n",
       "      <td>diamond age - neal stephenson</td>\n",
       "    </tr>\n",
       "    <tr>\n",
       "      <th>7</th>\n",
       "      <td>best seller</td>\n",
       "      <td>0.718014</td>\n",
       "      <td>dune - frank herbert</td>\n",
       "    </tr>\n",
       "    <tr>\n",
       "      <th>1</th>\n",
       "      <td>best seller</td>\n",
       "      <td>0.707489</td>\n",
       "      <td>a fire upon the deep - vernor vinge</td>\n",
       "    </tr>\n",
       "    <tr>\n",
       "      <th>9</th>\n",
       "      <td>best seller</td>\n",
       "      <td>0.706387</td>\n",
       "      <td>enders game - orson scott card</td>\n",
       "    </tr>\n",
       "    <tr>\n",
       "      <th>13</th>\n",
       "      <td>best seller</td>\n",
       "      <td>0.705000</td>\n",
       "      <td>seveneves - neal stephenson</td>\n",
       "    </tr>\n",
       "    <tr>\n",
       "      <th>39</th>\n",
       "      <td>best seller</td>\n",
       "      <td>0.695175</td>\n",
       "      <td>caliban war - james corey</td>\n",
       "    </tr>\n",
       "    <tr>\n",
       "      <th>19</th>\n",
       "      <td>best seller</td>\n",
       "      <td>0.682229</td>\n",
       "      <td>the windup girl - paolo bacigalupi</td>\n",
       "    </tr>\n",
       "    <tr>\n",
       "      <th>3</th>\n",
       "      <td>best seller</td>\n",
       "      <td>0.680090</td>\n",
       "      <td>children of dune - frank herbert</td>\n",
       "    </tr>\n",
       "    <tr>\n",
       "      <th>42</th>\n",
       "      <td>best seller</td>\n",
       "      <td>0.678297</td>\n",
       "      <td>the martian - andy weir</td>\n",
       "    </tr>\n",
       "    <tr>\n",
       "      <th>41</th>\n",
       "      <td>best seller</td>\n",
       "      <td>0.635472</td>\n",
       "      <td>red mars - kim stanley robinson</td>\n",
       "    </tr>\n",
       "    <tr>\n",
       "      <th>4</th>\n",
       "      <td>best seller</td>\n",
       "      <td>0.606076</td>\n",
       "      <td>consider phlebas - iain m banks</td>\n",
       "    </tr>\n",
       "    <tr>\n",
       "      <th>2</th>\n",
       "      <td>best seller</td>\n",
       "      <td>0.594096</td>\n",
       "      <td>ancillary justice - ann leckie</td>\n",
       "    </tr>\n",
       "    <tr>\n",
       "      <th>6</th>\n",
       "      <td>best seller</td>\n",
       "      <td>0.589821</td>\n",
       "      <td>do androids dream of electric sheep - philip k...</td>\n",
       "    </tr>\n",
       "    <tr>\n",
       "      <th>8</th>\n",
       "      <td>best seller</td>\n",
       "      <td>0.581749</td>\n",
       "      <td>embassytown - china mieville</td>\n",
       "    </tr>\n",
       "    <tr>\n",
       "      <th>18</th>\n",
       "      <td>best seller</td>\n",
       "      <td>0.571219</td>\n",
       "      <td>the moon is a harsh mistress - heinlein robert</td>\n",
       "    </tr>\n",
       "    <tr>\n",
       "      <th>29</th>\n",
       "      <td>best seller</td>\n",
       "      <td>0.565535</td>\n",
       "      <td>shovel ready - adam sternbergh</td>\n",
       "    </tr>\n",
       "    <tr>\n",
       "      <th>21</th>\n",
       "      <td>best seller</td>\n",
       "      <td>0.562095</td>\n",
       "      <td>atlanta nights - travis tea</td>\n",
       "    </tr>\n",
       "    <tr>\n",
       "      <th>35</th>\n",
       "      <td>flop</td>\n",
       "      <td>0.847061</td>\n",
       "      <td>the diamond deep - brenda cooper</td>\n",
       "    </tr>\n",
       "    <tr>\n",
       "      <th>25</th>\n",
       "      <td>flop</td>\n",
       "      <td>0.815661</td>\n",
       "      <td>iastron - james dunn</td>\n",
       "    </tr>\n",
       "    <tr>\n",
       "      <th>28</th>\n",
       "      <td>flop</td>\n",
       "      <td>0.814954</td>\n",
       "      <td>rising tide - rajan khanna</td>\n",
       "    </tr>\n",
       "    <tr>\n",
       "      <th>38</th>\n",
       "      <td>flop</td>\n",
       "      <td>0.789164</td>\n",
       "      <td>wild red yonder - keric hill</td>\n",
       "    </tr>\n",
       "    <tr>\n",
       "      <th>22</th>\n",
       "      <td>flop</td>\n",
       "      <td>0.784266</td>\n",
       "      <td>binary - stephanie saulter</td>\n",
       "    </tr>\n",
       "    <tr>\n",
       "      <th>45</th>\n",
       "      <td>flop</td>\n",
       "      <td>0.779514</td>\n",
       "      <td>rebels city of indra - kendell kylie jenner</td>\n",
       "    </tr>\n",
       "    <tr>\n",
       "      <th>26</th>\n",
       "      <td>flop</td>\n",
       "      <td>0.777128</td>\n",
       "      <td>into the fire - philip palmer</td>\n",
       "    </tr>\n",
       "    <tr>\n",
       "      <th>37</th>\n",
       "      <td>flop</td>\n",
       "      <td>0.776871</td>\n",
       "      <td>the outer worlds - ej gilmour</td>\n",
       "    </tr>\n",
       "    <tr>\n",
       "      <th>27</th>\n",
       "      <td>flop</td>\n",
       "      <td>0.756918</td>\n",
       "      <td>red planet pioneer - vincent tibbetts</td>\n",
       "    </tr>\n",
       "    <tr>\n",
       "      <th>32</th>\n",
       "      <td>flop</td>\n",
       "      <td>0.737797</td>\n",
       "      <td>starlight taxi - cm lanning</td>\n",
       "    </tr>\n",
       "    <tr>\n",
       "      <th>20</th>\n",
       "      <td>flop</td>\n",
       "      <td>0.732059</td>\n",
       "      <td>a sum of her parts - dean foster</td>\n",
       "    </tr>\n",
       "    <tr>\n",
       "      <th>34</th>\n",
       "      <td>flop</td>\n",
       "      <td>0.727765</td>\n",
       "      <td>the best of all possible worlds - karen lord</td>\n",
       "    </tr>\n",
       "    <tr>\n",
       "      <th>36</th>\n",
       "      <td>flop</td>\n",
       "      <td>0.718845</td>\n",
       "      <td>the impossible cube - steven harper</td>\n",
       "    </tr>\n",
       "    <tr>\n",
       "      <th>46</th>\n",
       "      <td>flop</td>\n",
       "      <td>0.701627</td>\n",
       "      <td>zero - adam moon</td>\n",
       "    </tr>\n",
       "    <tr>\n",
       "      <th>44</th>\n",
       "      <td>flop</td>\n",
       "      <td>0.687262</td>\n",
       "      <td>descent into mayhem - bruno goncalves</td>\n",
       "    </tr>\n",
       "    <tr>\n",
       "      <th>43</th>\n",
       "      <td>flop</td>\n",
       "      <td>0.680306</td>\n",
       "      <td>cosmic exile - armand vespertine</td>\n",
       "    </tr>\n",
       "    <tr>\n",
       "      <th>30</th>\n",
       "      <td>flop</td>\n",
       "      <td>0.679810</td>\n",
       "      <td>star diary - andreas ingo</td>\n",
       "    </tr>\n",
       "    <tr>\n",
       "      <th>23</th>\n",
       "      <td>flop</td>\n",
       "      <td>0.672831</td>\n",
       "      <td>escape velocity - cristopher stasheff</td>\n",
       "    </tr>\n",
       "    <tr>\n",
       "      <th>33</th>\n",
       "      <td>flop</td>\n",
       "      <td>0.647263</td>\n",
       "      <td>stars rain down - chris randolf</td>\n",
       "    </tr>\n",
       "    <tr>\n",
       "      <th>31</th>\n",
       "      <td>flop</td>\n",
       "      <td>0.540336</td>\n",
       "      <td>star smashers - harry harrison</td>\n",
       "    </tr>\n",
       "    <tr>\n",
       "      <th>24</th>\n",
       "      <td>flop</td>\n",
       "      <td>0.530172</td>\n",
       "      <td>hell ship - philip palmer</td>\n",
       "    </tr>\n",
       "    <tr>\n",
       "      <th>10</th>\n",
       "      <td>flop</td>\n",
       "      <td>0.509609</td>\n",
       "      <td>leviathan wakes - corey james</td>\n",
       "    </tr>\n",
       "  </tbody>\n",
       "</table>\n",
       "</div>"
      ],
      "text/plain": [
       "    best_seller  probability  \\\n",
       "12  best seller     0.859846   \n",
       "14  best seller     0.846921   \n",
       "17  best seller     0.835634   \n",
       "40  best seller     0.785081   \n",
       "11  best seller     0.756748   \n",
       "0   best seller     0.753611   \n",
       "16  best seller     0.734042   \n",
       "15  best seller     0.728911   \n",
       "5   best seller     0.723228   \n",
       "7   best seller     0.718014   \n",
       "1   best seller     0.707489   \n",
       "9   best seller     0.706387   \n",
       "13  best seller     0.705000   \n",
       "39  best seller     0.695175   \n",
       "19  best seller     0.682229   \n",
       "3   best seller     0.680090   \n",
       "42  best seller     0.678297   \n",
       "41  best seller     0.635472   \n",
       "4   best seller     0.606076   \n",
       "2   best seller     0.594096   \n",
       "6   best seller     0.589821   \n",
       "8   best seller     0.581749   \n",
       "18  best seller     0.571219   \n",
       "29  best seller     0.565535   \n",
       "21  best seller     0.562095   \n",
       "35         flop     0.847061   \n",
       "25         flop     0.815661   \n",
       "28         flop     0.814954   \n",
       "38         flop     0.789164   \n",
       "22         flop     0.784266   \n",
       "45         flop     0.779514   \n",
       "26         flop     0.777128   \n",
       "37         flop     0.776871   \n",
       "27         flop     0.756918   \n",
       "32         flop     0.737797   \n",
       "20         flop     0.732059   \n",
       "34         flop     0.727765   \n",
       "36         flop     0.718845   \n",
       "46         flop     0.701627   \n",
       "44         flop     0.687262   \n",
       "43         flop     0.680306   \n",
       "30         flop     0.679810   \n",
       "23         flop     0.672831   \n",
       "33         flop     0.647263   \n",
       "31         flop     0.540336   \n",
       "24         flop     0.530172   \n",
       "10         flop     0.509609   \n",
       "\n",
       "                                                title  \n",
       "12                        rainbows end - vernor vinge  \n",
       "14                       snow crash - neal stephenson  \n",
       "17          the left hand of darkness - ursula leguin  \n",
       "40                       dune messiah - frank herbert  \n",
       "11                       neuromancer - gibson william  \n",
       "0                         2312 - kim stanley robinson  \n",
       "16                     the forever war - joe haldeman  \n",
       "15                      the algebraist - iain m banks  \n",
       "5                       diamond age - neal stephenson  \n",
       "7                                dune - frank herbert  \n",
       "1                 a fire upon the deep - vernor vinge  \n",
       "9                      enders game - orson scott card  \n",
       "13                        seveneves - neal stephenson  \n",
       "39                          caliban war - james corey  \n",
       "19                 the windup girl - paolo bacigalupi  \n",
       "3                    children of dune - frank herbert  \n",
       "42                            the martian - andy weir  \n",
       "41                    red mars - kim stanley robinson  \n",
       "4                     consider phlebas - iain m banks  \n",
       "2                      ancillary justice - ann leckie  \n",
       "6   do androids dream of electric sheep - philip k...  \n",
       "8                        embassytown - china mieville  \n",
       "18     the moon is a harsh mistress - heinlein robert  \n",
       "29                     shovel ready - adam sternbergh  \n",
       "21                        atlanta nights - travis tea  \n",
       "35                   the diamond deep - brenda cooper  \n",
       "25                               iastron - james dunn  \n",
       "28                         rising tide - rajan khanna  \n",
       "38                       wild red yonder - keric hill  \n",
       "22                         binary - stephanie saulter  \n",
       "45        rebels city of indra - kendell kylie jenner  \n",
       "26                      into the fire - philip palmer  \n",
       "37                      the outer worlds - ej gilmour  \n",
       "27              red planet pioneer - vincent tibbetts  \n",
       "32                        starlight taxi - cm lanning  \n",
       "20                   a sum of her parts - dean foster  \n",
       "34       the best of all possible worlds - karen lord  \n",
       "36                the impossible cube - steven harper  \n",
       "46                                   zero - adam moon  \n",
       "44              descent into mayhem - bruno goncalves  \n",
       "43                   cosmic exile - armand vespertine  \n",
       "30                          star diary - andreas ingo  \n",
       "23              escape velocity - cristopher stasheff  \n",
       "33                    stars rain down - chris randolf  \n",
       "31                     star smashers - harry harrison  \n",
       "24                          hell ship - philip palmer  \n",
       "10                      leviathan wakes - corey james  "
      ]
     },
     "execution_count": 177,
     "metadata": {},
     "output_type": "execute_result"
    }
   ],
   "source": [
    "print sf.shape\n",
    "\n",
    "y_all = sf['best_seller']\n",
    "X_all = sf[['avg_sent_len', 'avg_word_len', 'lex_diversity', 'polarity','subjectivity', 'profane','conj_coord',\n",
    "            'determiner', 'exist_there', 'foreign_word','conj_sub_prep', 'adj', 'adj_compare','adj_sup', \n",
    "           'verb_aux','noun', 'noun_prop', 'noun_prop_pural', 'noun_plural', 'predeterm','poss_ending','pronoun_pers',\n",
    "           'pronoun_poss', 'adv', 'adv_compare','adv_sup', 'adv_part', 'inf_to', 'interject', 'verb_base','verb_past',\n",
    "           'verb_ger', 'verb_pp', 'verb_sing_pres','verb_3rd_sing_pres', 'wh_determ', 'wh_pronoun', 'wh_poss','wh_adv',\n",
    "           'verb.body', 'verb.change', 'verb.cognition','verb.communication', 'verb.competition', 'verb.consumption',\n",
    "           'verb.contact', 'verb.creation', 'verb.emotion', 'verb.motion','verb.perception', 'verb.possession', \n",
    "           'verb.social', 'verb.stative','verb.weather']]\n",
    "\n",
    "results = predict_8ball(rf_model_sf, X_all, sf['title'])\n",
    "results"
   ]
  },
  {
   "cell_type": "code",
   "execution_count": 178,
   "metadata": {
    "collapsed": false,
    "scrolled": true
   },
   "outputs": [
    {
     "data": {
      "text/html": [
       "<div>\n",
       "<table border=\"1\" class=\"dataframe\">\n",
       "  <thead>\n",
       "    <tr style=\"text-align: right;\">\n",
       "      <th></th>\n",
       "      <th>best_seller</th>\n",
       "      <th>probability</th>\n",
       "      <th>title</th>\n",
       "    </tr>\n",
       "  </thead>\n",
       "  <tbody>\n",
       "    <tr>\n",
       "      <th>4</th>\n",
       "      <td>best seller</td>\n",
       "      <td>0.684552</td>\n",
       "      <td>brokedown cowboy - maisey yates</td>\n",
       "    </tr>\n",
       "    <tr>\n",
       "      <th>41</th>\n",
       "      <td>best seller</td>\n",
       "      <td>0.669921</td>\n",
       "      <td>see me - nicholas sparks</td>\n",
       "    </tr>\n",
       "    <tr>\n",
       "      <th>11</th>\n",
       "      <td>best seller</td>\n",
       "      <td>0.664888</td>\n",
       "      <td>one wish - robyn carr</td>\n",
       "    </tr>\n",
       "    <tr>\n",
       "      <th>19</th>\n",
       "      <td>best seller</td>\n",
       "      <td>0.635656</td>\n",
       "      <td>a heart too proud - laura london</td>\n",
       "    </tr>\n",
       "    <tr>\n",
       "      <th>9</th>\n",
       "      <td>best seller</td>\n",
       "      <td>0.632340</td>\n",
       "      <td>love letters - debbie macomber</td>\n",
       "    </tr>\n",
       "    <tr>\n",
       "      <th>10</th>\n",
       "      <td>best seller</td>\n",
       "      <td>0.628890</td>\n",
       "      <td>love story - erich segal</td>\n",
       "    </tr>\n",
       "    <tr>\n",
       "      <th>0</th>\n",
       "      <td>best seller</td>\n",
       "      <td>0.625047</td>\n",
       "      <td>a new hope - robyn carr</td>\n",
       "    </tr>\n",
       "    <tr>\n",
       "      <th>18</th>\n",
       "      <td>best seller</td>\n",
       "      <td>0.622076</td>\n",
       "      <td>the wedding pact - katee robert</td>\n",
       "    </tr>\n",
       "    <tr>\n",
       "      <th>39</th>\n",
       "      <td>best seller</td>\n",
       "      <td>0.618952</td>\n",
       "      <td>baby its you - jane graves</td>\n",
       "    </tr>\n",
       "    <tr>\n",
       "      <th>1</th>\n",
       "      <td>best seller</td>\n",
       "      <td>0.610891</td>\n",
       "      <td>a walk to remember - nicolas sparks</td>\n",
       "    </tr>\n",
       "    <tr>\n",
       "      <th>32</th>\n",
       "      <td>best seller</td>\n",
       "      <td>0.573109</td>\n",
       "      <td>summer daydreams - carole matthews</td>\n",
       "    </tr>\n",
       "    <tr>\n",
       "      <th>7</th>\n",
       "      <td>best seller</td>\n",
       "      <td>0.570154</td>\n",
       "      <td>forever and a day - delilah marvelle</td>\n",
       "    </tr>\n",
       "    <tr>\n",
       "      <th>14</th>\n",
       "      <td>best seller</td>\n",
       "      <td>0.563160</td>\n",
       "      <td>perfect chemistry - simone elkeles</td>\n",
       "    </tr>\n",
       "    <tr>\n",
       "      <th>16</th>\n",
       "      <td>best seller</td>\n",
       "      <td>0.557367</td>\n",
       "      <td>the notebook - nicolas sparks</td>\n",
       "    </tr>\n",
       "    <tr>\n",
       "      <th>12</th>\n",
       "      <td>best seller</td>\n",
       "      <td>0.552205</td>\n",
       "      <td>outlander - diana gabaldon</td>\n",
       "    </tr>\n",
       "    <tr>\n",
       "      <th>21</th>\n",
       "      <td>best seller</td>\n",
       "      <td>0.548172</td>\n",
       "      <td>addicted - amelia betts</td>\n",
       "    </tr>\n",
       "    <tr>\n",
       "      <th>17</th>\n",
       "      <td>best seller</td>\n",
       "      <td>0.540413</td>\n",
       "      <td>the rosie project - graeme simsion</td>\n",
       "    </tr>\n",
       "    <tr>\n",
       "      <th>38</th>\n",
       "      <td>best seller</td>\n",
       "      <td>0.533346</td>\n",
       "      <td>the lies we tell - emma king</td>\n",
       "    </tr>\n",
       "    <tr>\n",
       "      <th>13</th>\n",
       "      <td>best seller</td>\n",
       "      <td>0.526270</td>\n",
       "      <td>outlander voyager - diana galbaldon</td>\n",
       "    </tr>\n",
       "    <tr>\n",
       "      <th>6</th>\n",
       "      <td>best seller</td>\n",
       "      <td>0.524377</td>\n",
       "      <td>fifty shades of grey - e l james</td>\n",
       "    </tr>\n",
       "    <tr>\n",
       "      <th>8</th>\n",
       "      <td>best seller</td>\n",
       "      <td>0.517987</td>\n",
       "      <td>grey - e l james</td>\n",
       "    </tr>\n",
       "    <tr>\n",
       "      <th>23</th>\n",
       "      <td>best seller</td>\n",
       "      <td>0.517680</td>\n",
       "      <td>good breeding - jl merrow</td>\n",
       "    </tr>\n",
       "    <tr>\n",
       "      <th>31</th>\n",
       "      <td>best seller</td>\n",
       "      <td>0.500316</td>\n",
       "      <td>second chance boyfriend - monica murphy</td>\n",
       "    </tr>\n",
       "    <tr>\n",
       "      <th>40</th>\n",
       "      <td>best seller</td>\n",
       "      <td>0.500105</td>\n",
       "      <td>him - elle kennedy</td>\n",
       "    </tr>\n",
       "    <tr>\n",
       "      <th>25</th>\n",
       "      <td>flop</td>\n",
       "      <td>0.704280</td>\n",
       "      <td>make it last - megan erickson</td>\n",
       "    </tr>\n",
       "    <tr>\n",
       "      <th>22</th>\n",
       "      <td>flop</td>\n",
       "      <td>0.662096</td>\n",
       "      <td>cant stop lovin you - lynnette austin</td>\n",
       "    </tr>\n",
       "    <tr>\n",
       "      <th>28</th>\n",
       "      <td>flop</td>\n",
       "      <td>0.649275</td>\n",
       "      <td>pregnesia - carla cassidy -</td>\n",
       "    </tr>\n",
       "    <tr>\n",
       "      <th>30</th>\n",
       "      <td>flop</td>\n",
       "      <td>0.648955</td>\n",
       "      <td>rex - clementine elin</td>\n",
       "    </tr>\n",
       "    <tr>\n",
       "      <th>27</th>\n",
       "      <td>flop</td>\n",
       "      <td>0.647987</td>\n",
       "      <td>operation one night stand - christine hughes</td>\n",
       "    </tr>\n",
       "    <tr>\n",
       "      <th>37</th>\n",
       "      <td>flop</td>\n",
       "      <td>0.645939</td>\n",
       "      <td>the last dance - cf sheeler</td>\n",
       "    </tr>\n",
       "    <tr>\n",
       "      <th>20</th>\n",
       "      <td>flop</td>\n",
       "      <td>0.635847</td>\n",
       "      <td>a stillness of chimes - meg moseley</td>\n",
       "    </tr>\n",
       "    <tr>\n",
       "      <th>34</th>\n",
       "      <td>flop</td>\n",
       "      <td>0.630475</td>\n",
       "      <td>the boss runaway bride - pamela burford</td>\n",
       "    </tr>\n",
       "    <tr>\n",
       "      <th>36</th>\n",
       "      <td>flop</td>\n",
       "      <td>0.624596</td>\n",
       "      <td>the flame - rg richards</td>\n",
       "    </tr>\n",
       "    <tr>\n",
       "      <th>35</th>\n",
       "      <td>flop</td>\n",
       "      <td>0.605885</td>\n",
       "      <td>the edge of eternity - mark holzclaw</td>\n",
       "    </tr>\n",
       "    <tr>\n",
       "      <th>42</th>\n",
       "      <td>flop</td>\n",
       "      <td>0.595993</td>\n",
       "      <td>jess and the love test - chastity foelds</td>\n",
       "    </tr>\n",
       "    <tr>\n",
       "      <th>44</th>\n",
       "      <td>flop</td>\n",
       "      <td>0.594309</td>\n",
       "      <td>lisa and her beaver - geoff lynch</td>\n",
       "    </tr>\n",
       "    <tr>\n",
       "      <th>3</th>\n",
       "      <td>flop</td>\n",
       "      <td>0.590521</td>\n",
       "      <td>beautiful disaster - jamie mcguire</td>\n",
       "    </tr>\n",
       "    <tr>\n",
       "      <th>33</th>\n",
       "      <td>flop</td>\n",
       "      <td>0.579401</td>\n",
       "      <td>temptation - cassie edwards</td>\n",
       "    </tr>\n",
       "    <tr>\n",
       "      <th>2</th>\n",
       "      <td>flop</td>\n",
       "      <td>0.566849</td>\n",
       "      <td>bared to you - sylia day</td>\n",
       "    </tr>\n",
       "    <tr>\n",
       "      <th>5</th>\n",
       "      <td>flop</td>\n",
       "      <td>0.535364</td>\n",
       "      <td>cant buy me love - molly okeefe</td>\n",
       "    </tr>\n",
       "    <tr>\n",
       "      <th>26</th>\n",
       "      <td>flop</td>\n",
       "      <td>0.531269</td>\n",
       "      <td>never say goodbye - bethan cooper</td>\n",
       "    </tr>\n",
       "    <tr>\n",
       "      <th>29</th>\n",
       "      <td>flop</td>\n",
       "      <td>0.528976</td>\n",
       "      <td>return of the bad girl - codi gary</td>\n",
       "    </tr>\n",
       "    <tr>\n",
       "      <th>43</th>\n",
       "      <td>flop</td>\n",
       "      <td>0.519057</td>\n",
       "      <td>learn to fly - heidi hutchinson</td>\n",
       "    </tr>\n",
       "    <tr>\n",
       "      <th>24</th>\n",
       "      <td>flop</td>\n",
       "      <td>0.511495</td>\n",
       "      <td>harder - brenda cooper</td>\n",
       "    </tr>\n",
       "    <tr>\n",
       "      <th>15</th>\n",
       "      <td>flop</td>\n",
       "      <td>0.504219</td>\n",
       "      <td>stars of fortune - nora roberts</td>\n",
       "    </tr>\n",
       "  </tbody>\n",
       "</table>\n",
       "</div>"
      ],
      "text/plain": [
       "    best_seller  probability                                         title\n",
       "4   best seller     0.684552               brokedown cowboy - maisey yates\n",
       "41  best seller     0.669921                      see me - nicholas sparks\n",
       "11  best seller     0.664888                         one wish - robyn carr\n",
       "19  best seller     0.635656              a heart too proud - laura london\n",
       "9   best seller     0.632340                love letters - debbie macomber\n",
       "10  best seller     0.628890                      love story - erich segal\n",
       "0   best seller     0.625047                       a new hope - robyn carr\n",
       "18  best seller     0.622076               the wedding pact - katee robert\n",
       "39  best seller     0.618952                    baby its you - jane graves\n",
       "1   best seller     0.610891           a walk to remember - nicolas sparks\n",
       "32  best seller     0.573109            summer daydreams - carole matthews\n",
       "7   best seller     0.570154          forever and a day - delilah marvelle\n",
       "14  best seller     0.563160            perfect chemistry - simone elkeles\n",
       "16  best seller     0.557367                 the notebook - nicolas sparks\n",
       "12  best seller     0.552205                    outlander - diana gabaldon\n",
       "21  best seller     0.548172                       addicted - amelia betts\n",
       "17  best seller     0.540413            the rosie project - graeme simsion\n",
       "38  best seller     0.533346                  the lies we tell - emma king\n",
       "13  best seller     0.526270           outlander voyager - diana galbaldon\n",
       "6   best seller     0.524377              fifty shades of grey - e l james\n",
       "8   best seller     0.517987                              grey - e l james\n",
       "23  best seller     0.517680                     good breeding - jl merrow\n",
       "31  best seller     0.500316       second chance boyfriend - monica murphy\n",
       "40  best seller     0.500105                            him - elle kennedy\n",
       "25         flop     0.704280                 make it last - megan erickson\n",
       "22         flop     0.662096         cant stop lovin you - lynnette austin\n",
       "28         flop     0.649275                  pregnesia - carla cassidy - \n",
       "30         flop     0.648955                         rex - clementine elin\n",
       "27         flop     0.647987  operation one night stand - christine hughes\n",
       "37         flop     0.645939                   the last dance - cf sheeler\n",
       "20         flop     0.635847           a stillness of chimes - meg moseley\n",
       "34         flop     0.630475       the boss runaway bride - pamela burford\n",
       "36         flop     0.624596                       the flame - rg richards\n",
       "35         flop     0.605885          the edge of eternity - mark holzclaw\n",
       "42         flop     0.595993      jess and the love test - chastity foelds\n",
       "44         flop     0.594309             lisa and her beaver - geoff lynch\n",
       "3          flop     0.590521            beautiful disaster - jamie mcguire\n",
       "33         flop     0.579401                   temptation - cassie edwards\n",
       "2          flop     0.566849                      bared to you - sylia day\n",
       "5          flop     0.535364               cant buy me love - molly okeefe\n",
       "26         flop     0.531269             never say goodbye - bethan cooper\n",
       "29         flop     0.528976            return of the bad girl - codi gary\n",
       "43         flop     0.519057               learn to fly - heidi hutchinson\n",
       "24         flop     0.511495                        harder - brenda cooper\n",
       "15         flop     0.504219               stars of fortune - nora roberts"
      ]
     },
     "execution_count": 178,
     "metadata": {},
     "output_type": "execute_result"
    }
   ],
   "source": [
    "y_all = rm['best_seller']\n",
    "X_all = rm[['avg_sent_len', 'avg_word_len', 'lex_diversity', 'polarity','subjectivity', 'profane','conj_coord',\n",
    "            'determiner', 'exist_there', 'foreign_word','conj_sub_prep', 'adj', 'adj_compare','adj_sup', \n",
    "           'verb_aux','noun', 'noun_prop', 'noun_prop_pural', 'noun_plural', 'predeterm','poss_ending','pronoun_pers',\n",
    "           'pronoun_poss', 'adv', 'adv_compare','adv_sup', 'adv_part', 'inf_to', 'interject', 'verb_base','verb_past',\n",
    "           'verb_ger', 'verb_pp', 'verb_sing_pres','verb_3rd_sing_pres', 'wh_determ', 'wh_pronoun', 'wh_poss','wh_adv',\n",
    "           'verb.body', 'verb.change', 'verb.cognition','verb.communication', 'verb.competition', 'verb.consumption',\n",
    "           'verb.contact', 'verb.creation', 'verb.emotion', 'verb.motion','verb.perception', 'verb.possession', \n",
    "           'verb.social', 'verb.stative','verb.weather']]\n",
    "\n",
    "results = predict_8ball(rf_model_rm, X_all, rm['title'])\n",
    "results"
   ]
  },
  {
   "cell_type": "code",
   "execution_count": 526,
   "metadata": {
    "collapsed": false
   },
   "outputs": [
    {
     "data": {
      "image/png": "[encoded data removed]",
      "text/plain": [
       "<matplotlib.figure.Figure at 0x132355850>"
      ]
     },
     "metadata": {},
     "output_type": "display_data"
    }
   ],
   "source": [
    "plot_roc_curve(target=y_rm_test, predict_proba=rf_proba_rm[:,1], title='Romance best-seller prediction')"
   ]
  },
  {
   "cell_type": "code",
   "execution_count": 486,
   "metadata": {
    "collapsed": false
   },
   "outputs": [],
   "source": [
    "def plot_roc_curve(target=False, predict_proba=False, title='Your prediction'):\n",
    "\n",
    "    FPR = dict()\n",
    "    TPR = dict()\n",
    "    ROC_AUC = dict()\n",
    "\n",
    "    FPR[1], TPR[1], _ = roc_curve(target,predict_proba)\n",
    "    ROC_AUC[1] = auc(FPR[1], TPR[1])\n",
    "    acc_ = np.abs(0.5 - np.mean(target)) + 0.5\n",
    "\n",
    "    plt.figure(figsize=[11,9])\n",
    "    plt.plot(FPR[1], TPR[1], label='ROC curve (area = %0.2f)' % ROC_AUC[1], linewidth=4, color='darkred')\n",
    "    #plt.plot([0, 1], [0, 1], 'k--', linewidth=4)\n",
    "    plt.plot([0, 1], [0, 1], color='grey', ls='dashed',\n",
    "             alpha=0.9, linewidth=4, label='baseline accuracy = %0.2f' % acc_)\n",
    "    plt.xlim([0.0, 1.0])\n",
    "    plt.ylim([0.0, 1.05])\n",
    "    plt.xlabel('False Positive Rate', fontsize=18)\n",
    "    plt.ylabel('True Positive Rate', fontsize=18)\n",
    "    plt.title(' %s' % title, fontsize=18)\n",
    "    plt.legend(loc=\"lower right\")\n",
    "    plt.show()"
   ]
  },
  {
   "cell_type": "code",
   "execution_count": 85,
   "metadata": {
    "collapsed": true
   },
   "outputs": [],
   "source": [
    "def plot_roc(mod, X, X_test,y,y_test, varname):\n",
    "    mod.fit(X, y)\n",
    "    y_pp = mod.predict_log_proba(X_test)[:, 1]\n",
    "    fpr_, tpr_, _ = roc_curve(y_test, y_pp)\n",
    "    auc_ = auc(fpr_, tpr_)\n",
    "    acc_ = np.abs(0.5 - np.mean(y)) + 0.5\n",
    "    \n",
    "    fig, axr = plt.subplots(figsize=(10,10))\n",
    "\n",
    "    axr.plot(fpr_, tpr_, label='ROC (area = %0.2f)' % auc_,\n",
    "             color='darkred', linewidth=4,\n",
    "             alpha=0.7)\n",
    "    axr.plot([0, 1], [0, 1], color='grey', ls='dashed',\n",
    "             alpha=0.9, linewidth=4, label='baseline accuracy = %0.2f' % acc_)\n",
    "    axr.set_xlim([-0.05, 1.05])\n",
    "    axr.set_ylim([0.0, 1.05])\n",
    "    axr.set_xlabel('false positive rate', fontsize=16)\n",
    "    axr.set_ylabel('true positive rate', fontsize=16)\n",
    "    axr.set_title(varname+' vs. not ROC curve\\n', fontsize=20)\n",
    "    \n",
    "    axr.legend(loc=\"lower right\", fontsize=12)\n",
    "    plt.show()"
   ]
  },
  {
   "cell_type": "markdown",
   "metadata": {},
   "source": [
    "#### Variable manipulation"
   ]
  },
  {
   "cell_type": "code",
   "execution_count": 180,
   "metadata": {
    "collapsed": false
   },
   "outputs": [
    {
     "data": {
      "text/html": [
       "<div>\n",
       "<table border=\"1\" class=\"dataframe\">\n",
       "  <thead>\n",
       "    <tr style=\"text-align: right;\">\n",
       "      <th></th>\n",
       "      <th>avg_sent_len</th>\n",
       "      <th>avg_word_len</th>\n",
       "      <th>lex_diversity</th>\n",
       "      <th>polarity</th>\n",
       "      <th>subjectivity</th>\n",
       "      <th>profane</th>\n",
       "      <th>conj_coord</th>\n",
       "      <th>determiner</th>\n",
       "      <th>exist_there</th>\n",
       "      <th>foreign_word</th>\n",
       "      <th>...</th>\n",
       "      <th>verb.consumption</th>\n",
       "      <th>verb.contact</th>\n",
       "      <th>verb.creation</th>\n",
       "      <th>verb.emotion</th>\n",
       "      <th>verb.motion</th>\n",
       "      <th>verb.perception</th>\n",
       "      <th>verb.possession</th>\n",
       "      <th>verb.social</th>\n",
       "      <th>verb.stative</th>\n",
       "      <th>verb.weather</th>\n",
       "    </tr>\n",
       "  </thead>\n",
       "  <tbody>\n",
       "    <tr>\n",
       "      <th>0</th>\n",
       "      <td>9.755556</td>\n",
       "      <td>3.822222</td>\n",
       "      <td>0.108423</td>\n",
       "      <td>0.075647</td>\n",
       "      <td>0.48345</td>\n",
       "      <td>9.669269e-08</td>\n",
       "      <td>0.034642</td>\n",
       "      <td>0.081625</td>\n",
       "      <td>0.001419</td>\n",
       "      <td>0.000093</td>\n",
       "      <td>...</td>\n",
       "      <td>0.009271</td>\n",
       "      <td>0.098698</td>\n",
       "      <td>0.007002</td>\n",
       "      <td>0.0437</td>\n",
       "      <td>0.132105</td>\n",
       "      <td>0.060374</td>\n",
       "      <td>0.101073</td>\n",
       "      <td>0.09726</td>\n",
       "      <td>0.186955</td>\n",
       "      <td>0.001025</td>\n",
       "    </tr>\n",
       "  </tbody>\n",
       "</table>\n",
       "<p>1 rows × 54 columns</p>\n",
       "</div>"
      ],
      "text/plain": [
       "   avg_sent_len  avg_word_len  lex_diversity  polarity  subjectivity  \\\n",
       "0      9.755556      3.822222       0.108423  0.075647       0.48345   \n",
       "\n",
       "        profane  conj_coord  determiner  exist_there  foreign_word  \\\n",
       "0  9.669269e-08    0.034642    0.081625     0.001419      0.000093   \n",
       "\n",
       "       ...       verb.consumption  verb.contact  verb.creation  verb.emotion  \\\n",
       "0      ...               0.009271      0.098698       0.007002        0.0437   \n",
       "\n",
       "   verb.motion  verb.perception  verb.possession  verb.social  verb.stative  \\\n",
       "0     0.132105         0.060374         0.101073      0.09726      0.186955   \n",
       "\n",
       "   verb.weather  \n",
       "0      0.001025  \n",
       "\n",
       "[1 rows x 54 columns]"
      ]
     },
     "execution_count": 180,
     "metadata": {},
     "output_type": "execute_result"
    }
   ],
   "source": [
    "df_mean = pd.DataFrame(X_all.mean()).T\n",
    "df_mean"
   ]
  },
  {
   "cell_type": "code",
   "execution_count": null,
   "metadata": {
    "collapsed": true
   },
   "outputs": [],
   "source": [
    "SF:\n",
    "foreign_word\n",
    "lex_diversity\n",
    "subjectivity\n",
    "verb.emotion\n",
    "verb.motion\n",
    "verb.perception\n",
    "\n",
    "foreign_word\t0.064378\n",
    "17\tnoun_prop_pural\t0.059482\n",
    "39\tverb.body\t0.058690\n",
    "2\tlex_diversity\n",
    "\n",
    "RM:\n",
    "verb.body\n",
    "verb_aux\n",
    "adj_compare\n",
    "lex_diversity   \n",
    "perception\n",
    "social\n",
    "stative"
   ]
  },
  {
   "cell_type": "code",
   "execution_count": 418,
   "metadata": {
    "collapsed": false
   },
   "outputs": [],
   "source": [
    "var1 = 'lex_diversity'\n",
    "var2 = 'verb.stative'\n",
    "var3= 'noun_prop_pural'\n",
    "var4 = 'verb.body'\n",
    "\n",
    "percentiles = range(5,100,5)\n",
    "lex_ds = np.percentile(X_sf[var1].values, percentiles)\n",
    "stative = np.percentile(X_sf[var2].values, percentiles)\n",
    "\n",
    "emotion = np.percentile(X_sf[var3].values, percentiles)\n",
    "vbody = np.percentile(X_sf[var2].values, percentiles)\n",
    "weather = np.percentile(X_sf['verb.weather'].values, percentiles)\n",
    "\n",
    "avg_row = pd.DataFrame(X_sf.mean(axis=0)).T\n",
    "\n",
    "pp_matrix = np.zeros((19,19))\n",
    "\n",
    "avg_row = pd.DataFrame(X_sf.mean(axis=0)).T\n",
    "\n",
    "for row, s in enumerate(lex_ds):\n",
    "    for col, p in enumerate(stative):\n",
    "        avg_row.loc[:,var1] = s\n",
    "        avg_row.loc[:,var2] = p\n",
    "        pred_prob = rfc_best_sf.predict_proba(avg_row.values)[:,1]\n",
    "        pp_matrix[row, col] = pred_prob\n",
    "\n"
   ]
  },
  {
   "cell_type": "code",
   "execution_count": 414,
   "metadata": {
    "collapsed": false
   },
   "outputs": [
    {
     "name": "stdout",
     "output_type": "stream",
     "text": [
      "[ 0.06837701  0.07251636  0.07352428  0.07854289  0.08028669  0.08209139\n",
      "  0.08469781  0.08674295  0.08911976  0.09158126  0.09290053  0.09808164\n",
      "  0.10274194  0.10784983  0.11361971  0.11930941  0.1217483   0.12428325\n",
      "  0.13548364]\n"
     ]
    }
   ],
   "source": [
    "print lex_ds\n",
    "#pd.DataFrame(pp_matrix)\n"
   ]
  },
  {
   "cell_type": "code",
   "execution_count": 419,
   "metadata": {
    "collapsed": false
   },
   "outputs": [
    {
     "data": {
      "text/plain": [
       "<matplotlib.axes._subplots.AxesSubplot at 0x12b32aa90>"
      ]
     },
     "execution_count": 419,
     "metadata": {},
     "output_type": "execute_result"
    },
    {
     "data": {
      "image/png": "[encoded data removed]",
      "text/plain": [
       "<matplotlib.figure.Figure at 0x1279ddc10>"
      ]
     },
     "metadata": {},
     "output_type": "display_data"
    }
   ],
   "source": [
    "sns.heatmap(pd.DataFrame(pp_matrix))"
   ]
  },
  {
   "cell_type": "code",
   "execution_count": 408,
   "metadata": {
    "collapsed": false
   },
   "outputs": [],
   "source": [
    "var1 = 'lex_diversity'\n",
    "var2 = 'foreign_word'\n",
    "var3= 'noun_prop_pural'\n",
    "var4 = 'verb.body'\n",
    "\n",
    "percentiles = range(2,100,3)\n",
    "\n",
    "#lex_ds = np.percentile([0,1], percentiles)\n",
    "#foreign = np.percentile([0,1], percentiles)\n",
    "lex_ds = np.percentile(X_rm[var1].values, percentiles)\n",
    "foreign = np.percentile(X_rm[var2].values, percentiles)\n",
    "noun_prop = np.percentile(X_rm[var3].values, percentiles)\n",
    "vbody = np.percentile(X_rm[var2].values, percentiles)\n",
    "weather = np.percentile(X_rm['verb.weather'].values, percentiles)\n",
    "\n",
    "avg_row = pd.DataFrame(X_sf.mean(axis=0)).T\n",
    "\n",
    "pp_matrix = np.zeros((33,33))\n",
    "\n",
    "avg_row = pd.DataFrame(X_sf.mean(axis=0)).T\n",
    "graph=pd.DataFrame({'x': 0, 'y': 0},index=[0])\n",
    "for row, s in enumerate(lex_ds):\n",
    "    #for col, p in enumerate(vbody):\n",
    "        avg_row.loc[:,var1] = s\n",
    "        avg_row.loc[:,var2] = p\n",
    "        pred_prob = rfc_best_sf.predict_proba(avg_row.values)[:,1]\n",
    "        graph.append([s,pred_prob[0]])\n",
    "        pp_matrix[row, col] = pred_prob\n",
    "        graph.ix[row,0] = s\n",
    "        graph.ix[row,1] = pred_prob[0]\n"
   ]
  },
  {
   "cell_type": "code",
   "execution_count": 352,
   "metadata": {
    "collapsed": false
   },
   "outputs": [
    {
     "data": {
      "text/plain": [
       "array([ 0.02,  0.05,  0.08,  0.11,  0.14,  0.17,  0.2 ,  0.23,  0.26,\n",
       "        0.29,  0.32,  0.35,  0.38,  0.41,  0.44,  0.47,  0.5 ,  0.53,\n",
       "        0.56,  0.59,  0.62,  0.65,  0.68,  0.71,  0.74,  0.77,  0.8 ,\n",
       "        0.83,  0.86,  0.89,  0.92,  0.95,  0.98])"
      ]
     },
     "execution_count": 352,
     "metadata": {},
     "output_type": "execute_result"
    }
   ],
   "source": [
    "lex_ds"
   ]
  },
  {
   "cell_type": "code",
   "execution_count": 381,
   "metadata": {
    "collapsed": false
   },
   "outputs": [
    {
     "data": {
      "text/plain": [
       "{'x', 'y'}"
      ]
     },
     "execution_count": 381,
     "metadata": {},
     "output_type": "execute_result"
    }
   ],
   "source": []
  },
  {
   "cell_type": "code",
   "execution_count": 409,
   "metadata": {
    "collapsed": false
   },
   "outputs": [
    {
     "data": {
      "text/plain": [
       "<matplotlib.axes._subplots.AxesSubplot at 0x12f04f2d0>"
      ]
     },
     "execution_count": 409,
     "metadata": {},
     "output_type": "execute_result"
    },
    {
     "data": {
      "text/plain": [
       "<matplotlib.figure.Figure at 0x12f4df590>"
      ]
     },
     "metadata": {},
     "output_type": "display_data"
    },
    {
     "data": {
      "image/png": "[encoded data removed]",
      "text/plain": [
       "<matplotlib.figure.Figure at 0x12f47d810>"
      ]
     },
     "metadata": {},
     "output_type": "display_data"
    }
   ],
   "source": [
    "fig = plt.figure(figsize=(18,8))\n",
    "\n",
    "sns.set_style(\"whitegrid\")\n",
    "graph.plot(kind='line',x='x', y='y', ylim=[.6,.7])\n",
    "#plt.ylim([.5,.8])\n"
   ]
  },
  {
   "cell_type": "code",
   "execution_count": 330,
   "metadata": {
    "collapsed": false
   },
   "outputs": [],
   "source": [
    "percentiles = range(2,100,3)\n",
    "#percentiles"
   ]
  },
  {
   "cell_type": "code",
   "execution_count": null,
   "metadata": {
    "collapsed": true
   },
   "outputs": [],
   "source": []
  }
 ],
 "metadata": {
  "anaconda-cloud": {},
  "kernelspec": {
   "display_name": "Python [dsi]",
   "language": "python",
   "name": "Python [dsi]"
  },
  "language_info": {
   "codemirror_mode": {
    "name": "ipython",
    "version": 2
   },
   "file_extension": ".py",
   "mimetype": "text/x-python",
   "name": "python",
   "nbconvert_exporter": "python",
   "pygments_lexer": "ipython2",
   "version": "2.7.12"
  }
 },
 "nbformat": 4,
 "nbformat_minor": 0
}
