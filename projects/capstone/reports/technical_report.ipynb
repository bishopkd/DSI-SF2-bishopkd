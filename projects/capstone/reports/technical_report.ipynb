{
 "cells": [
  {
   "cell_type": "markdown",
   "metadata": {
    "collapsed": true
   },
   "source": [
    "## Predicting literary success through writing style\n",
    "\n",
    "Publishers and acquisition editors have a history of fancying themselves stylemakers, going with the gut, chasing a feeling when choosing what to publish. And as a result, publishers have followed the business model of operating in the red, while crossing fingers for another Dan Brown or E.L. James to pull them into the black with a runaway hit. When presented with the idea of doing market research or digging into the data, I've heard publishers dig in their heels and repeat the argument that success in the arts is unpredictable.\n",
    "\n",
    "As the big publishing house market shrinks and new streamlined self-publishing competitors enter the field, this business model is proving increasing less viable. And in this shifting landscapehe big houses are finally beginning to turn to data. Which presents the question, can the success of a novel be predicted?\n",
    "\n",
    "Clearly, many variables of success are out of predictive bounds -- storyline novelty, fame of the author, social trends, world events. Here, we will focus soley on the structure of the writing style and whether stylistic structure can be used to predict success.\n",
    "\n"
   ]
  },
  {
   "cell_type": "markdown",
   "metadata": {
    "collapsed": true
   },
   "source": [
    "# The Data\n",
    "## The collection\n",
    "\n",
    "For the purposes of this project, I compiled XX best-selling titles and XX titles that were less successful. \n",
    "\n",
    "Titles were selected from the top two selling genres, Romance and Science-Fiction, and within these genres, restricted to the sub-genres contemporary and space-opera, respectively.\n",
    "\n",
    "The 2015 sales report from Nielsen BookScan, considered the industry standard, was used to select and categorize titles. \n",
    "\n",
    "* **Best-sellers** were among the top 100 selling titles for their genre in 2015. I selected titles within this group who have also won awards, The Hugo for the sci-fi titles and the RITA for romance.\n",
    "\n",
    "* Less-successful titles (affectionately termed **Flops**) were published in the years 2013-2015 and sold fewer than 1000 copies in 2015."
   ]
  },
  {
   "cell_type": "markdown",
   "metadata": {
    "collapsed": true
   },
   "source": [
    "## The cleaning\n",
    "\n",
    "Using the python package textract, I wrote a function to loop through a folder of epub files, extract the text, perform some minor cleaning, a save as a text file to use as corpus documents."
   ]
  },
  {
   "cell_type": "code",
   "execution_count": null,
   "metadata": {
    "collapsed": true
   },
   "outputs": [],
   "source": [
    "# function to extract text from epub\n",
    "def convert_epub_to_text(epub_path, epub_file, txt_path):\n",
    "    clean_text = ''\n",
    "    text_name = epub_file.replace(' ','_')[:-4]+'txt' # clean up filename and change file extention\n",
    "    \n",
    "    text = textract.process(epub_path+epub_file,encoding='utf_8') # extract text from epub\n",
    "    clean_text = text.decode('ascii', 'ignore').replace('\\n',' ') # trip out the unicode and return characters\n",
    "\n",
    "    text_file = open(txt_path+text_name, 'w') # save as text file\n",
    "    text_file.write(clean_text)\n",
    "    text_file.close()\n",
    "    \n",
    "# loop through files in directory, convert file, save file in new folder\n",
    "for epub in os.listdir(epub_path):\n",
    "    try:\n",
    "        convert_epub_to_text(epub_path, epub, txt_path)\n",
    "    except:\n",
    "        print epub, \" failed\""
   ]
  },
  {
   "cell_type": "markdown",
   "metadata": {},
   "source": [
    "# The metrics\n",
    "\n"
   ]
  },
  {
   "cell_type": "markdown",
   "metadata": {},
   "source": [
    "## The Models"
   ]
  },
  {
   "cell_type": "code",
   "execution_count": null,
   "metadata": {
    "collapsed": true
   },
   "outputs": [],
   "source": [
    "top n-grams"
   ]
  },
  {
   "cell_type": "code",
   "execution_count": null,
   "metadata": {
    "collapsed": true
   },
   "outputs": [],
   "source": [
    "additional metrics created and results from those"
   ]
  },
  {
   "cell_type": "code",
   "execution_count": null,
   "metadata": {
    "collapsed": true
   },
   "outputs": [],
   "source": [
    "topic modeling"
   ]
  },
  {
   "cell_type": "code",
   "execution_count": null,
   "metadata": {
    "collapsed": true
   },
   "outputs": [],
   "source": [
    "sentiment analysis"
   ]
  },
  {
   "cell_type": "code",
   "execution_count": null,
   "metadata": {
    "collapsed": true
   },
   "outputs": [],
   "source": [
    "insult lab w/MultinomialNB"
   ]
  },
  {
   "cell_type": "code",
   "execution_count": null,
   "metadata": {
    "collapsed": true
   },
   "outputs": [],
   "source": [
    "classification_report"
   ]
  },
  {
   "cell_type": "code",
   "execution_count": null,
   "metadata": {
    "collapsed": true
   },
   "outputs": [],
   "source": [
    "calibration plots"
   ]
  },
  {
   "cell_type": "code",
   "execution_count": null,
   "metadata": {
    "collapsed": true
   },
   "outputs": [],
   "source": []
  },
  {
   "cell_type": "code",
   "execution_count": null,
   "metadata": {
    "collapsed": true
   },
   "outputs": [],
   "source": [
    "Conclusion"
   ]
  }
 ],
 "metadata": {
  "kernelspec": {
   "display_name": "Python [dsi]",
   "language": "python",
   "name": "Python [dsi]"
  },
  "language_info": {
   "codemirror_mode": {
    "name": "ipython",
    "version": 2
   },
   "file_extension": ".py",
   "mimetype": "text/x-python",
   "name": "python",
   "nbconvert_exporter": "python",
   "pygments_lexer": "ipython2",
   "version": "2.7.12"
  }
 },
 "nbformat": 4,
 "nbformat_minor": 0
}
