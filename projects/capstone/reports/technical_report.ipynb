{
 "cells": [
  {
   "cell_type": "markdown",
   "metadata": {
    "collapsed": true
   },
   "source": [
    "# Predicting literary success through writing style\n",
    "## The Problem\n",
    "Publishers and acquisition editors have a history of fancying themselves stylemakers, going with the gut, chasing a feeling when choosing what to publish. And as a result, publishers have followed the business model of operating in the red, while crossing fingers for another Dan Brown or E.L. James to pull them into the black with a runaway hit. When presented with the idea of doing market research or digging into the data, I've heard publishers dig in their heels and repeat the argument that success in the arts is unpredictable.\n",
    "\n",
    "As the big publishing house market shrinks and new streamlined self-publishing competitors enter the field, this business model is proving increasing less viable. And in this shifting landscapehe big houses are finally beginning to turn to data. Which presents the question, can the success of a novel be predicted?\n",
    "\n",
    "Clearly, many variables of success are out of predictive bounds -- storyline novelty, fame of the author, social trends, world events. Here, we will focus soley on the structure of the writing style and whether stylistic structure can be used to predict success.\n",
    "\n"
   ]
  },
  {
   "cell_type": "markdown",
   "metadata": {
    "collapsed": true
   },
   "source": [
    "## The Data\n",
    "The data creation pipeline can be found [here](https://github.com/bishopkd/DSI-SF2-bishopkd/blob/master/projects/capstone/reports/data_creation.ipynb)\n",
    "### Data collection\n",
    "\n",
    "For the purposes of this project, I compiled the epub files of XX best-selling titles and XX titles that were less successful. \n",
    "\n",
    "Titles were selected from the top two selling genres, Romance and Science-Fiction, and within these genres, restricted to the sub-genres contemporary and space-opera, respectively.\n",
    "\n",
    "The 2015 sales report from Nielsen BookScan, considered the industry standard, was used to select and categorize titles. \n",
    "\n",
    "  * **Best-sellers** were among the top 100 selling titles for their genre in 2015. I selected titles within this group which also have won awards, The Hugo for the sci-fi titles and the RITA for romance, making them both popular and critical successes.\n",
    "\n",
    "  * Less-successful titles (affectionately termed **Flops**) were published in the years 2013-2015 and sold fewer than 1000 copies in 2015."
   ]
  },
  {
   "cell_type": "markdown",
   "metadata": {
    "collapsed": true
   },
   "source": [
    "### Data cleaning\n",
    "\n",
    "1. Using the python package **textract**, I wrote functions to loop through a folder of epub files, extract the text, perform some minor cleaning, and save as a text file to use as corpus documents.\n",
    "\n"
   ]
  },
  {
   "cell_type": "markdown",
   "metadata": {},
   "source": [
    "\n",
    "\n",
    "~~~python\n",
    "#loop through files in directory, convert file, save file in new folder\n",
    "def create_text_files(epub_path,txt_path):\n",
    "    for epub in os.listdir(epub_path):\n",
    "        try:\n",
    "            convert_epub_to_text(epub_path, epub, txt_path)\n",
    "        except:\n",
    "            print epub, \"failed\"\n",
    "\n",
    "# function to extract text from epub\n",
    "def convert_epub_to_text(epub_path, epub_file, txt_path):\n",
    "    clean_text = ''\n",
    "    text_name = epub_file.replace(' ','_')[:-4]+'txt' # clean up filename and change file extention\n",
    "\n",
    "    text = textract.process(epub_path+epub_file,encoding='utf_8') # extract text from epub\n",
    "    clean_text = text.decode('ascii', 'ignore').replace('\\n',' ') # trip out the unicode and return characters\n",
    "\n",
    "    text_file = open(txt_path+text_name, 'w') # save as text file\n",
    "    text_file.write(clean_text)\n",
    "    text_file.close()\n",
    "\n",
    "\n",
    "~~~"
   ]
  },
  {
   "cell_type": "markdown",
   "metadata": {},
   "source": [
    " .2. Sections removed from each text file include:\n",
    "  - Acknowledgements\n",
    "  - Table of contents\n",
    "  - About the author\n",
    "  - Appendices \n",
    "  - Copyright, ISBN, and Library of Congress Information\n",
    "  - Other titles by this author\n",
    "  - Chapter\n",
    "  \n",
    "The remaining text of each book was unaltered."
   ]
  },
  {
   "cell_type": "markdown",
   "metadata": {},
   "source": [
    "### Data dictionary\n",
    "\n",
    "In order to analyize the writing style, I created columns to store metrics about each document.\n",
    "Counts, average lengths, and diversity were calculated via python functions.\n",
    "Polarity, subjectivity, and part of speech (POS) tagging were derived using TextBlob's sentiment analysis features.\n"
   ]
  },
  {
   "cell_type": "markdown",
   "metadata": {},
   "source": [
    "Field|Description|Datatype\n",
    "------|----------------|-----------\n",
    "best_seller|Binary best-seller indicator|object\n",
    "body|Book text|object\n",
    "sci_fi|Binary indicator: Sci-Fi=1, Romance=0|integer\n",
    "title|Book title|integer\n",
    "avg_sent_len|Average sentence length|integer\n",
    "word_count|Total word count|integer\n",
    "avg_word_len|Average word length|float\n",
    "lex_diversity|Lexical diversity - the number of unique words over the total word count|float\n",
    "polarity|Polarity - measure of negativity to positivity scaled -1.0-1.0|float\n",
    "subjectivity|Subjectivity - measure of objectivity to subjectivity scaled 0.0-1.0|float\n",
    "profanity|Number of profane words|float\n",
    "profane|Profanity measure - number of profane words over the total word count|float\n",
    "conj_coord|POS - coordinating conjunction: and, or, but|float\n",
    "number|POS - cardinal number: five, three, 13%|float\n",
    "determiner|POS - determiner: the, a, these|float\n",
    "exist_there|POS - existential there: there were six boys|float\n",
    "foreign_word|POS - foreign word|float\n",
    "conj_sub_prep|POS - subordinating conjunction or preposition: of, on, before, unless|float\n",
    "adj|POS - adjective|float\n",
    "adj_compare|POS - adjective, comparative|float\n",
    "adj_sup|POS - adjective, superlative|float\n",
    "verb_aux|POS - verb, modal auxillary: may, should|float\n",
    "noun|POS - noun|float\n",
    "noun_prop|POS - noun, proper|float\n",
    "noun_prop_pural|POS - noun, proper plural|float\n",
    "noun_plural|POS - noun, plural|float\n",
    "predeterm|POS - predeterminer: both his children|float\n",
    "pronoun_pers|POS - personal pronoun: me, you, it|float\n",
    "pronoun_poss|POS - possessive pronoun: my, your, our|float\n",
    "adv|POS - adverb: extremely, loudly, hard|float\n",
    "adv_compare|POS - adverb, comparative: better|float\n",
    "adv_sup|POS - adverb, superlative: best|float\n",
    "adv_part|POS - adverb, particle: about, off, up|float\n",
    "inf_to|POS - infinitival to: what to do?|float\n",
    "interject|POS - interjection: oh, oops, gosh|float\n",
    "verb_base|POS - verb, base form: think|float\n",
    "verb_past|POS - verb, past tense: they thought|float\n",
    "verb_ger|POS - verb, gerund or present participle: thinking is fun|float\n",
    "verb_pp|POS - verb, past participle: a sunken ship|float\n",
    "verb_sing_pres|POS - verb, non-3rd person singular present: I think|float\n",
    "verb_3rd_sing_pres|POS - verb, 3rd person singular present: she thinks|float\n",
    "wh_determ|POS - wh-determiner: which, whatever, whichever|float\n",
    "wh_pronoun|POS - wh-pronoun, personal: what, who, whom|float\n",
    "wh_poss|POS - wh-pronoun, possessive: whose, whosever|float\n",
    "wh_adv|POS - wh-adverb: where, when|float\n",
    "poss_ending|POS - possessive ending: s|float\n",
    "symbol|POS - symbol: %$#|float\n",
    "list_marker|POS - list item marker|float"
   ]
  },
  {
   "cell_type": "markdown",
   "metadata": {},
   "source": [
    "## EDA\n",
    "\n",
    "The full EDA report can be found [here](https://github.com/bishopkd/DSI-SF2-bishopkd/blob/master/projects/capstone/reports/EDA.ipynb)"
   ]
  },
  {
   "cell_type": "code",
   "execution_count": null,
   "metadata": {
    "collapsed": true
   },
   "outputs": [],
   "source": [
    "### Metric analysis"
   ]
  },
  {
   "cell_type": "code",
   "execution_count": null,
   "metadata": {
    "collapsed": true
   },
   "outputs": [],
   "source": [
    "### Top n-grams"
   ]
  },
  {
   "cell_type": "code",
   "execution_count": null,
   "metadata": {
    "collapsed": true
   },
   "outputs": [],
   "source": [
    "### topic modeling"
   ]
  },
  {
   "cell_type": "markdown",
   "metadata": {},
   "source": [
    "# The Models"
   ]
  },
  {
   "cell_type": "code",
   "execution_count": null,
   "metadata": {
    "collapsed": true
   },
   "outputs": [],
   "source": []
  },
  {
   "cell_type": "code",
   "execution_count": null,
   "metadata": {
    "collapsed": true
   },
   "outputs": [],
   "source": [
    "metrics created and results from those\n",
    "- sentiment analysis (insult lab w/MultinomialNB)\n",
    "- profanity analysis\n",
    "- POS distribution\n",
    "- that other metric i cant figure out"
   ]
  },
  {
   "cell_type": "code",
   "execution_count": null,
   "metadata": {
    "collapsed": true
   },
   "outputs": [],
   "source": [
    "KNN"
   ]
  },
  {
   "cell_type": "code",
   "execution_count": null,
   "metadata": {
    "collapsed": true
   },
   "outputs": [],
   "source": []
  },
  {
   "cell_type": "code",
   "execution_count": null,
   "metadata": {
    "collapsed": true
   },
   "outputs": [],
   "source": []
  },
  {
   "cell_type": "code",
   "execution_count": null,
   "metadata": {
    "collapsed": true
   },
   "outputs": [],
   "source": [
    "classification_report"
   ]
  },
  {
   "cell_type": "code",
   "execution_count": null,
   "metadata": {
    "collapsed": true
   },
   "outputs": [],
   "source": [
    "calibration plots"
   ]
  },
  {
   "cell_type": "markdown",
   "metadata": {
    "collapsed": true
   },
   "source": [
    "# Results"
   ]
  },
  {
   "cell_type": "code",
   "execution_count": null,
   "metadata": {
    "collapsed": true
   },
   "outputs": [],
   "source": []
  },
  {
   "cell_type": "code",
   "execution_count": null,
   "metadata": {
    "collapsed": true
   },
   "outputs": [],
   "source": [
    "- held out test titles\n",
    "- nano book"
   ]
  },
  {
   "cell_type": "markdown",
   "metadata": {
    "collapsed": true
   },
   "source": [
    "# Conclusion"
   ]
  },
  {
   "cell_type": "code",
   "execution_count": null,
   "metadata": {
    "collapsed": true
   },
   "outputs": [],
   "source": []
  }
 ],
 "metadata": {
  "kernelspec": {
   "display_name": "Python [dsi]",
   "language": "python",
   "name": "Python [dsi]"
  },
  "language_info": {
   "codemirror_mode": {
    "name": "ipython",
    "version": 2
   },
   "file_extension": ".py",
   "mimetype": "text/x-python",
   "name": "python",
   "nbconvert_exporter": "python",
   "pygments_lexer": "ipython2",
   "version": "2.7.12"
  }
 },
 "nbformat": 4,
 "nbformat_minor": 0
}
